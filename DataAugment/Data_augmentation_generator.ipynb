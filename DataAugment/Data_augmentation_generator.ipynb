{
 "cells": [
  {
   "cell_type": "markdown",
   "metadata": {},
   "source": [
    "# Saving Pictures for data-augementation"
   ]
  },
  {
   "cell_type": "code",
   "execution_count": 2,
   "metadata": {},
   "outputs": [],
   "source": [
    "import numpy as np\n",
    "import tensorflow as tf\n",
    "from keras.preprocessing.image import ImageDataGenerator\n",
    "from PIL import Image\n",
    "import numpy as np\n",
    "import glob as glob\n",
    "import os\n",
    "import cv2\n",
    "import random\n",
    "import matplotlib.pylab as plt\n",
    "from glob import glob\n",
    "import numpy as np\n",
    "%matplotlib inline"
   ]
  },
  {
   "cell_type": "code",
   "execution_count": 3,
   "metadata": {},
   "outputs": [],
   "source": [
    "SOURCE_IMAGES_KARTOFFEL = '/home/mikkel/Documents/github/BSc-PRO/images_1280x720/kartofler/still' #'/home/mikkel/Documents/github/BSc-PRO/images_1280x720/kartofler/still'\n",
    "SOURCE_IMAGES_KATTEMAD = '/home/mikkel/Documents/github/BSc-PRO/images_1280x720/kat_laks/still'#'/home/mikkel/Documents/github/BSc-PRO/images_1280x720/kat_laks/still'\n",
    "SOURCE_IMAGES_BORD = '/home/mikkel/Documents/github/BSc-PRO/images_1280x720/baggrund/bevægelse'#'/home/mikkel/Documents/github/BSc-PRO/images_1280x720/baggrund/bevægelse'\n",
    "images_kartoffel = glob(os.path.join(SOURCE_IMAGES_KARTOFFEL, \"*.jpg\"))\n",
    "images_kattemad = glob(os.path.join(SOURCE_IMAGES_KATTEMAD, \"*.jpg\"))\n",
    "images_bord = glob(os.path.join(SOURCE_IMAGES_BORD, \"*.jpg\"))"
   ]
  },
  {
   "cell_type": "code",
   "execution_count": 13,
   "metadata": {},
   "outputs": [],
   "source": [
    "def gen_data_augment(images, folder):\n",
    "    flip_horizontal = [True, False]\n",
    "    flip_vertical = [True, False]\n",
    "    brightness = [0.5, 0.65, 1, 1.2, 1.35]\n",
    "    for index_image, image in enumerate(images):\n",
    "        image_load = plt.imread(image)\n",
    "        for index_flip_h, flip_h in enumerate(flip_horizontal):\n",
    "            for index_flip_v, flip_v in enumerate(flip_vertical):\n",
    "                for index_b, b in enumerate(brightness):\n",
    "                    param = {'flip_horizontal': flip_h, 'flip_vertical': flip_v, 'brightness': b}\n",
    "                    im_param = ImageDataGenerator().apply_transform(image_load, param)\n",
    "                    img = Image.fromarray(im_param.astype(np.uint8))\n",
    "                    img.save(\"../DataAugment/\"+folder+\"/\"+folder+str(index_image)+str(index_flip_h)+str(index_flip_v)+str(index_b)+\".jpeg\")"
   ]
  },
  {
   "cell_type": "code",
   "execution_count": 15,
   "metadata": {},
   "outputs": [],
   "source": [
    "gen_data_augment(images_kartoffel, \"potato\")\n",
    "gen_data_augment(images_kattemad, \"catfood\")\n",
    "gen_data_augment(images_bord, \"table\")"
   ]
  },
  {
   "cell_type": "code",
   "execution_count": 16,
   "metadata": {
    "collapsed": true
   },
   "outputs": [],
   "source": []
  },
  {
   "cell_type": "code",
   "execution_count": null,
   "metadata": {
    "collapsed": true
   },
   "outputs": [],
   "source": []
  }
 ],
 "metadata": {
  "kernelspec": {
   "display_name": "Python 3",
   "language": "python",
   "name": "python3"
  },
  "language_info": {
   "codemirror_mode": {
    "name": "ipython",
    "version": 3
   },
   "file_extension": ".py",
   "mimetype": "text/x-python",
   "name": "python",
   "nbconvert_exporter": "python",
   "pygments_lexer": "ipython3",
   "version": "3.6.8"
  }
 },
 "nbformat": 4,
 "nbformat_minor": 1
}
