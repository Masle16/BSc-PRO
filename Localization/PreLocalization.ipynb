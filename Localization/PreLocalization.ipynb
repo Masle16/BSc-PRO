{
 "cells": [
  {
   "cell_type": "code",
   "execution_count": 1,
   "metadata": {},
   "outputs": [
    {
     "name": "stderr",
     "output_type": "stream",
     "text": [
      "Using TensorFlow backend.\n"
     ]
    }
   ],
   "source": [
    "import numpy as np\n",
    "import tensorflow as tf\n",
    "from keras.preprocessing import image\n",
    "from keras.preprocessing.image import ImageDataGenerator\n",
    "import matplotlib.pyplot as plt\n",
    "from keras.layers import Dense, Activation, Dropout, Flatten, Conv2D, MaxPooling2D\n",
    "from keras.models import Model, Sequential\n",
    "from keras import models\n",
    "from keras import layers\n",
    "from keras.optimizers import Adam, RMSprop\n",
    "from util.plots import plot_history\n",
    "from util.models.cnn_net import cnn_net"
   ]
  },
  {
   "cell_type": "code",
   "execution_count": 2,
   "metadata": {},
   "outputs": [
    {
     "name": "stdout",
     "output_type": "stream",
     "text": [
      "Found 282 images belonging to 3 classes.\n",
      "Found 76 images belonging to 3 classes.\n",
      "Found 38 images belonging to 3 classes.\n"
     ]
    }
   ],
   "source": [
    "train_path = '../../BSc-PRO-res/backprojection/train'\n",
    "valid_path = '../../BSc-PRO-res/backprojection/valid'\n",
    "test_path = '../../BSc-PRO-res/backprojection/test'\n",
    "\n",
    "batch_size = 32\n",
    "\n",
    "train_datagen = ImageDataGenerator(\n",
    "        rescale=1./255,\n",
    "        rotation_range=10,\n",
    "        vertical_flip=True,\n",
    "        horizontal_flip=True,\n",
    "        brightness_range=(0.65, 1.35))\n",
    "\n",
    "valid_datagen = ImageDataGenerator(\n",
    "        rescale=1./255\n",
    ")\n",
    "\n",
    "# Train data generator\n",
    "train_generator = train_datagen.flow_from_directory(\n",
    "        train_path,\n",
    "        target_size=(224, 224),\n",
    "        batch_size=batch_size,\n",
    "        classes=['potato', 'catfood', 'table'])\n",
    "\n",
    "# Validation data generator\n",
    "validation_generator = valid_datagen.flow_from_directory(\n",
    "        valid_path,\n",
    "        target_size=(224, 224),\n",
    "        batch_size=batch_size,\n",
    "        classes=['potato', 'catfood', 'table'])\n",
    "\n",
    "# this is a similar generator, for validation data\n",
    "test_generator = valid_datagen.flow_from_directory(\n",
    "        test_path,\n",
    "        target_size=(224, 224),\n",
    "        batch_size=batch_size,\n",
    "        classes=['potato', 'catfood', 'table'])"
   ]
  },
  {
   "cell_type": "code",
   "execution_count": 3,
   "metadata": {},
   "outputs": [],
   "source": [
    "model = cnn_net()"
   ]
  },
  {
   "cell_type": "code",
   "execution_count": 4,
   "metadata": {},
   "outputs": [
    {
     "name": "stdout",
     "output_type": "stream",
     "text": [
      "Epoch 1/100\n",
      "8/8 [==============================] - 4s 474ms/step - loss: 6.3991 - acc: 0.4711 - val_loss: 6.9836 - val_acc: 0.5000\n",
      "Epoch 2/100\n",
      "8/8 [==============================] - 3s 346ms/step - loss: 2.2522 - acc: 0.5634 - val_loss: 0.8148 - val_acc: 0.5000\n",
      "Epoch 3/100\n",
      "8/8 [==============================] - 3s 371ms/step - loss: 0.7552 - acc: 0.6172 - val_loss: 0.5458 - val_acc: 0.6818\n",
      "Epoch 4/100\n",
      "8/8 [==============================] - 3s 370ms/step - loss: 0.5490 - acc: 0.7792 - val_loss: 0.5127 - val_acc: 0.7969\n",
      "Epoch 5/100\n",
      "8/8 [==============================] - 3s 383ms/step - loss: 0.5409 - acc: 0.7759 - val_loss: 0.5621 - val_acc: 0.7727\n",
      "Epoch 6/100\n",
      "8/8 [==============================] - 3s 379ms/step - loss: 0.4798 - acc: 0.7656 - val_loss: 0.4603 - val_acc: 0.7955\n",
      "Epoch 7/100\n",
      "8/8 [==============================] - 3s 419ms/step - loss: 0.4649 - acc: 0.7703 - val_loss: 0.5361 - val_acc: 0.7500\n",
      "Epoch 8/100\n",
      "8/8 [==============================] - 3s 402ms/step - loss: 0.4340 - acc: 0.7954 - val_loss: 0.4038 - val_acc: 0.7955\n",
      "Epoch 9/100\n",
      "8/8 [==============================] - 3s 358ms/step - loss: 0.4121 - acc: 0.7907 - val_loss: 0.4489 - val_acc: 0.7727\n",
      "Epoch 10/100\n",
      "8/8 [==============================] - 3s 409ms/step - loss: 0.4212 - acc: 0.7617 - val_loss: 0.4225 - val_acc: 0.7656\n",
      "Epoch 11/100\n",
      "8/8 [==============================] - 3s 412ms/step - loss: 0.4133 - acc: 0.8208 - val_loss: 0.4878 - val_acc: 0.7273\n",
      "Epoch 12/100\n",
      "8/8 [==============================] - 3s 404ms/step - loss: 0.4275 - acc: 0.7703 - val_loss: 0.4251 - val_acc: 0.7955\n",
      "Epoch 13/100\n",
      "8/8 [==============================] - 3s 424ms/step - loss: 0.4042 - acc: 0.8203 - val_loss: 0.4257 - val_acc: 0.7812\n",
      "Epoch 14/100\n",
      "8/8 [==============================] - 3s 405ms/step - loss: 0.4098 - acc: 0.7837 - val_loss: 0.4461 - val_acc: 0.7045\n",
      "Epoch 15/100\n",
      "8/8 [==============================] - 3s 378ms/step - loss: 0.3833 - acc: 0.8127 - val_loss: 0.4372 - val_acc: 0.7727\n",
      "Epoch 16/100\n",
      "8/8 [==============================] - 3s 424ms/step - loss: 0.3608 - acc: 0.7775 - val_loss: 0.3797 - val_acc: 0.7656\n",
      "Epoch 17/100\n",
      "8/8 [==============================] - 3s 420ms/step - loss: 0.3612 - acc: 0.8299 - val_loss: 0.4923 - val_acc: 0.7273\n",
      "Epoch 18/100\n",
      "8/8 [==============================] - 5s 592ms/step - loss: 0.4024 - acc: 0.8010 - val_loss: 0.3729 - val_acc: 0.7955\n",
      "Epoch 19/100\n",
      "8/8 [==============================] - 14s 2s/step - loss: 0.3831 - acc: 0.8320 - val_loss: 0.4448 - val_acc: 0.7500\n",
      "Epoch 20/100\n",
      "8/8 [==============================] - 7s 867ms/step - loss: 0.3576 - acc: 0.8150 - val_loss: 0.3608 - val_acc: 0.7273\n",
      "Epoch 21/100\n",
      "8/8 [==============================] - 6s 688ms/step - loss: 0.4035 - acc: 0.8286 - val_loss: 0.4237 - val_acc: 0.7955\n",
      "Epoch 22/100\n",
      "8/8 [==============================] - 5s 641ms/step - loss: 0.3310 - acc: 0.8652 - val_loss: 0.3684 - val_acc: 0.7969\n",
      "Epoch 23/100\n",
      "8/8 [==============================] - 5s 587ms/step - loss: 0.4077 - acc: 0.7970 - val_loss: 0.4644 - val_acc: 0.6818\n",
      "Epoch 24/100\n",
      "8/8 [==============================] - 5s 568ms/step - loss: 0.3195 - acc: 0.8535 - val_loss: 0.3854 - val_acc: 0.7955\n",
      "Epoch 25/100\n",
      "8/8 [==============================] - 5s 620ms/step - loss: 0.3929 - acc: 0.8047 - val_loss: 0.4481 - val_acc: 0.7969\n",
      "Epoch 26/100\n",
      "8/8 [==============================] - 4s 506ms/step - loss: 0.3731 - acc: 0.8550 - val_loss: 0.3395 - val_acc: 0.8409\n",
      "Epoch 27/100\n",
      "8/8 [==============================] - 4s 454ms/step - loss: 0.3672 - acc: 0.8464 - val_loss: 0.4143 - val_acc: 0.9091\n",
      "Epoch 28/100\n",
      "8/8 [==============================] - 4s 534ms/step - loss: 0.3287 - acc: 0.8417 - val_loss: 0.3504 - val_acc: 0.9062\n",
      "Epoch 29/100\n",
      "8/8 [==============================] - 5s 609ms/step - loss: 0.3436 - acc: 0.8824 - val_loss: 0.3550 - val_acc: 0.9318\n",
      "Epoch 30/100\n",
      "8/8 [==============================] - 4s 473ms/step - loss: 0.3691 - acc: 0.8292 - val_loss: 0.4130 - val_acc: 0.9318\n",
      "Epoch 31/100\n",
      "8/8 [==============================] - 4s 472ms/step - loss: 0.2933 - acc: 0.8750 - val_loss: 0.3146 - val_acc: 0.9531\n",
      "Epoch 32/100\n",
      "8/8 [==============================] - 4s 544ms/step - loss: 0.3586 - acc: 0.8435 - val_loss: 0.4264 - val_acc: 0.9545\n",
      "Epoch 33/100\n",
      "8/8 [==============================] - 4s 494ms/step - loss: 0.3438 - acc: 0.8477 - val_loss: 0.3154 - val_acc: 0.9773\n",
      "Epoch 34/100\n",
      "8/8 [==============================] - 3s 399ms/step - loss: 0.3081 - acc: 0.9005 - val_loss: 0.3367 - val_acc: 0.9531\n",
      "Epoch 35/100\n",
      "8/8 [==============================] - 3s 397ms/step - loss: 0.2981 - acc: 0.8855 - val_loss: 0.4176 - val_acc: 0.9318\n",
      "Epoch 36/100\n",
      "8/8 [==============================] - 3s 347ms/step - loss: 0.3028 - acc: 0.9013 - val_loss: 0.2590 - val_acc: 0.9773\n",
      "Epoch 37/100\n",
      "8/8 [==============================] - 3s 374ms/step - loss: 0.3154 - acc: 0.9169 - val_loss: 0.2882 - val_acc: 0.9688\n",
      "Epoch 38/100\n",
      "8/8 [==============================] - 3s 366ms/step - loss: 0.3039 - acc: 0.8672 - val_loss: 0.4118 - val_acc: 0.9318\n",
      "Epoch 39/100\n",
      "8/8 [==============================] - 3s 341ms/step - loss: 0.2701 - acc: 0.9161 - val_loss: 0.2790 - val_acc: 0.9545\n",
      "Epoch 40/100\n",
      "8/8 [==============================] - 4s 463ms/step - loss: 0.2761 - acc: 0.9193 - val_loss: 0.3350 - val_acc: 0.9375\n",
      "Epoch 41/100\n",
      "8/8 [==============================] - 4s 492ms/step - loss: 0.2882 - acc: 0.8754 - val_loss: 0.3880 - val_acc: 0.8636\n",
      "Epoch 42/100\n",
      "8/8 [==============================] - 3s 427ms/step - loss: 0.2787 - acc: 0.9426 - val_loss: 0.2356 - val_acc: 0.9773\n",
      "Epoch 43/100\n",
      "8/8 [==============================] - 4s 452ms/step - loss: 0.3031 - acc: 0.8906 - val_loss: 0.3421 - val_acc: 0.9375\n",
      "Epoch 44/100\n",
      "8/8 [==============================] - 3s 424ms/step - loss: 0.2884 - acc: 0.9201 - val_loss: 0.2872 - val_acc: 0.9545\n",
      "Epoch 45/100\n",
      "8/8 [==============================] - 3s 401ms/step - loss: 0.3021 - acc: 0.9036 - val_loss: 0.3136 - val_acc: 0.9773\n",
      "Epoch 46/100\n",
      "8/8 [==============================] - 3s 428ms/step - loss: 0.3150 - acc: 0.8691 - val_loss: 0.3104 - val_acc: 0.9375\n",
      "Epoch 47/100\n",
      "8/8 [==============================] - 3s 423ms/step - loss: 0.2700 - acc: 0.9483 - val_loss: 0.3045 - val_acc: 0.9545\n",
      "Epoch 48/100\n",
      "8/8 [==============================] - 3s 416ms/step - loss: 0.2679 - acc: 0.9013 - val_loss: 0.3132 - val_acc: 0.9318\n",
      "Epoch 49/100\n",
      "8/8 [==============================] - 4s 489ms/step - loss: 0.2985 - acc: 0.9193 - val_loss: 0.3117 - val_acc: 0.9531\n",
      "Epoch 50/100\n",
      "8/8 [==============================] - 3s 414ms/step - loss: 0.2705 - acc: 0.9044 - val_loss: 0.2680 - val_acc: 0.9773\n",
      "Epoch 51/100\n",
      "8/8 [==============================] - 3s 395ms/step - loss: 0.1967 - acc: 0.9365 - val_loss: 0.3011 - val_acc: 0.9318\n",
      "Epoch 52/100\n",
      "8/8 [==============================] - 3s 432ms/step - loss: 0.3590 - acc: 0.8984 - val_loss: 0.3188 - val_acc: 0.9219\n",
      "Epoch 53/100\n",
      "8/8 [==============================] - 3s 420ms/step - loss: 0.2501 - acc: 0.9248 - val_loss: 0.2861 - val_acc: 0.9545\n",
      "Epoch 54/100\n",
      "8/8 [==============================] - 3s 424ms/step - loss: 0.2636 - acc: 0.9201 - val_loss: 0.3091 - val_acc: 0.9318\n",
      "Epoch 55/100\n",
      "8/8 [==============================] - 4s 447ms/step - loss: 0.2939 - acc: 0.8707 - val_loss: 0.2529 - val_acc: 0.9531\n",
      "Epoch 56/100\n",
      "8/8 [==============================] - 4s 455ms/step - loss: 0.3035 - acc: 0.9161 - val_loss: 0.2925 - val_acc: 0.9545\n",
      "Epoch 57/100\n",
      "8/8 [==============================] - 4s 444ms/step - loss: 0.2826 - acc: 0.8902 - val_loss: 0.3598 - val_acc: 0.9318\n",
      "Epoch 58/100\n",
      "8/8 [==============================] - 4s 469ms/step - loss: 0.2988 - acc: 0.8628 - val_loss: 0.2772 - val_acc: 0.9688\n",
      "Epoch 59/100\n",
      "8/8 [==============================] - 4s 445ms/step - loss: 0.2900 - acc: 0.9258 - val_loss: 0.3327 - val_acc: 0.8864\n",
      "Epoch 60/100\n",
      "8/8 [==============================] - 3s 400ms/step - loss: 0.2843 - acc: 0.8970 - val_loss: 0.3388 - val_acc: 0.9318\n",
      "Epoch 61/100\n",
      "8/8 [==============================] - 4s 460ms/step - loss: 0.2662 - acc: 0.9297 - val_loss: 0.3306 - val_acc: 0.9219\n",
      "Epoch 62/100\n",
      "8/8 [==============================] - 4s 466ms/step - loss: 0.2537 - acc: 0.9287 - val_loss: 0.2642 - val_acc: 0.9545\n",
      "Epoch 63/100\n"
     ]
    },
    {
     "name": "stdout",
     "output_type": "stream",
     "text": [
      "8/8 [==============================] - 3s 436ms/step - loss: 0.3128 - acc: 0.9217 - val_loss: 0.2672 - val_acc: 0.9318\n",
      "Epoch 64/100\n",
      "8/8 [==============================] - 4s 441ms/step - loss: 0.2576 - acc: 0.8910 - val_loss: 0.3222 - val_acc: 0.9219\n",
      "Epoch 65/100\n",
      "8/8 [==============================] - 3s 425ms/step - loss: 0.2310 - acc: 0.9287 - val_loss: 0.2012 - val_acc: 0.9773\n",
      "Epoch 66/100\n",
      "8/8 [==============================] - 3s 435ms/step - loss: 0.2568 - acc: 0.9083 - val_loss: 0.3410 - val_acc: 0.9545\n",
      "Epoch 67/100\n",
      "8/8 [==============================] - 3s 437ms/step - loss: 0.2371 - acc: 0.9161 - val_loss: 0.3176 - val_acc: 0.9531\n",
      "Epoch 68/100\n",
      "8/8 [==============================] - 3s 434ms/step - loss: 0.2470 - acc: 0.9271 - val_loss: 0.3251 - val_acc: 0.8864\n",
      "Epoch 69/100\n",
      "8/8 [==============================] - 3s 435ms/step - loss: 0.3063 - acc: 0.8945 - val_loss: 0.2030 - val_acc: 0.9773\n",
      "Epoch 70/100\n",
      "8/8 [==============================] - 3s 435ms/step - loss: 0.2548 - acc: 0.9475 - val_loss: 0.2331 - val_acc: 0.9531\n",
      "Epoch 71/100\n",
      "8/8 [==============================] - 4s 440ms/step - loss: 0.2980 - acc: 0.9067 - val_loss: 0.4057 - val_acc: 0.8409\n",
      "Epoch 72/100\n",
      "8/8 [==============================] - 3s 408ms/step - loss: 0.2525 - acc: 0.9193 - val_loss: 0.2802 - val_acc: 0.9773\n",
      "Epoch 73/100\n",
      "8/8 [==============================] - 4s 464ms/step - loss: 0.2851 - acc: 0.9302 - val_loss: 0.2801 - val_acc: 0.9531\n",
      "Epoch 74/100\n",
      "8/8 [==============================] - 4s 495ms/step - loss: 0.2149 - acc: 0.9122 - val_loss: 0.3442 - val_acc: 0.9318\n",
      "Epoch 75/100\n",
      "8/8 [==============================] - 4s 520ms/step - loss: 0.2546 - acc: 0.9491 - val_loss: 0.2695 - val_acc: 0.9545\n",
      "Epoch 76/100\n",
      "8/8 [==============================] - 4s 532ms/step - loss: 0.2900 - acc: 0.9357 - val_loss: 0.3232 - val_acc: 0.9375\n",
      "Epoch 77/100\n",
      "8/8 [==============================] - 4s 539ms/step - loss: 0.2345 - acc: 0.8984 - val_loss: 0.1961 - val_acc: 0.9318\n",
      "Epoch 78/100\n",
      "8/8 [==============================] - 4s 459ms/step - loss: 0.2821 - acc: 0.9263 - val_loss: 0.3386 - val_acc: 0.9318\n",
      "Epoch 79/100\n",
      "8/8 [==============================] - 4s 492ms/step - loss: 0.2731 - acc: 0.9287 - val_loss: 0.3213 - val_acc: 0.9062\n",
      "Epoch 80/100\n",
      "8/8 [==============================] - 4s 500ms/step - loss: 0.2513 - acc: 0.9295 - val_loss: 0.1903 - val_acc: 0.9773\n",
      "Epoch 81/100\n",
      "8/8 [==============================] - 4s 465ms/step - loss: 0.2664 - acc: 0.9357 - val_loss: 0.3098 - val_acc: 0.9545\n",
      "Epoch 82/100\n",
      "8/8 [==============================] - 3s 419ms/step - loss: 0.2636 - acc: 0.9005 - val_loss: 0.2952 - val_acc: 0.9219\n",
      "Epoch 83/100\n",
      "8/8 [==============================] - 3s 415ms/step - loss: 0.2666 - acc: 0.9318 - val_loss: 0.3810 - val_acc: 0.9091\n",
      "Epoch 84/100\n",
      "8/8 [==============================] - 3s 386ms/step - loss: 0.2368 - acc: 0.8982 - val_loss: 0.2522 - val_acc: 0.9318\n",
      "Epoch 85/100\n",
      "8/8 [==============================] - 3s 419ms/step - loss: 0.2712 - acc: 0.9375 - val_loss: 0.2780 - val_acc: 0.9375\n",
      "Epoch 86/100\n",
      "8/8 [==============================] - 3s 419ms/step - loss: 0.2707 - acc: 0.9316 - val_loss: 0.2870 - val_acc: 0.9545\n",
      "Epoch 87/100\n",
      "8/8 [==============================] - 3s 386ms/step - loss: 0.2438 - acc: 0.9083 - val_loss: 0.2539 - val_acc: 0.9545\n",
      "Epoch 88/100\n",
      "8/8 [==============================] - 4s 526ms/step - loss: 0.2719 - acc: 0.8867 - val_loss: 0.2970 - val_acc: 0.9531\n",
      "Epoch 89/100\n",
      "8/8 [==============================] - 4s 461ms/step - loss: 0.2683 - acc: 0.9248 - val_loss: 0.1498 - val_acc: 1.0000\n",
      "Epoch 90/100\n",
      "8/8 [==============================] - 3s 392ms/step - loss: 0.2697 - acc: 0.9341 - val_loss: 0.3616 - val_acc: 0.9091\n",
      "Epoch 91/100\n",
      "8/8 [==============================] - 4s 454ms/step - loss: 0.2284 - acc: 0.9600 - val_loss: 0.3118 - val_acc: 0.9375\n",
      "Epoch 92/100\n",
      "8/8 [==============================] - 4s 443ms/step - loss: 0.2681 - acc: 0.9349 - val_loss: 0.1645 - val_acc: 1.0000\n",
      "Epoch 93/100\n",
      "8/8 [==============================] - 3s 413ms/step - loss: 0.2777 - acc: 0.9141 - val_loss: 0.3247 - val_acc: 0.9318\n",
      "Epoch 94/100\n",
      "8/8 [==============================] - 4s 442ms/step - loss: 0.2440 - acc: 0.9357 - val_loss: 0.2406 - val_acc: 0.9688\n",
      "Epoch 95/100\n",
      "8/8 [==============================] - 4s 453ms/step - loss: 0.2628 - acc: 0.9158 - val_loss: 0.3569 - val_acc: 0.9318\n",
      "Epoch 96/100\n",
      "8/8 [==============================] - 4s 452ms/step - loss: 0.2413 - acc: 0.9138 - val_loss: 0.2410 - val_acc: 0.9545\n",
      "Epoch 97/100\n",
      "8/8 [==============================] - 4s 461ms/step - loss: 0.2543 - acc: 0.9492 - val_loss: 0.2931 - val_acc: 0.9219\n",
      "Epoch 98/100\n",
      "8/8 [==============================] - 4s 464ms/step - loss: 0.2252 - acc: 0.9514 - val_loss: 0.2991 - val_acc: 0.9091\n",
      "Epoch 99/100\n",
      "8/8 [==============================] - 3s 420ms/step - loss: 0.2207 - acc: 0.9726 - val_loss: 0.2064 - val_acc: 1.0000\n",
      "Epoch 100/100\n",
      "8/8 [==============================] - 4s 454ms/step - loss: 0.2342 - acc: 0.9514 - val_loss: 0.2909 - val_acc: 0.9531\n"
     ]
    }
   ],
   "source": [
    "history = model.fit_generator(\n",
    "            train_generator,\n",
    "            steps_per_epoch=282 // batch_size,\n",
    "            epochs=100,\n",
    "            validation_data=validation_generator,\n",
    "            validation_steps=76 // batch_size)"
   ]
  },
  {
   "cell_type": "code",
   "execution_count": 5,
   "metadata": {},
   "outputs": [
    {
     "data": {
      "image/png": "[encoded data removed]",
      "text/plain": [
       "<Figure size 432x288 with 1 Axes>"
      ]
     },
     "metadata": {
      "needs_background": "light"
     },
     "output_type": "display_data"
    },
    {
     "data": {
      "image/png": "[encoded data removed]",
      "text/plain": [
       "<Figure size 432x288 with 1 Axes>"
      ]
     },
     "metadata": {
      "needs_background": "light"
     },
     "output_type": "display_data"
    }
   ],
   "source": [
    "plot_history(history, mean_N=3)"
   ]
  },
  {
   "cell_type": "code",
   "execution_count": 6,
   "metadata": {},
   "outputs": [
    {
     "name": "stdout",
     "output_type": "stream",
     "text": [
      "\r",
      "32/32 [==============================] - 0s 1ms/step\n"
     ]
    },
    {
     "data": {
      "text/plain": [
       "[0.40200597047805786, 0.9375]"
      ]
     },
     "execution_count": 6,
     "metadata": {},
     "output_type": "execute_result"
    }
   ],
   "source": [
    "imgs, labels = next(test_generator)\n",
    "\n",
    "model.evaluate(imgs,labels, batch_size=batch_size)"
   ]
  }
 ],
 "metadata": {
  "kernelspec": {
   "display_name": "Python 3",
   "language": "python",
   "name": "python3"
  },
  "language_info": {
   "codemirror_mode": {
    "name": "ipython",
    "version": 3
   },
   "file_extension": ".py",
   "mimetype": "text/x-python",
   "name": "python",
   "nbconvert_exporter": "python",
   "pygments_lexer": "ipython3",
   "version": "3.6.8"
  }
 },
 "nbformat": 4,
 "nbformat_minor": 2
}
