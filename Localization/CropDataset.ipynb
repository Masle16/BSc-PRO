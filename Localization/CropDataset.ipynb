{
 "cells": [
  {
   "cell_type": "markdown",
   "metadata": {},
   "source": [
    "<h1>Create with Background Subtraction</h1>"
   ]
  },
  {
   "cell_type": "code",
   "execution_count": 1,
   "metadata": {},
   "outputs": [],
   "source": [
    "from background_subtraction.background_subtraction import background_sub\n",
    "import cv2\n",
    "import glob\n",
    "import matplotlib.pyplot as plt"
   ]
  },
  {
   "cell_type": "code",
   "execution_count": 2,
   "metadata": {},
   "outputs": [],
   "source": [
    "mask = cv2.imread('background_subtraction/bgd_mask.jpg', cv2.IMREAD_GRAYSCALE)\n",
    "background_img = cv2.imread('background_subtraction/avg_background.jpg', cv2.IMREAD_COLOR)"
   ]
  },
  {
   "cell_type": "code",
   "execution_count": 4,
   "metadata": {},
   "outputs": [],
   "source": [
    "objs = ['arm', 'background', 'bun', 'carrots', 'catfood_beef', 'catfood_salmon', 'ketchup', 'potato']\n",
    "locs = ['train', 'test']\n",
    "\n",
    "for obj in objs:\n",
    "    for loc in locs:\n",
    "        images = []\n",
    "        images = [cv2.imread(file) for file in glob.glob(\"../dataset3/res_still/\"+loc+\"/\"+obj+\"/*.jpg\")]\n",
    "        for i in range(len(images)):\n",
    "            roi, coordinates = background_sub(images[i], background_img, mask)\n",
    "            (x_left, x_right, y_up, y_down) = roi\n",
    "            crop = images[i][y_up:y_down, x_left:x_right]\n",
    "            name=obj+str(i)\n",
    "            cv2.imwrite('/home/emil/Documents/github/BSc-PRO/dataset3/res_crop/'+loc+'/'+obj+'/'+name+'.jpg',crop)"
   ]
  },
  {
   "cell_type": "markdown",
   "metadata": {},
   "source": [
    "<h1>Create with Backprojection</h1>"
   ]
  },
  {
   "cell_type": "code",
   "execution_count": null,
   "metadata": {},
   "outputs": [],
   "source": [
    "from backprojection.backprojection import backproject\n",
    "import matplotlib.pyplot as plt\n",
    "import cv2\n",
    "import numpy as np\n",
    "from util.models import load_model\n",
    "import glob"
   ]
  },
  {
   "cell_type": "code",
   "execution_count": null,
   "metadata": {},
   "outputs": [],
   "source": [
    "roi_img = cv2.imread('/home/emil/Documents/github/BSc-PRO/Localization/backprojection/template_all.jpg')\n",
    "   \n",
    "roi_hsv = cv2.cvtColor(roi_img, cv2.COLOR_BGR2HSV)\n",
    "roi_hist = cv2.calcHist([roi_hsv], [0, 1], None, [180, 256], [0, 180, 0, 256])\n",
    "roi_hist = cv2.normalize(roi_hist, roi_hist, 0, 255, cv2.NORM_MINMAX)\n",
    "\n",
    "obj = 'table'\n",
    "loc = 'test'\n",
    "\n",
    "images = [cv2.imread(file) for file in glob.glob(\"../dataset1/res_still/\"+loc+\"/\"+obj+\"/*.jpg\")]\n",
    "\n",
    "for i in range(len(images)):\n",
    "    roi, bounding_box = backproject(roi_hist, images[i])\n",
    "    name=obj+str(i)\n",
    "    cv2.imwrite('/home/emil/Documents/github/BSc-PRO/dataset1/res_crop/'+loc+'/'+obj+'/'+name+'.jpg',roi)\n"
   ]
  }
 ],
 "metadata": {
  "kernelspec": {
   "display_name": "Python 3",
   "language": "python",
   "name": "python3"
  },
  "language_info": {
   "codemirror_mode": {
    "name": "ipython",
    "version": 3
   },
   "file_extension": ".py",
   "mimetype": "text/x-python",
   "name": "python",
   "nbconvert_exporter": "python",
   "pygments_lexer": "ipython3",
   "version": "3.6.8"
  }
 },
 "nbformat": 4,
 "nbformat_minor": 2
}
