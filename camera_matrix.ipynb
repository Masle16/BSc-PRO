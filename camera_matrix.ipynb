{
 "cells": [
  {
   "cell_type": "markdown",
   "metadata": {},
   "source": [
    "# Camera Matrix\n",
    "\n",
    "\n",
    "\n",
    "$$\n",
    "\\begin{bmatrix}\n",
    "    i \\cdot w \\\\\n",
    "    j \\cdot w \\\\\n",
    "    w\n",
    "\\end{bmatrix} =\n",
    "\\begin{bmatrix}\n",
    "    f & 0 & c_{i} \\\\\n",
    "    0 & f & c_{j} \\\\\n",
    "    0 & 0 & 1\n",
    "\\end{bmatrix} \\cdot\n",
    "\\begin{bmatrix}\n",
    "    x \\\\\n",
    "    y \\\\\n",
    "    z\n",
    "\\end{bmatrix} =\n",
    "\\begin{bmatrix}\n",
    "    \\frac{width}{2tan (\\frac{FOV}{2}) } & 0 & \\frac{width - 1}{2} \\\\\n",
    "    0 & \\frac{width}{2tan (\\frac{FOV}{2}) } & \\frac{height - 1}{2} \\\\\n",
    "    0 & 0 & 1\n",
    "\\end{bmatrix} \\cdot\n",
    "\\begin{bmatrix}\n",
    "    x \\\\\n",
    "    y \\\\\n",
    "    z\n",
    "\\end{bmatrix}\n",
    "$$\n",
    "\n",
    "From the [cameras datasheet](https://www.aliexpress.com/item/11-Megapixel-Autofocus-USB-Camera-High-Resolution-USB2-0-SONY-IMX214-Color-CMOS-Mini-Webcam-Camera/32909008612.html?fbclid=IwAR2Xkw5758lqk2K-LyN4otorUFYzV6witqcCv09OpLgGKhtF_joL4774Byc) the FOV is found to be 75 degrees. Futhermore, a resolution of 720 x 1280 is used.\n",
    "\n",
    "Thereby, the camera matrix becomes:\n",
    "\n",
    "$$\n",
    "\\begin{bmatrix}\n",
    "    i \\cdot w \\\\\n",
    "    j \\cdot w \\\\\n",
    "    w\n",
    "\\end{bmatrix} =\n",
    "\\begin{bmatrix}\n",
    "    834.0642 & 0 & 639.5 \\\\\n",
    "    0 & 834.0642 & 359.5 \\\\\n",
    "    0 & 0 & 1\n",
    "\\end{bmatrix} \\cdot\n",
    "\\begin{bmatrix}\n",
    "    x \\\\\n",
    "    y \\\\\n",
    "    z\n",
    "\\end{bmatrix}\n",
    "$$"
   ]
  },
  {
   "cell_type": "code",
   "execution_count": null,
   "metadata": {},
   "outputs": [],
   "source": []
  }
 ],
 "metadata": {
  "kernelspec": {
   "display_name": "Python 3",
   "language": "python",
   "name": "python3"
  },
  "language_info": {
   "codemirror_mode": {
    "name": "ipython",
    "version": 3
   },
   "file_extension": ".py",
   "mimetype": "text/x-python",
   "name": "python",
   "nbconvert_exporter": "python",
   "pygments_lexer": "ipython3",
   "version": "3.5.6"
  }
 },
 "nbformat": 4,
 "nbformat_minor": 2
}
