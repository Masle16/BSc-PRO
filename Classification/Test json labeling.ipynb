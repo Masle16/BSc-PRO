{
 "cells": [
  {
   "cell_type": "code",
   "execution_count": 5,
   "metadata": {},
   "outputs": [
    {
     "name": "stdout",
     "output_type": "stream",
     "text": [
      "[{'ID': 'cju18e0bzrk6t08356g4kimb4', 'DataRow ID': 'cju18b0xon65t0bqpzial7rr5', 'Labeled Data': 'https://storage.googleapis.com/labelbox-193903.appspot.com/cju186vkynl0d0993lh1g5rgw%2F75cc7674-7d7c-2094-a10f-19ceda144b55-WIN_20190322_10_26_35_Pro.jpg', 'Label': {'Person': [{'geometry': [{'x': 468, 'y': 332}, {'x': 468, 'y': 0}, {'x': 584, 'y': 0}, {'x': 584, 'y': 332}]}], 'Corner of Building': [{'geometry': {'x': 460, 'y': 308}}], 'model': 'model_s'}, 'Created By': 'cmreplays@hotmail.com', 'Project Name': 'BSc-PRO', 'Created At': '2019-04-03T13:12:25.000Z', 'Seconds to Label': 48.067, 'External ID': 'WIN_20190322_10_26_35_Pro.jpg', 'Agreement': None, 'Dataset Name': 'Arm', 'Reviews': [], 'View Label': 'https://image-segmentation-v4.labelbox.com?project=cju1880941iex080146vjg4j8&label=cju18e0bzrk6t08356g4kimb4'}]\n"
     ]
    }
   ],
   "source": [
    "import json\n",
    "with open('/home/mikkel/Downloads/export-2019-04-03T13_16_09.251Z.json') as json_file:  \n",
    "    data = json.load(json_file)\n",
    "    print(data)"
   ]
  },
  {
   "cell_type": "code",
   "execution_count": 24,
   "metadata": {},
   "outputs": [
    {
     "name": "stdout",
     "output_type": "stream",
     "text": [
      "{'x': 468, 'y': 332}\n"
     ]
    }
   ],
   "source": [
    "print((data[0])['Label']['Person'][0]['geometry'][0])"
   ]
  },
  {
   "cell_type": "code",
   "execution_count": null,
   "metadata": {},
   "outputs": [],
   "source": []
  }
 ],
 "metadata": {
  "kernelspec": {
   "display_name": "Python 3",
   "language": "python",
   "name": "python3"
  },
  "language_info": {
   "codemirror_mode": {
    "name": "ipython",
    "version": 3
   },
   "file_extension": ".py",
   "mimetype": "text/x-python",
   "name": "python",
   "nbconvert_exporter": "python",
   "pygments_lexer": "ipython3",
   "version": "3.6.8"
  }
 },
 "nbformat": 4,
 "nbformat_minor": 2
}
