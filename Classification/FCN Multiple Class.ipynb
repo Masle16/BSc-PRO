{
 "cells": [
  {
   "cell_type": "code",
   "execution_count": 1,
   "metadata": {},
   "outputs": [
    {
     "name": "stderr",
     "output_type": "stream",
     "text": [
      "Using TensorFlow backend.\n"
     ]
    }
   ],
   "source": [
    "import os\n",
    "from PIL import Image\n",
    "import util.image_import as ii\n",
    "from glob import glob\n",
    "import numpy as np\n",
    "import tensorflow as tf\n",
    "from keras.preprocessing import image\n",
    "from keras.preprocessing.image import ImageDataGenerator\n",
    "from keras import regularizers\n",
    "from keras import backend as K\n",
    "import matplotlib.pyplot as plt\n",
    "from keras.applications import mobilenet\n",
    "from keras.layers import Dense, GlobalAveragePooling2D, Activation, Dropout, Flatten, Dense, Conv2D, MaxPooling2D\n",
    "from keras.models import Model, Sequential\n",
    "from keras import models\n",
    "from keras import layers\n",
    "from keras.utils.np_utils import to_categorical\n",
    "from keras.optimizers import Adam, RMSprop, SGD\n",
    "from util.plots import plot_history\n",
    "%matplotlib inline\n",
    "%load_ext autoreload\n",
    "%autoreload 2"
   ]
  },
  {
   "cell_type": "markdown",
   "metadata": {},
   "source": [
    "#### Trick to configure gpu memory dynamically"
   ]
  },
  {
   "cell_type": "code",
   "execution_count": 2,
   "metadata": {},
   "outputs": [],
   "source": [
    "cfg = K.tf.ConfigProto() # Config to dynamically add memory\n",
    "cfg.gpu_options.allow_growth = True\n",
    "K.set_session(K.tf.Session(config=cfg))# set this TensorFlow session as the default session for Keras."
   ]
  },
  {
   "cell_type": "markdown",
   "metadata": {},
   "source": [
    "### Subtracting mean and normalizing to save pictures"
   ]
  },
  {
   "cell_type": "code",
   "execution_count": 3,
   "metadata": {},
   "outputs": [
    {
     "name": "stdout",
     "output_type": "stream",
     "text": [
      "Number of training images: 474 Number of test images: 120\n"
     ]
    }
   ],
   "source": [
    "# Importing the images\n",
    "images_train = []\n",
    "images_test = []\n",
    "\n",
    "images_train.append(glob(os.path.join(\"../dataset3/res_still/train/arm\", \"*.jpg\")))\n",
    "#images_train.append(glob(os.path.join(\"../dataset3/res_still/train/background\", \"*.jpg\")))\n",
    "#images_train.append(glob(os.path.join(\"../dataset3/res_still/train/bun\", \"*.jpg\")))\n",
    "#images_train.append(glob(os.path.join(\"../dataset3/res_still/train/carrots\", \"*.jpg\")))\n",
    "#images_train.append(glob(os.path.join(\"../dataset3/res_still/train/catfood_beef\", \"*.jpg\")))\n",
    "#images_train.append(glob(os.path.join(\"../dataset3/res_still/train/catfood_salmon\", \"*.jpg\")))\n",
    "#images_train.append(glob(os.path.join(\"../dataset3/res_still/train/ketchup\", \"*.jpg\")))\n",
    "images_train.append(glob(os.path.join(\"../dataset3/res_still/train/potato\", \"*.jpg\")))\n",
    "\n",
    "images_test.append(glob(os.path.join(\"../dataset3/res_still/test/arm\", \"*.jpg\")))\n",
    "#images_test.append(glob(os.path.join(\"../dataset3/res_still/test/background\", \"*.jpg\")))\n",
    "#images_test.append(glob(os.path.join(\"../dataset3/res_still/test/bun\", \"*.jpg\")))\n",
    "#images_test.append(glob(os.path.join(\"../dataset3/res_still/train/carrots\", \"*.jpg\")))\n",
    "#images_test.append(glob(os.path.join(\"../dataset3/res_still/test/catfood_beef\", \"*.jpg\")))\n",
    "#images_test.append(glob(os.path.join(\"../dataset3/res_still/test/catfood_salmon\", \"*.jpg\")))\n",
    "#images_test.append(glob(os.path.join(\"../dataset3/res_still/test/ketchup\", \"*.jpg\")))\n",
    "images_test.append(glob(os.path.join(\"../dataset3/res_still/test/potato\", \"*.jpg\")))\n",
    "def bobolade:\n",
    "    \n",
    "\n",
    "X_train, y_train = ii.images_to_numpy_full_class(images_train)\n",
    "X_test, y_test = ii.images_to_numpy_full_class(images_test)\n",
    "\n",
    "print(\"Number of training images: \" + str(X_train.shape[0]) + \" Number of test images: \" + str(X_test.shape[0]))\n",
    "\n",
    "# Setup of image data generator\n",
    "batch_size = 32\n",
    "num_classes = 2\n",
    "\n",
    "# Making datagen for training with normilization, center, and dataugmentation\n",
    "train_datagen = ImageDataGenerator(\n",
    "        featurewise_center=True,\n",
    "        featurewise_std_normalization=True,\n",
    "        rescale=1./255,\n",
    "        rotation_range=10,\n",
    "        vertical_flip=True,\n",
    "        horizontal_flip=True,\n",
    "        brightness_range=(0.65, 1.35)\n",
    ")\n",
    "\n",
    "# Making datagen for validation and test with normilization\n",
    "test_datagen = ImageDataGenerator(\n",
    "        featurewise_center=True, \n",
    "        featurewise_std_normalization=True,\n",
    "        rescale=1./255\n",
    ")\n",
    "\n",
    "y_train = to_categorical(y_train, num_classes)\n",
    "y_test = to_categorical(y_test, num_classes)\n",
    "\n",
    "# Required for featurewise normalization\n",
    "train_datagen.fit(X_train/.255)\n",
    "test_datagen.fit(X_train/.255)\n",
    "\n",
    "train_generator = train_datagen.flow(X_train,\n",
    "                                     y_train,\n",
    "                                     batch_size=batch_size, shuffle=True)\n",
    "\n",
    "test_generator = test_datagen.flow(X_train,\n",
    "                                     y_train,\n",
    "                                     batch_size=batch_size, shuffle=True)\n"
   ]
  },
  {
   "cell_type": "code",
   "execution_count": 5,
   "metadata": {},
   "outputs": [
    {
     "data": {
      "text/plain": [
       "array([[[ 35.,  42.,  18.],\n",
       "        [ 47.,  48.,  16.],\n",
       "        [ 45.,  54.,  11.],\n",
       "        ...,\n",
       "        [  3.,   7.,  10.],\n",
       "        [  3.,   7.,   8.],\n",
       "        [  3.,   7.,  10.]],\n",
       "\n",
       "       [[ 39.,  44.,  16.],\n",
       "        [ 43.,  44.,  13.],\n",
       "        [ 44.,  51.,  13.],\n",
       "        ...,\n",
       "        [  3.,   7.,   8.],\n",
       "        [  3.,   7.,   8.],\n",
       "        [  3.,   7.,   8.]],\n",
       "\n",
       "       [[ 48.,  45.,  27.],\n",
       "        [ 45.,  43.,  23.],\n",
       "        [ 43.,  46.,  22.],\n",
       "        ...,\n",
       "        [  3.,   7.,   7.],\n",
       "        [  2.,   6.,   9.],\n",
       "        [  2.,   6.,   6.]],\n",
       "\n",
       "       ...,\n",
       "\n",
       "       [[176., 176., 196.],\n",
       "        [175., 177., 190.],\n",
       "        [175., 175., 185.],\n",
       "        ...,\n",
       "        [137., 147., 156.],\n",
       "        [134., 144., 154.],\n",
       "        [134., 147., 157.]],\n",
       "\n",
       "       [[176., 177., 195.],\n",
       "        [174., 176., 188.],\n",
       "        [177., 177., 187.],\n",
       "        ...,\n",
       "        [139., 145., 157.],\n",
       "        [136., 146., 158.],\n",
       "        [135., 147., 161.]],\n",
       "\n",
       "       [[176., 178., 192.],\n",
       "        [175., 178., 187.],\n",
       "        [178., 178., 190.],\n",
       "        ...,\n",
       "        [138., 145., 161.],\n",
       "        [135., 147., 163.],\n",
       "        [139., 146., 164.]]], dtype=float16)"
      ]
     },
     "execution_count": 5,
     "metadata": {},
     "output_type": "execute_result"
    }
   ],
   "source": [
    "X_train[0]"
   ]
  },
  {
   "cell_type": "markdown",
   "metadata": {},
   "source": [
    "## Optimized model single run <span style=\"color:red\"> Not done</span>"
   ]
  },
  {
   "cell_type": "code",
   "execution_count": 5,
   "metadata": {
    "scrolled": false
   },
   "outputs": [
    {
     "name": "stdout",
     "output_type": "stream",
     "text": [
      "_________________________________________________________________\n",
      "Layer (type)                 Output Shape              Param #   \n",
      "=================================================================\n",
      "flatten_1 (Flatten)          (None, 150528)            0         \n",
      "_________________________________________________________________\n",
      "dense_1 (Dense)              (None, 256)               38535424  \n",
      "_________________________________________________________________\n",
      "activation_1 (Activation)    (None, 256)               0         \n",
      "_________________________________________________________________\n",
      "dense_2 (Dense)              (None, 7)                 1799      \n",
      "_________________________________________________________________\n",
      "activation_2 (Activation)    (None, 7)                 0         \n",
      "=================================================================\n",
      "Total params: 38,537,223\n",
      "Trainable params: 38,537,223\n",
      "Non-trainable params: 0\n",
      "_________________________________________________________________\n"
     ]
    }
   ],
   "source": [
    "model_optimized = Sequential()\n",
    "model_optimized.add(Flatten(input_shape=(224,224,3)))\n",
    "model_optimized.add(Dense(256))\n",
    "model_optimized.add(Activation('relu'))\n",
    "model_optimized.add(Dense(7))\n",
    "model_optimized.add(Activation('softmax'))\n",
    "model_optimized.compile(loss='categorical_crossentropy',\n",
    "              optimizer=Adam(lr=1e-4), \n",
    "              metrics=['accuracy'])\n",
    "\n",
    "model_optimized.summary()"
   ]
  },
  {
   "cell_type": "code",
   "execution_count": null,
   "metadata": {
    "scrolled": true
   },
   "outputs": [
    {
     "name": "stdout",
     "output_type": "stream",
     "text": [
      "Epoch 1/100\n"
     ]
    }
   ],
   "source": [
    "history_optimized = model_optimized.fit_generator(\n",
    "                    train_generator,\n",
    "                    steps_per_epoch=1641 // batch_size,\n",
    "                    epochs=100,\n",
    "                    validation_data=test_generator,\n",
    "                    validation_steps=521 // batch_size)\n"
   ]
  },
  {
   "cell_type": "code",
   "execution_count": 8,
   "metadata": {},
   "outputs": [
    {
     "data": {
      "image/png": "[encoded data removed]",
      "text/plain": [
       "<Figure size 432x288 with 1 Axes>"
      ]
     },
     "metadata": {
      "needs_background": "light"
     },
     "output_type": "display_data"
    },
    {
     "data": {
      "image/png": "[encoded data removed]",
      "text/plain": [
       "<Figure size 432x288 with 1 Axes>"
      ]
     },
     "metadata": {
      "needs_background": "light"
     },
     "output_type": "display_data"
    }
   ],
   "source": [
    "plot_history(history_optimized, save=True, path='nets/feedforward/', name='plot_full')"
   ]
  },
  {
   "cell_type": "code",
   "execution_count": 10,
   "metadata": {},
   "outputs": [
    {
     "name": "stdout",
     "output_type": "stream",
     "text": [
      "\r",
      "80/80 [==============================] - 0s 638us/step\n"
     ]
    },
    {
     "data": {
      "text/plain": [
       "[0.039275094866752625, 0.987500011920929]"
      ]
     },
     "execution_count": 10,
     "metadata": {},
     "output_type": "execute_result"
    }
   ],
   "source": [
    "imgs, labels = next(test_generator)\n",
    "\n",
    "#ynew = model.predict(imgs)\n",
    "#results[(lr, lrd, rs, hl)] = (y_train_acc, y_pred_acc)\n",
    "\n",
    "model_optimized.evaluate(imgs,labels, batch_size=80)"
   ]
  },
  {
   "cell_type": "code",
   "execution_count": null,
   "metadata": {},
   "outputs": [],
   "source": [
    "imgs, labels = next(validation_generator)\n",
    "history_optimized.predict(imgs)"
   ]
  },
  {
   "cell_type": "markdown",
   "metadata": {},
   "source": [
    "\n"
   ]
  }
 ],
 "metadata": {
  "kernelspec": {
   "display_name": "Python 3",
   "language": "python",
   "name": "python3"
  },
  "language_info": {
   "codemirror_mode": {
    "name": "ipython",
    "version": 3
   },
   "file_extension": ".py",
   "mimetype": "text/x-python",
   "name": "python",
   "nbconvert_exporter": "python",
   "pygments_lexer": "ipython3",
   "version": "3.6.8"
  }
 },
 "nbformat": 4,
 "nbformat_minor": 2
}
