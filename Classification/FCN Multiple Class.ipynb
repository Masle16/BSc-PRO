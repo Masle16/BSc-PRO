{
 "cells": [
  {
   "cell_type": "code",
   "execution_count": 3,
   "metadata": {},
   "outputs": [
    {
     "name": "stderr",
     "output_type": "stream",
     "text": [
      "Using TensorFlow backend.\n"
     ]
    }
   ],
   "source": [
    "import os\n",
    "from PIL import Image\n",
    "import util.image_import as ii\n",
    "from glob import glob\n",
    "import numpy as np\n",
    "import tensorflow as tf\n",
    "from keras.preprocessing import image\n",
    "from keras.preprocessing.image import ImageDataGenerator\n",
    "from keras import regularizers\n",
    "from keras import backend as K\n",
    "import matplotlib.pyplot as plt\n",
    "from keras.applications import mobilenet\n",
    "from keras.layers import Dense, GlobalAveragePooling2D, Activation, Dropout, Flatten, Dense, Conv2D, MaxPooling2D\n",
    "from keras.models import Model, Sequential\n",
    "from keras import models\n",
    "from keras import layers\n",
    "from keras.utils.np_utils import to_categorical\n",
    "from keras.optimizers import Adam, RMSprop, SGD\n",
    "from util.plots import plot_history\n",
    "%matplotlib inline\n",
    "%load_ext autoreload\n",
    "%autoreload 2"
   ]
  },
  {
   "cell_type": "markdown",
   "metadata": {},
   "source": [
    "#### Trick to configure gpu memory dynamically"
   ]
  },
  {
   "cell_type": "code",
   "execution_count": 4,
   "metadata": {},
   "outputs": [],
   "source": [
    "cfg = K.tf.ConfigProto() # Config to dynamically add memory\n",
    "cfg.gpu_options.allow_growth = True\n",
    "K.set_session(K.tf.Session(config=cfg))# set this TensorFlow session as the default session for Keras."
   ]
  },
  {
   "cell_type": "markdown",
   "metadata": {},
   "source": [
    "### Subtracting mean and normalizing"
   ]
  },
  {
   "cell_type": "code",
   "execution_count": 11,
   "metadata": {},
   "outputs": [],
   "source": [
    "mean_image_train = ii.calulate_mean(\"../dataset3/res_still/train\")\n",
    "\n",
    "def subtract_mean(img):\n",
    "    return img - mean_image_train"
   ]
  },
  {
   "cell_type": "code",
   "execution_count": 17,
   "metadata": {},
   "outputs": [
    {
     "name": "stdout",
     "output_type": "stream",
     "text": [
      "Found 1875 images belonging to 8 classes.\n",
      "Found 472 images belonging to 8 classes.\n"
     ]
    }
   ],
   "source": [
    "train_path = '../dataset3/res_still/train'\n",
    "test_path = '../dataset3/res_still/test'\n",
    "\n",
    "batch_size = 32\n",
    "\n",
    "train_datagen = ImageDataGenerator(\n",
    "        rescale=1./255,\n",
    "        rotation_range=10,\n",
    "        vertical_flip=True,\n",
    "        horizontal_flip=True,\n",
    "        brightness_range=(0.65, 1.35),\n",
    "        preprocessing_function=subtract_mean)\n",
    "\n",
    "test_datagen = ImageDataGenerator(\n",
    "        rescale=1./255,\n",
    "        preprocessing_function=subtract_mean)\n",
    "\n",
    "# Train data generator\n",
    "train_generator = train_datagen.flow_from_directory(\n",
    "        train_path,\n",
    "        target_size=(224, 224),\n",
    "        batch_size=batch_size)\n",
    "\n",
    "# Validation data generator\n",
    "test_generator = test_datagen.flow_from_directory(\n",
    "        test_path,\n",
    "        target_size=(224, 224),\n",
    "        batch_size=batch_size)"
   ]
  },
  {
   "cell_type": "markdown",
   "metadata": {},
   "source": [
    "## Optimized model single run <span style=\"color:red\"> Done but maybe not converging</span>"
   ]
  },
  {
   "cell_type": "code",
   "execution_count": 19,
   "metadata": {
    "scrolled": false
   },
   "outputs": [
    {
     "name": "stdout",
     "output_type": "stream",
     "text": [
      "_________________________________________________________________\n",
      "Layer (type)                 Output Shape              Param #   \n",
      "=================================================================\n",
      "flatten_2 (Flatten)          (None, 150528)            0         \n",
      "_________________________________________________________________\n",
      "dense_3 (Dense)              (None, 256)               38535424  \n",
      "_________________________________________________________________\n",
      "activation_3 (Activation)    (None, 256)               0         \n",
      "_________________________________________________________________\n",
      "dense_4 (Dense)              (None, 8)                 2056      \n",
      "_________________________________________________________________\n",
      "activation_4 (Activation)    (None, 8)                 0         \n",
      "=================================================================\n",
      "Total params: 38,537,480\n",
      "Trainable params: 38,537,480\n",
      "Non-trainable params: 0\n",
      "_________________________________________________________________\n"
     ]
    }
   ],
   "source": [
    "model_optimized = Sequential()\n",
    "model_optimized.add(Flatten(input_shape=(224,224,3)))\n",
    "model_optimized.add(Dense(256))\n",
    "model_optimized.add(Activation('relu'))\n",
    "model_optimized.add(Dense(8))\n",
    "model_optimized.add(Activation('softmax'))\n",
    "model_optimized.compile(loss='categorical_crossentropy',\n",
    "                        optimizer=Adam(lr=1e-4),\n",
    "                        metrics=['accuracy'])\n",
    "\n",
    "model_optimized.summary()"
   ]
  },
  {
   "cell_type": "code",
   "execution_count": 20,
   "metadata": {
    "scrolled": true
   },
   "outputs": [
    {
     "name": "stdout",
     "output_type": "stream",
     "text": [
      "Epoch 1/100\n",
      "58/58 [==============================] - 32s 549ms/step - loss: 2.7658 - acc: 0.2174 - val_loss: 1.6083 - val_acc: 0.4196\n",
      "Epoch 2/100\n",
      "58/58 [==============================] - 31s 538ms/step - loss: 2.2195 - acc: 0.3145 - val_loss: 1.4601 - val_acc: 0.4397\n",
      "Epoch 3/100\n",
      "58/58 [==============================] - 33s 567ms/step - loss: 2.1396 - acc: 0.3253 - val_loss: 1.2709 - val_acc: 0.4955\n",
      "Epoch 4/100\n",
      "58/58 [==============================] - 33s 563ms/step - loss: 2.0815 - acc: 0.3440 - val_loss: 1.2729 - val_acc: 0.4978\n",
      "Epoch 5/100\n",
      "58/58 [==============================] - 32s 551ms/step - loss: 1.8489 - acc: 0.4054 - val_loss: 1.2504 - val_acc: 0.5379\n",
      "Epoch 6/100\n",
      "58/58 [==============================] - 34s 593ms/step - loss: 1.7950 - acc: 0.4196 - val_loss: 1.2525 - val_acc: 0.5290\n",
      "Epoch 7/100\n",
      "58/58 [==============================] - 33s 572ms/step - loss: 1.6871 - acc: 0.4437 - val_loss: 1.1892 - val_acc: 0.5513\n",
      "Epoch 8/100\n",
      "58/58 [==============================] - 30s 525ms/step - loss: 1.6065 - acc: 0.4628 - val_loss: 1.2377 - val_acc: 0.5536\n",
      "Epoch 9/100\n",
      "58/58 [==============================] - 31s 540ms/step - loss: 1.5774 - acc: 0.5007 - val_loss: 1.0755 - val_acc: 0.5915\n",
      "Epoch 10/100\n",
      "58/58 [==============================] - 32s 552ms/step - loss: 1.5207 - acc: 0.4843 - val_loss: 1.0319 - val_acc: 0.5960\n",
      "Epoch 11/100\n",
      "58/58 [==============================] - 32s 558ms/step - loss: 1.5367 - acc: 0.5092 - val_loss: 1.0026 - val_acc: 0.6094\n",
      "Epoch 12/100\n",
      "58/58 [==============================] - 30s 518ms/step - loss: 1.4236 - acc: 0.5361 - val_loss: 1.1048 - val_acc: 0.6116\n",
      "Epoch 13/100\n",
      "58/58 [==============================] - 35s 595ms/step - loss: 1.3974 - acc: 0.5639 - val_loss: 1.1594 - val_acc: 0.5982\n",
      "Epoch 14/100\n",
      "58/58 [==============================] - 32s 558ms/step - loss: 1.3688 - acc: 0.5378 - val_loss: 1.0191 - val_acc: 0.6138\n",
      "Epoch 15/100\n",
      "58/58 [==============================] - 31s 541ms/step - loss: 1.1811 - acc: 0.5889 - val_loss: 0.9562 - val_acc: 0.6562\n",
      "Epoch 16/100\n",
      "58/58 [==============================] - 32s 548ms/step - loss: 1.3207 - acc: 0.5746 - val_loss: 1.0008 - val_acc: 0.6719\n",
      "Epoch 17/100\n",
      "58/58 [==============================] - 31s 527ms/step - loss: 1.1530 - acc: 0.6003 - val_loss: 1.0003 - val_acc: 0.6696\n",
      "Epoch 18/100\n",
      "58/58 [==============================] - 33s 562ms/step - loss: 1.1309 - acc: 0.6075 - val_loss: 0.9037 - val_acc: 0.7165\n",
      "Epoch 19/100\n",
      "58/58 [==============================] - 31s 535ms/step - loss: 1.1689 - acc: 0.6203 - val_loss: 0.9690 - val_acc: 0.6964\n",
      "Epoch 20/100\n",
      "58/58 [==============================] - 34s 591ms/step - loss: 1.1999 - acc: 0.6188 - val_loss: 0.8974 - val_acc: 0.7254\n",
      "Epoch 21/100\n",
      "58/58 [==============================] - 31s 526ms/step - loss: 1.1207 - acc: 0.6183 - val_loss: 0.9024 - val_acc: 0.7121\n",
      "Epoch 22/100\n",
      "58/58 [==============================] - 32s 553ms/step - loss: 1.0538 - acc: 0.6310 - val_loss: 0.9947 - val_acc: 0.6920\n",
      "Epoch 23/100\n",
      "58/58 [==============================] - 33s 565ms/step - loss: 1.1002 - acc: 0.6212 - val_loss: 0.9982 - val_acc: 0.6875\n",
      "Epoch 24/100\n",
      "58/58 [==============================] - 31s 533ms/step - loss: 1.0468 - acc: 0.6471 - val_loss: 0.9362 - val_acc: 0.7210\n",
      "Epoch 25/100\n",
      "58/58 [==============================] - 32s 550ms/step - loss: 1.0616 - acc: 0.6427 - val_loss: 0.9232 - val_acc: 0.7299\n",
      "Epoch 26/100\n",
      "58/58 [==============================] - 33s 571ms/step - loss: 1.0900 - acc: 0.6287 - val_loss: 0.9015 - val_acc: 0.7254\n",
      "Epoch 27/100\n",
      "58/58 [==============================] - 33s 564ms/step - loss: 1.0547 - acc: 0.6560 - val_loss: 0.8722 - val_acc: 0.7232\n",
      "Epoch 28/100\n",
      "58/58 [==============================] - 32s 549ms/step - loss: 1.0146 - acc: 0.6714 - val_loss: 0.8324 - val_acc: 0.7188\n",
      "Epoch 29/100\n",
      "58/58 [==============================] - 31s 537ms/step - loss: 0.9015 - acc: 0.6853 - val_loss: 0.7977 - val_acc: 0.7411\n",
      "Epoch 30/100\n",
      "58/58 [==============================] - 34s 578ms/step - loss: 0.8960 - acc: 0.6878 - val_loss: 0.8952 - val_acc: 0.7433\n",
      "Epoch 31/100\n",
      "58/58 [==============================] - 34s 591ms/step - loss: 0.9041 - acc: 0.7041 - val_loss: 0.9363 - val_acc: 0.7254\n",
      "Epoch 32/100\n",
      "58/58 [==============================] - 35s 596ms/step - loss: 1.0757 - acc: 0.6754 - val_loss: 0.7865 - val_acc: 0.7388\n",
      "Epoch 33/100\n",
      "58/58 [==============================] - 35s 602ms/step - loss: 0.8540 - acc: 0.6843 - val_loss: 0.7711 - val_acc: 0.7612\n",
      "Epoch 34/100\n",
      "58/58 [==============================] - 32s 555ms/step - loss: 0.8607 - acc: 0.7072 - val_loss: 0.7627 - val_acc: 0.7790\n",
      "Epoch 35/100\n",
      "58/58 [==============================] - 30s 512ms/step - loss: 0.7679 - acc: 0.7237 - val_loss: 0.8737 - val_acc: 0.7589\n",
      "Epoch 36/100\n",
      "58/58 [==============================] - 30s 526ms/step - loss: 0.8442 - acc: 0.7178 - val_loss: 0.8502 - val_acc: 0.7612\n",
      "Epoch 37/100\n",
      "58/58 [==============================] - 32s 558ms/step - loss: 0.9468 - acc: 0.7004 - val_loss: 1.0405 - val_acc: 0.7121\n",
      "Epoch 38/100\n",
      "58/58 [==============================] - 29s 493ms/step - loss: 0.7970 - acc: 0.7196 - val_loss: 0.9539 - val_acc: 0.7366\n",
      "Epoch 39/100\n",
      "58/58 [==============================] - 31s 539ms/step - loss: 0.8808 - acc: 0.7023 - val_loss: 0.9309 - val_acc: 0.7612\n",
      "Epoch 40/100\n",
      "58/58 [==============================] - 32s 552ms/step - loss: 0.9130 - acc: 0.7093 - val_loss: 0.8979 - val_acc: 0.7522\n",
      "Epoch 41/100\n",
      "58/58 [==============================] - 31s 539ms/step - loss: 0.7803 - acc: 0.7284 - val_loss: 0.8804 - val_acc: 0.7679\n",
      "Epoch 42/100\n",
      "58/58 [==============================] - 29s 506ms/step - loss: 1.0123 - acc: 0.6946 - val_loss: 0.8319 - val_acc: 0.7478\n",
      "Epoch 43/100\n",
      "58/58 [==============================] - 32s 543ms/step - loss: 0.9629 - acc: 0.6995 - val_loss: 0.8786 - val_acc: 0.7321\n",
      "Epoch 44/100\n",
      "58/58 [==============================] - 31s 540ms/step - loss: 0.8794 - acc: 0.7069 - val_loss: 0.7722 - val_acc: 0.7679\n",
      "Epoch 45/100\n",
      "58/58 [==============================] - 33s 561ms/step - loss: 0.7855 - acc: 0.7137 - val_loss: 0.7265 - val_acc: 0.7969\n",
      "Epoch 46/100\n",
      "58/58 [==============================] - 32s 548ms/step - loss: 0.7716 - acc: 0.7295 - val_loss: 0.7298 - val_acc: 0.7879\n",
      "Epoch 47/100\n",
      "58/58 [==============================] - 33s 566ms/step - loss: 0.7407 - acc: 0.7331 - val_loss: 0.7881 - val_acc: 0.7701\n",
      "Epoch 48/100\n",
      "58/58 [==============================] - 31s 541ms/step - loss: 0.6964 - acc: 0.7609 - val_loss: 0.7023 - val_acc: 0.7924\n",
      "Epoch 49/100\n",
      "58/58 [==============================] - 33s 577ms/step - loss: 0.8953 - acc: 0.7274 - val_loss: 0.7073 - val_acc: 0.7812\n",
      "Epoch 50/100\n",
      "58/58 [==============================] - 32s 552ms/step - loss: 0.7707 - acc: 0.7440 - val_loss: 0.7497 - val_acc: 0.7879\n",
      "Epoch 51/100\n",
      "58/58 [==============================] - 30s 513ms/step - loss: 0.7220 - acc: 0.7383 - val_loss: 0.7350 - val_acc: 0.7902\n",
      "Epoch 52/100\n",
      "58/58 [==============================] - 31s 526ms/step - loss: 0.7580 - acc: 0.7446 - val_loss: 0.6771 - val_acc: 0.8036\n",
      "Epoch 53/100\n",
      "58/58 [==============================] - 31s 533ms/step - loss: 0.6681 - acc: 0.7535 - val_loss: 0.6635 - val_acc: 0.8058\n",
      "Epoch 54/100\n",
      "58/58 [==============================] - 30s 516ms/step - loss: 0.6998 - acc: 0.7525 - val_loss: 0.7192 - val_acc: 0.8013\n",
      "Epoch 55/100\n",
      "58/58 [==============================] - 30s 512ms/step - loss: 0.7885 - acc: 0.7440 - val_loss: 0.7358 - val_acc: 0.7946\n",
      "Epoch 56/100\n",
      "58/58 [==============================] - 32s 549ms/step - loss: 0.6855 - acc: 0.7740 - val_loss: 0.7604 - val_acc: 0.8013\n",
      "Epoch 57/100\n",
      "58/58 [==============================] - 32s 549ms/step - loss: 0.7534 - acc: 0.7633 - val_loss: 0.7517 - val_acc: 0.7857\n",
      "Epoch 58/100\n",
      "58/58 [==============================] - 33s 563ms/step - loss: 0.7851 - acc: 0.7440 - val_loss: 0.8330 - val_acc: 0.7746\n",
      "Epoch 59/100\n",
      "58/58 [==============================] - 31s 542ms/step - loss: 0.6907 - acc: 0.7735 - val_loss: 0.7688 - val_acc: 0.7879\n",
      "Epoch 60/100\n",
      "58/58 [==============================] - 30s 524ms/step - loss: 0.5938 - acc: 0.7832 - val_loss: 0.7994 - val_acc: 0.7634\n",
      "Epoch 61/100\n",
      "58/58 [==============================] - 34s 591ms/step - loss: 0.7067 - acc: 0.7695 - val_loss: 0.8300 - val_acc: 0.7857\n"
     ]
    },
    {
     "name": "stdout",
     "output_type": "stream",
     "text": [
      "Epoch 62/100\n",
      "58/58 [==============================] - 35s 597ms/step - loss: 0.6505 - acc: 0.7889 - val_loss: 0.7899 - val_acc: 0.7857\n",
      "Epoch 63/100\n",
      "58/58 [==============================] - 34s 582ms/step - loss: 0.7506 - acc: 0.7640 - val_loss: 0.7168 - val_acc: 0.7991\n",
      "Epoch 64/100\n",
      "58/58 [==============================] - 33s 573ms/step - loss: 0.6684 - acc: 0.7862 - val_loss: 0.7231 - val_acc: 0.8036\n",
      "Epoch 65/100\n",
      "58/58 [==============================] - 33s 567ms/step - loss: 0.7820 - acc: 0.7748 - val_loss: 0.7868 - val_acc: 0.7857\n",
      "Epoch 66/100\n",
      "58/58 [==============================] - 31s 542ms/step - loss: 0.7944 - acc: 0.7472 - val_loss: 0.7454 - val_acc: 0.8058\n",
      "Epoch 67/100\n",
      "58/58 [==============================] - 32s 549ms/step - loss: 0.8004 - acc: 0.7654 - val_loss: 0.7387 - val_acc: 0.8103\n",
      "Epoch 68/100\n",
      "58/58 [==============================] - 32s 545ms/step - loss: 0.7288 - acc: 0.7800 - val_loss: 0.7229 - val_acc: 0.8080\n",
      "Epoch 69/100\n",
      "58/58 [==============================] - 32s 549ms/step - loss: 0.6470 - acc: 0.7800 - val_loss: 0.7497 - val_acc: 0.7790\n",
      "Epoch 70/100\n",
      "58/58 [==============================] - 32s 555ms/step - loss: 0.6370 - acc: 0.7756 - val_loss: 0.7734 - val_acc: 0.7812\n",
      "Epoch 71/100\n",
      "58/58 [==============================] - 32s 552ms/step - loss: 0.6448 - acc: 0.7780 - val_loss: 0.6443 - val_acc: 0.8013\n",
      "Epoch 72/100\n",
      "58/58 [==============================] - 33s 577ms/step - loss: 0.6382 - acc: 0.7807 - val_loss: 0.6200 - val_acc: 0.8058\n",
      "Epoch 73/100\n",
      "58/58 [==============================] - 32s 560ms/step - loss: 0.5743 - acc: 0.7965 - val_loss: 0.6059 - val_acc: 0.8259\n",
      "Epoch 74/100\n",
      "58/58 [==============================] - 30s 515ms/step - loss: 0.5435 - acc: 0.7954 - val_loss: 0.6836 - val_acc: 0.8237\n",
      "Epoch 75/100\n",
      "58/58 [==============================] - 32s 545ms/step - loss: 0.6317 - acc: 0.7812 - val_loss: 0.6637 - val_acc: 0.8058\n",
      "Epoch 76/100\n",
      "58/58 [==============================] - 29s 502ms/step - loss: 0.6165 - acc: 0.7926 - val_loss: 0.6715 - val_acc: 0.8170\n",
      "Epoch 77/100\n",
      "58/58 [==============================] - 31s 527ms/step - loss: 0.6846 - acc: 0.7839 - val_loss: 0.7539 - val_acc: 0.7969\n",
      "Epoch 78/100\n",
      "58/58 [==============================] - 31s 541ms/step - loss: 0.7276 - acc: 0.7787 - val_loss: 0.6923 - val_acc: 0.8013\n",
      "Epoch 79/100\n",
      "58/58 [==============================] - 28s 489ms/step - loss: 0.7870 - acc: 0.7620 - val_loss: 0.7461 - val_acc: 0.8058\n",
      "Epoch 80/100\n",
      "58/58 [==============================] - 32s 560ms/step - loss: 0.7776 - acc: 0.7691 - val_loss: 0.7104 - val_acc: 0.8147\n",
      "Epoch 81/100\n",
      "58/58 [==============================] - 30s 513ms/step - loss: 0.6055 - acc: 0.7980 - val_loss: 0.7814 - val_acc: 0.8170\n",
      "Epoch 82/100\n",
      "58/58 [==============================] - 33s 576ms/step - loss: 0.6025 - acc: 0.7894 - val_loss: 0.7382 - val_acc: 0.8348\n",
      "Epoch 83/100\n",
      "58/58 [==============================] - 31s 534ms/step - loss: 0.5165 - acc: 0.8114 - val_loss: 0.6992 - val_acc: 0.8237\n",
      "Epoch 84/100\n",
      "58/58 [==============================] - 32s 555ms/step - loss: 0.6121 - acc: 0.8070 - val_loss: 0.6405 - val_acc: 0.8482\n",
      "Epoch 85/100\n",
      "58/58 [==============================] - 32s 556ms/step - loss: 0.5536 - acc: 0.7963 - val_loss: 0.6369 - val_acc: 0.8549\n",
      "Epoch 86/100\n",
      "58/58 [==============================] - 34s 590ms/step - loss: 0.5223 - acc: 0.8148 - val_loss: 0.6767 - val_acc: 0.8348\n",
      "Epoch 87/100\n",
      "58/58 [==============================] - 33s 574ms/step - loss: 0.5700 - acc: 0.7974 - val_loss: 0.6745 - val_acc: 0.8393\n",
      "Epoch 88/100\n",
      "58/58 [==============================] - 31s 539ms/step - loss: 0.6260 - acc: 0.7862 - val_loss: 0.6014 - val_acc: 0.8616\n",
      "Epoch 89/100\n",
      "58/58 [==============================] - 33s 563ms/step - loss: 0.5693 - acc: 0.7943 - val_loss: 0.6373 - val_acc: 0.8438\n",
      "Epoch 90/100\n",
      "58/58 [==============================] - 32s 559ms/step - loss: 0.5775 - acc: 0.8178 - val_loss: 0.6615 - val_acc: 0.8304\n",
      "Epoch 91/100\n",
      "58/58 [==============================] - 33s 564ms/step - loss: 0.6514 - acc: 0.7802 - val_loss: 0.6204 - val_acc: 0.8482\n",
      "Epoch 92/100\n",
      "58/58 [==============================] - 33s 572ms/step - loss: 0.5409 - acc: 0.8168 - val_loss: 0.5816 - val_acc: 0.8460\n",
      "Epoch 93/100\n",
      "58/58 [==============================] - 31s 537ms/step - loss: 0.5980 - acc: 0.8063 - val_loss: 0.5933 - val_acc: 0.8304\n",
      "Epoch 94/100\n",
      "58/58 [==============================] - 33s 568ms/step - loss: 0.5885 - acc: 0.8039 - val_loss: 0.5796 - val_acc: 0.8527\n",
      "Epoch 95/100\n",
      "58/58 [==============================] - 31s 539ms/step - loss: 0.5681 - acc: 0.8003 - val_loss: 0.6144 - val_acc: 0.8304\n",
      "Epoch 96/100\n",
      "58/58 [==============================] - 32s 549ms/step - loss: 0.6788 - acc: 0.7842 - val_loss: 0.6516 - val_acc: 0.8482\n",
      "Epoch 97/100\n",
      "58/58 [==============================] - 29s 503ms/step - loss: 0.6870 - acc: 0.7829 - val_loss: 0.6829 - val_acc: 0.8326\n",
      "Epoch 98/100\n",
      "58/58 [==============================] - 29s 496ms/step - loss: 0.6592 - acc: 0.7990 - val_loss: 0.7762 - val_acc: 0.8214\n",
      "Epoch 99/100\n",
      "58/58 [==============================] - 31s 538ms/step - loss: 0.7289 - acc: 0.7600 - val_loss: 0.7201 - val_acc: 0.8259\n",
      "Epoch 100/100\n",
      "58/58 [==============================] - 32s 544ms/step - loss: 0.5048 - acc: 0.8244 - val_loss: 0.6706 - val_acc: 0.8415\n"
     ]
    }
   ],
   "source": [
    "history_optimized = model_optimized.fit_generator(\n",
    "                    train_generator,\n",
    "                    steps_per_epoch=1875 // batch_size,\n",
    "                    epochs=100,\n",
    "                    validation_data=test_generator,\n",
    "                    validation_steps=472 // batch_size,\n",
    "                    use_multiprocessing=True,\n",
    "                    workers=4)\n"
   ]
  },
  {
   "cell_type": "code",
   "execution_count": 21,
   "metadata": {},
   "outputs": [
    {
     "data": {
      "image/png": "[encoded data removed]",
      "text/plain": [
       "<Figure size 432x288 with 1 Axes>"
      ]
     },
     "metadata": {
      "needs_background": "light"
     },
     "output_type": "display_data"
    },
    {
     "data": {
      "image/png": "[encoded data removed]",
      "text/plain": [
       "<Figure size 432x288 with 1 Axes>"
      ]
     },
     "metadata": {
      "needs_background": "light"
     },
     "output_type": "display_data"
    }
   ],
   "source": [
    "plot_history(history_optimized, save=True, path='nets/feedforward/', name='plot_full')"
   ]
  },
  {
   "cell_type": "markdown",
   "metadata": {},
   "source": [
    "\n"
   ]
  }
 ],
 "metadata": {
  "kernelspec": {
   "display_name": "Python 3",
   "language": "python",
   "name": "python3"
  },
  "language_info": {
   "codemirror_mode": {
    "name": "ipython",
    "version": 3
   },
   "file_extension": ".py",
   "mimetype": "text/x-python",
   "name": "python",
   "nbconvert_exporter": "python",
   "pygments_lexer": "ipython3",
   "version": "3.6.8"
  }
 },
 "nbformat": 4,
 "nbformat_minor": 2
}
