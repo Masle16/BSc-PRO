{
 "cells": [
  {
   "cell_type": "code",
   "execution_count": 1,
   "metadata": {},
   "outputs": [
    {
     "name": "stderr",
     "output_type": "stream",
     "text": [
      "Using TensorFlow backend.\n"
     ]
    }
   ],
   "source": [
    "import os\n",
    "from PIL import Image\n",
    "import util.image_import as ii\n",
    "from glob import glob\n",
    "import numpy as np\n",
    "import tensorflow as tf\n",
    "from keras.preprocessing import image\n",
    "from keras.preprocessing.image import ImageDataGenerator\n",
    "from keras import regularizers\n",
    "from keras import backend as K\n",
    "import matplotlib.pyplot as plt\n",
    "from keras.applications import mobilenet\n",
    "from keras.layers import Dense, GlobalAveragePooling2D, Activation, Dropout, Flatten, Dense, Conv2D, MaxPooling2D\n",
    "from keras.models import Model, Sequential\n",
    "from keras import models\n",
    "from keras import layers\n",
    "from keras.utils.np_utils import to_categorical\n",
    "from keras.optimizers import Adam, RMSprop, SGD\n",
    "from util.plots import plot_history\n",
    "%matplotlib inline\n",
    "%load_ext autoreload\n",
    "%autoreload 2"
   ]
  },
  {
   "cell_type": "markdown",
   "metadata": {},
   "source": [
    "#### Trick to configure gpu memory dynamically"
   ]
  },
  {
   "cell_type": "code",
   "execution_count": 2,
   "metadata": {},
   "outputs": [],
   "source": [
    "cfg = K.tf.ConfigProto() # Config to dynamically add memory\n",
    "cfg.gpu_options.allow_growth = True\n",
    "K.set_session(K.tf.Session(config=cfg))# set this TensorFlow session as the default session for Keras."
   ]
  },
  {
   "cell_type": "markdown",
   "metadata": {},
   "source": [
    "### Subtracting mean and normalizing to save pictures"
   ]
  },
  {
   "cell_type": "code",
   "execution_count": 3,
   "metadata": {},
   "outputs": [
    {
     "name": "stdout",
     "output_type": "stream",
     "text": [
      "Number of training images: 1633 Number of test images: 519\n"
     ]
    }
   ],
   "source": [
    "# Importing the images\n",
    "images_train = []\n",
    "images_test = []\n",
    "\n",
    "images_train.append(glob(os.path.join(\"../dataset3/res_still/train/arm\", \"*.jpg\")))\n",
    "images_train.append(glob(os.path.join(\"../dataset3/res_still/train/background\", \"*.jpg\")))\n",
    "images_train.append(glob(os.path.join(\"../dataset3/res_still/train/bun\", \"*.jpg\")))\n",
    "images_train.append(glob(os.path.join(\"../dataset3/res_still/train/carrots\", \"*.jpg\")))\n",
    "images_train.append(glob(os.path.join(\"../dataset3/res_still/train/catfood_beef\", \"*.jpg\")))\n",
    "#images_train.append(glob(os.path.join(\"../dataset3/res_still/train/catfood_salmon\", \"*.jpg\")))\n",
    "images_train.append(glob(os.path.join(\"../dataset3/res_still/train/ketchup\", \"*.jpg\")))\n",
    "images_train.append(glob(os.path.join(\"../dataset3/res_still/train/potato\", \"*.jpg\")))\n",
    "\n",
    "images_test.append(glob(os.path.join(\"../dataset3/res_still/test/arm\", \"*.jpg\")))\n",
    "images_test.append(glob(os.path.join(\"../dataset3/res_still/test/background\", \"*.jpg\")))\n",
    "images_test.append(glob(os.path.join(\"../dataset3/res_still/test/bun\", \"*.jpg\")))\n",
    "images_test.append(glob(os.path.join(\"../dataset3/res_still/train/carrots\", \"*.jpg\")))\n",
    "images_test.append(glob(os.path.join(\"../dataset3/res_still/test/catfood_beef\", \"*.jpg\")))\n",
    "#images_test.append(glob(os.path.join(\"../dataset3/res_still/test/catfood_salmon\", \"*.jpg\")))\n",
    "images_test.append(glob(os.path.join(\"../dataset3/res_still/test/ketchup\", \"*.jpg\")))\n",
    "images_test.append(glob(os.path.join(\"../dataset3/res_still/test/potato\", \"*.jpg\")))\n",
    "    \n",
    "\n",
    "X_train, y_train = ii.images_to_numpy_full_class(images_train)\n",
    "X_test, y_test = ii.images_to_numpy_full_class(images_test)\n",
    "\n",
    "print(\"Number of training images: \" + str(X_train.shape[0]) + \" Number of test images: \" + str(X_test.shape[0]))\n",
    "\n",
    "# Setup of image data generator\n",
    "batch_size = 32\n",
    "num_classes = 7\n",
    "\n",
    "# Making datagen for training with normilization, center, and dataugmentation\n",
    "train_datagen = ImageDataGenerator(\n",
    "        featurewise_center=True,\n",
    "        featurewise_std_normalization=True,\n",
    "        rescale=1./255,\n",
    "        rotation_range=10,\n",
    "        vertical_flip=True,\n",
    "        horizontal_flip=True,\n",
    "        brightness_range=(0.65, 1.35)\n",
    ")\n",
    "\n",
    "# Making datagen for validation and test with normilization\n",
    "test_datagen = ImageDataGenerator(\n",
    "        featurewise_center=True, \n",
    "        featurewise_std_normalization=True,\n",
    "        rescale=1./255\n",
    ")\n",
    "\n",
    "y_train = to_categorical(y_train, num_classes)\n",
    "y_test = to_categorical(y_test, num_classes)\n",
    "\n",
    "# Required for featurewise normalization\n",
    "train_datagen.fit(X_train/.255)\n",
    "test_datagen.fit(X_train/.255)\n",
    "\n",
    "train_generator = train_datagen.flow(X_train,\n",
    "                                     y_train,\n",
    "                                     batch_size=batch_size, shuffle=True)\n",
    "\n",
    "test_generator = test_datagen.flow(X_train,\n",
    "                                     y_train,\n",
    "                                     batch_size=batch_size, shuffle=True)\n"
   ]
  },
  {
   "cell_type": "markdown",
   "metadata": {},
   "source": [
    "## Optimized model single run <span style=\"color:red\"> Not done</span>"
   ]
  },
  {
   "cell_type": "code",
   "execution_count": 4,
   "metadata": {
    "scrolled": false
   },
   "outputs": [
    {
     "name": "stdout",
     "output_type": "stream",
     "text": [
      "_________________________________________________________________\n",
      "Layer (type)                 Output Shape              Param #   \n",
      "=================================================================\n",
      "flatten_1 (Flatten)          (None, 150528)            0         \n",
      "_________________________________________________________________\n",
      "dense_1 (Dense)              (None, 256)               38535424  \n",
      "_________________________________________________________________\n",
      "activation_1 (Activation)    (None, 256)               0         \n",
      "_________________________________________________________________\n",
      "dense_2 (Dense)              (None, 7)                 1799      \n",
      "_________________________________________________________________\n",
      "activation_2 (Activation)    (None, 7)                 0         \n",
      "=================================================================\n",
      "Total params: 38,537,223\n",
      "Trainable params: 38,537,223\n",
      "Non-trainable params: 0\n",
      "_________________________________________________________________\n"
     ]
    }
   ],
   "source": [
    "model_optimized = Sequential()\n",
    "model_optimized.add(Flatten(input_shape=(224,224,3)))\n",
    "model_optimized.add(Dense(256))\n",
    "model_optimized.add(Activation('relu'))\n",
    "model_optimized.add(Dense(7))\n",
    "model_optimized.add(Activation('softmax'))\n",
    "model_optimized.compile(loss='categorical_crossentropy',\n",
    "                        optimizer=Adam(lr=1e-4),\n",
    "                        metrics=['accuracy'])\n",
    "\n",
    "model_optimized.summary()"
   ]
  },
  {
   "cell_type": "code",
   "execution_count": 5,
   "metadata": {
    "scrolled": true
   },
   "outputs": [
    {
     "name": "stdout",
     "output_type": "stream",
     "text": [
      "Epoch 1/100\n",
      "51/51 [==============================] - 16s 306ms/step - loss: 13.3447 - acc: 0.1440 - val_loss: 13.5367 - val_acc: 0.1602\n",
      "Epoch 2/100\n",
      "51/51 [==============================] - 15s 300ms/step - loss: 13.7765 - acc: 0.1453 - val_loss: 13.5367 - val_acc: 0.1602\n",
      "Epoch 3/100\n",
      "51/51 [==============================] - 15s 294ms/step - loss: 13.9050 - acc: 0.1373 - val_loss: 13.5367 - val_acc: 0.1602\n",
      "Epoch 4/100\n",
      "51/51 [==============================] - 15s 299ms/step - loss: 13.7864 - acc: 0.1447 - val_loss: 13.5367 - val_acc: 0.1602\n",
      "Epoch 5/100\n",
      "51/51 [==============================] - 15s 295ms/step - loss: 13.5454 - acc: 0.1596 - val_loss: 13.5367 - val_acc: 0.1602\n",
      "Epoch 6/100\n",
      "51/51 [==============================] - 15s 300ms/step - loss: 13.8070 - acc: 0.1434 - val_loss: 13.5367 - val_acc: 0.1602\n",
      "Epoch 7/100\n",
      "51/51 [==============================] - 16s 305ms/step - loss: 13.8053 - acc: 0.1435 - val_loss: 13.5367 - val_acc: 0.1602\n",
      "Epoch 8/100\n",
      "51/51 [==============================] - 15s 301ms/step - loss: 13.7963 - acc: 0.1440 - val_loss: 13.5367 - val_acc: 0.1602\n",
      "Epoch 9/100\n",
      "51/51 [==============================] - 15s 300ms/step - loss: 13.8655 - acc: 0.1398 - val_loss: 13.5367 - val_acc: 0.1602\n",
      "Epoch 10/100\n",
      "51/51 [==============================] - 15s 298ms/step - loss: 13.8259 - acc: 0.1422 - val_loss: 13.5367 - val_acc: 0.1602\n",
      "Epoch 11/100\n",
      "51/51 [==============================] - 15s 299ms/step - loss: 13.8358 - acc: 0.1416 - val_loss: 13.5367 - val_acc: 0.1602\n",
      "Epoch 12/100\n",
      "51/51 [==============================] - 15s 301ms/step - loss: 13.7083 - acc: 0.1495 - val_loss: 13.5367 - val_acc: 0.1602\n",
      "Epoch 13/100\n",
      "51/51 [==============================] - 15s 292ms/step - loss: 13.9634 - acc: 0.1337 - val_loss: 13.5367 - val_acc: 0.1602\n",
      "Epoch 14/100\n",
      "51/51 [==============================] - 15s 301ms/step - loss: 13.7370 - acc: 0.1477 - val_loss: 13.5367 - val_acc: 0.1602\n",
      "Epoch 15/100\n",
      "51/51 [==============================] - 15s 296ms/step - loss: 13.8655 - acc: 0.1398 - val_loss: 13.5367 - val_acc: 0.1602\n",
      "Epoch 16/100\n",
      "51/51 [==============================] - 16s 311ms/step - loss: 13.7173 - acc: 0.1490 - val_loss: 13.5367 - val_acc: 0.1602\n",
      "Epoch 17/100\n",
      "51/51 [==============================] - 17s 332ms/step - loss: 13.9840 - acc: 0.1324 - val_loss: 13.5367 - val_acc: 0.1602\n",
      "Epoch 18/100\n",
      "51/51 [==============================] - 17s 326ms/step - loss: 13.7083 - acc: 0.1495 - val_loss: 13.5367 - val_acc: 0.1602\n",
      "Epoch 19/100\n",
      "51/51 [==============================] - 17s 333ms/step - loss: 13.7667 - acc: 0.1459 - val_loss: 13.5367 - val_acc: 0.1602\n",
      "Epoch 20/100\n",
      "51/51 [==============================] - 17s 334ms/step - loss: 13.8646 - acc: 0.1398 - val_loss: 13.5367 - val_acc: 0.1602\n",
      "Epoch 21/100\n",
      "51/51 [==============================] - 19s 370ms/step - loss: 13.7478 - acc: 0.1471 - val_loss: 13.5367 - val_acc: 0.1602\n",
      "Epoch 22/100\n",
      "51/51 [==============================] - 17s 342ms/step - loss: 13.6928 - acc: 0.1505 - val_loss: 13.5367 - val_acc: 0.1602\n",
      "Epoch 23/100\n",
      "51/51 [==============================] - 16s 309ms/step - loss: 13.6580 - acc: 0.1526 - val_loss: 13.5367 - val_acc: 0.1602\n",
      "Epoch 24/100\n",
      "51/51 [==============================] - 16s 306ms/step - loss: 14.0433 - acc: 0.1287 - val_loss: 13.5367 - val_acc: 0.1602\n",
      "Epoch 25/100\n",
      "51/51 [==============================] - 16s 305ms/step - loss: 13.7182 - acc: 0.1489 - val_loss: 13.5367 - val_acc: 0.1602\n",
      "Epoch 26/100\n",
      "51/51 [==============================] - 15s 292ms/step - loss: 13.8745 - acc: 0.1392 - val_loss: 13.5367 - val_acc: 0.1602\n",
      "Epoch 27/100\n",
      "51/51 [==============================] - 15s 297ms/step - loss: 13.6876 - acc: 0.1508 - val_loss: 13.5367 - val_acc: 0.1602\n",
      "Epoch 28/100\n",
      "51/51 [==============================] - 16s 308ms/step - loss: 13.8655 - acc: 0.1398 - val_loss: 13.5367 - val_acc: 0.1602\n",
      "Epoch 29/100\n",
      "51/51 [==============================] - 15s 302ms/step - loss: 13.7774 - acc: 0.1452 - val_loss: 13.5367 - val_acc: 0.1602\n",
      "Epoch 30/100\n",
      "51/51 [==============================] - 15s 300ms/step - loss: 13.8942 - acc: 0.1380 - val_loss: 13.5367 - val_acc: 0.1602\n",
      "Epoch 31/100\n",
      "51/51 [==============================] - 16s 310ms/step - loss: 13.7577 - acc: 0.1464 - val_loss: 13.5367 - val_acc: 0.1602\n",
      "Epoch 32/100\n",
      "51/51 [==============================] - 15s 293ms/step - loss: 13.8161 - acc: 0.1428 - val_loss: 13.5367 - val_acc: 0.1602\n",
      "Epoch 33/100\n",
      "51/51 [==============================] - 15s 294ms/step - loss: 13.7628 - acc: 0.1461 - val_loss: 13.5367 - val_acc: 0.1602\n",
      "Epoch 34/100\n",
      "51/51 [==============================] - 16s 308ms/step - loss: 13.5789 - acc: 0.1575 - val_loss: 13.5367 - val_acc: 0.1602\n",
      "Epoch 35/100\n",
      "51/51 [==============================] - 15s 301ms/step - loss: 13.6442 - acc: 0.1535 - val_loss: 13.5367 - val_acc: 0.1602\n",
      "Epoch 36/100\n",
      "51/51 [==============================] - 16s 307ms/step - loss: 13.7765 - acc: 0.1453 - val_loss: 13.5367 - val_acc: 0.1602\n",
      "Epoch 37/100\n",
      "51/51 [==============================] - 16s 308ms/step - loss: 13.6768 - acc: 0.1515 - val_loss: 13.5367 - val_acc: 0.1602\n",
      "Epoch 38/100\n",
      "51/51 [==============================] - 16s 312ms/step - loss: 13.9157 - acc: 0.1366 - val_loss: 13.5367 - val_acc: 0.1602\n",
      "Epoch 39/100\n",
      "51/51 [==============================] - 15s 302ms/step - loss: 13.9931 - acc: 0.1318 - val_loss: 13.5367 - val_acc: 0.1602\n",
      "Epoch 40/100\n",
      "51/51 [==============================] - 16s 312ms/step - loss: 13.6490 - acc: 0.1532 - val_loss: 13.5367 - val_acc: 0.1602\n",
      "Epoch 41/100\n",
      "51/51 [==============================] - 16s 309ms/step - loss: 13.8753 - acc: 0.1391 - val_loss: 13.5367 - val_acc: 0.1602\n",
      "Epoch 42/100\n",
      "51/51 [==============================] - 15s 292ms/step - loss: 13.7855 - acc: 0.1447 - val_loss: 13.5367 - val_acc: 0.1602\n",
      "Epoch 43/100\n",
      "51/51 [==============================] - 16s 322ms/step - loss: 13.8070 - acc: 0.1434 - val_loss: 13.5367 - val_acc: 0.1602\n",
      "Epoch 44/100\n",
      "51/51 [==============================] - 15s 303ms/step - loss: 13.8259 - acc: 0.1422 - val_loss: 13.5367 - val_acc: 0.1602\n",
      "Epoch 45/100\n",
      "51/51 [==============================] - 17s 326ms/step - loss: 13.5652 - acc: 0.1584 - val_loss: 13.5367 - val_acc: 0.1602\n",
      "Epoch 46/100\n",
      "51/51 [==============================] - 16s 320ms/step - loss: 13.8358 - acc: 0.1416 - val_loss: 13.5367 - val_acc: 0.1602\n",
      "Epoch 47/100\n",
      "51/51 [==============================] - 16s 313ms/step - loss: 13.8161 - acc: 0.1428 - val_loss: 13.5367 - val_acc: 0.1602\n",
      "Epoch 48/100\n",
      "51/51 [==============================] - 15s 302ms/step - loss: 13.7568 - acc: 0.1465 - val_loss: 13.5367 - val_acc: 0.1602\n",
      "Epoch 49/100\n",
      "51/51 [==============================] - 16s 313ms/step - loss: 13.8556 - acc: 0.1404 - val_loss: 13.5367 - val_acc: 0.1602\n",
      "Epoch 50/100\n",
      "51/51 [==============================] - 16s 304ms/step - loss: 13.8062 - acc: 0.1434 - val_loss: 13.5367 - val_acc: 0.1602\n",
      "Epoch 51/100\n",
      "51/51 [==============================] - 15s 299ms/step - loss: 13.8457 - acc: 0.1410 - val_loss: 13.5367 - val_acc: 0.1602\n",
      "Epoch 52/100\n",
      "51/51 [==============================] - 15s 300ms/step - loss: 13.8161 - acc: 0.1428 - val_loss: 13.5367 - val_acc: 0.1602\n",
      "Epoch 53/100\n",
      "51/51 [==============================] - 15s 296ms/step - loss: 13.8161 - acc: 0.1428 - val_loss: 13.5367 - val_acc: 0.1602\n",
      "Epoch 54/100\n",
      "51/51 [==============================] - 15s 299ms/step - loss: 13.8161 - acc: 0.1428 - val_loss: 13.5367 - val_acc: 0.1602\n",
      "Epoch 55/100\n",
      "51/51 [==============================] - 15s 296ms/step - loss: 13.8161 - acc: 0.1428 - val_loss: 13.5367 - val_acc: 0.1602\n",
      "Epoch 56/100\n",
      "51/51 [==============================] - 15s 303ms/step - loss: 13.7963 - acc: 0.1440 - val_loss: 13.5367 - val_acc: 0.1602\n",
      "Epoch 57/100\n",
      "51/51 [==============================] - 15s 295ms/step - loss: 13.9149 - acc: 0.1367 - val_loss: 13.5367 - val_acc: 0.1602\n",
      "Epoch 58/100\n",
      "51/51 [==============================] - 15s 304ms/step - loss: 13.7370 - acc: 0.1477 - val_loss: 13.5367 - val_acc: 0.1602\n",
      "Epoch 59/100\n",
      "51/51 [==============================] - 15s 298ms/step - loss: 13.8466 - acc: 0.1409 - val_loss: 13.5367 - val_acc: 0.1602\n",
      "Epoch 60/100\n",
      "51/51 [==============================] - 15s 287ms/step - loss: 13.8251 - acc: 0.1423 - val_loss: 13.5367 - val_acc: 0.1602\n"
     ]
    },
    {
     "name": "stdout",
     "output_type": "stream",
     "text": [
      "Epoch 61/100\n",
      "51/51 [==============================] - 15s 295ms/step - loss: 13.4960 - acc: 0.1627 - val_loss: 13.5367 - val_acc: 0.1602\n",
      "Epoch 62/100\n",
      "51/51 [==============================] - 15s 299ms/step - loss: 13.8358 - acc: 0.1416 - val_loss: 13.5367 - val_acc: 0.1602\n",
      "Epoch 63/100\n",
      "51/51 [==============================] - 15s 297ms/step - loss: 13.8852 - acc: 0.1385 - val_loss: 13.5367 - val_acc: 0.1602\n",
      "Epoch 64/100\n",
      "51/51 [==============================] - 15s 297ms/step - loss: 13.7568 - acc: 0.1465 - val_loss: 13.5367 - val_acc: 0.1602\n",
      "Epoch 65/100\n",
      "51/51 [==============================] - 16s 314ms/step - loss: 13.8762 - acc: 0.1391 - val_loss: 13.5367 - val_acc: 0.1602\n",
      "Epoch 66/100\n",
      "51/51 [==============================] - 15s 304ms/step - loss: 13.8062 - acc: 0.1434 - val_loss: 13.5367 - val_acc: 0.1602\n",
      "Epoch 67/100\n",
      "51/51 [==============================] - 15s 299ms/step - loss: 13.7864 - acc: 0.1447 - val_loss: 13.5367 - val_acc: 0.1602\n",
      "Epoch 68/100\n",
      "51/51 [==============================] - 15s 288ms/step - loss: 13.9140 - acc: 0.1367 - val_loss: 13.5367 - val_acc: 0.1602\n",
      "Epoch 69/100\n",
      "51/51 [==============================] - 15s 303ms/step - loss: 13.6589 - acc: 0.1526 - val_loss: 13.5367 - val_acc: 0.1602\n",
      "Epoch 70/100\n",
      "51/51 [==============================] - 16s 307ms/step - loss: 13.7568 - acc: 0.1465 - val_loss: 13.5367 - val_acc: 0.1602\n",
      "Epoch 71/100\n",
      "51/51 [==============================] - 15s 291ms/step - loss: 14.0623 - acc: 0.1275 - val_loss: 13.5367 - val_acc: 0.1602\n",
      "Epoch 72/100\n",
      "51/51 [==============================] - 15s 299ms/step - loss: 13.6293 - acc: 0.1544 - val_loss: 13.5367 - val_acc: 0.1602\n",
      "Epoch 73/100\n",
      "51/51 [==============================] - 15s 290ms/step - loss: 13.9535 - acc: 0.1343 - val_loss: 13.5367 - val_acc: 0.1602\n",
      "Epoch 74/100\n",
      "51/51 [==============================] - 15s 298ms/step - loss: 13.7280 - acc: 0.1483 - val_loss: 13.5367 - val_acc: 0.1602\n",
      "Epoch 75/100\n",
      "51/51 [==============================] - 15s 291ms/step - loss: 13.5742 - acc: 0.1578 - val_loss: 13.5367 - val_acc: 0.1602\n",
      "Epoch 76/100\n",
      "51/51 [==============================] - 15s 301ms/step - loss: 13.7873 - acc: 0.1446 - val_loss: 13.5367 - val_acc: 0.1602\n",
      "Epoch 77/100\n",
      "51/51 [==============================] - 16s 306ms/step - loss: 13.8358 - acc: 0.1416 - val_loss: 13.5367 - val_acc: 0.1602\n",
      "Epoch 78/100\n",
      "51/51 [==============================] - 15s 304ms/step - loss: 13.9634 - acc: 0.1337 - val_loss: 13.5367 - val_acc: 0.1602\n",
      "Epoch 79/100\n",
      "51/51 [==============================] - 16s 305ms/step - loss: 13.5996 - acc: 0.1562 - val_loss: 13.5367 - val_acc: 0.1602\n",
      "Epoch 80/100\n",
      "51/51 [==============================] - 15s 288ms/step - loss: 13.6335 - acc: 0.1541 - val_loss: 13.5367 - val_acc: 0.1602\n",
      "Epoch 81/100\n",
      "51/51 [==============================] - 16s 311ms/step - loss: 13.8466 - acc: 0.1409 - val_loss: 13.5367 - val_acc: 0.1602\n",
      "Epoch 82/100\n",
      "51/51 [==============================] - 15s 300ms/step - loss: 13.7271 - acc: 0.1483 - val_loss: 13.5367 - val_acc: 0.1602\n",
      "Epoch 83/100\n",
      "51/51 [==============================] - 15s 296ms/step - loss: 13.9346 - acc: 0.1355 - val_loss: 13.5367 - val_acc: 0.1602\n",
      "Epoch 84/100\n",
      "51/51 [==============================] - 15s 293ms/step - loss: 13.6283 - acc: 0.1545 - val_loss: 13.5367 - val_acc: 0.1602\n",
      "Epoch 85/100\n",
      "51/51 [==============================] - 15s 300ms/step - loss: 13.9247 - acc: 0.1361 - val_loss: 13.5367 - val_acc: 0.1602\n",
      "Epoch 86/100\n",
      "51/51 [==============================] - 16s 312ms/step - loss: 13.9544 - acc: 0.1342 - val_loss: 13.5367 - val_acc: 0.1602\n",
      "Epoch 87/100\n",
      "51/51 [==============================] - 15s 297ms/step - loss: 13.3676 - acc: 0.1706 - val_loss: 13.5367 - val_acc: 0.1602\n",
      "Epoch 88/100\n",
      "51/51 [==============================] - 16s 305ms/step - loss: 13.5454 - acc: 0.1596 - val_loss: 13.5367 - val_acc: 0.1602\n",
      "Epoch 89/100\n",
      "51/51 [==============================] - 16s 312ms/step - loss: 13.8852 - acc: 0.1385 - val_loss: 13.5367 - val_acc: 0.1602\n",
      "Epoch 90/100\n",
      "51/51 [==============================] - 15s 298ms/step - loss: 13.8349 - acc: 0.1417 - val_loss: 13.5367 - val_acc: 0.1602\n",
      "Epoch 91/100\n",
      "51/51 [==============================] - 16s 308ms/step - loss: 13.7972 - acc: 0.1440 - val_loss: 13.5367 - val_acc: 0.1602\n",
      "Epoch 92/100\n",
      "51/51 [==============================] - 17s 336ms/step - loss: 13.7667 - acc: 0.1459 - val_loss: 13.5367 - val_acc: 0.1602\n",
      "Epoch 93/100\n",
      "51/51 [==============================] - 16s 316ms/step - loss: 13.8655 - acc: 0.1398 - val_loss: 13.5367 - val_acc: 0.1602\n",
      "Epoch 94/100\n",
      "51/51 [==============================] - 16s 309ms/step - loss: 13.7469 - acc: 0.1471 - val_loss: 13.5367 - val_acc: 0.1602\n",
      "Epoch 95/100\n",
      "51/51 [==============================] - 16s 311ms/step - loss: 13.9149 - acc: 0.1367 - val_loss: 13.5367 - val_acc: 0.1602\n",
      "Epoch 96/100\n",
      "51/51 [==============================] - 16s 310ms/step - loss: 13.8161 - acc: 0.1428 - val_loss: 13.5367 - val_acc: 0.1602\n",
      "Epoch 97/100\n",
      "51/51 [==============================] - 16s 315ms/step - loss: 13.8259 - acc: 0.1422 - val_loss: 13.5367 - val_acc: 0.1602\n",
      "Epoch 98/100\n",
      "51/51 [==============================] - 16s 321ms/step - loss: 13.7667 - acc: 0.1459 - val_loss: 13.5367 - val_acc: 0.1602\n",
      "Epoch 99/100\n",
      "51/51 [==============================] - 15s 300ms/step - loss: 13.8457 - acc: 0.1410 - val_loss: 13.5367 - val_acc: 0.1602\n",
      "Epoch 100/100\n",
      "51/51 [==============================] - 15s 295ms/step - loss: 13.8259 - acc: 0.1422 - val_loss: 13.5367 - val_acc: 0.1602\n"
     ]
    }
   ],
   "source": [
    "history_optimized = model_optimized.fit_generator(\n",
    "                    train_generator,\n",
    "                    steps_per_epoch=1641 // batch_size,\n",
    "                    epochs=100,\n",
    "                    validation_data=test_generator,\n",
    "                    validation_steps=521 // batch_size)\n"
   ]
  },
  {
   "cell_type": "code",
   "execution_count": 6,
   "metadata": {},
   "outputs": [
    {
     "data": {
      "image/png": "[encoded data removed]",
      "text/plain": [
       "<Figure size 432x288 with 1 Axes>"
      ]
     },
     "metadata": {
      "needs_background": "light"
     },
     "output_type": "display_data"
    },
    {
     "data": {
      "image/png": "[encoded data removed]",
      "text/plain": [
       "<Figure size 432x288 with 1 Axes>"
      ]
     },
     "metadata": {
      "needs_background": "light"
     },
     "output_type": "display_data"
    }
   ],
   "source": [
    "plot_history(history_optimized, save=True, path='nets/feedforward/', name='plot_full')"
   ]
  },
  {
   "cell_type": "code",
   "execution_count": 10,
   "metadata": {},
   "outputs": [
    {
     "name": "stdout",
     "output_type": "stream",
     "text": [
      "\r",
      "80/80 [==============================] - 0s 638us/step\n"
     ]
    },
    {
     "data": {
      "text/plain": [
       "[0.039275094866752625, 0.987500011920929]"
      ]
     },
     "execution_count": 10,
     "metadata": {},
     "output_type": "execute_result"
    }
   ],
   "source": [
    "imgs, labels = next(test_generator)\n",
    "\n",
    "#ynew = model.predict(imgs)\n",
    "#results[(lr, lrd, rs, hl)] = (y_train_acc, y_pred_acc)\n",
    "\n",
    "model_optimized.evaluate(imgs,labels, batch_size=80)"
   ]
  },
  {
   "cell_type": "code",
   "execution_count": null,
   "metadata": {},
   "outputs": [],
   "source": [
    "imgs, labels = next(validation_generator)\n",
    "history_optimized.predict(imgs)"
   ]
  },
  {
   "cell_type": "markdown",
   "metadata": {},
   "source": [
    "\n"
   ]
  }
 ],
 "metadata": {
  "kernelspec": {
   "display_name": "Python 3",
   "language": "python",
   "name": "python3"
  },
  "language_info": {
   "codemirror_mode": {
    "name": "ipython",
    "version": 3
   },
   "file_extension": ".py",
   "mimetype": "text/x-python",
   "name": "python",
   "nbconvert_exporter": "python",
   "pygments_lexer": "ipython3",
   "version": "3.6.8"
  }
 },
 "nbformat": 4,
 "nbformat_minor": 2
}
