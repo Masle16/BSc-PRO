{
 "cells": [
  {
   "cell_type": "code",
   "execution_count": 1,
   "metadata": {},
   "outputs": [
    {
     "name": "stderr",
     "output_type": "stream",
     "text": [
      "Using TensorFlow backend.\n"
     ]
    }
   ],
   "source": [
    "import numpy as np\n",
    "import tensorflow as tf\n",
    "from keras.preprocessing import image\n",
    "from keras.preprocessing.image import ImageDataGenerator\n",
    "import matplotlib.pyplot as plt\n",
    "from keras.layers import Dense, Activation, Dropout, Flatten, Conv2D, MaxPooling2D\n",
    "from keras.models import Model, Sequential\n",
    "from keras import models\n",
    "from keras import layers\n",
    "from keras.optimizers import Adam, RMSprop\n",
    "from util.plots import plot_history\n",
    "from nets.cnn_net.cnn_net import cnn_net\n",
    "from glob import glob\n",
    "import util.image_import as ii\n",
    "import os\n",
    "from keras.utils.np_utils import to_categorical"
   ]
  },
  {
   "cell_type": "code",
   "execution_count": 3,
   "metadata": {},
   "outputs": [
    {
     "name": "stdout",
     "output_type": "stream",
     "text": [
      "Found 573 images belonging to 3 classes.\n",
      "Found 160 images belonging to 3 classes.\n",
      "Found 80 images belonging to 3 classes.\n"
     ]
    }
   ],
   "source": [
    "train_path = '../dataset2/res_still/train'\n",
    "valid_path = '../dataset2/res_still/valid'\n",
    "test_path = '../dataset2/res_still/test'\n",
    "\n",
    "batch_size = 32\n",
    "\n",
    "train_datagen = ImageDataGenerator(\n",
    "        rescale=1./255,\n",
    "        rotation_range=10,\n",
    "        vertical_flip=True,\n",
    "        horizontal_flip=True,\n",
    "        brightness_range=(0.65, 1.35))\n",
    "\n",
    "valid_datagen = ImageDataGenerator(\n",
    "        rescale=1./255\n",
    ")\n",
    "\n",
    "# Train data generator\n",
    "train_generator = train_datagen.flow_from_directory(\n",
    "        train_path,\n",
    "        target_size=(224, 224),\n",
    "        batch_size=batch_size,\n",
    "        classes=['potato', 'catfood', 'table'])\n",
    "\n",
    "# Validation data generator\n",
    "validation_generator = valid_datagen.flow_from_directory(\n",
    "        valid_path,\n",
    "        target_size=(224, 224),\n",
    "        batch_size=batch_size,\n",
    "        classes=['potato', 'catfood', 'table'])\n",
    "\n",
    "# this is a similar generator, for validation data\n",
    "test_generator = valid_datagen.flow_from_directory(\n",
    "        test_path,\n",
    "        target_size=(224, 224),\n",
    "        batch_size=80,\n",
    "        classes=['potato', 'catfood', 'table'])"
   ]
  },
  {
   "cell_type": "code",
   "execution_count": 2,
   "metadata": {},
   "outputs": [],
   "source": [
    "# Importing the images\n",
    "train_pot = glob(os.path.join(\"../dataset2/res_still/train/potato\", \"*.jpg\"))\n",
    "train_cat = glob(os.path.join(\"../dataset2/res_still/train/catfood\", \"*.jpg\"))\n",
    "train_tab = glob(os.path.join(\"../dataset2/res_still/train/table\", \"*.jpg\"))\n",
    "val_pot   = glob(os.path.join(\"../dataset2/res_still/valid/potato\", \"*.jpg\"))\n",
    "val_cat   = glob(os.path.join(\"../dataset2/res_still/valid/catfood\", \"*.jpg\"))\n",
    "val_tab   = glob(os.path.join(\"../dataset2/res_still/valid/table\", \"*.jpg\"))\n",
    "test_pot  = glob(os.path.join(\"../dataset2/res_still/test/potato\", \"*.jpg\"))\n",
    "test_cat  = glob(os.path.join(\"../dataset2/res_still/test/catfood\", \"*.jpg\"))\n",
    "test_tab  = glob(os.path.join(\"../dataset2/res_still/test/table\", \"*.jpg\"))\n",
    "\n",
    "X_train, y_train = ii.images_to_numpy(train_pot, train_cat, train_tab)\n",
    "X_val, y_val = ii.images_to_numpy(val_pot, val_cat, val_tab)\n",
    "X_test, y_test = ii.images_to_numpy(test_pot, test_cat, test_tab)\n",
    "\n",
    "batch_size = 32\n",
    "num_classes = 3\n",
    "\n",
    "# Making datagen for training with normilization, center, and dataugmentation\n",
    "train_datagen = ImageDataGenerator(\n",
    "        featurewise_center=True,\n",
    "        #featurewise_std_normalization=True\n",
    "        rescale=1./255,\n",
    "        rotation_range=10,\n",
    "        vertical_flip=True,\n",
    "        horizontal_flip=True,\n",
    "        brightness_range=(0.65, 1.35)\n",
    ")\n",
    "\n",
    "# Making datagen for validation and test with normilization\n",
    "valid_datagen = ImageDataGenerator(\n",
    "        featurewise_center=True, \n",
    "        #featurewise_std_normalization=True\n",
    "        rescale=1./255\n",
    ")\n",
    "\n",
    "\n",
    "X_train = X_train.astype(float)\n",
    "X_val = X_val.astype(float)\n",
    "X_test = X_test.astype(float)\n",
    "\n",
    "y_train = to_categorical(y_train, num_classes)\n",
    "y_val = to_categorical(y_val, num_classes)\n",
    "y_test = to_categorical(y_test, num_classes)\n",
    "\n",
    "# Required for featurewise normalization\n",
    "train_datagen.fit(X_train/255.)\n",
    "valid_datagen.fit(X_train/255.)\n",
    "\n",
    "train_generator = train_datagen.flow(X_train,\n",
    "                                     y_train,\n",
    "                                     batch_size=batch_size, shuffle=True)\n",
    "\n",
    "validation_generator = valid_datagen.flow(X_val,\n",
    "                                     y_val,\n",
    "                                     batch_size=batch_size, shuffle=True)\n",
    "\n",
    "test_generator = valid_datagen.flow(X_test,\n",
    "                                     y_test,\n",
    "                                     batch_size=80, shuffle=True)"
   ]
  },
  {
   "cell_type": "code",
   "execution_count": 3,
   "metadata": {},
   "outputs": [],
   "source": [
    "model = Sequential()\n",
    "model.add(Conv2D(32, (3, 3), input_shape=(224, 224, 3)))\n",
    "model.add(Activation('relu'))\n",
    "model.add(MaxPooling2D(pool_size=(2, 2)))\n",
    "\n",
    "model.add(Conv2D(64, (3, 3)))\n",
    "model.add(Activation('relu'))\n",
    "model.add(MaxPooling2D(pool_size=(2, 2)))\n",
    "\n",
    "model.add(Flatten())  #  3D activation map -> 1D vector\n",
    "model.add(Dense(32))\n",
    "model.add(Activation('relu'))\n",
    "model.add(Dropout(0.5)) \n",
    "model.add(Dense(3))                                 # Conv2D prøve (5,5) i stedet for (3,3)\n",
    "model.add(Activation('softmax'))                    # MaxPooling2D prøv (4,4) i stedet for (2,2)\n",
    "                                                    # lr = [1e-2, 1e-3, 1e-4]\n",
    "model.compile(loss='categorical_crossentropy',\n",
    "              optimizer=Adam(lr=0.001, epsilon=10e-8),\n",
    "              metrics=['accuracy'])"
   ]
  },
  {
   "cell_type": "code",
   "execution_count": 4,
   "metadata": {
    "scrolled": true
   },
   "outputs": [
    {
     "name": "stdout",
     "output_type": "stream",
     "text": [
      "Epoch 1/100\n",
      "17/17 [==============================] - 6s 368ms/step - loss: 1.0683 - acc: 0.4789 - val_loss: 0.8383 - val_acc: 0.6250\n",
      "Epoch 2/100\n",
      "17/17 [==============================] - 6s 357ms/step - loss: 0.7173 - acc: 0.6900 - val_loss: 0.5402 - val_acc: 0.9187\n",
      "Epoch 3/100\n",
      "17/17 [==============================] - 6s 326ms/step - loss: 0.4484 - acc: 0.8207 - val_loss: 0.3458 - val_acc: 0.8313\n",
      "Epoch 4/100\n",
      "17/17 [==============================] - 5s 310ms/step - loss: 0.3778 - acc: 0.8441 - val_loss: 0.2105 - val_acc: 0.9437\n",
      "Epoch 5/100\n",
      "17/17 [==============================] - 5s 318ms/step - loss: 0.2691 - acc: 0.8970 - val_loss: 0.2060 - val_acc: 0.9812\n",
      "Epoch 6/100\n",
      "17/17 [==============================] - 5s 319ms/step - loss: 0.2700 - acc: 0.8968 - val_loss: 0.1321 - val_acc: 0.9812\n",
      "Epoch 7/100\n",
      "17/17 [==============================] - 6s 346ms/step - loss: 0.2540 - acc: 0.9044 - val_loss: 0.1563 - val_acc: 0.9750\n",
      "Epoch 8/100\n",
      "17/17 [==============================] - 16s 962ms/step - loss: 0.2030 - acc: 0.9145 - val_loss: 0.1101 - val_acc: 0.9812\n",
      "Epoch 9/100\n",
      "17/17 [==============================] - 11s 671ms/step - loss: 0.1910 - acc: 0.9320 - val_loss: 0.1044 - val_acc: 0.9812\n",
      "Epoch 10/100\n",
      "17/17 [==============================] - 9s 518ms/step - loss: 0.1831 - acc: 0.9263 - val_loss: 0.0828 - val_acc: 0.9812\n",
      "Epoch 11/100\n",
      "17/17 [==============================] - 8s 470ms/step - loss: 0.2066 - acc: 0.9333 - val_loss: 0.0860 - val_acc: 0.9812\n",
      "Epoch 12/100\n",
      "17/17 [==============================] - 7s 431ms/step - loss: 0.1464 - acc: 0.9448 - val_loss: 0.0872 - val_acc: 0.9875\n",
      "Epoch 13/100\n",
      "17/17 [==============================] - 7s 406ms/step - loss: 0.1615 - acc: 0.9445 - val_loss: 0.0688 - val_acc: 0.9875\n",
      "Epoch 14/100\n",
      "17/17 [==============================] - 6s 381ms/step - loss: 0.1199 - acc: 0.9557 - val_loss: 0.0711 - val_acc: 0.9875\n",
      "Epoch 15/100\n",
      "17/17 [==============================] - 6s 372ms/step - loss: 0.1169 - acc: 0.9557 - val_loss: 0.0700 - val_acc: 0.9812\n",
      "Epoch 16/100\n",
      "17/17 [==============================] - 6s 361ms/step - loss: 0.1286 - acc: 0.9702 - val_loss: 0.0404 - val_acc: 0.9875\n",
      "Epoch 17/100\n",
      "17/17 [==============================] - 6s 344ms/step - loss: 0.0896 - acc: 0.9651 - val_loss: 0.0835 - val_acc: 0.9812\n",
      "Epoch 18/100\n",
      "17/17 [==============================] - 6s 332ms/step - loss: 0.0974 - acc: 0.9539 - val_loss: 0.0610 - val_acc: 0.9812\n",
      "Epoch 19/100\n",
      "17/17 [==============================] - 6s 347ms/step - loss: 0.0764 - acc: 0.9833 - val_loss: 0.0474 - val_acc: 0.9875\n",
      "Epoch 20/100\n",
      "17/17 [==============================] - 6s 346ms/step - loss: 0.0824 - acc: 0.9706 - val_loss: 0.0860 - val_acc: 0.9812\n",
      "Epoch 21/100\n",
      "17/17 [==============================] - 6s 355ms/step - loss: 0.0715 - acc: 0.9741 - val_loss: 0.0430 - val_acc: 0.9875\n",
      "Epoch 22/100\n",
      "17/17 [==============================] - 6s 355ms/step - loss: 0.0809 - acc: 0.9704 - val_loss: 0.0225 - val_acc: 0.9938\n",
      "Epoch 23/100\n",
      "17/17 [==============================] - 6s 357ms/step - loss: 0.0816 - acc: 0.9669 - val_loss: 0.0081 - val_acc: 1.0000\n",
      "Epoch 24/100\n",
      "17/17 [==============================] - 6s 350ms/step - loss: 0.0624 - acc: 0.9741 - val_loss: 0.0091 - val_acc: 1.0000\n",
      "Epoch 25/100\n",
      "17/17 [==============================] - 6s 361ms/step - loss: 0.1102 - acc: 0.9577 - val_loss: 0.0229 - val_acc: 0.9938\n",
      "Epoch 26/100\n",
      "17/17 [==============================] - 6s 354ms/step - loss: 0.1147 - acc: 0.9610 - val_loss: 0.0225 - val_acc: 0.9938\n",
      "Epoch 27/100\n",
      "17/17 [==============================] - 6s 367ms/step - loss: 0.0630 - acc: 0.9908 - val_loss: 0.0228 - val_acc: 0.9938\n",
      "Epoch 28/100\n",
      "17/17 [==============================] - 7s 387ms/step - loss: 0.0751 - acc: 0.9722 - val_loss: 0.0391 - val_acc: 0.9812\n",
      "Epoch 29/100\n",
      "17/17 [==============================] - 6s 376ms/step - loss: 0.0627 - acc: 0.9779 - val_loss: 0.0227 - val_acc: 0.9938\n",
      "Epoch 30/100\n",
      "17/17 [==============================] - 6s 370ms/step - loss: 0.0666 - acc: 0.9743 - val_loss: 0.0225 - val_acc: 0.9938\n",
      "Epoch 31/100\n",
      "17/17 [==============================] - 6s 352ms/step - loss: 0.0437 - acc: 0.9833 - val_loss: 0.0265 - val_acc: 0.9938\n",
      "Epoch 32/100\n",
      "17/17 [==============================] - 6s 368ms/step - loss: 0.0364 - acc: 0.9871 - val_loss: 0.0666 - val_acc: 0.9812\n",
      "Epoch 33/100\n",
      "17/17 [==============================] - 7s 394ms/step - loss: 0.0668 - acc: 0.9722 - val_loss: 0.0378 - val_acc: 0.9875\n",
      "Epoch 34/100\n",
      "17/17 [==============================] - 6s 368ms/step - loss: 0.0531 - acc: 0.9790 - val_loss: 0.0152 - val_acc: 0.9938\n",
      "Epoch 35/100\n",
      "17/17 [==============================] - 6s 368ms/step - loss: 0.0410 - acc: 0.9853 - val_loss: 0.0177 - val_acc: 0.9875\n",
      "Epoch 36/100\n",
      "17/17 [==============================] - 8s 449ms/step - loss: 0.0529 - acc: 0.9779 - val_loss: 0.0163 - val_acc: 0.9938\n",
      "Epoch 37/100\n",
      "17/17 [==============================] - 7s 408ms/step - loss: 0.0331 - acc: 0.9888 - val_loss: 0.0124 - val_acc: 0.9938\n",
      "Epoch 38/100\n",
      "17/17 [==============================] - 7s 395ms/step - loss: 0.0255 - acc: 0.9890 - val_loss: 0.0197 - val_acc: 0.9938\n",
      "Epoch 39/100\n",
      "17/17 [==============================] - 7s 414ms/step - loss: 0.0589 - acc: 0.9906 - val_loss: 0.0243 - val_acc: 0.9938\n",
      "Epoch 40/100\n",
      "17/17 [==============================] - 7s 392ms/step - loss: 0.1235 - acc: 0.9632 - val_loss: 0.0233 - val_acc: 0.9938\n",
      "Epoch 41/100\n",
      "17/17 [==============================] - 6s 375ms/step - loss: 0.0756 - acc: 0.9724 - val_loss: 0.0261 - val_acc: 0.9875\n",
      "Epoch 42/100\n",
      "17/17 [==============================] - 6s 372ms/step - loss: 0.0580 - acc: 0.9737 - val_loss: 0.0207 - val_acc: 0.9938\n",
      "Epoch 43/100\n",
      "17/17 [==============================] - 6s 375ms/step - loss: 0.0471 - acc: 0.9798 - val_loss: 0.0175 - val_acc: 0.9875\n",
      "Epoch 44/100\n",
      "17/17 [==============================] - 6s 381ms/step - loss: 0.0503 - acc: 0.9706 - val_loss: 0.0078 - val_acc: 1.0000\n",
      "Epoch 45/100\n",
      "17/17 [==============================] - 7s 414ms/step - loss: 0.0291 - acc: 0.9963 - val_loss: 0.0141 - val_acc: 0.9938\n",
      "Epoch 46/100\n",
      "17/17 [==============================] - 7s 408ms/step - loss: 0.0269 - acc: 0.9871 - val_loss: 0.0262 - val_acc: 0.9938\n",
      "Epoch 47/100\n",
      "17/17 [==============================] - 7s 397ms/step - loss: 0.0366 - acc: 0.9835 - val_loss: 0.0452 - val_acc: 0.9938\n",
      "Epoch 48/100\n",
      "17/17 [==============================] - 8s 453ms/step - loss: 0.0218 - acc: 0.9926 - val_loss: 0.0181 - val_acc: 0.9875\n",
      "Epoch 49/100\n",
      "17/17 [==============================] - 7s 384ms/step - loss: 0.0246 - acc: 0.9906 - val_loss: 0.0431 - val_acc: 0.9875\n",
      "Epoch 50/100\n",
      "17/17 [==============================] - 7s 411ms/step - loss: 0.0492 - acc: 0.9814 - val_loss: 0.0163 - val_acc: 0.9938\n",
      "Epoch 51/100\n",
      "17/17 [==============================] - 7s 399ms/step - loss: 0.0323 - acc: 0.9816 - val_loss: 0.0115 - val_acc: 0.9938\n",
      "Epoch 52/100\n",
      "17/17 [==============================] - 7s 394ms/step - loss: 0.0460 - acc: 0.9814 - val_loss: 0.0076 - val_acc: 1.0000\n",
      "Epoch 53/100\n",
      "17/17 [==============================] - 7s 385ms/step - loss: 0.0501 - acc: 0.9761 - val_loss: 0.0071 - val_acc: 0.9938\n",
      "Epoch 54/100\n",
      "17/17 [==============================] - 6s 380ms/step - loss: 0.0724 - acc: 0.9831 - val_loss: 0.0138 - val_acc: 0.9938\n",
      "Epoch 55/100\n",
      "17/17 [==============================] - 7s 403ms/step - loss: 0.0572 - acc: 0.9833 - val_loss: 0.0284 - val_acc: 0.9938\n",
      "Epoch 56/100\n",
      "17/17 [==============================] - 7s 416ms/step - loss: 0.0569 - acc: 0.9835 - val_loss: 0.0447 - val_acc: 0.9875\n",
      "Epoch 57/100\n",
      "17/17 [==============================] - 7s 403ms/step - loss: 0.0481 - acc: 0.9816 - val_loss: 0.0349 - val_acc: 0.9938\n",
      "Epoch 58/100\n",
      "17/17 [==============================] - 7s 391ms/step - loss: 0.0385 - acc: 0.9890 - val_loss: 0.0163 - val_acc: 0.9938\n",
      "Epoch 59/100\n",
      "17/17 [==============================] - 6s 382ms/step - loss: 0.0164 - acc: 0.9963 - val_loss: 0.0102 - val_acc: 0.9938\n",
      "Epoch 60/100\n",
      "17/17 [==============================] - 7s 386ms/step - loss: 0.0389 - acc: 0.9869 - val_loss: 0.0117 - val_acc: 0.9938\n",
      "Epoch 61/100\n",
      "17/17 [==============================] - 7s 395ms/step - loss: 0.0241 - acc: 0.9871 - val_loss: 0.0174 - val_acc: 0.9938\n",
      "Epoch 62/100\n"
     ]
    },
    {
     "name": "stdout",
     "output_type": "stream",
     "text": [
      "17/17 [==============================] - 7s 401ms/step - loss: 0.0331 - acc: 0.9908 - val_loss: 0.0169 - val_acc: 0.9938\n",
      "Epoch 63/100\n",
      "17/17 [==============================] - 7s 419ms/step - loss: 0.0391 - acc: 0.9796 - val_loss: 0.0219 - val_acc: 0.9938\n",
      "Epoch 64/100\n",
      "17/17 [==============================] - 7s 407ms/step - loss: 0.0327 - acc: 0.9798 - val_loss: 0.0294 - val_acc: 0.9938\n",
      "Epoch 65/100\n",
      "17/17 [==============================] - 7s 415ms/step - loss: 0.0294 - acc: 0.9871 - val_loss: 0.0223 - val_acc: 0.9938\n",
      "Epoch 66/100\n",
      "17/17 [==============================] - 7s 400ms/step - loss: 0.0425 - acc: 0.9796 - val_loss: 0.0197 - val_acc: 0.9938\n",
      "Epoch 67/100\n",
      "17/17 [==============================] - 7s 398ms/step - loss: 0.0536 - acc: 0.9853 - val_loss: 0.0244 - val_acc: 0.9875\n",
      "Epoch 68/100\n",
      "17/17 [==============================] - 7s 413ms/step - loss: 0.0666 - acc: 0.9761 - val_loss: 0.0355 - val_acc: 0.9938\n",
      "Epoch 69/100\n",
      "17/17 [==============================] - 7s 423ms/step - loss: 0.0512 - acc: 0.9741 - val_loss: 0.0244 - val_acc: 0.9938\n",
      "Epoch 70/100\n",
      "17/17 [==============================] - 7s 402ms/step - loss: 0.0518 - acc: 0.9814 - val_loss: 0.0079 - val_acc: 0.9938\n",
      "Epoch 71/100\n",
      "17/17 [==============================] - 7s 420ms/step - loss: 0.0363 - acc: 0.9796 - val_loss: 0.0067 - val_acc: 0.9938\n",
      "Epoch 72/100\n",
      "17/17 [==============================] - 7s 399ms/step - loss: 0.0550 - acc: 0.9778 - val_loss: 0.0047 - val_acc: 1.0000\n",
      "Epoch 73/100\n",
      "17/17 [==============================] - 8s 461ms/step - loss: 0.0248 - acc: 0.9908 - val_loss: 0.0101 - val_acc: 0.9938\n",
      "Epoch 74/100\n",
      "17/17 [==============================] - 7s 415ms/step - loss: 0.0649 - acc: 0.9761 - val_loss: 0.0173 - val_acc: 0.9938\n",
      "Epoch 75/100\n",
      "17/17 [==============================] - 7s 415ms/step - loss: 0.0370 - acc: 0.9926 - val_loss: 0.0198 - val_acc: 0.9938\n",
      "Epoch 76/100\n",
      "17/17 [==============================] - 7s 436ms/step - loss: 0.0238 - acc: 0.9906 - val_loss: 0.0143 - val_acc: 0.9938\n",
      "Epoch 77/100\n",
      "17/17 [==============================] - 7s 397ms/step - loss: 0.0404 - acc: 0.9835 - val_loss: 0.0059 - val_acc: 0.9938\n",
      "Epoch 78/100\n",
      "17/17 [==============================] - 7s 398ms/step - loss: 0.0634 - acc: 0.9796 - val_loss: 0.0245 - val_acc: 0.9875\n",
      "Epoch 79/100\n",
      "17/17 [==============================] - 7s 389ms/step - loss: 0.0236 - acc: 0.9908 - val_loss: 0.0430 - val_acc: 0.9875\n",
      "Epoch 80/100\n",
      "17/17 [==============================] - 7s 393ms/step - loss: 0.0557 - acc: 0.9871 - val_loss: 0.0273 - val_acc: 0.9938\n",
      "Epoch 81/100\n",
      "17/17 [==============================] - 7s 403ms/step - loss: 0.0455 - acc: 0.9794 - val_loss: 0.0245 - val_acc: 0.9938\n",
      "Epoch 82/100\n",
      "17/17 [==============================] - 7s 421ms/step - loss: 0.0289 - acc: 0.9906 - val_loss: 0.0259 - val_acc: 0.9938\n",
      "Epoch 83/100\n",
      "17/17 [==============================] - 7s 409ms/step - loss: 0.0309 - acc: 0.9908 - val_loss: 0.0291 - val_acc: 0.9938\n",
      "Epoch 84/100\n",
      "17/17 [==============================] - 7s 426ms/step - loss: 0.0192 - acc: 0.9982 - val_loss: 0.0399 - val_acc: 0.9938\n",
      "Epoch 85/100\n",
      "17/17 [==============================] - 7s 440ms/step - loss: 0.0149 - acc: 0.9945 - val_loss: 0.0444 - val_acc: 0.9938\n",
      "Epoch 86/100\n",
      "17/17 [==============================] - 7s 403ms/step - loss: 0.0247 - acc: 0.9888 - val_loss: 0.0375 - val_acc: 0.9938\n",
      "Epoch 87/100\n",
      "17/17 [==============================] - 7s 403ms/step - loss: 0.0192 - acc: 0.9890 - val_loss: 0.0414 - val_acc: 0.9938\n",
      "Epoch 88/100\n",
      "17/17 [==============================] - 7s 406ms/step - loss: 0.0322 - acc: 0.9868 - val_loss: 0.0316 - val_acc: 0.9938\n",
      "Epoch 89/100\n",
      "17/17 [==============================] - 7s 433ms/step - loss: 0.0349 - acc: 0.9796 - val_loss: 0.0285 - val_acc: 0.9938\n",
      "Epoch 90/100\n",
      "17/17 [==============================] - 7s 433ms/step - loss: 0.0164 - acc: 0.9908 - val_loss: 0.0243 - val_acc: 0.9938\n",
      "Epoch 91/100\n",
      "17/17 [==============================] - 7s 424ms/step - loss: 0.0342 - acc: 0.9871 - val_loss: 0.0326 - val_acc: 0.9938\n",
      "Epoch 92/100\n",
      "17/17 [==============================] - 7s 428ms/step - loss: 0.0291 - acc: 0.9945 - val_loss: 0.0387 - val_acc: 0.9875\n",
      "Epoch 93/100\n",
      "17/17 [==============================] - 7s 405ms/step - loss: 0.0274 - acc: 0.9908 - val_loss: 0.0153 - val_acc: 0.9938\n",
      "Epoch 94/100\n",
      "17/17 [==============================] - 7s 387ms/step - loss: 0.0182 - acc: 0.9925 - val_loss: 0.0248 - val_acc: 0.9938\n",
      "Epoch 95/100\n",
      "17/17 [==============================] - 7s 394ms/step - loss: 0.0197 - acc: 0.9945 - val_loss: 0.0303 - val_acc: 0.9938\n",
      "Epoch 96/100\n",
      "17/17 [==============================] - 7s 439ms/step - loss: 0.0151 - acc: 0.9943 - val_loss: 0.0274 - val_acc: 0.9938\n",
      "Epoch 97/100\n",
      "17/17 [==============================] - 7s 416ms/step - loss: 0.0122 - acc: 0.9982 - val_loss: 0.0271 - val_acc: 0.9938\n",
      "Epoch 98/100\n",
      "17/17 [==============================] - 7s 423ms/step - loss: 0.0158 - acc: 0.9945 - val_loss: 0.0323 - val_acc: 0.9938\n",
      "Epoch 99/100\n",
      "17/17 [==============================] - 7s 422ms/step - loss: 0.0178 - acc: 0.9945 - val_loss: 0.0341 - val_acc: 0.9938\n",
      "Epoch 100/100\n",
      "17/17 [==============================] - 7s 418ms/step - loss: 0.0352 - acc: 0.9871 - val_loss: 0.0520 - val_acc: 0.9938\n"
     ]
    }
   ],
   "source": [
    "history = model.fit_generator(\n",
    "            train_generator,\n",
    "            steps_per_epoch=573 // batch_size,\n",
    "            epochs=100,\n",
    "            validation_data=validation_generator,\n",
    "            validation_steps=160 // batch_size)"
   ]
  },
  {
   "cell_type": "code",
   "execution_count": 6,
   "metadata": {},
   "outputs": [
    {
     "data": {
      "image/png": "[encoded data removed]",
      "text/plain": [
       "<Figure size 432x288 with 1 Axes>"
      ]
     },
     "metadata": {
      "needs_background": "light"
     },
     "output_type": "display_data"
    },
    {
     "data": {
      "image/png": "[encoded data removed]",
      "text/plain": [
       "<Figure size 432x288 with 1 Axes>"
      ]
     },
     "metadata": {
      "needs_background": "light"
     },
     "output_type": "display_data"
    }
   ],
   "source": [
    "plot_history(history, save=True, path='nets/cnn_net/', name='cnn_full')"
   ]
  },
  {
   "cell_type": "code",
   "execution_count": 7,
   "metadata": {},
   "outputs": [
    {
     "data": {
      "image/png": "[encoded data removed]",
      "text/plain": [
       "<Figure size 432x288 with 1 Axes>"
      ]
     },
     "metadata": {
      "needs_background": "light"
     },
     "output_type": "display_data"
    },
    {
     "data": {
      "image/png": "[encoded data removed]",
      "text/plain": [
       "<Figure size 432x288 with 1 Axes>"
      ]
     },
     "metadata": {
      "needs_background": "light"
     },
     "output_type": "display_data"
    }
   ],
   "source": [
    "plot_history(history)"
   ]
  },
  {
   "cell_type": "code",
   "execution_count": 8,
   "metadata": {},
   "outputs": [
    {
     "name": "stdout",
     "output_type": "stream",
     "text": [
      "\r",
      "80/80 [==============================] - 1s 7ms/step\n"
     ]
    },
    {
     "data": {
      "text/plain": [
       "[0.17603328824043274, 0.987500011920929]"
      ]
     },
     "execution_count": 8,
     "metadata": {},
     "output_type": "execute_result"
    }
   ],
   "source": [
    "imgs, labels = next(test_generator)\n",
    "\n",
    "model.evaluate(imgs,labels, batch_size=80)"
   ]
  },
  {
   "cell_type": "code",
   "execution_count": 9,
   "metadata": {},
   "outputs": [],
   "source": [
    "# serialize model to JSON\n",
    "model_json = model.to_json()\n",
    "with open(\"nets/cnn_net/model.json\", \"w\") as json_file:\n",
    "    json_file.write(model_json)\n",
    "# serialize weights to HDF5\n",
    "model.save_weights(\"nets/cnn_net/model.h5\")"
   ]
  },
  {
   "cell_type": "code",
   "execution_count": 9,
   "metadata": {},
   "outputs": [],
   "source": [
    "# load json and create model\n",
    "#json_file = open('model.json', 'r')\n",
    "#loaded_model_json = json_file.read()\n",
    "#json_file.close()\n",
    "#loaded_model = model_from_json(loaded_model_json)\n",
    "# load weights into new model\n",
    "#loaded_model.load_weights(\"model.h5\")\n",
    "#print(\"Loaded model from disk\")\n",
    " \n",
    "# evaluate loaded model on test data\n",
    "#loaded_model.compile(loss='binary_crossentropy', optimizer='rmsprop', metrics=['accuracy'])\n",
    "#score = loaded_model.evaluate(X, Y, verbose=0)"
   ]
  },
  {
   "cell_type": "code",
   "execution_count": 10,
   "metadata": {},
   "outputs": [
    {
     "name": "stdout",
     "output_type": "stream",
     "text": [
      "_________________________________________________________________\n",
      "Layer (type)                 Output Shape              Param #   \n",
      "=================================================================\n",
      "conv2d_1 (Conv2D)            (None, 222, 222, 32)      896       \n",
      "_________________________________________________________________\n",
      "activation_1 (Activation)    (None, 222, 222, 32)      0         \n",
      "_________________________________________________________________\n",
      "max_pooling2d_1 (MaxPooling2 (None, 111, 111, 32)      0         \n",
      "_________________________________________________________________\n",
      "conv2d_2 (Conv2D)            (None, 109, 109, 64)      18496     \n",
      "_________________________________________________________________\n",
      "activation_2 (Activation)    (None, 109, 109, 64)      0         \n",
      "_________________________________________________________________\n",
      "max_pooling2d_2 (MaxPooling2 (None, 54, 54, 64)        0         \n",
      "_________________________________________________________________\n",
      "flatten_1 (Flatten)          (None, 186624)            0         \n",
      "_________________________________________________________________\n",
      "dense_1 (Dense)              (None, 32)                5972000   \n",
      "_________________________________________________________________\n",
      "activation_3 (Activation)    (None, 32)                0         \n",
      "_________________________________________________________________\n",
      "dropout_1 (Dropout)          (None, 32)                0         \n",
      "_________________________________________________________________\n",
      "dense_2 (Dense)              (None, 3)                 99        \n",
      "_________________________________________________________________\n",
      "activation_4 (Activation)    (None, 3)                 0         \n",
      "=================================================================\n",
      "Total params: 5,991,491\n",
      "Trainable params: 5,991,491\n",
      "Non-trainable params: 0\n",
      "_________________________________________________________________\n"
     ]
    }
   ],
   "source": [
    "model.summary()"
   ]
  },
  {
   "cell_type": "code",
   "execution_count": null,
   "metadata": {},
   "outputs": [],
   "source": []
  }
 ],
 "metadata": {
  "kernelspec": {
   "display_name": "Python 3",
   "language": "python",
   "name": "python3"
  },
  "language_info": {
   "codemirror_mode": {
    "name": "ipython",
    "version": 3
   },
   "file_extension": ".py",
   "mimetype": "text/x-python",
   "name": "python",
   "nbconvert_exporter": "python",
   "pygments_lexer": "ipython3",
   "version": "3.6.8"
  }
 },
 "nbformat": 4,
 "nbformat_minor": 2
}
