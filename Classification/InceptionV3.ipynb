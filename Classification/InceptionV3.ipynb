{
 "cells": [
  {
   "cell_type": "code",
   "execution_count": 1,
   "metadata": {},
   "outputs": [
    {
     "name": "stderr",
     "output_type": "stream",
     "text": [
      "Using TensorFlow backend.\n"
     ]
    }
   ],
   "source": [
    "import numpy as np\n",
    "import tensorflow as tf\n",
    "from keras.preprocessing.image import ImageDataGenerator\n",
    "from keras.applications import inception_v3\n",
    "from keras.layers import Dense, GlobalAveragePooling2D\n",
    "from keras.models import Model\n",
    "from keras import models\n",
    "from keras import layers\n",
    "from keras.optimizers import Adam\n",
    "import matplotlib.pyplot as plt\n",
    "from util.plots import plot_history"
   ]
  },
  {
   "cell_type": "code",
   "execution_count": 2,
   "metadata": {},
   "outputs": [],
   "source": [
    "train_path = '../potato_and_catfood/train'\n",
    "valid_path = '../potato_and_catfood/valid'\n",
    "test_path = '../potato_and_catfood/test'"
   ]
  },
  {
   "cell_type": "code",
   "execution_count": 3,
   "metadata": {},
   "outputs": [
    {
     "name": "stdout",
     "output_type": "stream",
     "text": [
      "Found 446 images belonging to 3 classes.\n",
      "Found 150 images belonging to 3 classes.\n",
      "Found 35 images belonging to 3 classes.\n"
     ]
    }
   ],
   "source": [
    "batch_size = 32\n",
    "\n",
    "train_datagen = ImageDataGenerator(\n",
    "        rescale=1./255,\n",
    "        brightness_range=(0.65,1.35),\n",
    "        vertical_flip=True,\n",
    "        horizontal_flip=True)\n",
    "\n",
    "valid_datagen = ImageDataGenerator(\n",
    "        rescale=1./255\n",
    ")\n",
    "\n",
    "# Train data generator\n",
    "train_generator = train_datagen.flow_from_directory(\n",
    "        train_path,\n",
    "        target_size=(224, 224),\n",
    "        batch_size=batch_size,\n",
    "        classes=['potato', 'catfood', 'table'])\n",
    "\n",
    "# Validation data generator\n",
    "validation_generator = valid_datagen.flow_from_directory(\n",
    "        valid_path,\n",
    "        target_size=(224, 224),\n",
    "        batch_size=batch_size,\n",
    "        classes=['potato', 'catfood', 'table'])\n",
    "\n",
    "# this is a similar generator, for validation data\n",
    "test_generator = valid_datagen.flow_from_directory(\n",
    "        test_path,\n",
    "        target_size=(224, 224),\n",
    "        batch_size=batch_size,\n",
    "        classes=['potato', 'catfood', 'table'])"
   ]
  },
  {
   "cell_type": "code",
   "execution_count": 4,
   "metadata": {},
   "outputs": [],
   "source": [
    "base_model = inception_v3.InceptionV3(include_top=False, weights='imagenet', input_shape=(224,224, 3))"
   ]
  },
  {
   "cell_type": "code",
   "execution_count": 5,
   "metadata": {},
   "outputs": [],
   "source": [
    "# add a global spatial average pooling layer\n",
    "x = base_model.output\n",
    "x = GlobalAveragePooling2D()(x)\n",
    "# let's add a fully-connected layer\n",
    "x = Dense(1024, activation='relu')(x)\n",
    "# and a logistic layer\n",
    "predictions = Dense(3, activation='softmax')(x)\n",
    "\n",
    "# this is the model we will train\n",
    "model = Model(inputs=base_model.input, outputs=predictions)\n",
    "\n",
    "# first: train only the top layers (which were randomly initialized)\n",
    "# i.e. freeze all convolutional InceptionV3 layers\n",
    "for layer in base_model.layers:\n",
    "    layer.trainable = False\n",
    "\n",
    "# compile the model (should be done *after* setting layers to non-trainable)\n",
    "model.compile(optimizer=Adam(lr=0.0001), loss='categorical_crossentropy', metrics=['accuracy'])"
   ]
  },
  {
   "cell_type": "code",
   "execution_count": 6,
   "metadata": {
    "scrolled": true
   },
   "outputs": [
    {
     "name": "stdout",
     "output_type": "stream",
     "text": [
      "Epoch 1/20\n",
      "13/13 [==============================] - 9s 675ms/step - loss: 0.8441 - acc: 0.6288 - val_loss: 0.7045 - val_acc: 0.6328\n",
      "Epoch 2/20\n",
      "13/13 [==============================] - 7s 523ms/step - loss: 0.4846 - acc: 0.8745 - val_loss: 0.7623 - val_acc: 0.5593\n",
      "Epoch 3/20\n",
      "13/13 [==============================] - 6s 500ms/step - loss: 0.3203 - acc: 0.9279 - val_loss: 0.3736 - val_acc: 0.8475\n",
      "Epoch 4/20\n",
      "13/13 [==============================] - 6s 469ms/step - loss: 0.2951 - acc: 0.9173 - val_loss: 0.6604 - val_acc: 0.7542\n",
      "Epoch 5/20\n",
      "13/13 [==============================] - 6s 438ms/step - loss: 0.2150 - acc: 0.9468 - val_loss: 0.5198 - val_acc: 0.8136\n",
      "Epoch 6/20\n",
      "13/13 [==============================] - 6s 473ms/step - loss: 0.2197 - acc: 0.9494 - val_loss: 0.4760 - val_acc: 0.8359\n",
      "Epoch 7/20\n",
      "13/13 [==============================] - 7s 504ms/step - loss: 0.1944 - acc: 0.9467 - val_loss: 0.4213 - val_acc: 0.8475\n",
      "Epoch 8/20\n",
      "13/13 [==============================] - 6s 448ms/step - loss: 0.1936 - acc: 0.9303 - val_loss: 0.3590 - val_acc: 0.8898\n",
      "Epoch 9/20\n",
      "13/13 [==============================] - 6s 481ms/step - loss: 0.1463 - acc: 0.9662 - val_loss: 0.4492 - val_acc: 0.8729\n",
      "Epoch 10/20\n",
      "13/13 [==============================] - 6s 483ms/step - loss: 0.1568 - acc: 0.9543 - val_loss: 0.8613 - val_acc: 0.7542\n",
      "Epoch 11/20\n",
      "13/13 [==============================] - 7s 508ms/step - loss: 0.1806 - acc: 0.9348 - val_loss: 0.3937 - val_acc: 0.8203\n",
      "Epoch 12/20\n",
      "13/13 [==============================] - 7s 512ms/step - loss: 0.1926 - acc: 0.9463 - val_loss: 0.5294 - val_acc: 0.8475\n",
      "Epoch 13/20\n",
      "13/13 [==============================] - 7s 509ms/step - loss: 0.1512 - acc: 0.9591 - val_loss: 0.6933 - val_acc: 0.7797\n",
      "Epoch 14/20\n",
      "13/13 [==============================] - 7s 509ms/step - loss: 0.1828 - acc: 0.9375 - val_loss: 0.3844 - val_acc: 0.8644\n",
      "Epoch 15/20\n",
      "13/13 [==============================] - 7s 516ms/step - loss: 0.1458 - acc: 0.9542 - val_loss: 0.4461 - val_acc: 0.8729\n",
      "Epoch 16/20\n",
      "13/13 [==============================] - 7s 556ms/step - loss: 0.1617 - acc: 0.9519 - val_loss: 0.5955 - val_acc: 0.8359\n",
      "Epoch 17/20\n",
      "13/13 [==============================] - 8s 589ms/step - loss: 0.1629 - acc: 0.9301 - val_loss: 0.6021 - val_acc: 0.7627\n",
      "Epoch 18/20\n",
      "13/13 [==============================] - 7s 520ms/step - loss: 0.1526 - acc: 0.9567 - val_loss: 0.4760 - val_acc: 0.8644\n",
      "Epoch 19/20\n",
      "13/13 [==============================] - 6s 487ms/step - loss: 0.1320 - acc: 0.9615 - val_loss: 0.2985 - val_acc: 0.8898\n",
      "Epoch 20/20\n",
      "13/13 [==============================] - 6s 484ms/step - loss: 0.1150 - acc: 0.9736 - val_loss: 0.8894 - val_acc: 0.7881\n"
     ]
    }
   ],
   "source": [
    "history1 = model.fit_generator(\n",
    "              train_generator,\n",
    "              steps_per_epoch=446 // batch_size,\n",
    "              epochs=20,\n",
    "              validation_data=validation_generator,\n",
    "              validation_steps= 150 // batch_size)"
   ]
  },
  {
   "cell_type": "code",
   "execution_count": 7,
   "metadata": {
    "scrolled": true
   },
   "outputs": [
    {
     "name": "stdout",
     "output_type": "stream",
     "text": [
      "Epoch 1/50\n",
      "13/13 [==============================] - 10s 744ms/step - loss: 0.1300 - val_loss: 0.5613\n",
      "Epoch 2/50\n",
      "13/13 [==============================] - 8s 582ms/step - loss: 0.1103 - val_loss: 0.5419\n",
      "Epoch 3/50\n",
      "13/13 [==============================] - 9s 664ms/step - loss: 0.1023 - val_loss: 0.4916\n",
      "Epoch 4/50\n",
      "13/13 [==============================] - 8s 587ms/step - loss: 0.0922 - val_loss: 0.4460\n",
      "Epoch 5/50\n",
      "13/13 [==============================] - 7s 516ms/step - loss: 0.0863 - val_loss: 0.4198\n",
      "Epoch 6/50\n",
      "13/13 [==============================] - 8s 614ms/step - loss: 0.0951 - val_loss: 0.4429\n",
      "Epoch 7/50\n",
      "13/13 [==============================] - 8s 598ms/step - loss: 0.0924 - val_loss: 0.3861\n",
      "Epoch 8/50\n",
      "13/13 [==============================] - 7s 562ms/step - loss: 0.1084 - val_loss: 0.3192\n",
      "Epoch 9/50\n",
      "13/13 [==============================] - 7s 536ms/step - loss: 0.0695 - val_loss: 0.3980\n",
      "Epoch 10/50\n",
      "13/13 [==============================] - 7s 501ms/step - loss: 0.0852 - val_loss: 0.3927\n",
      "Epoch 11/50\n",
      "13/13 [==============================] - 7s 554ms/step - loss: 0.0865 - val_loss: 0.3735\n",
      "Epoch 12/50\n",
      "13/13 [==============================] - 9s 678ms/step - loss: 0.0731 - val_loss: 0.3644\n",
      "Epoch 13/50\n",
      "13/13 [==============================] - 7s 542ms/step - loss: 0.0607 - val_loss: 0.3214\n",
      "Epoch 14/50\n",
      "13/13 [==============================] - 7s 531ms/step - loss: 0.0889 - val_loss: 0.4221\n",
      "Epoch 15/50\n",
      "13/13 [==============================] - 7s 547ms/step - loss: 0.0826 - val_loss: 0.2797\n",
      "Epoch 16/50\n",
      "13/13 [==============================] - 8s 623ms/step - loss: 0.0841 - val_loss: 0.3415\n",
      "Epoch 17/50\n",
      "13/13 [==============================] - 10s 757ms/step - loss: 0.0817 - val_loss: 0.3524\n",
      "Epoch 18/50\n",
      "13/13 [==============================] - 9s 703ms/step - loss: 0.0510 - val_loss: 0.3254\n",
      "Epoch 19/50\n",
      "13/13 [==============================] - 8s 601ms/step - loss: 0.0782 - val_loss: 0.3467\n",
      "Epoch 20/50\n",
      "13/13 [==============================] - 8s 583ms/step - loss: 0.0734 - val_loss: 0.3937\n",
      "Epoch 21/50\n",
      "13/13 [==============================] - 8s 649ms/step - loss: 0.0577 - val_loss: 0.3300\n",
      "Epoch 22/50\n",
      "13/13 [==============================] - 8s 646ms/step - loss: 0.0766 - val_loss: 0.3489\n",
      "Epoch 23/50\n",
      "13/13 [==============================] - 8s 609ms/step - loss: 0.0987 - val_loss: 0.3606\n",
      "Epoch 24/50\n",
      "13/13 [==============================] - 7s 564ms/step - loss: 0.0568 - val_loss: 0.2898\n",
      "Epoch 25/50\n",
      "13/13 [==============================] - 7s 543ms/step - loss: 0.0503 - val_loss: 0.3669\n",
      "Epoch 26/50\n",
      "13/13 [==============================] - 8s 644ms/step - loss: 0.0666 - val_loss: 0.3279\n",
      "Epoch 27/50\n",
      "13/13 [==============================] - 10s 748ms/step - loss: 0.0477 - val_loss: 0.3423\n",
      "Epoch 28/50\n",
      "13/13 [==============================] - 8s 587ms/step - loss: 0.0742 - val_loss: 0.4111\n",
      "Epoch 29/50\n",
      "13/13 [==============================] - 8s 609ms/step - loss: 0.0710 - val_loss: 0.2203\n",
      "Epoch 30/50\n",
      "13/13 [==============================] - 8s 624ms/step - loss: 0.0704 - val_loss: 0.3602\n",
      "Epoch 31/50\n",
      "13/13 [==============================] - 8s 635ms/step - loss: 0.0571 - val_loss: 0.3584\n",
      "Epoch 32/50\n",
      "13/13 [==============================] - 9s 710ms/step - loss: 0.0667 - val_loss: 0.3762\n",
      "Epoch 33/50\n",
      "13/13 [==============================] - 8s 601ms/step - loss: 0.0499 - val_loss: 0.2586\n",
      "Epoch 34/50\n",
      "13/13 [==============================] - 8s 578ms/step - loss: 0.0464 - val_loss: 0.3821\n",
      "Epoch 35/50\n",
      "13/13 [==============================] - 7s 559ms/step - loss: 0.0393 - val_loss: 0.3157\n",
      "Epoch 36/50\n",
      "13/13 [==============================] - 8s 617ms/step - loss: 0.0538 - val_loss: 0.3567\n",
      "Epoch 37/50\n",
      "13/13 [==============================] - 9s 726ms/step - loss: 0.0622 - val_loss: 0.2551\n",
      "Epoch 38/50\n",
      "13/13 [==============================] - 8s 604ms/step - loss: 0.0578 - val_loss: 0.3626\n",
      "Epoch 39/50\n",
      "13/13 [==============================] - 8s 590ms/step - loss: 0.0799 - val_loss: 0.4197\n",
      "Epoch 40/50\n",
      "13/13 [==============================] - 8s 589ms/step - loss: 0.0691 - val_loss: 0.2672\n",
      "Epoch 41/50\n",
      "13/13 [==============================] - 8s 599ms/step - loss: 0.0522 - val_loss: 0.3558\n",
      "Epoch 42/50\n",
      "13/13 [==============================] - 9s 656ms/step - loss: 0.0513 - val_loss: 0.3418\n",
      "Epoch 43/50\n",
      "13/13 [==============================] - 7s 559ms/step - loss: 0.0748 - val_loss: 0.2934\n",
      "Epoch 44/50\n",
      "13/13 [==============================] - 9s 681ms/step - loss: 0.0441 - val_loss: 0.3441\n",
      "Epoch 45/50\n",
      "13/13 [==============================] - 8s 631ms/step - loss: 0.0460 - val_loss: 0.2902\n",
      "Epoch 46/50\n",
      "13/13 [==============================] - 8s 653ms/step - loss: 0.0754 - val_loss: 0.3533\n",
      "Epoch 47/50\n",
      "13/13 [==============================] - 10s 767ms/step - loss: 0.0456 - val_loss: 0.3145\n",
      "Epoch 48/50\n",
      "13/13 [==============================] - 9s 661ms/step - loss: 0.0458 - val_loss: 0.2621\n",
      "Epoch 49/50\n",
      "13/13 [==============================] - 8s 599ms/step - loss: 0.0352 - val_loss: 0.3991\n",
      "Epoch 50/50\n",
      "13/13 [==============================] - 8s 609ms/step - loss: 0.0635 - val_loss: 0.2963\n"
     ]
    }
   ],
   "source": [
    "# we chose to train the top 2 inception blocks, i.e. we will freeze\n",
    "# the first 249 layers and unfreeze the rest:\n",
    "for layer in model.layers[:249]:\n",
    "    layer.trainable = False\n",
    "for layer in model.layers[249:]:\n",
    "    layer.trainable = True\n",
    "\n",
    "# we need to recompile the model for these modifications to take effect\n",
    "# we use SGD with a low learning rate\n",
    "from keras.optimizers import SGD\n",
    "model.compile(optimizer=SGD(lr=0.0001, momentum=0.9), loss='categorical_crossentropy')\n",
    "\n",
    "# we train our model again (this time fine-tuning the top 2 inception blocks\n",
    "# alongside the top Dense layers\n",
    "history2 = model.fit_generator(\n",
    "              train_generator,\n",
    "              steps_per_epoch=446 // batch_size,\n",
    "              epochs=50,\n",
    "              validation_data=validation_generator,\n",
    "              validation_steps= 150 // batch_size)"
   ]
  },
  {
   "cell_type": "markdown",
   "metadata": {},
   "source": [
    "<b>Plot</b>"
   ]
  },
  {
   "cell_type": "code",
   "execution_count": 8,
   "metadata": {
    "scrolled": false
   },
   "outputs": [
    {
     "data": {
      "image/png": "[encoded data removed]",
      "text/plain": [
       "<Figure size 432x288 with 1 Axes>"
      ]
     },
     "metadata": {
      "needs_background": "light"
     },
     "output_type": "display_data"
    },
    {
     "data": {
      "image/png": "[encoded data removed]",
      "text/plain": [
       "<Figure size 432x288 with 1 Axes>"
      ]
     },
     "metadata": {
      "needs_background": "light"
     },
     "output_type": "display_data"
    }
   ],
   "source": [
    "plot_history(history1, mean_N=3)"
   ]
  },
  {
   "cell_type": "code",
   "execution_count": 9,
   "metadata": {},
   "outputs": [
    {
     "ename": "KeyError",
     "evalue": "'acc'",
     "output_type": "error",
     "traceback": [
      "\u001b[0;31m---------------------------------------------------------------------------\u001b[0m",
      "\u001b[0;31mKeyError\u001b[0m                                  Traceback (most recent call last)",
      "\u001b[0;32m<ipython-input-9-95e8531aa6c1>\u001b[0m in \u001b[0;36m<module>\u001b[0;34m\u001b[0m\n\u001b[0;32m----> 1\u001b[0;31m \u001b[0mplot_history\u001b[0m\u001b[0;34m(\u001b[0m\u001b[0mhistory2\u001b[0m\u001b[0;34m,\u001b[0m \u001b[0mmean_N\u001b[0m\u001b[0;34m=\u001b[0m\u001b[0;36m3\u001b[0m\u001b[0;34m)\u001b[0m\u001b[0;34m\u001b[0m\u001b[0;34m\u001b[0m\u001b[0m\n\u001b[0m",
      "\u001b[0;32m~/Documents/github/BSc-PRO/Classification/util/plots.py\u001b[0m in \u001b[0;36mplot_history\u001b[0;34m(history, save, path, name, mean_N)\u001b[0m\n\u001b[1;32m     18\u001b[0m         \u001b[0mmplot\u001b[0m\u001b[0;34m.\u001b[0m\u001b[0mplot\u001b[0m\u001b[0;34m(\u001b[0m\u001b[0mhistory\u001b[0m\u001b[0;34m.\u001b[0m\u001b[0mhistory\u001b[0m\u001b[0;34m[\u001b[0m\u001b[0;34m'val_acc'\u001b[0m\u001b[0;34m]\u001b[0m\u001b[0;34m)\u001b[0m\u001b[0;34m\u001b[0m\u001b[0;34m\u001b[0m\u001b[0m\n\u001b[1;32m     19\u001b[0m     \u001b[0;32melse\u001b[0m\u001b[0;34m:\u001b[0m\u001b[0;34m\u001b[0m\u001b[0;34m\u001b[0m\u001b[0m\n\u001b[0;32m---> 20\u001b[0;31m         \u001b[0mmplot\u001b[0m\u001b[0;34m.\u001b[0m\u001b[0mplot\u001b[0m\u001b[0;34m(\u001b[0m\u001b[0mrunning_mean\u001b[0m\u001b[0;34m(\u001b[0m\u001b[0mhistory\u001b[0m\u001b[0;34m.\u001b[0m\u001b[0mhistory\u001b[0m\u001b[0;34m[\u001b[0m\u001b[0;34m'acc'\u001b[0m\u001b[0;34m]\u001b[0m\u001b[0;34m,\u001b[0m\u001b[0mmean_N\u001b[0m\u001b[0;34m)\u001b[0m\u001b[0;34m)\u001b[0m\u001b[0;34m\u001b[0m\u001b[0;34m\u001b[0m\u001b[0m\n\u001b[0m\u001b[1;32m     21\u001b[0m         \u001b[0mmplot\u001b[0m\u001b[0;34m.\u001b[0m\u001b[0mplot\u001b[0m\u001b[0;34m(\u001b[0m\u001b[0mrunning_mean\u001b[0m\u001b[0;34m(\u001b[0m\u001b[0mhistory\u001b[0m\u001b[0;34m.\u001b[0m\u001b[0mhistory\u001b[0m\u001b[0;34m[\u001b[0m\u001b[0;34m'val_acc'\u001b[0m\u001b[0;34m]\u001b[0m\u001b[0;34m,\u001b[0m\u001b[0mmean_N\u001b[0m\u001b[0;34m)\u001b[0m\u001b[0;34m)\u001b[0m\u001b[0;34m\u001b[0m\u001b[0;34m\u001b[0m\u001b[0m\n\u001b[1;32m     22\u001b[0m     \u001b[0mmplot\u001b[0m\u001b[0;34m.\u001b[0m\u001b[0mtitle\u001b[0m\u001b[0;34m(\u001b[0m\u001b[0;34m'model accuracy'\u001b[0m\u001b[0;34m)\u001b[0m\u001b[0;34m\u001b[0m\u001b[0;34m\u001b[0m\u001b[0m\n",
      "\u001b[0;31mKeyError\u001b[0m: 'acc'"
     ]
    },
    {
     "data": {
      "text/plain": [
       "<Figure size 432x288 with 0 Axes>"
      ]
     },
     "metadata": {},
     "output_type": "display_data"
    }
   ],
   "source": [
    "plot_history(history2, mean_N=3)"
   ]
  },
  {
   "cell_type": "code",
   "execution_count": null,
   "metadata": {},
   "outputs": [],
   "source": [
    "imgs, labels = next(validation_generator)\n",
    "\n",
    "model.evaluate(imgs,labels, batch_size=batch_size)"
   ]
  },
  {
   "cell_type": "code",
   "execution_count": null,
   "metadata": {},
   "outputs": [],
   "source": []
  }
 ],
 "metadata": {
  "kernelspec": {
   "display_name": "Python 3",
   "language": "python",
   "name": "python3"
  },
  "language_info": {
   "codemirror_mode": {
    "name": "ipython",
    "version": 3
   },
   "file_extension": ".py",
   "mimetype": "text/x-python",
   "name": "python",
   "nbconvert_exporter": "python",
   "pygments_lexer": "ipython3",
   "version": "3.6.8"
  }
 },
 "nbformat": 4,
 "nbformat_minor": 2
}
