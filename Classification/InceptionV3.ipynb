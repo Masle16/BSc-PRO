{
 "cells": [
  {
   "cell_type": "markdown",
   "metadata": {},
   "source": [
    "### Old Method"
   ]
  },
  {
   "cell_type": "code",
   "execution_count": 1,
   "metadata": {
    "scrolled": true
   },
   "outputs": [
    {
     "name": "stderr",
     "output_type": "stream",
     "text": [
      "Using TensorFlow backend.\n"
     ]
    }
   ],
   "source": [
    "import numpy as np\n",
    "import tensorflow as tf\n",
    "from keras.preprocessing.image import ImageDataGenerator\n",
    "from keras.applications import inception_v3\n",
    "from keras.layers import Dense, GlobalAveragePooling2D\n",
    "from keras.models import Model\n",
    "from keras import models\n",
    "from keras import layers\n",
    "from keras.optimizers import Adam\n",
    "import matplotlib.pyplot as plt\n",
    "from util.plots import plot_history"
   ]
  },
  {
   "cell_type": "code",
   "execution_count": 2,
   "metadata": {},
   "outputs": [
    {
     "name": "stdout",
     "output_type": "stream",
     "text": [
      "Found 355 images belonging to 3 classes.\n",
      "Found 100 images belonging to 3 classes.\n",
      "Found 50 images belonging to 3 classes.\n"
     ]
    }
   ],
   "source": [
    "train_path = 'res_still/train'\n",
    "valid_path = 'res_still/valid'\n",
    "test_path = 'res_still/test'\n",
    "\n",
    "batch_size = 32\n",
    "\n",
    "train_datagen = ImageDataGenerator(\n",
    "        rescale=1./255,\n",
    "        vertical_flip=True,\n",
    "        horizontal_flip=True,\n",
    "        brightness_range=(0.65, 1.35))\n",
    "\n",
    "valid_datagen = ImageDataGenerator(\n",
    "        rescale=1./255\n",
    ")\n",
    "\n",
    "# Train data generator\n",
    "train_generator = train_datagen.flow_from_directory(\n",
    "        train_path,\n",
    "        target_size=(299, 299),\n",
    "        batch_size=batch_size,\n",
    "        classes=['potato', 'catfood', 'table'])\n",
    "\n",
    "# Validation data generator\n",
    "validation_generator = valid_datagen.flow_from_directory(\n",
    "        valid_path,\n",
    "        target_size=(299, 299),\n",
    "        batch_size=batch_size,\n",
    "        classes=['potato', 'catfood', 'table'])\n",
    "\n",
    "# this is a similar generator, for validation data\n",
    "test_generator = valid_datagen.flow_from_directory(\n",
    "        test_path,\n",
    "        target_size=(299, 299),\n",
    "        batch_size=50,\n",
    "        classes=['potato', 'catfood', 'table'])"
   ]
  },
  {
   "cell_type": "code",
   "execution_count": 5,
   "metadata": {},
   "outputs": [],
   "source": [
    "base_model = inception_v3.InceptionV3(include_top=False, weights='imagenet', input_shape=(299,299, 3))"
   ]
  },
  {
   "cell_type": "code",
   "execution_count": 6,
   "metadata": {},
   "outputs": [],
   "source": [
    "x = base_model.output\n",
    "x = GlobalAveragePooling2D()(x)\n",
    "x = Dense(1024, activation='relu')(x)\n",
    "predictions = Dense(3, activation='softmax')(x)\n",
    "\n",
    "model = Model(inputs=base_model.input, outputs=predictions)\n",
    "\n",
    "for layer in base_model.layers:\n",
    "    layer.trainable = False\n",
    "\n",
    "# compile the model (should be done *after* setting layers to non-trainable)\n",
    "model.compile(optimizer=Adam(lr=0.0001), loss='categorical_crossentropy', metrics=['accuracy'])"
   ]
  },
  {
   "cell_type": "code",
   "execution_count": 7,
   "metadata": {
    "scrolled": true
   },
   "outputs": [
    {
     "name": "stdout",
     "output_type": "stream",
     "text": [
      "Epoch 1/100\n",
      "11/11 [==============================] - 12s 1s/step - loss: 0.8614 - acc: 0.6623 - val_loss: 0.7106 - val_acc: 0.7708\n",
      "Epoch 2/100\n",
      "11/11 [==============================] - 6s 589ms/step - loss: 0.4322 - acc: 0.9290 - val_loss: 0.4161 - val_acc: 0.9118\n",
      "Epoch 3/100\n",
      "11/11 [==============================] - 5s 494ms/step - loss: 0.3902 - acc: 0.8940 - val_loss: 0.6576 - val_acc: 0.5294\n",
      "Epoch 4/100\n",
      "11/11 [==============================] - 6s 527ms/step - loss: 0.2981 - acc: 0.9176 - val_loss: 0.4797 - val_acc: 0.8088\n",
      "Epoch 5/100\n",
      "11/11 [==============================] - 6s 518ms/step - loss: 0.2365 - acc: 0.9575 - val_loss: 0.3510 - val_acc: 0.9271\n",
      "Epoch 6/100\n",
      "11/11 [==============================] - 7s 608ms/step - loss: 0.1440 - acc: 0.9801 - val_loss: 0.2253 - val_acc: 0.9265\n",
      "Epoch 7/100\n",
      "11/11 [==============================] - 5s 496ms/step - loss: 0.2044 - acc: 0.9237 - val_loss: 0.7259 - val_acc: 0.5294\n",
      "Epoch 8/100\n",
      "11/11 [==============================] - 5s 461ms/step - loss: 0.1228 - acc: 0.9858 - val_loss: 0.3637 - val_acc: 0.8529\n",
      "Epoch 9/100\n",
      "11/11 [==============================] - 6s 534ms/step - loss: 0.2451 - acc: 0.9124 - val_loss: 0.5236 - val_acc: 0.8542\n",
      "Epoch 10/100\n",
      "11/11 [==============================] - 15s 1s/step - loss: 0.3715 - acc: 0.8724 - val_loss: 0.3058 - val_acc: 0.9412\n",
      "Epoch 11/100\n",
      "11/11 [==============================] - 16s 1s/step - loss: 0.1368 - acc: 0.9599 - val_loss: 0.6203 - val_acc: 0.7794\n",
      "Epoch 12/100\n",
      "11/11 [==============================] - 12s 1s/step - loss: 0.0891 - acc: 0.9857 - val_loss: 0.1433 - val_acc: 0.9706\n",
      "Epoch 13/100\n",
      "11/11 [==============================] - 10s 939ms/step - loss: 0.0839 - acc: 0.9857 - val_loss: 0.1877 - val_acc: 0.9375\n",
      "Epoch 14/100\n",
      "11/11 [==============================] - 9s 790ms/step - loss: 0.0563 - acc: 0.9971 - val_loss: 0.1691 - val_acc: 0.9412\n",
      "Epoch 15/100\n",
      "11/11 [==============================] - 8s 697ms/step - loss: 0.0656 - acc: 0.9886 - val_loss: 0.2015 - val_acc: 0.9265\n",
      "Epoch 16/100\n",
      "11/11 [==============================] - 6s 550ms/step - loss: 0.0541 - acc: 1.0000 - val_loss: 0.2096 - val_acc: 0.9118\n",
      "Epoch 17/100\n",
      "11/11 [==============================] - 8s 700ms/step - loss: 0.0570 - acc: 0.9943 - val_loss: 0.1886 - val_acc: 0.9375\n",
      "Epoch 18/100\n",
      "11/11 [==============================] - 6s 527ms/step - loss: 0.0651 - acc: 0.9943 - val_loss: 0.2405 - val_acc: 0.9265\n",
      "Epoch 19/100\n",
      "11/11 [==============================] - 5s 468ms/step - loss: 0.1336 - acc: 0.9605 - val_loss: 0.2325 - val_acc: 0.9265\n",
      "Epoch 20/100\n",
      "11/11 [==============================] - 6s 520ms/step - loss: 0.0995 - acc: 0.9548 - val_loss: 0.1746 - val_acc: 0.9853\n",
      "Epoch 21/100\n",
      "11/11 [==============================] - 6s 564ms/step - loss: 0.1266 - acc: 0.9634 - val_loss: 0.5286 - val_acc: 0.7708\n",
      "Epoch 22/100\n",
      "11/11 [==============================] - 8s 698ms/step - loss: 0.0814 - acc: 0.9714 - val_loss: 0.1904 - val_acc: 0.9265\n",
      "Epoch 23/100\n",
      "11/11 [==============================] - 8s 684ms/step - loss: 0.0764 - acc: 0.9605 - val_loss: 0.2343 - val_acc: 0.9265\n",
      "Epoch 24/100\n",
      "11/11 [==============================] - 7s 622ms/step - loss: 0.2310 - acc: 0.9262 - val_loss: 0.3351 - val_acc: 0.8824\n",
      "Epoch 25/100\n",
      "11/11 [==============================] - 6s 570ms/step - loss: 0.1100 - acc: 0.9691 - val_loss: 0.1476 - val_acc: 0.9375\n",
      "Epoch 26/100\n",
      "11/11 [==============================] - 6s 586ms/step - loss: 0.0725 - acc: 0.9886 - val_loss: 0.1472 - val_acc: 0.9706\n",
      "Epoch 27/100\n",
      "11/11 [==============================] - 7s 608ms/step - loss: 0.0336 - acc: 0.9943 - val_loss: 0.1572 - val_acc: 0.9118\n",
      "Epoch 28/100\n",
      "11/11 [==============================] - 6s 527ms/step - loss: 0.1948 - acc: 0.9633 - val_loss: 0.3366 - val_acc: 0.8676\n",
      "Epoch 29/100\n",
      "11/11 [==============================] - 7s 596ms/step - loss: 0.1171 - acc: 0.9800 - val_loss: 0.1529 - val_acc: 0.9479\n",
      "Epoch 30/100\n",
      "11/11 [==============================] - 8s 701ms/step - loss: 0.0799 - acc: 0.9605 - val_loss: 0.2395 - val_acc: 0.8824\n",
      "Epoch 31/100\n",
      "11/11 [==============================] - 7s 645ms/step - loss: 0.0386 - acc: 0.9943 - val_loss: 0.3077 - val_acc: 0.9118\n",
      "Epoch 32/100\n",
      "11/11 [==============================] - 6s 540ms/step - loss: 0.0413 - acc: 0.9915 - val_loss: 0.1206 - val_acc: 0.9412\n",
      "Epoch 33/100\n",
      "11/11 [==============================] - 6s 559ms/step - loss: 0.1239 - acc: 0.9268 - val_loss: 0.1976 - val_acc: 0.9375\n",
      "Epoch 34/100\n",
      "11/11 [==============================] - 8s 688ms/step - loss: 0.0558 - acc: 0.9828 - val_loss: 0.1738 - val_acc: 0.9265\n",
      "Epoch 35/100\n",
      "11/11 [==============================] - 7s 638ms/step - loss: 0.1484 - acc: 0.9491 - val_loss: 0.5410 - val_acc: 0.8529\n",
      "Epoch 36/100\n",
      "11/11 [==============================] - 6s 585ms/step - loss: 0.0700 - acc: 0.9886 - val_loss: 0.1478 - val_acc: 0.9412\n",
      "Epoch 37/100\n",
      "11/11 [==============================] - 7s 619ms/step - loss: 0.0407 - acc: 0.9943 - val_loss: 0.2015 - val_acc: 0.9062\n",
      "Epoch 38/100\n",
      "11/11 [==============================] - 7s 617ms/step - loss: 0.0239 - acc: 0.9971 - val_loss: 0.0939 - val_acc: 0.9853\n",
      "Epoch 39/100\n",
      "11/11 [==============================] - 8s 684ms/step - loss: 0.0273 - acc: 1.0000 - val_loss: 0.1051 - val_acc: 0.9559\n",
      "Epoch 40/100\n",
      "11/11 [==============================] - 6s 575ms/step - loss: 0.1245 - acc: 0.9720 - val_loss: 0.2417 - val_acc: 0.9412\n",
      "Epoch 41/100\n",
      "11/11 [==============================] - 7s 681ms/step - loss: 0.0535 - acc: 0.9943 - val_loss: 0.1749 - val_acc: 0.9375\n",
      "Epoch 42/100\n",
      "11/11 [==============================] - 8s 698ms/step - loss: 0.0250 - acc: 1.0000 - val_loss: 0.1807 - val_acc: 0.9118\n",
      "Epoch 43/100\n",
      "11/11 [==============================] - 7s 656ms/step - loss: 0.0360 - acc: 0.9886 - val_loss: 0.2799 - val_acc: 0.8824\n",
      "Epoch 44/100\n",
      "11/11 [==============================] - 7s 633ms/step - loss: 0.0316 - acc: 0.9914 - val_loss: 0.1896 - val_acc: 0.9412\n",
      "Epoch 45/100\n",
      "11/11 [==============================] - 7s 658ms/step - loss: 0.1891 - acc: 0.9433 - val_loss: 0.1839 - val_acc: 0.9479\n",
      "Epoch 46/100\n",
      "11/11 [==============================] - 7s 653ms/step - loss: 0.0430 - acc: 0.9828 - val_loss: 0.2522 - val_acc: 0.9412\n",
      "Epoch 47/100\n",
      "11/11 [==============================] - 6s 559ms/step - loss: 0.0202 - acc: 0.9971 - val_loss: 0.1578 - val_acc: 0.9706\n",
      "Epoch 48/100\n",
      "11/11 [==============================] - 7s 616ms/step - loss: 0.0260 - acc: 0.9971 - val_loss: 0.1221 - val_acc: 0.9559\n",
      "Epoch 49/100\n",
      "11/11 [==============================] - 8s 756ms/step - loss: 0.0484 - acc: 0.9971 - val_loss: 0.2273 - val_acc: 0.9271\n",
      "Epoch 50/100\n",
      "11/11 [==============================] - 8s 747ms/step - loss: 0.0258 - acc: 1.0000 - val_loss: 0.2762 - val_acc: 0.9118\n",
      "Epoch 51/100\n",
      "11/11 [==============================] - 8s 730ms/step - loss: 0.0203 - acc: 1.0000 - val_loss: 0.3487 - val_acc: 0.8676\n",
      "Epoch 52/100\n",
      "11/11 [==============================] - 8s 700ms/step - loss: 0.1812 - acc: 0.9268 - val_loss: 1.7614 - val_acc: 0.5588\n",
      "Epoch 53/100\n",
      "11/11 [==============================] - 9s 810ms/step - loss: 0.1439 - acc: 0.9375 - val_loss: 0.1384 - val_acc: 0.9479\n",
      "Epoch 54/100\n",
      "11/11 [==============================] - 8s 732ms/step - loss: 0.0436 - acc: 0.9914 - val_loss: 0.1881 - val_acc: 0.9412\n",
      "Epoch 55/100\n",
      "11/11 [==============================] - 7s 645ms/step - loss: 0.2833 - acc: 0.8985 - val_loss: 0.1142 - val_acc: 0.9559\n",
      "Epoch 56/100\n",
      "11/11 [==============================] - 8s 769ms/step - loss: 0.0400 - acc: 0.9886 - val_loss: 0.3354 - val_acc: 0.8971\n",
      "Epoch 57/100\n",
      "11/11 [==============================] - 9s 836ms/step - loss: 0.1920 - acc: 0.9325 - val_loss: 0.5973 - val_acc: 0.8438\n",
      "Epoch 58/100\n",
      "11/11 [==============================] - 8s 684ms/step - loss: 0.1277 - acc: 0.9428 - val_loss: 0.3497 - val_acc: 0.8971\n",
      "Epoch 59/100\n",
      "11/11 [==============================] - 7s 606ms/step - loss: 0.0216 - acc: 0.9914 - val_loss: 0.1273 - val_acc: 0.9412\n",
      "Epoch 60/100\n",
      "11/11 [==============================] - 6s 575ms/step - loss: 0.2049 - acc: 0.9634 - val_loss: 0.1828 - val_acc: 0.9559\n",
      "Epoch 61/100\n",
      "11/11 [==============================] - 8s 736ms/step - loss: 0.0988 - acc: 0.9519 - val_loss: 0.1235 - val_acc: 0.9583\n",
      "Epoch 62/100\n",
      "11/11 [==============================] - 9s 840ms/step - loss: 0.0210 - acc: 0.9943 - val_loss: 0.1952 - val_acc: 0.9265\n",
      "Epoch 63/100\n",
      "11/11 [==============================] - 8s 738ms/step - loss: 0.0426 - acc: 0.9720 - val_loss: 0.3102 - val_acc: 0.9265\n",
      "Epoch 64/100\n",
      "11/11 [==============================] - 7s 629ms/step - loss: 0.0301 - acc: 0.9886 - val_loss: 0.3894 - val_acc: 0.8971\n",
      "Epoch 65/100\n",
      "11/11 [==============================] - 7s 662ms/step - loss: 0.0604 - acc: 0.9605 - val_loss: 0.1461 - val_acc: 0.9583\n",
      "Epoch 66/100\n",
      "11/11 [==============================] - 7s 642ms/step - loss: 0.0717 - acc: 0.9605 - val_loss: 0.1492 - val_acc: 0.9559\n",
      "Epoch 67/100\n",
      "11/11 [==============================] - 7s 598ms/step - loss: 0.0359 - acc: 0.9943 - val_loss: 0.3612 - val_acc: 0.8676\n",
      "Epoch 68/100\n",
      "11/11 [==============================] - 7s 652ms/step - loss: 0.0466 - acc: 0.9858 - val_loss: 0.3253 - val_acc: 0.9118\n",
      "Epoch 69/100\n",
      "11/11 [==============================] - 9s 783ms/step - loss: 0.0995 - acc: 0.9720 - val_loss: 0.3309 - val_acc: 0.8854\n",
      "Epoch 70/100\n",
      "11/11 [==============================] - 7s 678ms/step - loss: 0.0870 - acc: 0.9771 - val_loss: 0.0960 - val_acc: 0.9853\n",
      "Epoch 71/100\n",
      "11/11 [==============================] - 7s 642ms/step - loss: 0.0167 - acc: 1.0000 - val_loss: 0.2906 - val_acc: 0.8676\n",
      "Epoch 72/100\n",
      "11/11 [==============================] - 8s 709ms/step - loss: 0.0112 - acc: 1.0000 - val_loss: 0.1997 - val_acc: 0.9412\n",
      "Epoch 73/100\n",
      "11/11 [==============================] - 9s 844ms/step - loss: 0.0199 - acc: 1.0000 - val_loss: 0.1914 - val_acc: 0.9271\n",
      "Epoch 74/100\n",
      "11/11 [==============================] - 9s 824ms/step - loss: 0.0675 - acc: 0.9662 - val_loss: 0.1471 - val_acc: 0.9412\n",
      "Epoch 75/100\n",
      "11/11 [==============================] - 8s 706ms/step - loss: 0.0642 - acc: 0.9857 - val_loss: 0.1448 - val_acc: 0.9559\n",
      "Epoch 76/100\n",
      "11/11 [==============================] - 7s 660ms/step - loss: 0.0848 - acc: 0.9691 - val_loss: 0.5655 - val_acc: 0.8382\n",
      "Epoch 77/100\n",
      "11/11 [==============================] - 8s 748ms/step - loss: 0.1944 - acc: 0.9290 - val_loss: 0.1385 - val_acc: 0.9375\n",
      "Epoch 78/100\n",
      "11/11 [==============================] - 8s 715ms/step - loss: 0.4800 - acc: 0.9130 - val_loss: 0.7608 - val_acc: 0.8088\n",
      "Epoch 79/100\n",
      "11/11 [==============================] - 8s 721ms/step - loss: 0.1513 - acc: 0.9403 - val_loss: 0.4771 - val_acc: 0.8824\n",
      "Epoch 80/100\n",
      "11/11 [==============================] - 8s 735ms/step - loss: 0.0276 - acc: 0.9943 - val_loss: 0.1463 - val_acc: 0.9412\n",
      "Epoch 81/100\n",
      "11/11 [==============================] - 9s 808ms/step - loss: 0.0174 - acc: 0.9971 - val_loss: 0.1254 - val_acc: 0.9583\n",
      "Epoch 82/100\n",
      "11/11 [==============================] - 8s 691ms/step - loss: 0.0196 - acc: 0.9886 - val_loss: 0.2010 - val_acc: 0.9265\n",
      "Epoch 83/100\n",
      "11/11 [==============================] - 8s 704ms/step - loss: 0.0099 - acc: 0.9971 - val_loss: 0.1367 - val_acc: 0.9559\n",
      "Epoch 84/100\n",
      "11/11 [==============================] - 7s 681ms/step - loss: 0.0121 - acc: 0.9971 - val_loss: 0.1155 - val_acc: 0.9706\n",
      "Epoch 85/100\n",
      "11/11 [==============================] - 9s 819ms/step - loss: 0.0083 - acc: 1.0000 - val_loss: 0.1333 - val_acc: 0.9583\n",
      "Epoch 86/100\n",
      "11/11 [==============================] - 8s 740ms/step - loss: 0.0201 - acc: 1.0000 - val_loss: 0.1368 - val_acc: 0.9559\n",
      "Epoch 87/100\n",
      "11/11 [==============================] - 9s 796ms/step - loss: 0.0088 - acc: 1.0000 - val_loss: 0.1474 - val_acc: 0.9412\n",
      "Epoch 88/100\n",
      "11/11 [==============================] - 7s 651ms/step - loss: 0.0234 - acc: 0.9971 - val_loss: 0.1132 - val_acc: 0.9706\n",
      "Epoch 89/100\n",
      "11/11 [==============================] - 9s 830ms/step - loss: 0.0524 - acc: 0.9830 - val_loss: 0.1239 - val_acc: 0.9479\n",
      "Epoch 90/100\n",
      "11/11 [==============================] - 8s 729ms/step - loss: 0.0369 - acc: 0.9857 - val_loss: 0.1461 - val_acc: 0.9559\n",
      "Epoch 91/100\n",
      "11/11 [==============================] - 7s 671ms/step - loss: 0.0076 - acc: 1.0000 - val_loss: 0.1611 - val_acc: 0.9559\n",
      "Epoch 92/100\n",
      "11/11 [==============================] - 7s 661ms/step - loss: 0.0089 - acc: 1.0000 - val_loss: 0.1968 - val_acc: 0.9412\n",
      "Epoch 93/100\n",
      "11/11 [==============================] - 8s 740ms/step - loss: 0.2244 - acc: 0.9268 - val_loss: 0.8758 - val_acc: 0.6042\n",
      "Epoch 94/100\n",
      "11/11 [==============================] - 8s 772ms/step - loss: 0.2793 - acc: 0.9039 - val_loss: 1.0432 - val_acc: 0.5882\n",
      "Epoch 95/100\n",
      "11/11 [==============================] - 8s 738ms/step - loss: 0.3096 - acc: 0.8701 - val_loss: 0.5858 - val_acc: 0.9118\n",
      "Epoch 96/100\n",
      "11/11 [==============================] - 8s 696ms/step - loss: 0.1191 - acc: 0.9405 - val_loss: 0.2620 - val_acc: 0.9118\n",
      "Epoch 97/100\n",
      "11/11 [==============================] - 9s 781ms/step - loss: 0.7012 - acc: 0.7871 - val_loss: 0.5350 - val_acc: 0.7812\n",
      "Epoch 98/100\n",
      "11/11 [==============================] - 8s 752ms/step - loss: 0.0260 - acc: 0.9971 - val_loss: 0.1474 - val_acc: 0.9853\n",
      "Epoch 99/100\n",
      "11/11 [==============================] - 7s 677ms/step - loss: 0.0543 - acc: 0.9771 - val_loss: 0.3189 - val_acc: 0.8824\n",
      "Epoch 100/100\n",
      "11/11 [==============================] - 7s 634ms/step - loss: 0.1533 - acc: 0.9182 - val_loss: 0.5331 - val_acc: 0.8824\n"
     ]
    }
   ],
   "source": [
    "history1 = model.fit_generator(\n",
    "              train_generator,\n",
    "              steps_per_epoch=355 // batch_size,\n",
    "              epochs=100,\n",
    "              validation_data=validation_generator,\n",
    "              validation_steps= 100 // batch_size)"
   ]
  },
  {
   "cell_type": "code",
   "execution_count": null,
   "metadata": {
    "scrolled": true
   },
   "outputs": [],
   "source": [
    "# we chose to train the top 2 inception blocks, i.e. we will freeze\n",
    "# the first 249 layers and unfreeze the rest:\n",
    "for layer in model.layers[:249]:\n",
    "    layer.trainable = False\n",
    "for layer in model.layers[249:]:\n",
    "    layer.trainable = True\n",
    "\n",
    "# we need to recompile the model for these modifications to take effect\n",
    "# we use SGD with a low learning rate\n",
    "from keras.optimizers import SGD\n",
    "model.compile(optimizer=SGD(lr=0.0001, momentum=0.9), loss='categorical_crossentropy')\n",
    "\n",
    "# we train our model again (this time fine-tuning the top 2 inception blocks\n",
    "# alongside the top Dense layers\n",
    "history2 = model.fit_generator(\n",
    "              train_generator,\n",
    "              steps_per_epoch=446 // batch_size,\n",
    "              epochs=50,\n",
    "              validation_data=validation_generator,\n",
    "              validation_steps= 150 // batch_size)"
   ]
  },
  {
   "cell_type": "markdown",
   "metadata": {},
   "source": [
    "<b>Plot</b>"
   ]
  },
  {
   "cell_type": "code",
   "execution_count": 10,
   "metadata": {
    "scrolled": false
   },
   "outputs": [
    {
     "data": {
      "image/png": "[encoded data removed]",
      "text/plain": [
       "<Figure size 432x288 with 1 Axes>"
      ]
     },
     "metadata": {
      "needs_background": "light"
     },
     "output_type": "display_data"
    },
    {
     "data": {
      "image/png": "[encoded data removed]",
      "text/plain": [
       "<Figure size 432x288 with 1 Axes>"
      ]
     },
     "metadata": {
      "needs_background": "light"
     },
     "output_type": "display_data"
    }
   ],
   "source": [
    "plot_history(history1, mean_N=3, ylim_acc=(0.4,1.0),ylim_loss=(0.0,1.6), save=True, path='nets/inceptionV3_net/', name='plot2')"
   ]
  },
  {
   "cell_type": "code",
   "execution_count": null,
   "metadata": {},
   "outputs": [],
   "source": [
    "plot_history(history2, mean_N=3)"
   ]
  },
  {
   "cell_type": "code",
   "execution_count": 9,
   "metadata": {},
   "outputs": [
    {
     "name": "stdout",
     "output_type": "stream",
     "text": [
      "\r",
      "50/50 [==============================] - 3s 64ms/step\n"
     ]
    },
    {
     "data": {
      "text/plain": [
       "[0.2388392686843872, 0.9399999976158142]"
      ]
     },
     "execution_count": 9,
     "metadata": {},
     "output_type": "execute_result"
    }
   ],
   "source": [
    "imgs, labels = next(test_generator)\n",
    "\n",
    "model.evaluate(imgs,labels, batch_size=50)"
   ]
  },
  {
   "cell_type": "markdown",
   "metadata": {},
   "source": [
    "### New method"
   ]
  },
  {
   "cell_type": "code",
   "execution_count": 4,
   "metadata": {},
   "outputs": [],
   "source": [
    "from keras.layers import Dense, Activation, Dropout, Flatten, Conv2D, MaxPooling2D\n",
    "from keras.models import Model, Sequential\n",
    "from keras.applications import inception_v3"
   ]
  },
  {
   "cell_type": "markdown",
   "metadata": {},
   "source": [
    "**Downloading and defining the basemodel of network inception**"
   ]
  },
  {
   "cell_type": "code",
   "execution_count": 2,
   "metadata": {},
   "outputs": [
    {
     "name": "stdout",
     "output_type": "stream",
     "text": [
      "Downloading data from https://github.com/fchollet/deep-learning-models/releases/download/v0.5/inception_v3_weights_tf_dim_ordering_tf_kernels_notop.h5\n",
      "87916544/87910968 [==============================] - 6s 0us/step\n"
     ]
    }
   ],
   "source": [
    "base_model = inception_v3.InceptionV3(include_top=False, weights='imagenet', input_shape=(224,224, 3))"
   ]
  },
  {
   "cell_type": "markdown",
   "metadata": {},
   "source": [
    "**Adding the last layers to network inception**"
   ]
  },
  {
   "cell_type": "code",
   "execution_count": 6,
   "metadata": {},
   "outputs": [
    {
     "name": "stdout",
     "output_type": "stream",
     "text": [
      "_________________________________________________________________\n",
      "Layer (type)                 Output Shape              Param #   \n",
      "=================================================================\n",
      "inception_v3 (Model)         (None, 5, 5, 2048)        21802784  \n",
      "_________________________________________________________________\n",
      "flatten_1 (Flatten)          (None, 51200)             0         \n",
      "_________________________________________________________________\n",
      "dense_1 (Dense)              (None, 1024)              52429824  \n",
      "_________________________________________________________________\n",
      "dense_2 (Dense)              (None, 8)                 8200      \n",
      "=================================================================\n",
      "Total params: 74,240,808\n",
      "Trainable params: 74,206,376\n",
      "Non-trainable params: 34,432\n",
      "_________________________________________________________________\n"
     ]
    }
   ],
   "source": [
    "model = Sequential()\n",
    "model.add(base_model)\n",
    "model.add(layers.Flatten())\n",
    "model.add(Dense(1024, activation='relu'))\n",
    "model.add(Dense(8, activation='softmax'))\n",
    "model.summary()"
   ]
  },
  {
   "cell_type": "code",
   "execution_count": null,
   "metadata": {},
   "outputs": [],
   "source": []
  }
 ],
 "metadata": {
  "kernelspec": {
   "display_name": "Python 3",
   "language": "python",
   "name": "python3"
  },
  "language_info": {
   "codemirror_mode": {
    "name": "ipython",
    "version": 3
   },
   "file_extension": ".py",
   "mimetype": "text/x-python",
   "name": "python",
   "nbconvert_exporter": "python",
   "pygments_lexer": "ipython3",
   "version": "3.6.8"
  }
 },
 "nbformat": 4,
 "nbformat_minor": 2
}
