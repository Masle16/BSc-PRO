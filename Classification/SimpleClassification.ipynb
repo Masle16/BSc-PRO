{
 "cells": [
  {
   "cell_type": "markdown",
   "metadata": {},
   "source": [
    "<h1>Purpose of this notebook</h1>\n",
    "The purpose of this notebook is to see the effects of data augmentation.\n",
    "\n",
    "Data augmentation is when the data is augmented to generate multiple versions of the same image.\n",
    "\n",
    "When only a small dataset of images is available it might show to be beneficial to use data augmentation.\n",
    "Since the neural network might be overfitting the training data."
   ]
  },
  {
   "cell_type": "code",
   "execution_count": 1,
   "metadata": {},
   "outputs": [
    {
     "name": "stderr",
     "output_type": "stream",
     "text": [
      "Using TensorFlow backend.\n"
     ]
    }
   ],
   "source": [
    "import numpy as np\n",
    "import tensorflow as tf\n",
    "from keras.preprocessing import image\n",
    "from keras.preprocessing.image import ImageDataGenerator\n",
    "import matplotlib.pyplot as plt\n",
    "from keras.applications import mobilenet\n",
    "from keras.layers import Dense, GlobalAveragePooling2D, Activation, Dropout, Flatten, Dense, Conv2D, MaxPooling2D\n",
    "from keras.models import Model, Sequential\n",
    "from keras import models\n",
    "from keras import layers\n",
    "from keras.optimizers import Adam, RMSprop\n",
    "from util.plots import plot_history"
   ]
  },
  {
   "cell_type": "markdown",
   "metadata": {},
   "source": [
    "<b>Resources used to train, validate and test.</b>"
   ]
  },
  {
   "cell_type": "code",
   "execution_count": 2,
   "metadata": {},
   "outputs": [],
   "source": [
    "train_path = '../Retraining/resources/train'\n",
    "valid_path = '../Retraining/resources/valid'\n",
    "test_path = '../Retraining/resources/test'"
   ]
  },
  {
   "cell_type": "markdown",
   "metadata": {},
   "source": [
    "<h1>ImageDataGenerators: Without data augmentation</h1>\n"
   ]
  },
  {
   "cell_type": "code",
   "execution_count": 3,
   "metadata": {},
   "outputs": [
    {
     "name": "stdout",
     "output_type": "stream",
     "text": [
      "Found 299 images belonging to 3 classes.\n",
      "Found 82 images belonging to 3 classes.\n"
     ]
    }
   ],
   "source": [
    "batch_size = 16\n",
    "\n",
    "train_datagen_wo = ImageDataGenerator(\n",
    "        rescale=1./255\n",
    ")\n",
    "\n",
    "valid_datagen_wo = ImageDataGenerator(\n",
    "        rescale=1./255\n",
    ")\n",
    "\n",
    "# Train data generator\n",
    "train_generator_wo = train_datagen_wo.flow_from_directory(\n",
    "        train_path,\n",
    "        target_size=(224, 224),\n",
    "        batch_size=batch_size,\n",
    "        classes=['potato', 'catfood', 'table'])\n",
    "\n",
    "# Validation data generator\n",
    "validation_generator_wo = valid_datagen_wo.flow_from_directory(\n",
    "        valid_path,\n",
    "        target_size=(224, 224),\n",
    "        batch_size=batch_size,\n",
    "        classes=['potato', 'catfood', 'table'])"
   ]
  },
  {
   "cell_type": "markdown",
   "metadata": {},
   "source": [
    "<h1>ImageDataGenerators: With data augmentation</h1>\n",
    "<ul>\n",
    "    <li> <b>Rescale</b> rescales image data from range [0 255] to range [0 1] </li>\n",
    "    <li><b>Shear_range</b> a range with how much the data is augmented with respect to shear</li>\n",
    "    <li><b>Zoom_range</b> range for a random zoom. [1-zoom_range 1+zoom_range]</li>\n",
    "    <li><b>Horizontal_flip:</b> boolean if it should be possible to make a random horizontal flip</li>\n",
    "</ul>\n",
    "\n",
    "\n",
    "Should be tested:\n",
    "<ul>\n",
    "    <li><b>Rotation_range</b></li>\n",
    "    <li><b>brightness_range</b></li>\n",
    "</ul>"
   ]
  },
  {
   "cell_type": "code",
   "execution_count": 4,
   "metadata": {},
   "outputs": [
    {
     "name": "stdout",
     "output_type": "stream",
     "text": [
      "Found 299 images belonging to 3 classes.\n",
      "Found 82 images belonging to 3 classes.\n"
     ]
    }
   ],
   "source": [
    "batch_size = 16\n",
    "\n",
    "train_datagen = ImageDataGenerator(\n",
    "        rescale=1./255,\n",
    "        shear_range=0.2,\n",
    "        zoom_range=0.2,\n",
    "        horizontal_flip=True)\n",
    "\n",
    "valid_datagen = ImageDataGenerator(\n",
    "        rescale=1./255\n",
    ")\n",
    "\n",
    "# Train data generator\n",
    "train_generator = train_datagen.flow_from_directory(\n",
    "        train_path,\n",
    "        target_size=(224, 224),\n",
    "        batch_size=batch_size,\n",
    "        classes=['potato', 'catfood', 'table'])\n",
    "\n",
    "# Validation data generator\n",
    "validation_generator = valid_datagen.flow_from_directory(\n",
    "        valid_path,\n",
    "        target_size=(224, 224),\n",
    "        batch_size=batch_size,\n",
    "        classes=['potato', 'catfood', 'table'])"
   ]
  },
  {
   "cell_type": "markdown",
   "metadata": {},
   "source": [
    "<h1>Network</h1>"
   ]
  },
  {
   "cell_type": "code",
   "execution_count": 5,
   "metadata": {},
   "outputs": [],
   "source": [
    "model = Sequential()\n",
    "model.add(Conv2D(32, (3, 3), input_shape=(224, 224, 3)))    # 32\n",
    "model.add(Activation('relu'))\n",
    "model.add(MaxPooling2D(pool_size=(2, 2)))\n",
    "\n",
    "model.add(Conv2D(64, (3, 3)))                               # 64\n",
    "model.add(Activation('relu'))\n",
    "model.add(MaxPooling2D(pool_size=(2, 2)))\n",
    "\n",
    "model.add(Flatten())  #  3D activation map -> 1D vector\n",
    "model.add(Dense(32))\n",
    "model.add(Activation('relu'))\n",
    "model.add(Dropout(0.5))\n",
    "model.add(Dense(3))\n",
    "model.add(Activation('softmax'))\n",
    "\n",
    "model.compile(loss='categorical_crossentropy',\n",
    "              optimizer=Adam(lr=0.001, beta_1 = 0.9, beta_2=0.999, epsilon=10e-8),\n",
    "              metrics=['accuracy'])\n",
    "\n",
    "#model.summary()"
   ]
  },
  {
   "cell_type": "markdown",
   "metadata": {},
   "source": [
    "<h1>Testing performance with data augmentation</h1>"
   ]
  },
  {
   "cell_type": "code",
   "execution_count": 6,
   "metadata": {},
   "outputs": [
    {
     "name": "stdout",
     "output_type": "stream",
     "text": [
      "Epoch 1/50\n",
      "18/18 [==============================] - 6s 325ms/step - loss: 1.1457 - acc: 0.5164 - val_loss: 0.4757 - val_acc: 0.7750\n",
      "Epoch 2/50\n",
      "18/18 [==============================] - 3s 151ms/step - loss: 0.5811 - acc: 0.7820 - val_loss: 0.4569 - val_acc: 0.8636\n",
      "Epoch 3/50\n",
      "18/18 [==============================] - 3s 155ms/step - loss: 0.5290 - acc: 0.7917 - val_loss: 0.3440 - val_acc: 0.9091\n",
      "Epoch 4/50\n",
      "18/18 [==============================] - 3s 147ms/step - loss: 0.4206 - acc: 0.7644 - val_loss: 0.2635 - val_acc: 0.9545\n",
      "Epoch 5/50\n",
      "18/18 [==============================] - 3s 148ms/step - loss: 0.3514 - acc: 0.8232 - val_loss: 0.2231 - val_acc: 0.9242\n",
      "Epoch 6/50\n",
      "18/18 [==============================] - 3s 144ms/step - loss: 0.3998 - acc: 0.7812 - val_loss: 0.2477 - val_acc: 0.9545\n",
      "Epoch 7/50\n",
      "18/18 [==============================] - 2s 139ms/step - loss: 0.3086 - acc: 0.8305 - val_loss: 0.2678 - val_acc: 0.9125\n",
      "Epoch 8/50\n",
      "18/18 [==============================] - 3s 175ms/step - loss: 0.3425 - acc: 0.8734 - val_loss: 0.1974 - val_acc: 0.9394\n",
      "Epoch 9/50\n",
      "18/18 [==============================] - 3s 158ms/step - loss: 0.2324 - acc: 0.9225 - val_loss: 0.3171 - val_acc: 0.9545\n",
      "Epoch 10/50\n",
      "18/18 [==============================] - 3s 150ms/step - loss: 0.2993 - acc: 0.8542 - val_loss: 0.3956 - val_acc: 0.9394\n",
      "Epoch 11/50\n",
      "18/18 [==============================] - 3s 148ms/step - loss: 0.2848 - acc: 0.8877 - val_loss: 0.3988 - val_acc: 0.8182\n",
      "Epoch 12/50\n",
      "18/18 [==============================] - 3s 154ms/step - loss: 0.4127 - acc: 0.7951 - val_loss: 0.7549 - val_acc: 0.7273\n",
      "Epoch 13/50\n",
      "18/18 [==============================] - 3s 170ms/step - loss: 0.4533 - acc: 0.8341 - val_loss: 0.5167 - val_acc: 0.8625\n",
      "Epoch 14/50\n",
      "18/18 [==============================] - 3s 154ms/step - loss: 0.4427 - acc: 0.9012 - val_loss: 0.5482 - val_acc: 0.8939\n",
      "Epoch 15/50\n",
      "18/18 [==============================] - 3s 149ms/step - loss: 0.4504 - acc: 0.8371 - val_loss: 0.5187 - val_acc: 0.9091\n",
      "Epoch 16/50\n",
      "18/18 [==============================] - 3s 153ms/step - loss: 0.4195 - acc: 0.8421 - val_loss: 0.6706 - val_acc: 0.8333\n",
      "Epoch 17/50\n",
      "18/18 [==============================] - 3s 143ms/step - loss: 0.4292 - acc: 0.8495 - val_loss: 0.3266 - val_acc: 0.9394\n",
      "Epoch 18/50\n",
      "18/18 [==============================] - 3s 142ms/step - loss: 0.3498 - acc: 0.9255 - val_loss: 0.6948 - val_acc: 0.9394\n",
      "Epoch 19/50\n",
      "18/18 [==============================] - 3s 140ms/step - loss: 0.3463 - acc: 0.9220 - val_loss: 0.6154 - val_acc: 0.9375\n",
      "Epoch 20/50\n",
      "18/18 [==============================] - 3s 152ms/step - loss: 0.2831 - acc: 0.9687 - val_loss: 0.6286 - val_acc: 0.9242\n",
      "Epoch 21/50\n",
      "18/18 [==============================] - 3s 155ms/step - loss: 0.3347 - acc: 0.9167 - val_loss: 0.5493 - val_acc: 0.9394\n",
      "Epoch 22/50\n",
      "18/18 [==============================] - 3s 154ms/step - loss: 0.2628 - acc: 0.9463 - val_loss: 0.5300 - val_acc: 0.9697\n",
      "Epoch 23/50\n",
      "18/18 [==============================] - 3s 143ms/step - loss: 0.2823 - acc: 0.9409 - val_loss: 0.8149 - val_acc: 0.9091\n",
      "Epoch 24/50\n",
      "18/18 [==============================] - 3s 147ms/step - loss: 0.2798 - acc: 0.9548 - val_loss: 0.5760 - val_acc: 0.9545\n",
      "Epoch 25/50\n",
      "18/18 [==============================] - 3s 148ms/step - loss: 0.2472 - acc: 0.9479 - val_loss: 0.7112 - val_acc: 0.9375\n",
      "Epoch 26/50\n",
      "18/18 [==============================] - 3s 149ms/step - loss: 0.2551 - acc: 0.9375 - val_loss: 1.1202 - val_acc: 0.8788\n",
      "Epoch 27/50\n",
      "18/18 [==============================] - 2s 138ms/step - loss: 0.2810 - acc: 0.9325 - val_loss: 0.2031 - val_acc: 0.9242\n",
      "Epoch 28/50\n",
      "18/18 [==============================] - 3s 149ms/step - loss: 0.2878 - acc: 0.9394 - val_loss: 0.5535 - val_acc: 0.9545\n",
      "Epoch 29/50\n",
      "18/18 [==============================] - 3s 148ms/step - loss: 0.2091 - acc: 0.9618 - val_loss: 0.6848 - val_acc: 0.9394\n",
      "Epoch 30/50\n",
      "18/18 [==============================] - 3s 146ms/step - loss: 0.2306 - acc: 0.9722 - val_loss: 0.4224 - val_acc: 0.9394\n",
      "Epoch 31/50\n",
      "18/18 [==============================] - 3s 161ms/step - loss: 0.2060 - acc: 0.9756 - val_loss: 0.4055 - val_acc: 0.9625\n",
      "Epoch 32/50\n",
      "18/18 [==============================] - 3s 161ms/step - loss: 0.1803 - acc: 0.9811 - val_loss: 0.6728 - val_acc: 0.9394\n",
      "Epoch 33/50\n",
      "18/18 [==============================] - 3s 153ms/step - loss: 0.1508 - acc: 0.9861 - val_loss: 0.8705 - val_acc: 0.9242\n",
      "Epoch 34/50\n",
      "18/18 [==============================] - 3s 154ms/step - loss: 0.1753 - acc: 0.9757 - val_loss: 1.0842 - val_acc: 0.9394\n",
      "Epoch 35/50\n",
      "18/18 [==============================] - 3s 148ms/step - loss: 0.1396 - acc: 0.9776 - val_loss: 0.7815 - val_acc: 0.8788\n",
      "Epoch 36/50\n",
      "18/18 [==============================] - 7s 400ms/step - loss: 0.2166 - acc: 0.9375 - val_loss: 0.4525 - val_acc: 0.8939\n",
      "Epoch 37/50\n",
      "18/18 [==============================] - 8s 431ms/step - loss: 0.2717 - acc: 0.8853 - val_loss: 0.5550 - val_acc: 0.9000\n",
      "Epoch 38/50\n",
      "18/18 [==============================] - 5s 282ms/step - loss: 0.3574 - acc: 0.8893 - val_loss: 0.8726 - val_acc: 0.8788\n",
      "Epoch 39/50\n",
      "18/18 [==============================] - 5s 284ms/step - loss: 0.2378 - acc: 0.9002 - val_loss: 0.4140 - val_acc: 0.9091\n",
      "Epoch 40/50\n",
      "18/18 [==============================] - 5s 256ms/step - loss: 0.2407 - acc: 0.9131 - val_loss: 0.7483 - val_acc: 0.8030\n",
      "Epoch 41/50\n",
      "18/18 [==============================] - 4s 231ms/step - loss: 0.3611 - acc: 0.8163 - val_loss: 0.5386 - val_acc: 0.7576\n",
      "Epoch 42/50\n",
      "18/18 [==============================] - 4s 214ms/step - loss: 0.3206 - acc: 0.8615 - val_loss: 0.2017 - val_acc: 0.9394\n",
      "Epoch 43/50\n",
      "18/18 [==============================] - 4s 216ms/step - loss: 0.2472 - acc: 0.9132 - val_loss: 0.4814 - val_acc: 0.9250\n",
      "Epoch 44/50\n",
      "18/18 [==============================] - 4s 241ms/step - loss: 0.2494 - acc: 0.9339 - val_loss: 0.2015 - val_acc: 0.8939\n",
      "Epoch 45/50\n",
      "18/18 [==============================] - 3s 191ms/step - loss: 0.3396 - acc: 0.8317 - val_loss: 0.2133 - val_acc: 0.9091\n",
      "Epoch 46/50\n",
      "18/18 [==============================] - 3s 187ms/step - loss: 0.3073 - acc: 0.8367 - val_loss: 0.2569 - val_acc: 0.8939\n",
      "Epoch 47/50\n",
      "18/18 [==============================] - 3s 187ms/step - loss: 0.3000 - acc: 0.8600 - val_loss: 0.3706 - val_acc: 0.8939\n",
      "Epoch 48/50\n",
      "18/18 [==============================] - 4s 216ms/step - loss: 0.2447 - acc: 0.9166 - val_loss: 0.6360 - val_acc: 0.9242\n",
      "Epoch 49/50\n",
      "18/18 [==============================] - 3s 167ms/step - loss: 0.2949 - acc: 0.8715 - val_loss: 0.5846 - val_acc: 0.8500\n",
      "Epoch 50/50\n",
      "18/18 [==============================] - 3s 161ms/step - loss: 0.3654 - acc: 0.8198 - val_loss: 0.2240 - val_acc: 0.9091\n"
     ]
    }
   ],
   "source": [
    "history = model.fit_generator(\n",
    "            train_generator,\n",
    "            steps_per_epoch=299 // batch_size,\n",
    "            epochs=50,\n",
    "            validation_data=validation_generator,\n",
    "            validation_steps=82 // batch_size)"
   ]
  },
  {
   "cell_type": "code",
   "execution_count": 9,
   "metadata": {},
   "outputs": [
    {
     "name": "stdout",
     "output_type": "stream",
     "text": [
      "Found 35 images belonging to 3 classes.\n"
     ]
    }
   ],
   "source": [
    "test_datagen = ImageDataGenerator(\n",
    "        rescale=1./255\n",
    ")\n",
    "\n",
    "# this is a similar generator, for validation data\n",
    "test_generator = valid_datagen.flow_from_directory(\n",
    "        test_path,\n",
    "        target_size=(224, 224),\n",
    "        batch_size=batch_size,\n",
    "        classes=['potato', 'catfood', 'table'])"
   ]
  },
  {
   "cell_type": "code",
   "execution_count": 9,
   "metadata": {},
   "outputs": [
    {
     "name": "stdout",
     "output_type": "stream",
     "text": [
      "\r",
      "16/16 [==============================] - 0s 2ms/step\n"
     ]
    },
    {
     "data": {
      "text/plain": [
       "[0.5577661991119385, 0.8125]"
      ]
     },
     "execution_count": 9,
     "metadata": {},
     "output_type": "execute_result"
    }
   ],
   "source": [
    "imgs, labels = next(test_generator)\n",
    "\n",
    "#ynew = model.predict(imgs)\n",
    "\n",
    "model.evaluate(imgs,labels, batch_size=batch_size)"
   ]
  },
  {
   "cell_type": "code",
   "execution_count": null,
   "metadata": {},
   "outputs": [],
   "source": [
    "gul_path = '../Retraining/tfpoet/tf_files/test/gulerod.jpg'\n",
    "img = image.load_img(gul_path, target_size=(224, 224))\n",
    "img = image.img_to_array(img)\n",
    "img = img\n",
    "img = np.expand_dims(img, axis=0)\n",
    "out = model.predict(img)"
   ]
  },
  {
   "cell_type": "code",
   "execution_count": null,
   "metadata": {},
   "outputs": [],
   "source": [
    "labels"
   ]
  },
  {
   "cell_type": "code",
   "execution_count": 7,
   "metadata": {},
   "outputs": [
    {
     "data": {
      "image/png": "[encoded data removed]",
      "text/plain": [
       "<Figure size 432x288 with 1 Axes>"
      ]
     },
     "metadata": {
      "needs_background": "light"
     },
     "output_type": "display_data"
    },
    {
     "data": {
      "image/png": "[encoded data removed]",
      "text/plain": [
       "<Figure size 432x288 with 1 Axes>"
      ]
     },
     "metadata": {
      "needs_background": "light"
     },
     "output_type": "display_data"
    }
   ],
   "source": [
    "plot_history(history)"
   ]
  },
  {
   "cell_type": "code",
   "execution_count": 10,
   "metadata": {
    "collapsed": true
   },
   "outputs": [
    {
     "data": {
      "image/svg+xml": [
       "<svg height=\"921pt\" viewBox=\"0.00 0.00 215.00 921.00\" width=\"215pt\" xmlns=\"http://www.w3.org/2000/svg\" xmlns:xlink=\"http://www.w3.org/1999/xlink\">\n",
       "<g class=\"graph\" id=\"graph0\" transform=\"scale(1 1) rotate(0) translate(4 917)\">\n",
       "<title>G</title>\n",
       "<polygon fill=\"#ffffff\" points=\"-4,4 -4,-917 211,-917 211,4 -4,4\" stroke=\"transparent\"/>\n",
       "<!-- 140467368802008 -->\n",
       "<g class=\"node\" id=\"node1\">\n",
       "<title>140467368802008</title>\n",
       "<polygon fill=\"none\" points=\"42,-803.5 42,-839.5 165,-839.5 165,-803.5 42,-803.5\" stroke=\"#000000\"/>\n",
       "<text fill=\"#000000\" font-family=\"Times,serif\" font-size=\"14.00\" text-anchor=\"middle\" x=\"103.5\" y=\"-817.8\">conv2d_1: Conv2D</text>\n",
       "</g>\n",
       "<!-- 140469393004136 -->\n",
       "<g class=\"node\" id=\"node2\">\n",
       "<title>140469393004136</title>\n",
       "<polygon fill=\"none\" points=\"29.5,-730.5 29.5,-766.5 177.5,-766.5 177.5,-730.5 29.5,-730.5\" stroke=\"#000000\"/>\n",
       "<text fill=\"#000000\" font-family=\"Times,serif\" font-size=\"14.00\" text-anchor=\"middle\" x=\"103.5\" y=\"-744.8\">activation_1: Activation</text>\n",
       "</g>\n",
       "<!-- 140467368802008&#45;&gt;140469393004136 -->\n",
       "<g class=\"edge\" id=\"edge2\">\n",
       "<title>140467368802008-&gt;140469393004136</title>\n",
       "<path d=\"M103.5,-803.4551C103.5,-795.3828 103.5,-785.6764 103.5,-776.6817\" fill=\"none\" stroke=\"#000000\"/>\n",
       "<polygon fill=\"#000000\" points=\"107.0001,-776.5903 103.5,-766.5904 100.0001,-776.5904 107.0001,-776.5903\" stroke=\"#000000\"/>\n",
       "</g>\n",
       "<!-- 140467368803520 -->\n",
       "<g class=\"node\" id=\"node3\">\n",
       "<title>140467368803520</title>\n",
       "<polygon fill=\"none\" points=\"0,-657.5 0,-693.5 207,-693.5 207,-657.5 0,-657.5\" stroke=\"#000000\"/>\n",
       "<text fill=\"#000000\" font-family=\"Times,serif\" font-size=\"14.00\" text-anchor=\"middle\" x=\"103.5\" y=\"-671.8\">max_pooling2d_1: MaxPooling2D</text>\n",
       "</g>\n",
       "<!-- 140469393004136&#45;&gt;140467368803520 -->\n",
       "<g class=\"edge\" id=\"edge3\">\n",
       "<title>140469393004136-&gt;140467368803520</title>\n",
       "<path d=\"M103.5,-730.4551C103.5,-722.3828 103.5,-712.6764 103.5,-703.6817\" fill=\"none\" stroke=\"#000000\"/>\n",
       "<polygon fill=\"#000000\" points=\"107.0001,-703.5903 103.5,-693.5904 100.0001,-703.5904 107.0001,-703.5903\" stroke=\"#000000\"/>\n",
       "</g>\n",
       "<!-- 140467368803632 -->\n",
       "<g class=\"node\" id=\"node4\">\n",
       "<title>140467368803632</title>\n",
       "<polygon fill=\"none\" points=\"42,-584.5 42,-620.5 165,-620.5 165,-584.5 42,-584.5\" stroke=\"#000000\"/>\n",
       "<text fill=\"#000000\" font-family=\"Times,serif\" font-size=\"14.00\" text-anchor=\"middle\" x=\"103.5\" y=\"-598.8\">conv2d_2: Conv2D</text>\n",
       "</g>\n",
       "<!-- 140467368803520&#45;&gt;140467368803632 -->\n",
       "<g class=\"edge\" id=\"edge4\">\n",
       "<title>140467368803520-&gt;140467368803632</title>\n",
       "<path d=\"M103.5,-657.4551C103.5,-649.3828 103.5,-639.6764 103.5,-630.6817\" fill=\"none\" stroke=\"#000000\"/>\n",
       "<polygon fill=\"#000000\" points=\"107.0001,-630.5903 103.5,-620.5904 100.0001,-630.5904 107.0001,-630.5903\" stroke=\"#000000\"/>\n",
       "</g>\n",
       "<!-- 140467368803408 -->\n",
       "<g class=\"node\" id=\"node5\">\n",
       "<title>140467368803408</title>\n",
       "<polygon fill=\"none\" points=\"29.5,-511.5 29.5,-547.5 177.5,-547.5 177.5,-511.5 29.5,-511.5\" stroke=\"#000000\"/>\n",
       "<text fill=\"#000000\" font-family=\"Times,serif\" font-size=\"14.00\" text-anchor=\"middle\" x=\"103.5\" y=\"-525.8\">activation_2: Activation</text>\n",
       "</g>\n",
       "<!-- 140467368803632&#45;&gt;140467368803408 -->\n",
       "<g class=\"edge\" id=\"edge5\">\n",
       "<title>140467368803632-&gt;140467368803408</title>\n",
       "<path d=\"M103.5,-584.4551C103.5,-576.3828 103.5,-566.6764 103.5,-557.6817\" fill=\"none\" stroke=\"#000000\"/>\n",
       "<polygon fill=\"#000000\" points=\"107.0001,-557.5903 103.5,-547.5904 100.0001,-557.5904 107.0001,-557.5903\" stroke=\"#000000\"/>\n",
       "</g>\n",
       "<!-- 140467309473520 -->\n",
       "<g class=\"node\" id=\"node6\">\n",
       "<title>140467309473520</title>\n",
       "<polygon fill=\"none\" points=\"0,-438.5 0,-474.5 207,-474.5 207,-438.5 0,-438.5\" stroke=\"#000000\"/>\n",
       "<text fill=\"#000000\" font-family=\"Times,serif\" font-size=\"14.00\" text-anchor=\"middle\" x=\"103.5\" y=\"-452.8\">max_pooling2d_2: MaxPooling2D</text>\n",
       "</g>\n",
       "<!-- 140467368803408&#45;&gt;140467309473520 -->\n",
       "<g class=\"edge\" id=\"edge6\">\n",
       "<title>140467368803408-&gt;140467309473520</title>\n",
       "<path d=\"M103.5,-511.4551C103.5,-503.3828 103.5,-493.6764 103.5,-484.6817\" fill=\"none\" stroke=\"#000000\"/>\n",
       "<polygon fill=\"#000000\" points=\"107.0001,-484.5903 103.5,-474.5904 100.0001,-484.5904 107.0001,-484.5903\" stroke=\"#000000\"/>\n",
       "</g>\n",
       "<!-- 140467309473016 -->\n",
       "<g class=\"node\" id=\"node7\">\n",
       "<title>140467309473016</title>\n",
       "<polygon fill=\"none\" points=\"48.5,-365.5 48.5,-401.5 158.5,-401.5 158.5,-365.5 48.5,-365.5\" stroke=\"#000000\"/>\n",
       "<text fill=\"#000000\" font-family=\"Times,serif\" font-size=\"14.00\" text-anchor=\"middle\" x=\"103.5\" y=\"-379.8\">flatten_1: Flatten</text>\n",
       "</g>\n",
       "<!-- 140467309473520&#45;&gt;140467309473016 -->\n",
       "<g class=\"edge\" id=\"edge7\">\n",
       "<title>140467309473520-&gt;140467309473016</title>\n",
       "<path d=\"M103.5,-438.4551C103.5,-430.3828 103.5,-420.6764 103.5,-411.6817\" fill=\"none\" stroke=\"#000000\"/>\n",
       "<polygon fill=\"#000000\" points=\"107.0001,-411.5903 103.5,-401.5904 100.0001,-411.5904 107.0001,-411.5903\" stroke=\"#000000\"/>\n",
       "</g>\n",
       "<!-- 140467368060968 -->\n",
       "<g class=\"node\" id=\"node8\">\n",
       "<title>140467368060968</title>\n",
       "<polygon fill=\"none\" points=\"52.5,-292.5 52.5,-328.5 154.5,-328.5 154.5,-292.5 52.5,-292.5\" stroke=\"#000000\"/>\n",
       "<text fill=\"#000000\" font-family=\"Times,serif\" font-size=\"14.00\" text-anchor=\"middle\" x=\"103.5\" y=\"-306.8\">dense_1: Dense</text>\n",
       "</g>\n",
       "<!-- 140467309473016&#45;&gt;140467368060968 -->\n",
       "<g class=\"edge\" id=\"edge8\">\n",
       "<title>140467309473016-&gt;140467368060968</title>\n",
       "<path d=\"M103.5,-365.4551C103.5,-357.3828 103.5,-347.6764 103.5,-338.6817\" fill=\"none\" stroke=\"#000000\"/>\n",
       "<polygon fill=\"#000000\" points=\"107.0001,-338.5903 103.5,-328.5904 100.0001,-338.5904 107.0001,-338.5903\" stroke=\"#000000\"/>\n",
       "</g>\n",
       "<!-- 140467368145920 -->\n",
       "<g class=\"node\" id=\"node9\">\n",
       "<title>140467368145920</title>\n",
       "<polygon fill=\"none\" points=\"29.5,-219.5 29.5,-255.5 177.5,-255.5 177.5,-219.5 29.5,-219.5\" stroke=\"#000000\"/>\n",
       "<text fill=\"#000000\" font-family=\"Times,serif\" font-size=\"14.00\" text-anchor=\"middle\" x=\"103.5\" y=\"-233.8\">activation_3: Activation</text>\n",
       "</g>\n",
       "<!-- 140467368060968&#45;&gt;140467368145920 -->\n",
       "<g class=\"edge\" id=\"edge9\">\n",
       "<title>140467368060968-&gt;140467368145920</title>\n",
       "<path d=\"M103.5,-292.4551C103.5,-284.3828 103.5,-274.6764 103.5,-265.6817\" fill=\"none\" stroke=\"#000000\"/>\n",
       "<polygon fill=\"#000000\" points=\"107.0001,-265.5903 103.5,-255.5904 100.0001,-265.5904 107.0001,-265.5903\" stroke=\"#000000\"/>\n",
       "</g>\n",
       "<!-- 140467368252080 -->\n",
       "<g class=\"node\" id=\"node10\">\n",
       "<title>140467368252080</title>\n",
       "<polygon fill=\"none\" points=\"41,-146.5 41,-182.5 166,-182.5 166,-146.5 41,-146.5\" stroke=\"#000000\"/>\n",
       "<text fill=\"#000000\" font-family=\"Times,serif\" font-size=\"14.00\" text-anchor=\"middle\" x=\"103.5\" y=\"-160.8\">dropout_1: Dropout</text>\n",
       "</g>\n",
       "<!-- 140467368145920&#45;&gt;140467368252080 -->\n",
       "<g class=\"edge\" id=\"edge10\">\n",
       "<title>140467368145920-&gt;140467368252080</title>\n",
       "<path d=\"M103.5,-219.4551C103.5,-211.3828 103.5,-201.6764 103.5,-192.6817\" fill=\"none\" stroke=\"#000000\"/>\n",
       "<polygon fill=\"#000000\" points=\"107.0001,-192.5903 103.5,-182.5904 100.0001,-192.5904 107.0001,-192.5903\" stroke=\"#000000\"/>\n",
       "</g>\n",
       "<!-- 140467368060016 -->\n",
       "<g class=\"node\" id=\"node11\">\n",
       "<title>140467368060016</title>\n",
       "<polygon fill=\"none\" points=\"52.5,-73.5 52.5,-109.5 154.5,-109.5 154.5,-73.5 52.5,-73.5\" stroke=\"#000000\"/>\n",
       "<text fill=\"#000000\" font-family=\"Times,serif\" font-size=\"14.00\" text-anchor=\"middle\" x=\"103.5\" y=\"-87.8\">dense_2: Dense</text>\n",
       "</g>\n",
       "<!-- 140467368252080&#45;&gt;140467368060016 -->\n",
       "<g class=\"edge\" id=\"edge11\">\n",
       "<title>140467368252080-&gt;140467368060016</title>\n",
       "<path d=\"M103.5,-146.4551C103.5,-138.3828 103.5,-128.6764 103.5,-119.6817\" fill=\"none\" stroke=\"#000000\"/>\n",
       "<polygon fill=\"#000000\" points=\"107.0001,-119.5903 103.5,-109.5904 100.0001,-119.5904 107.0001,-119.5903\" stroke=\"#000000\"/>\n",
       "</g>\n",
       "<!-- 140467368254656 -->\n",
       "<g class=\"node\" id=\"node12\">\n",
       "<title>140467368254656</title>\n",
       "<polygon fill=\"none\" points=\"29.5,-.5 29.5,-36.5 177.5,-36.5 177.5,-.5 29.5,-.5\" stroke=\"#000000\"/>\n",
       "<text fill=\"#000000\" font-family=\"Times,serif\" font-size=\"14.00\" text-anchor=\"middle\" x=\"103.5\" y=\"-14.8\">activation_4: Activation</text>\n",
       "</g>\n",
       "<!-- 140467368060016&#45;&gt;140467368254656 -->\n",
       "<g class=\"edge\" id=\"edge12\">\n",
       "<title>140467368060016-&gt;140467368254656</title>\n",
       "<path d=\"M103.5,-73.4551C103.5,-65.3828 103.5,-55.6764 103.5,-46.6817\" fill=\"none\" stroke=\"#000000\"/>\n",
       "<polygon fill=\"#000000\" points=\"107.0001,-46.5903 103.5,-36.5904 100.0001,-46.5904 107.0001,-46.5903\" stroke=\"#000000\"/>\n",
       "</g>\n",
       "<!-- 140467368803464 -->\n",
       "<g class=\"node\" id=\"node13\">\n",
       "<title>140467368803464</title>\n",
       "<polygon fill=\"none\" points=\"44.5,-876.5 44.5,-912.5 162.5,-912.5 162.5,-876.5 44.5,-876.5\" stroke=\"#000000\"/>\n",
       "<text fill=\"#000000\" font-family=\"Times,serif\" font-size=\"14.00\" text-anchor=\"middle\" x=\"103.5\" y=\"-890.8\">140467368803464</text>\n",
       "</g>\n",
       "<!-- 140467368803464&#45;&gt;140467368802008 -->\n",
       "<g class=\"edge\" id=\"edge1\">\n",
       "<title>140467368803464-&gt;140467368802008</title>\n",
       "<path d=\"M103.5,-876.4551C103.5,-868.3828 103.5,-858.6764 103.5,-849.6817\" fill=\"none\" stroke=\"#000000\"/>\n",
       "<polygon fill=\"#000000\" points=\"107.0001,-849.5903 103.5,-839.5904 100.0001,-849.5904 107.0001,-849.5903\" stroke=\"#000000\"/>\n",
       "</g>\n",
       "</g>\n",
       "</svg>"
      ],
      "text/plain": [
       "<IPython.core.display.SVG object>"
      ]
     },
     "execution_count": 10,
     "metadata": {},
     "output_type": "execute_result"
    }
   ],
   "source": [
    "#from IPython.display import SVG\n",
    "#from keras.utils.vis_utils import model_to_dot\n",
    "\n",
    "#SVG(model_to_dot(model).create(prog='dot', format='svg'))"
   ]
  },
  {
   "cell_type": "markdown",
   "metadata": {},
   "source": [
    "<h1>Testing performance without data augmentation</h1>"
   ]
  },
  {
   "cell_type": "code",
   "execution_count": 5,
   "metadata": {},
   "outputs": [
    {
     "name": "stdout",
     "output_type": "stream",
     "text": [
      "Epoch 1/50\n",
      "18/18 [==============================] - 3s 167ms/step - loss: 3.6822 - acc: 0.5288 - val_loss: 0.4258 - val_acc: 0.7875\n",
      "Epoch 2/50\n",
      "18/18 [==============================] - 1s 74ms/step - loss: 0.5941 - acc: 0.7125 - val_loss: 0.3255 - val_acc: 0.8182\n",
      "Epoch 3/50\n",
      "18/18 [==============================] - 1s 72ms/step - loss: 0.4434 - acc: 0.7924 - val_loss: 0.3207 - val_acc: 0.8333\n",
      "Epoch 4/50\n",
      "18/18 [==============================] - 1s 71ms/step - loss: 0.5501 - acc: 0.8083 - val_loss: 0.4336 - val_acc: 0.7879\n",
      "Epoch 5/50\n",
      "18/18 [==============================] - 1s 72ms/step - loss: 0.3391 - acc: 0.8576 - val_loss: 0.4569 - val_acc: 0.7727\n",
      "Epoch 6/50\n",
      "18/18 [==============================] - 1s 65ms/step - loss: 0.3407 - acc: 0.8469 - val_loss: 0.4954 - val_acc: 0.8788\n",
      "Epoch 7/50\n",
      "18/18 [==============================] - 1s 70ms/step - loss: 0.2713 - acc: 0.8992 - val_loss: 0.4874 - val_acc: 0.8250\n",
      "Epoch 8/50\n",
      "18/18 [==============================] - 1s 74ms/step - loss: 0.3354 - acc: 0.8803 - val_loss: 0.3274 - val_acc: 0.8030\n",
      "Epoch 9/50\n",
      "18/18 [==============================] - 1s 76ms/step - loss: 0.2888 - acc: 0.8993 - val_loss: 0.8479 - val_acc: 0.8485\n",
      "Epoch 10/50\n",
      "18/18 [==============================] - 1s 82ms/step - loss: 0.4926 - acc: 0.8862 - val_loss: 1.0241 - val_acc: 0.8182\n",
      "Epoch 11/50\n",
      "18/18 [==============================] - 1s 76ms/step - loss: 0.1988 - acc: 0.9290 - val_loss: 0.3996 - val_acc: 0.8939\n",
      "Epoch 12/50\n",
      "18/18 [==============================] - 1s 62ms/step - loss: 0.2880 - acc: 0.9012 - val_loss: 0.8764 - val_acc: 0.7879\n",
      "Epoch 13/50\n",
      "18/18 [==============================] - 1s 62ms/step - loss: 0.3213 - acc: 0.8993 - val_loss: 0.7149 - val_acc: 0.8750\n",
      "Epoch 14/50\n",
      "18/18 [==============================] - 1s 77ms/step - loss: 0.4311 - acc: 0.9031 - val_loss: 1.1033 - val_acc: 0.7879\n",
      "Epoch 15/50\n",
      "18/18 [==============================] - 1s 70ms/step - loss: 0.2164 - acc: 0.9062 - val_loss: 0.4675 - val_acc: 0.9242\n",
      "Epoch 16/50\n",
      "18/18 [==============================] - 1s 65ms/step - loss: 0.2591 - acc: 0.9201 - val_loss: 0.8920 - val_acc: 0.9091\n",
      "Epoch 17/50\n",
      "18/18 [==============================] - 1s 69ms/step - loss: 0.8164 - acc: 0.8798 - val_loss: 1.1566 - val_acc: 0.8182\n",
      "Epoch 18/50\n",
      "18/18 [==============================] - 1s 62ms/step - loss: 0.1222 - acc: 0.9374 - val_loss: 0.7005 - val_acc: 0.8485\n",
      "Epoch 19/50\n",
      "18/18 [==============================] - 1s 62ms/step - loss: 0.1097 - acc: 0.9588 - val_loss: 0.7025 - val_acc: 0.9000\n",
      "Epoch 20/50\n",
      "18/18 [==============================] - 1s 72ms/step - loss: 0.4508 - acc: 0.8993 - val_loss: 0.8289 - val_acc: 0.8788\n",
      "Epoch 21/50\n",
      "18/18 [==============================] - 1s 70ms/step - loss: 0.1784 - acc: 0.9205 - val_loss: 0.6379 - val_acc: 0.8182\n",
      "Epoch 22/50\n",
      "18/18 [==============================] - 1s 71ms/step - loss: 0.1704 - acc: 0.9533 - val_loss: 1.3460 - val_acc: 0.8333\n",
      "Epoch 23/50\n",
      "18/18 [==============================] - 1s 65ms/step - loss: 0.1172 - acc: 0.9687 - val_loss: 1.0918 - val_acc: 0.8636\n",
      "Epoch 24/50\n",
      "18/18 [==============================] - 1s 64ms/step - loss: 0.1034 - acc: 0.9479 - val_loss: 1.3894 - val_acc: 0.8485\n",
      "Epoch 25/50\n",
      "18/18 [==============================] - 1s 68ms/step - loss: 0.2891 - acc: 0.9130 - val_loss: 1.2198 - val_acc: 0.8375\n",
      "Epoch 26/50\n",
      "18/18 [==============================] - 1s 74ms/step - loss: 0.0897 - acc: 0.9618 - val_loss: 1.6872 - val_acc: 0.8333\n",
      "Epoch 27/50\n",
      "18/18 [==============================] - 1s 70ms/step - loss: 0.4352 - acc: 0.9290 - val_loss: 1.1262 - val_acc: 0.8030\n",
      "Epoch 28/50\n",
      "18/18 [==============================] - 1s 74ms/step - loss: 0.1471 - acc: 0.9409 - val_loss: 0.8781 - val_acc: 0.8788\n",
      "Epoch 29/50\n",
      "18/18 [==============================] - 1s 71ms/step - loss: 0.0955 - acc: 0.9618 - val_loss: 1.7679 - val_acc: 0.7576\n",
      "Epoch 30/50\n",
      "18/18 [==============================] - 1s 64ms/step - loss: 0.2404 - acc: 0.9201 - val_loss: 1.0601 - val_acc: 0.8788\n",
      "Epoch 31/50\n",
      "18/18 [==============================] - 1s 73ms/step - loss: 0.0939 - acc: 0.9618 - val_loss: 1.0335 - val_acc: 0.8875\n",
      "Epoch 32/50\n",
      "18/18 [==============================] - 1s 83ms/step - loss: 0.0580 - acc: 0.9791 - val_loss: 1.1584 - val_acc: 0.8485\n",
      "Epoch 33/50\n",
      "18/18 [==============================] - 1s 77ms/step - loss: 0.1372 - acc: 0.9603 - val_loss: 1.5375 - val_acc: 0.8636\n",
      "Epoch 34/50\n",
      "18/18 [==============================] - 3s 193ms/step - loss: 0.1446 - acc: 0.9603 - val_loss: 1.1236 - val_acc: 0.8788\n",
      "Epoch 35/50\n",
      "18/18 [==============================] - 5s 280ms/step - loss: 0.0867 - acc: 0.9652 - val_loss: 1.6962 - val_acc: 0.8333\n",
      "Epoch 36/50\n",
      "18/18 [==============================] - 2s 126ms/step - loss: 0.1584 - acc: 0.9464 - val_loss: 1.4396 - val_acc: 0.8485\n",
      "Epoch 37/50\n",
      "18/18 [==============================] - 2s 118ms/step - loss: 0.1875 - acc: 0.9603 - val_loss: 1.3348 - val_acc: 0.8375\n",
      "Epoch 38/50\n",
      "18/18 [==============================] - 2s 99ms/step - loss: 0.1912 - acc: 0.9533 - val_loss: 1.1574 - val_acc: 0.8636\n",
      "Epoch 39/50\n",
      "18/18 [==============================] - 1s 74ms/step - loss: 0.0689 - acc: 0.9707 - val_loss: 2.2321 - val_acc: 0.8333\n",
      "Epoch 40/50\n",
      "18/18 [==============================] - 2s 88ms/step - loss: 0.0726 - acc: 0.9757 - val_loss: 1.0838 - val_acc: 0.8636\n",
      "Epoch 41/50\n",
      "18/18 [==============================] - 2s 84ms/step - loss: 0.1213 - acc: 0.9687 - val_loss: 1.6884 - val_acc: 0.8788\n",
      "Epoch 42/50\n",
      "18/18 [==============================] - 2s 90ms/step - loss: 0.2949 - acc: 0.9444 - val_loss: 1.4802 - val_acc: 0.8485\n",
      "Epoch 43/50\n",
      "18/18 [==============================] - 1s 80ms/step - loss: 0.1579 - acc: 0.9637 - val_loss: 1.1679 - val_acc: 0.8500\n",
      "Epoch 44/50\n",
      "18/18 [==============================] - 2s 86ms/step - loss: 0.0839 - acc: 0.9687 - val_loss: 1.6819 - val_acc: 0.8333\n",
      "Epoch 45/50\n",
      "18/18 [==============================] - 1s 78ms/step - loss: 0.1234 - acc: 0.9688 - val_loss: 1.2389 - val_acc: 0.8939\n",
      "Epoch 46/50\n",
      "18/18 [==============================] - 1s 74ms/step - loss: 0.1225 - acc: 0.9533 - val_loss: 1.0899 - val_acc: 0.8636\n",
      "Epoch 47/50\n",
      "18/18 [==============================] - 1s 81ms/step - loss: 0.6539 - acc: 0.9374 - val_loss: 7.0068 - val_acc: 0.5606\n",
      "Epoch 48/50\n",
      "18/18 [==============================] - 1s 73ms/step - loss: 0.6617 - acc: 0.9235 - val_loss: 1.2653 - val_acc: 0.8485\n",
      "Epoch 49/50\n",
      "18/18 [==============================] - 1s 67ms/step - loss: 0.1064 - acc: 0.9638 - val_loss: 0.9757 - val_acc: 0.8875\n",
      "Epoch 50/50\n",
      "18/18 [==============================] - 1s 80ms/step - loss: 0.0802 - acc: 0.9618 - val_loss: 1.0509 - val_acc: 0.8939\n"
     ]
    }
   ],
   "source": [
    "historyWO = model.fit_generator(\n",
    "            train_generator_wo,\n",
    "            steps_per_epoch=299 // batch_size,\n",
    "            epochs=50,\n",
    "            validation_data=validation_generator_wo,\n",
    "            validation_steps=82 // batch_size)"
   ]
  },
  {
   "cell_type": "code",
   "execution_count": 10,
   "metadata": {},
   "outputs": [
    {
     "name": "stdout",
     "output_type": "stream",
     "text": [
      "\r",
      "16/16 [==============================] - 0s 1ms/step\n"
     ]
    },
    {
     "data": {
      "text/plain": [
       "[2.0640554428100586, 0.8125]"
      ]
     },
     "execution_count": 10,
     "metadata": {},
     "output_type": "execute_result"
    }
   ],
   "source": [
    "imgs, labels = next(test_generator)\n",
    "\n",
    "#ynew = model.predict(imgs)\n",
    "\n",
    "model.evaluate(imgs,labels, batch_size=batch_size)"
   ]
  },
  {
   "cell_type": "code",
   "execution_count": 11,
   "metadata": {},
   "outputs": [
    {
     "data": {
      "image/png": "[encoded data removed]",
      "text/plain": [
       "<Figure size 432x288 with 1 Axes>"
      ]
     },
     "metadata": {
      "needs_background": "light"
     },
     "output_type": "display_data"
    },
    {
     "data": {
      "image/png": "[encoded data removed]",
      "text/plain": [
       "<Figure size 432x288 with 1 Axes>"
      ]
     },
     "metadata": {
      "needs_background": "light"
     },
     "output_type": "display_data"
    }
   ],
   "source": [
    "plot_history(historyWO)"
   ]
  },
  {
   "cell_type": "markdown",
   "metadata": {},
   "source": [
    "<h1>Testing with original image size: 1280x720</h1>"
   ]
  },
  {
   "cell_type": "code",
   "execution_count": 1,
   "metadata": {},
   "outputs": [
    {
     "name": "stderr",
     "output_type": "stream",
     "text": [
      "Using TensorFlow backend.\n"
     ]
    }
   ],
   "source": [
    "import numpy as np\n",
    "import tensorflow as tf\n",
    "from keras.preprocessing import image\n",
    "from keras.preprocessing.image import ImageDataGenerator\n",
    "import matplotlib.pyplot as plt\n",
    "from keras.applications import mobilenet\n",
    "from keras.layers import Dense, GlobalAveragePooling2D, Activation, Dropout, Flatten, Dense, Conv2D, MaxPooling2D\n",
    "from keras.models import Model, Sequential\n",
    "from keras import models\n",
    "from keras import layers"
   ]
  },
  {
   "cell_type": "code",
   "execution_count": 2,
   "metadata": {},
   "outputs": [],
   "source": [
    "train_path = '../potato_and_catfood/train'\n",
    "valid_path = '../potato_and_catfood/valid'\n",
    "test_path = '../potato_and_catfood/test'"
   ]
  },
  {
   "cell_type": "code",
   "execution_count": 3,
   "metadata": {},
   "outputs": [
    {
     "name": "stdout",
     "output_type": "stream",
     "text": [
      "Found 446 images belonging to 3 classes.\n",
      "Found 150 images belonging to 3 classes.\n",
      "Found 35 images belonging to 3 classes.\n"
     ]
    }
   ],
   "source": [
    "batch_size = 16\n",
    "\n",
    "train_datagen = ImageDataGenerator(\n",
    "        rescale=1./255,\n",
    "        shear_range=0.2,\n",
    "        zoom_range=0.2,\n",
    "        horizontal_flip=True)\n",
    "\n",
    "valid_datagen = ImageDataGenerator(\n",
    "        rescale=1./255\n",
    ")\n",
    "\n",
    "# Train data generator\n",
    "train_generator = train_datagen.flow_from_directory(\n",
    "        train_path,\n",
    "        target_size=(720, 1280),\n",
    "        batch_size=batch_size,\n",
    "        classes=['potato', 'catfood', 'table'])\n",
    "\n",
    "# Validation data generator\n",
    "validation_generator = valid_datagen.flow_from_directory(\n",
    "        valid_path,\n",
    "        target_size=(720, 1280),\n",
    "        batch_size=batch_size,\n",
    "        classes=['potato', 'catfood', 'table'])\n",
    "\n",
    "# Test data generator\n",
    "test_datagen = ImageDataGenerator(\n",
    "        rescale=1./255\n",
    ")\n",
    "\n",
    "# this is a similar generator, for validation data\n",
    "test_generator = valid_datagen.flow_from_directory(\n",
    "        test_path,\n",
    "        target_size=(720, 1280),\n",
    "        batch_size=batch_size,\n",
    "        classes=['potato', 'catfood', 'table'])"
   ]
  },
  {
   "cell_type": "markdown",
   "metadata": {},
   "source": [
    "Network needs to be modified since the input images now is 1280x720.\n",
    "The reason behind this is that the system being used runs out of memory if the above network is used directly."
   ]
  },
  {
   "cell_type": "code",
   "execution_count": 4,
   "metadata": {
    "collapsed": true
   },
   "outputs": [
    {
     "name": "stdout",
     "output_type": "stream",
     "text": [
      "_________________________________________________________________\n",
      "Layer (type)                 Output Shape              Param #   \n",
      "=================================================================\n",
      "conv2d_1 (Conv2D)            (None, 718, 1278, 16)     448       \n",
      "_________________________________________________________________\n",
      "activation_1 (Activation)    (None, 718, 1278, 16)     0         \n",
      "_________________________________________________________________\n",
      "max_pooling2d_1 (MaxPooling2 (None, 179, 319, 16)      0         \n",
      "_________________________________________________________________\n",
      "conv2d_2 (Conv2D)            (None, 177, 317, 32)      4640      \n",
      "_________________________________________________________________\n",
      "activation_2 (Activation)    (None, 177, 317, 32)      0         \n",
      "_________________________________________________________________\n",
      "max_pooling2d_2 (MaxPooling2 (None, 44, 79, 32)        0         \n",
      "_________________________________________________________________\n",
      "flatten_1 (Flatten)          (None, 111232)            0         \n",
      "_________________________________________________________________\n",
      "dense_1 (Dense)              (None, 32)                3559456   \n",
      "_________________________________________________________________\n",
      "activation_3 (Activation)    (None, 32)                0         \n",
      "_________________________________________________________________\n",
      "dropout_1 (Dropout)          (None, 32)                0         \n",
      "_________________________________________________________________\n",
      "dense_2 (Dense)              (None, 3)                 99        \n",
      "_________________________________________________________________\n",
      "activation_4 (Activation)    (None, 3)                 0         \n",
      "=================================================================\n",
      "Total params: 3,564,643\n",
      "Trainable params: 3,564,643\n",
      "Non-trainable params: 0\n",
      "_________________________________________________________________\n"
     ]
    }
   ],
   "source": [
    "model = Sequential()\n",
    "model.add(Conv2D(16, (3, 3), input_shape=(720, 1280, 3)))\n",
    "model.add(Activation('relu'))\n",
    "model.add(MaxPooling2D(pool_size=(4, 4)))\n",
    "\n",
    "model.add(Conv2D(32, (3, 3)))\n",
    "model.add(Activation('relu'))\n",
    "model.add(MaxPooling2D(pool_size=(4, 4)))\n",
    "\n",
    "model.add(Flatten())  # this converts our 3D feature maps to 1D feature vectors\n",
    "model.add(Dense(32))\n",
    "model.add(Activation('relu'))\n",
    "model.add(Dropout(0.5))\n",
    "model.add(Dense(3))\n",
    "model.add(Activation('softmax'))\n",
    "\n",
    "model.compile(loss='categorical_crossentropy',\n",
    "              optimizer='rmsprop',\n",
    "              metrics=['accuracy'])\n",
    "\n",
    "model.summary()"
   ]
  },
  {
   "cell_type": "code",
   "execution_count": 5,
   "metadata": {
    "collapsed": true
   },
   "outputs": [
    {
     "name": "stdout",
     "output_type": "stream",
     "text": [
      "Epoch 1/10\n",
      "27/27 [==============================] - 69s 3s/step - loss: 2.8021 - acc: 0.4441 - val_loss: 0.8943 - val_acc: 0.6528\n",
      "Epoch 2/10\n",
      "27/27 [==============================] - 63s 2s/step - loss: 0.8864 - acc: 0.6025 - val_loss: 0.5743 - val_acc: 0.8433\n",
      "Epoch 3/10\n",
      "27/27 [==============================] - 61s 2s/step - loss: 0.6663 - acc: 0.7130 - val_loss: 0.5224 - val_acc: 0.7836\n",
      "Epoch 4/10\n",
      "27/27 [==============================] - 64s 2s/step - loss: 0.7382 - acc: 0.6806 - val_loss: 0.5199 - val_acc: 0.7164\n",
      "Epoch 5/10\n",
      "27/27 [==============================] - 63s 2s/step - loss: 1.2405 - acc: 0.7024 - val_loss: 0.6031 - val_acc: 0.7388\n",
      "Epoch 6/10\n",
      "27/27 [==============================] - 69s 3s/step - loss: 0.5366 - acc: 0.7662 - val_loss: 0.5784 - val_acc: 0.7388\n",
      "Epoch 7/10\n",
      "27/27 [==============================] - 68s 3s/step - loss: 0.5142 - acc: 0.7725 - val_loss: 0.4347 - val_acc: 0.8358\n",
      "Epoch 8/10\n",
      "27/27 [==============================] - 69s 3s/step - loss: 0.6206 - acc: 0.7755 - val_loss: 0.4935 - val_acc: 0.8881\n",
      "Epoch 9/10\n",
      "27/27 [==============================] - 62s 2s/step - loss: 0.4657 - acc: 0.7940 - val_loss: 0.3906 - val_acc: 0.9403\n",
      "Epoch 10/10\n",
      "27/27 [==============================] - 63s 2s/step - loss: 0.6398 - acc: 0.7731 - val_loss: 0.6057 - val_acc: 0.7985\n"
     ]
    }
   ],
   "source": [
    "history = model.fit_generator(\n",
    "            train_generator,\n",
    "            steps_per_epoch=446 // batch_size,\n",
    "            epochs=10,\n",
    "            validation_data=validation_generator,\n",
    "            validation_steps=150 // batch_size)"
   ]
  },
  {
   "cell_type": "code",
   "execution_count": 7,
   "metadata": {},
   "outputs": [
    {
     "name": "stdout",
     "output_type": "stream",
     "text": [
      "\r",
      "16/16 [==============================] - 0s 11ms/step\n"
     ]
    },
    {
     "data": {
      "text/plain": [
       "[0.1600848138332367, 0.9375]"
      ]
     },
     "execution_count": 7,
     "metadata": {},
     "output_type": "execute_result"
    }
   ],
   "source": [
    "imgs, labels = next(test_generator)\n",
    "\n",
    "#ynew = model.predict(imgs)\n",
    "\n",
    "model.evaluate(imgs,labels, batch_size=batch_size)"
   ]
  },
  {
   "cell_type": "code",
   "execution_count": 8,
   "metadata": {},
   "outputs": [
    {
     "data": {
      "image/png": "[encoded data removed]",
      "text/plain": [
       "<Figure size 432x288 with 1 Axes>"
      ]
     },
     "metadata": {
      "needs_background": "light"
     },
     "output_type": "display_data"
    },
    {
     "data": {
      "image/png": "[encoded data removed]",
      "text/plain": [
       "<Figure size 432x288 with 1 Axes>"
      ]
     },
     "metadata": {
      "needs_background": "light"
     },
     "output_type": "display_data"
    }
   ],
   "source": [
    "plot_history(history)"
   ]
  },
  {
   "cell_type": "markdown",
   "metadata": {},
   "source": [
    "<h1>(D) Resizing image directly: 1280x720 -> 224x224</h1>"
   ]
  },
  {
   "cell_type": "code",
   "execution_count": 10,
   "metadata": {},
   "outputs": [],
   "source": [
    "import numpy as np\n",
    "import tensorflow as tf\n",
    "from keras.preprocessing import image\n",
    "from keras.preprocessing.image import ImageDataGenerator\n",
    "import matplotlib.pyplot as plt\n",
    "from keras.applications import mobilenet\n",
    "from keras.layers import Dense, GlobalAveragePooling2D, Activation, Dropout, Flatten, Dense, Conv2D, MaxPooling2D\n",
    "from keras.models import Model, Sequential\n",
    "from keras import models\n",
    "from keras import layers\n",
    "from keras.optimizers import Adam, RMSprop\n",
    "from util.plots import plot_history"
   ]
  },
  {
   "cell_type": "code",
   "execution_count": 2,
   "metadata": {},
   "outputs": [],
   "source": [
    "train_path = '../potato_and_catfood/train'\n",
    "valid_path = '../potato_and_catfood/valid'\n",
    "test_path = '../potato_and_catfood/test'"
   ]
  },
  {
   "cell_type": "code",
   "execution_count": 3,
   "metadata": {},
   "outputs": [
    {
     "name": "stdout",
     "output_type": "stream",
     "text": [
      "Found 446 images belonging to 3 classes.\n",
      "Found 150 images belonging to 3 classes.\n",
      "Found 35 images belonging to 3 classes.\n"
     ]
    }
   ],
   "source": [
    "batch_size = 32\n",
    "\n",
    "train_datagen = ImageDataGenerator(\n",
    "        rescale=1./255,\n",
    "        shear_range=0.2,\n",
    "        zoom_range=0.2,\n",
    "        vertical_flip=True,\n",
    "        horizontal_flip=True)\n",
    "\n",
    "valid_datagen = ImageDataGenerator(\n",
    "        rescale=1./255\n",
    ")\n",
    "\n",
    "# Train data generator\n",
    "train_generator = train_datagen.flow_from_directory(\n",
    "        train_path,\n",
    "        target_size=(224, 224),\n",
    "        batch_size=batch_size,\n",
    "        classes=['potato', 'catfood', 'table'])\n",
    "\n",
    "# Validation data generator\n",
    "validation_generator = valid_datagen.flow_from_directory(\n",
    "        valid_path,\n",
    "        target_size=(224, 224),\n",
    "        batch_size=batch_size,\n",
    "        classes=['potato', 'catfood', 'table'])\n",
    "\n",
    "# this is a similar generator, for validation data\n",
    "test_generator = valid_datagen.flow_from_directory(\n",
    "        test_path,\n",
    "        target_size=(224, 224),\n",
    "        batch_size=batch_size,\n",
    "        classes=['potato', 'catfood', 'table'])"
   ]
  },
  {
   "cell_type": "code",
   "execution_count": 4,
   "metadata": {},
   "outputs": [],
   "source": [
    "model = Sequential()\n",
    "model.add(Conv2D(32, (3, 3), input_shape=(224, 224, 3)))    # 32\n",
    "model.add(Activation('relu'))\n",
    "model.add(MaxPooling2D(pool_size=(2, 2)))\n",
    "\n",
    "model.add(Conv2D(64, (3, 3)))                               # 64\n",
    "model.add(Activation('relu'))\n",
    "model.add(MaxPooling2D(pool_size=(2, 2)))\n",
    "\n",
    "model.add(Flatten())  #  3D activation map -> 1D vector\n",
    "model.add(Dense(32))\n",
    "model.add(Activation('relu'))\n",
    "model.add(Dropout(0.5))\n",
    "model.add(Dense(3))\n",
    "model.add(Activation('softmax'))\n",
    "\n",
    "model.compile(loss='categorical_crossentropy',\n",
    "              optimizer=Adam(lr=0.001, beta_1 = 0.9, beta_2=0.999, epsilon=10e-8),\n",
    "              metrics=['accuracy'])\n",
    "\n",
    "#model.summary()"
   ]
  },
  {
   "cell_type": "code",
   "execution_count": 5,
   "metadata": {},
   "outputs": [
    {
     "name": "stdout",
     "output_type": "stream",
     "text": [
      "Epoch 1/100\n",
      "13/13 [==============================] - 8s 634ms/step - loss: 2.6451 - acc: 0.3161 - val_loss: 1.0684 - val_acc: 0.4531\n",
      "Epoch 2/100\n",
      "13/13 [==============================] - 8s 620ms/step - loss: 1.0243 - acc: 0.4806 - val_loss: 0.8960 - val_acc: 0.6186\n",
      "Epoch 3/100\n",
      "13/13 [==============================] - 7s 527ms/step - loss: 0.8630 - acc: 0.6072 - val_loss: 0.7946 - val_acc: 0.5763\n",
      "Epoch 4/100\n",
      "13/13 [==============================] - 7s 523ms/step - loss: 0.7507 - acc: 0.6106 - val_loss: 0.5642 - val_acc: 0.6780\n",
      "Epoch 5/100\n",
      "13/13 [==============================] - 7s 506ms/step - loss: 0.6120 - acc: 0.6927 - val_loss: 0.5151 - val_acc: 0.7203\n",
      "Epoch 6/100\n",
      "13/13 [==============================] - 7s 544ms/step - loss: 0.5507 - acc: 0.7513 - val_loss: 0.5357 - val_acc: 0.6875\n",
      "Epoch 7/100\n",
      "13/13 [==============================] - 8s 585ms/step - loss: 0.4799 - acc: 0.7875 - val_loss: 0.4412 - val_acc: 0.7542\n",
      "Epoch 8/100\n",
      "13/13 [==============================] - 7s 539ms/step - loss: 0.4746 - acc: 0.7812 - val_loss: 0.4506 - val_acc: 0.9068\n",
      "Epoch 9/100\n",
      "13/13 [==============================] - 7s 546ms/step - loss: 0.4349 - acc: 0.8160 - val_loss: 0.3350 - val_acc: 0.7797\n",
      "Epoch 10/100\n",
      "13/13 [==============================] - 7s 572ms/step - loss: 0.3895 - acc: 0.8077 - val_loss: 0.4204 - val_acc: 0.7034\n",
      "Epoch 11/100\n",
      "13/13 [==============================] - 13s 979ms/step - loss: 0.3887 - acc: 0.8434 - val_loss: 0.4207 - val_acc: 0.8203\n",
      "Epoch 12/100\n",
      "13/13 [==============================] - 17s 1s/step - loss: 0.3628 - acc: 0.8564 - val_loss: 0.3194 - val_acc: 0.9153\n",
      "Epoch 13/100\n",
      "13/13 [==============================] - 10s 741ms/step - loss: 0.3550 - acc: 0.8822 - val_loss: 0.4318 - val_acc: 0.7712\n",
      "Epoch 14/100\n",
      "13/13 [==============================] - 9s 724ms/step - loss: 0.4084 - acc: 0.8454 - val_loss: 1.2969 - val_acc: 0.4915\n",
      "Epoch 15/100\n",
      "13/13 [==============================] - 8s 638ms/step - loss: 0.5970 - acc: 0.7872 - val_loss: 0.4260 - val_acc: 0.9322\n",
      "Epoch 16/100\n",
      "13/13 [==============================] - 8s 621ms/step - loss: 0.4043 - acc: 0.8473 - val_loss: 0.3114 - val_acc: 0.8594\n",
      "Epoch 17/100\n",
      "13/13 [==============================] - 9s 671ms/step - loss: 0.3542 - acc: 0.8744 - val_loss: 0.3920 - val_acc: 0.7966\n",
      "Epoch 18/100\n",
      "13/13 [==============================] - 7s 572ms/step - loss: 0.2957 - acc: 0.8954 - val_loss: 0.4135 - val_acc: 0.7881\n",
      "Epoch 19/100\n",
      "13/13 [==============================] - 7s 533ms/step - loss: 0.3025 - acc: 0.8846 - val_loss: 0.3065 - val_acc: 0.8136\n",
      "Epoch 20/100\n",
      "13/13 [==============================] - 7s 513ms/step - loss: 0.2797 - acc: 0.8712 - val_loss: 0.1819 - val_acc: 0.9831\n",
      "Epoch 21/100\n",
      "13/13 [==============================] - 7s 554ms/step - loss: 0.2940 - acc: 0.8841 - val_loss: 0.2422 - val_acc: 0.9297\n",
      "Epoch 22/100\n",
      "13/13 [==============================] - 8s 610ms/step - loss: 0.2331 - acc: 0.9135 - val_loss: 0.2088 - val_acc: 0.9661\n",
      "Epoch 23/100\n",
      "13/13 [==============================] - 7s 506ms/step - loss: 0.2360 - acc: 0.9061 - val_loss: 0.0939 - val_acc: 0.9915\n",
      "Epoch 24/100\n",
      "13/13 [==============================] - 7s 547ms/step - loss: 0.2445 - acc: 0.9127 - val_loss: 0.1831 - val_acc: 0.9492\n",
      "Epoch 25/100\n",
      "13/13 [==============================] - 7s 523ms/step - loss: 0.2222 - acc: 0.9203 - val_loss: 0.1366 - val_acc: 0.9746\n",
      "Epoch 26/100\n",
      "13/13 [==============================] - 7s 560ms/step - loss: 0.2163 - acc: 0.9225 - val_loss: 0.1398 - val_acc: 0.9531\n",
      "Epoch 27/100\n",
      "13/13 [==============================] - 8s 592ms/step - loss: 0.1947 - acc: 0.9298 - val_loss: 0.1145 - val_acc: 0.9746\n",
      "Epoch 28/100\n",
      "13/13 [==============================] - 7s 522ms/step - loss: 0.2077 - acc: 0.9178 - val_loss: 0.2244 - val_acc: 0.9492\n",
      "Epoch 29/100\n",
      "13/13 [==============================] - 7s 558ms/step - loss: 0.1942 - acc: 0.9397 - val_loss: 0.1657 - val_acc: 0.9746\n",
      "Epoch 30/100\n",
      "13/13 [==============================] - 7s 549ms/step - loss: 0.2458 - acc: 0.9201 - val_loss: 0.1593 - val_acc: 0.9576\n",
      "Epoch 31/100\n",
      "13/13 [==============================] - 7s 567ms/step - loss: 0.1541 - acc: 0.9324 - val_loss: 0.1139 - val_acc: 0.9688\n",
      "Epoch 32/100\n",
      "13/13 [==============================] - 8s 608ms/step - loss: 0.1855 - acc: 0.9447 - val_loss: 0.0700 - val_acc: 0.9831\n",
      "Epoch 33/100\n",
      "13/13 [==============================] - 7s 527ms/step - loss: 0.2129 - acc: 0.9037 - val_loss: 0.2153 - val_acc: 0.9407\n",
      "Epoch 34/100\n",
      "13/13 [==============================] - 7s 552ms/step - loss: 0.1814 - acc: 0.9495 - val_loss: 0.0824 - val_acc: 0.9831\n",
      "Epoch 35/100\n",
      "13/13 [==============================] - 6s 493ms/step - loss: 0.1979 - acc: 0.9340 - val_loss: 0.1376 - val_acc: 0.9746\n",
      "Epoch 36/100\n",
      "13/13 [==============================] - 8s 590ms/step - loss: 0.1987 - acc: 0.9252 - val_loss: 0.0957 - val_acc: 0.9688\n",
      "Epoch 37/100\n",
      "13/13 [==============================] - 8s 632ms/step - loss: 0.1670 - acc: 0.9231 - val_loss: 0.0858 - val_acc: 0.9746\n",
      "Epoch 38/100\n",
      "13/13 [==============================] - 7s 564ms/step - loss: 0.1783 - acc: 0.9203 - val_loss: 0.0559 - val_acc: 0.9831\n",
      "Epoch 39/100\n",
      "13/13 [==============================] - 7s 550ms/step - loss: 0.1843 - acc: 0.9301 - val_loss: 0.1502 - val_acc: 0.9661\n",
      "Epoch 40/100\n",
      "13/13 [==============================] - 8s 593ms/step - loss: 0.1870 - acc: 0.9276 - val_loss: 0.0957 - val_acc: 0.9661\n",
      "Epoch 41/100\n",
      "13/13 [==============================] - 8s 611ms/step - loss: 0.1586 - acc: 0.9518 - val_loss: 0.0662 - val_acc: 0.9766\n",
      "Epoch 42/100\n",
      "13/13 [==============================] - 8s 624ms/step - loss: 0.1781 - acc: 0.9372 - val_loss: 0.0724 - val_acc: 0.9661\n",
      "Epoch 43/100\n",
      "13/13 [==============================] - 7s 512ms/step - loss: 0.1481 - acc: 0.9492 - val_loss: 0.0311 - val_acc: 0.9915\n",
      "Epoch 44/100\n",
      "13/13 [==============================] - 8s 578ms/step - loss: 0.1398 - acc: 0.9519 - val_loss: 0.0732 - val_acc: 0.9831\n",
      "Epoch 45/100\n",
      "13/13 [==============================] - 8s 597ms/step - loss: 0.1622 - acc: 0.9417 - val_loss: 0.0626 - val_acc: 0.9831\n",
      "Epoch 46/100\n",
      "13/13 [==============================] - 8s 610ms/step - loss: 0.0983 - acc: 0.9688 - val_loss: 0.0732 - val_acc: 0.9766\n",
      "Epoch 47/100\n",
      "13/13 [==============================] - 9s 674ms/step - loss: 0.1791 - acc: 0.9421 - val_loss: 0.2253 - val_acc: 0.8814\n",
      "Epoch 48/100\n",
      "13/13 [==============================] - 7s 550ms/step - loss: 0.1593 - acc: 0.9471 - val_loss: 0.0944 - val_acc: 0.9746\n",
      "Epoch 49/100\n",
      "13/13 [==============================] - 7s 558ms/step - loss: 0.1329 - acc: 0.9612 - val_loss: 0.0733 - val_acc: 0.9746\n",
      "Epoch 50/100\n",
      "13/13 [==============================] - 7s 551ms/step - loss: 0.1318 - acc: 0.9662 - val_loss: 0.0365 - val_acc: 0.9831\n",
      "Epoch 51/100\n",
      "13/13 [==============================] - 8s 614ms/step - loss: 0.1275 - acc: 0.9736 - val_loss: 0.0741 - val_acc: 0.9766\n",
      "Epoch 52/100\n",
      "13/13 [==============================] - 8s 623ms/step - loss: 0.1242 - acc: 0.9660 - val_loss: 0.0207 - val_acc: 0.9915\n",
      "Epoch 53/100\n",
      "13/13 [==============================] - 7s 544ms/step - loss: 0.1332 - acc: 0.9519 - val_loss: 0.0501 - val_acc: 0.9661\n",
      "Epoch 54/100\n",
      "13/13 [==============================] - 7s 574ms/step - loss: 0.0988 - acc: 0.9710 - val_loss: 0.0744 - val_acc: 0.9661\n",
      "Epoch 55/100\n",
      "13/13 [==============================] - 7s 523ms/step - loss: 0.1924 - acc: 0.9582 - val_loss: 0.0599 - val_acc: 0.9746\n",
      "Epoch 56/100\n",
      "13/13 [==============================] - 7s 538ms/step - loss: 0.1229 - acc: 0.9736 - val_loss: 0.0814 - val_acc: 0.9766\n",
      "Epoch 57/100\n",
      "13/13 [==============================] - 8s 635ms/step - loss: 0.5120 - acc: 0.8354 - val_loss: 0.3902 - val_acc: 0.8051\n",
      "Epoch 58/100\n",
      "13/13 [==============================] - 8s 580ms/step - loss: 0.3252 - acc: 0.8795 - val_loss: 0.1409 - val_acc: 0.9661\n",
      "Epoch 59/100\n",
      "13/13 [==============================] - 7s 522ms/step - loss: 0.2570 - acc: 0.9111 - val_loss: 0.1168 - val_acc: 0.9661\n",
      "Epoch 60/100\n",
      "13/13 [==============================] - 7s 553ms/step - loss: 0.1930 - acc: 0.9471 - val_loss: 0.0760 - val_acc: 0.9661\n",
      "Epoch 61/100\n",
      "13/13 [==============================] - 8s 595ms/step - loss: 0.1440 - acc: 0.9660 - val_loss: 0.0713 - val_acc: 0.9609\n",
      "Epoch 62/100\n"
     ]
    },
    {
     "name": "stdout",
     "output_type": "stream",
     "text": [
      "13/13 [==============================] - 9s 689ms/step - loss: 0.2025 - acc: 0.9322 - val_loss: 0.0516 - val_acc: 0.9746\n",
      "Epoch 63/100\n",
      "13/13 [==============================] - 7s 570ms/step - loss: 0.1446 - acc: 0.9663 - val_loss: 0.0755 - val_acc: 0.9661\n",
      "Epoch 64/100\n",
      "13/13 [==============================] - 7s 566ms/step - loss: 0.1436 - acc: 0.9537 - val_loss: 0.0605 - val_acc: 0.9746\n",
      "Epoch 65/100\n",
      "13/13 [==============================] - 7s 559ms/step - loss: 0.1395 - acc: 0.9591 - val_loss: 0.0475 - val_acc: 0.9831\n",
      "Epoch 66/100\n",
      "13/13 [==============================] - 8s 635ms/step - loss: 0.1202 - acc: 0.9660 - val_loss: 0.0452 - val_acc: 0.9844\n",
      "Epoch 67/100\n",
      "13/13 [==============================] - 8s 651ms/step - loss: 0.1116 - acc: 0.9734 - val_loss: 0.1248 - val_acc: 0.9746\n",
      "Epoch 68/100\n",
      "13/13 [==============================] - 8s 602ms/step - loss: 0.0968 - acc: 0.9590 - val_loss: 0.0260 - val_acc: 0.9831\n",
      "Epoch 69/100\n",
      "13/13 [==============================] - 8s 581ms/step - loss: 0.1158 - acc: 0.9660 - val_loss: 0.0807 - val_acc: 0.9746\n",
      "Epoch 70/100\n",
      "13/13 [==============================] - 8s 584ms/step - loss: 0.1186 - acc: 0.9735 - val_loss: 0.1145 - val_acc: 0.9661\n",
      "Epoch 71/100\n",
      "13/13 [==============================] - 8s 583ms/step - loss: 0.1104 - acc: 0.9588 - val_loss: 0.2136 - val_acc: 0.8828\n",
      "Epoch 72/100\n",
      "13/13 [==============================] - 8s 637ms/step - loss: 0.1920 - acc: 0.9349 - val_loss: 0.0248 - val_acc: 0.9915\n",
      "Epoch 73/100\n",
      "13/13 [==============================] - 8s 609ms/step - loss: 0.2065 - acc: 0.9415 - val_loss: 0.0669 - val_acc: 0.9831\n",
      "Epoch 74/100\n",
      "13/13 [==============================] - 8s 633ms/step - loss: 0.1549 - acc: 0.9516 - val_loss: 0.0636 - val_acc: 0.9831\n",
      "Epoch 75/100\n",
      "13/13 [==============================] - 8s 586ms/step - loss: 0.1413 - acc: 0.9447 - val_loss: 0.0673 - val_acc: 0.9746\n",
      "Epoch 76/100\n",
      "13/13 [==============================] - 9s 665ms/step - loss: 0.1452 - acc: 0.9439 - val_loss: 0.0431 - val_acc: 0.9844\n",
      "Epoch 77/100\n",
      "13/13 [==============================] - 9s 662ms/step - loss: 0.1240 - acc: 0.9615 - val_loss: 0.1263 - val_acc: 0.9746\n",
      "Epoch 78/100\n",
      "13/13 [==============================] - 7s 567ms/step - loss: 0.1609 - acc: 0.9468 - val_loss: 0.0723 - val_acc: 0.9831\n",
      "Epoch 79/100\n",
      "13/13 [==============================] - 7s 544ms/step - loss: 0.0865 - acc: 0.9711 - val_loss: 0.0778 - val_acc: 0.9746\n",
      "Epoch 80/100\n",
      "13/13 [==============================] - 7s 526ms/step - loss: 0.1248 - acc: 0.9639 - val_loss: 0.0622 - val_acc: 0.9746\n",
      "Epoch 81/100\n",
      "13/13 [==============================] - 8s 592ms/step - loss: 0.1394 - acc: 0.9519 - val_loss: 0.0609 - val_acc: 0.9688\n",
      "Epoch 82/100\n",
      "13/13 [==============================] - 9s 687ms/step - loss: 0.1290 - acc: 0.9636 - val_loss: 0.0991 - val_acc: 0.9831\n",
      "Epoch 83/100\n",
      "13/13 [==============================] - 8s 599ms/step - loss: 0.1411 - acc: 0.9588 - val_loss: 0.1015 - val_acc: 0.9576\n",
      "Epoch 84/100\n",
      "13/13 [==============================] - 8s 603ms/step - loss: 0.1034 - acc: 0.9591 - val_loss: 0.0079 - val_acc: 1.0000\n",
      "Epoch 85/100\n",
      "13/13 [==============================] - 7s 536ms/step - loss: 0.1110 - acc: 0.9686 - val_loss: 0.0877 - val_acc: 0.9576\n",
      "Epoch 86/100\n",
      "13/13 [==============================] - 8s 596ms/step - loss: 0.1383 - acc: 0.9375 - val_loss: 0.0758 - val_acc: 0.9688\n",
      "Epoch 87/100\n",
      "13/13 [==============================] - 8s 653ms/step - loss: 0.1260 - acc: 0.9543 - val_loss: 0.0442 - val_acc: 0.9831\n",
      "Epoch 88/100\n",
      "13/13 [==============================] - 7s 560ms/step - loss: 0.1266 - acc: 0.9516 - val_loss: 0.0705 - val_acc: 0.9661\n",
      "Epoch 89/100\n",
      "13/13 [==============================] - 8s 581ms/step - loss: 0.1554 - acc: 0.9518 - val_loss: 0.1628 - val_acc: 0.9576\n",
      "Epoch 90/100\n",
      "13/13 [==============================] - 7s 529ms/step - loss: 0.1219 - acc: 0.9567 - val_loss: 0.0767 - val_acc: 0.9661\n",
      "Epoch 91/100\n",
      "13/13 [==============================] - 8s 580ms/step - loss: 0.0812 - acc: 0.9781 - val_loss: 0.0830 - val_acc: 0.9688\n",
      "Epoch 92/100\n",
      "13/13 [==============================] - 8s 620ms/step - loss: 0.1328 - acc: 0.9587 - val_loss: 0.1095 - val_acc: 0.9492\n",
      "Epoch 93/100\n",
      "13/13 [==============================] - 7s 576ms/step - loss: 0.1060 - acc: 0.9660 - val_loss: 0.0558 - val_acc: 0.9746\n",
      "Epoch 94/100\n",
      "13/13 [==============================] - 7s 527ms/step - loss: 0.1218 - acc: 0.9639 - val_loss: 0.0577 - val_acc: 0.9831\n",
      "Epoch 95/100\n",
      "13/13 [==============================] - 8s 591ms/step - loss: 0.0986 - acc: 0.9639 - val_loss: 0.0550 - val_acc: 0.9746\n",
      "Epoch 96/100\n",
      "13/13 [==============================] - 8s 606ms/step - loss: 0.0781 - acc: 0.9760 - val_loss: 0.0622 - val_acc: 0.9766\n",
      "Epoch 97/100\n",
      "13/13 [==============================] - 9s 689ms/step - loss: 0.0719 - acc: 0.9808 - val_loss: 0.0441 - val_acc: 0.9661\n",
      "Epoch 98/100\n",
      "13/13 [==============================] - 7s 568ms/step - loss: 0.1266 - acc: 0.9588 - val_loss: 0.1090 - val_acc: 0.9576\n",
      "Epoch 99/100\n",
      "13/13 [==============================] - 8s 585ms/step - loss: 0.1226 - acc: 0.9587 - val_loss: 0.0271 - val_acc: 0.9831\n",
      "Epoch 100/100\n",
      "13/13 [==============================] - 8s 599ms/step - loss: 0.1015 - acc: 0.9639 - val_loss: 0.0625 - val_acc: 0.9661\n"
     ]
    }
   ],
   "source": [
    "history = model.fit_generator(\n",
    "            train_generator,\n",
    "            steps_per_epoch=446 // batch_size,\n",
    "            epochs=100,\n",
    "            validation_data=validation_generator,\n",
    "            validation_steps=150 // batch_size)"
   ]
  },
  {
   "cell_type": "code",
   "execution_count": 7,
   "metadata": {},
   "outputs": [
    {
     "name": "stdout",
     "output_type": "stream",
     "text": [
      "\r",
      "32/32 [==============================] - 0s 1ms/step\n"
     ]
    },
    {
     "data": {
      "text/plain": [
       "[0.05369170010089874, 0.96875]"
      ]
     },
     "execution_count": 7,
     "metadata": {},
     "output_type": "execute_result"
    }
   ],
   "source": [
    "imgs, labels = next(test_generator)\n",
    "\n",
    "#ynew = model.predict(imgs)\n",
    "\n",
    "model.evaluate(imgs,labels, batch_size=batch_size)"
   ]
  },
  {
   "cell_type": "code",
   "execution_count": 8,
   "metadata": {},
   "outputs": [
    {
     "data": {
      "image/png": "[encoded data removed]",
      "text/plain": [
       "<Figure size 432x288 with 1 Axes>"
      ]
     },
     "metadata": {
      "needs_background": "light"
     },
     "output_type": "display_data"
    },
    {
     "data": {
      "image/png": "[encoded data removed]",
      "text/plain": [
       "<Figure size 432x288 with 1 Axes>"
      ]
     },
     "metadata": {
      "needs_background": "light"
     },
     "output_type": "display_data"
    }
   ],
   "source": [
    "plot_history(history, save=True, path='plots/', name='full-224-batch64-3')"
   ]
  },
  {
   "cell_type": "code",
   "execution_count": 14,
   "metadata": {
    "scrolled": true
   },
   "outputs": [
    {
     "ename": "TypeError",
     "evalue": "plot_history() got an unexpected keyword argument 'mean_N'",
     "output_type": "error",
     "traceback": [
      "\u001b[0;31m---------------------------------------------------------------------------\u001b[0m",
      "\u001b[0;31mTypeError\u001b[0m                                 Traceback (most recent call last)",
      "\u001b[0;32m<ipython-input-14-8c5ce42fd229>\u001b[0m in \u001b[0;36m<module>\u001b[0;34m\u001b[0m\n\u001b[1;32m      1\u001b[0m \u001b[0;32mfrom\u001b[0m \u001b[0mutil\u001b[0m\u001b[0;34m.\u001b[0m\u001b[0mplots\u001b[0m \u001b[0;32mimport\u001b[0m \u001b[0mplot_history\u001b[0m\u001b[0;34m\u001b[0m\u001b[0;34m\u001b[0m\u001b[0m\n\u001b[1;32m      2\u001b[0m \u001b[0;34m\u001b[0m\u001b[0m\n\u001b[0;32m----> 3\u001b[0;31m \u001b[0mplot_history\u001b[0m\u001b[0;34m(\u001b[0m\u001b[0mhistory\u001b[0m\u001b[0;34m,\u001b[0m \u001b[0mmean_N\u001b[0m\u001b[0;34m=\u001b[0m\u001b[0;36m5\u001b[0m\u001b[0;34m)\u001b[0m\u001b[0;34m\u001b[0m\u001b[0;34m\u001b[0m\u001b[0m\n\u001b[0m",
      "\u001b[0;31mTypeError\u001b[0m: plot_history() got an unexpected keyword argument 'mean_N'"
     ]
    }
   ],
   "source": [
    "plot_history(history, mean_N=5)"
   ]
  },
  {
   "cell_type": "markdown",
   "metadata": {},
   "source": [
    "<h1>(D): Without data augmentation & regularization</h1>"
   ]
  },
  {
   "cell_type": "code",
   "execution_count": 1,
   "metadata": {},
   "outputs": [
    {
     "name": "stderr",
     "output_type": "stream",
     "text": [
      "Using TensorFlow backend.\n"
     ]
    }
   ],
   "source": [
    "import numpy as np\n",
    "import tensorflow as tf\n",
    "from keras.preprocessing import image\n",
    "from keras.preprocessing.image import ImageDataGenerator\n",
    "import matplotlib.pyplot as plt\n",
    "from keras.applications import mobilenet\n",
    "from keras.layers import Dense, GlobalAveragePooling2D, Activation, Dropout, Flatten, Dense, Conv2D, MaxPooling2D\n",
    "from keras.models import Model, Sequential\n",
    "from keras import models\n",
    "from keras import layers\n",
    "from keras.optimizers import Adam, RMSprop\n",
    "from util.plots import plot_history"
   ]
  },
  {
   "cell_type": "code",
   "execution_count": 2,
   "metadata": {},
   "outputs": [],
   "source": [
    "train_path = '../potato_and_catfood/train'\n",
    "valid_path = '../potato_and_catfood/valid'\n",
    "test_path = '../potato_and_catfood/test'"
   ]
  },
  {
   "cell_type": "code",
   "execution_count": 3,
   "metadata": {},
   "outputs": [
    {
     "name": "stdout",
     "output_type": "stream",
     "text": [
      "Found 446 images belonging to 3 classes.\n",
      "Found 150 images belonging to 3 classes.\n",
      "Found 35 images belonging to 3 classes.\n"
     ]
    }
   ],
   "source": [
    "batch_size = 32\n",
    "\n",
    "train_datagen = ImageDataGenerator(\n",
    "        rescale=1./255\n",
    ")\n",
    "\n",
    "valid_datagen = ImageDataGenerator(\n",
    "        rescale=1./255\n",
    ")\n",
    "\n",
    "# Train data generator\n",
    "train_generator = train_datagen.flow_from_directory(\n",
    "        train_path,\n",
    "        target_size=(224, 224),\n",
    "        batch_size=batch_size,\n",
    "        classes=['potato', 'catfood', 'table'])\n",
    "\n",
    "# Validation data generator\n",
    "validation_generator = valid_datagen.flow_from_directory(\n",
    "        valid_path,\n",
    "        target_size=(224, 224),\n",
    "        batch_size=batch_size,\n",
    "        classes=['potato', 'catfood', 'table'])\n",
    "\n",
    "# this is a similar generator, for validation data\n",
    "test_generator = valid_datagen.flow_from_directory(\n",
    "        test_path,\n",
    "        target_size=(224, 224),\n",
    "        batch_size=batch_size,\n",
    "        classes=['potato', 'catfood', 'table'])"
   ]
  },
  {
   "cell_type": "code",
   "execution_count": 4,
   "metadata": {},
   "outputs": [],
   "source": [
    "model = Sequential()\n",
    "model.add(Conv2D(32, (3, 3), input_shape=(224, 224, 3)))    # 32\n",
    "model.add(Activation('relu'))\n",
    "model.add(MaxPooling2D(pool_size=(2, 2)))\n",
    "\n",
    "model.add(Conv2D(64, (3, 3)))                               # 64\n",
    "model.add(Activation('relu'))\n",
    "model.add(MaxPooling2D(pool_size=(2, 2)))\n",
    "\n",
    "model.add(Flatten())  #  3D activation map -> 1D vector\n",
    "model.add(Dense(32))\n",
    "model.add(Activation('relu'))\n",
    "model.add(Dropout(0.5))\n",
    "model.add(Dense(3))\n",
    "model.add(Activation('softmax'))\n",
    "\n",
    "model.compile(loss='categorical_crossentropy',\n",
    "              optimizer=Adam(lr=0.001),\n",
    "              metrics=['accuracy'])"
   ]
  },
  {
   "cell_type": "code",
   "execution_count": 5,
   "metadata": {},
   "outputs": [
    {
     "name": "stdout",
     "output_type": "stream",
     "text": [
      "Epoch 1/100\n",
      "13/13 [==============================] - 5s 359ms/step - loss: 1.3756 - acc: 0.3410 - val_loss: 1.0796 - val_acc: 0.4844\n",
      "Epoch 2/100\n",
      "13/13 [==============================] - 5s 362ms/step - loss: 1.0935 - acc: 0.3625 - val_loss: 1.0265 - val_acc: 0.4492\n",
      "Epoch 3/100\n",
      "13/13 [==============================] - 4s 344ms/step - loss: 0.9674 - acc: 0.3989 - val_loss: 0.7677 - val_acc: 0.4576\n",
      "Epoch 4/100\n",
      "13/13 [==============================] - 4s 317ms/step - loss: 0.8098 - acc: 0.6145 - val_loss: 0.6131 - val_acc: 0.7203\n",
      "Epoch 5/100\n",
      "13/13 [==============================] - 4s 301ms/step - loss: 0.7499 - acc: 0.6407 - val_loss: 0.6192 - val_acc: 0.7119\n",
      "Epoch 6/100\n",
      "13/13 [==============================] - 5s 362ms/step - loss: 0.7207 - acc: 0.7387 - val_loss: 0.6566 - val_acc: 0.6953\n",
      "Epoch 7/100\n",
      "13/13 [==============================] - 5s 389ms/step - loss: 0.6967 - acc: 0.7644 - val_loss: 0.6077 - val_acc: 0.8220\n",
      "Epoch 8/100\n",
      "13/13 [==============================] - 4s 327ms/step - loss: 0.6438 - acc: 0.7444 - val_loss: 0.7677 - val_acc: 0.6271\n",
      "Epoch 9/100\n",
      "13/13 [==============================] - 4s 342ms/step - loss: 0.7112 - acc: 0.6851 - val_loss: 0.6496 - val_acc: 0.6695\n",
      "Epoch 10/100\n",
      "13/13 [==============================] - 4s 303ms/step - loss: 0.6765 - acc: 0.7027 - val_loss: 0.5627 - val_acc: 0.8475\n",
      "Epoch 11/100\n",
      "13/13 [==============================] - 4s 341ms/step - loss: 0.7031 - acc: 0.7274 - val_loss: 0.5984 - val_acc: 0.7812\n",
      "Epoch 12/100\n",
      "13/13 [==============================] - 5s 400ms/step - loss: 0.6717 - acc: 0.7053 - val_loss: 0.6436 - val_acc: 0.7203\n",
      "Epoch 13/100\n",
      "13/13 [==============================] - 4s 325ms/step - loss: 0.6366 - acc: 0.7756 - val_loss: 0.5229 - val_acc: 0.7458\n",
      "Epoch 14/100\n",
      "13/13 [==============================] - 4s 330ms/step - loss: 0.6017 - acc: 0.7609 - val_loss: 0.5328 - val_acc: 0.8475\n",
      "Epoch 15/100\n",
      "13/13 [==============================] - 4s 316ms/step - loss: 0.5616 - acc: 0.8120 - val_loss: 0.5076 - val_acc: 0.6949\n",
      "Epoch 16/100\n",
      "13/13 [==============================] - 6s 476ms/step - loss: 0.5509 - acc: 0.7885 - val_loss: 0.5200 - val_acc: 0.8750\n",
      "Epoch 17/100\n",
      "13/13 [==============================] - 16s 1s/step - loss: 0.5585 - acc: 0.7820 - val_loss: 0.5738 - val_acc: 0.8559\n",
      "Epoch 18/100\n",
      "13/13 [==============================] - 7s 565ms/step - loss: 0.5563 - acc: 0.7919 - val_loss: 0.5363 - val_acc: 0.8983\n",
      "Epoch 19/100\n",
      "13/13 [==============================] - 6s 493ms/step - loss: 0.5904 - acc: 0.7873 - val_loss: 0.5292 - val_acc: 0.7288\n",
      "Epoch 20/100\n",
      "13/13 [==============================] - 6s 477ms/step - loss: 0.5462 - acc: 0.8144 - val_loss: 0.6179 - val_acc: 0.8136\n",
      "Epoch 21/100\n",
      "13/13 [==============================] - 6s 448ms/step - loss: 0.5105 - acc: 0.8173 - val_loss: 0.5934 - val_acc: 0.8750\n",
      "Epoch 22/100\n",
      "13/13 [==============================] - 6s 460ms/step - loss: 0.5986 - acc: 0.7500 - val_loss: 0.6167 - val_acc: 0.6017\n",
      "Epoch 23/100\n",
      "13/13 [==============================] - 5s 393ms/step - loss: 0.5830 - acc: 0.7851 - val_loss: 0.5121 - val_acc: 0.7458\n",
      "Epoch 24/100\n",
      "13/13 [==============================] - 5s 381ms/step - loss: 0.5195 - acc: 0.7776 - val_loss: 0.5790 - val_acc: 0.7542\n",
      "Epoch 25/100\n",
      "13/13 [==============================] - 5s 349ms/step - loss: 0.4976 - acc: 0.8365 - val_loss: 0.6245 - val_acc: 0.6780\n",
      "Epoch 26/100\n",
      "13/13 [==============================] - 5s 375ms/step - loss: 0.5764 - acc: 0.7585 - val_loss: 0.5933 - val_acc: 0.6562\n",
      "Epoch 27/100\n",
      "13/13 [==============================] - 6s 432ms/step - loss: 0.5194 - acc: 0.7998 - val_loss: 0.5960 - val_acc: 0.6610\n",
      "Epoch 28/100\n",
      "13/13 [==============================] - 5s 358ms/step - loss: 0.5263 - acc: 0.7941 - val_loss: 0.6359 - val_acc: 0.8051\n",
      "Epoch 29/100\n",
      "13/13 [==============================] - 4s 309ms/step - loss: 0.4939 - acc: 0.8191 - val_loss: 0.5646 - val_acc: 0.7966\n",
      "Epoch 30/100\n",
      "13/13 [==============================] - 4s 343ms/step - loss: 0.5227 - acc: 0.8072 - val_loss: 0.6062 - val_acc: 0.7034\n",
      "Epoch 31/100\n",
      "13/13 [==============================] - 4s 337ms/step - loss: 0.5592 - acc: 0.7827 - val_loss: 0.6162 - val_acc: 0.7109\n",
      "Epoch 32/100\n",
      "13/13 [==============================] - 5s 414ms/step - loss: 0.5313 - acc: 0.7876 - val_loss: 0.6348 - val_acc: 0.6610\n",
      "Epoch 33/100\n",
      "13/13 [==============================] - 5s 348ms/step - loss: 0.4812 - acc: 0.8260 - val_loss: 0.7240 - val_acc: 0.7034\n",
      "Epoch 34/100\n",
      "13/13 [==============================] - 4s 333ms/step - loss: 0.4851 - acc: 0.7923 - val_loss: 0.4702 - val_acc: 0.8136\n",
      "Epoch 35/100\n",
      "13/13 [==============================] - 4s 295ms/step - loss: 0.4711 - acc: 0.8582 - val_loss: 0.7117 - val_acc: 0.7203\n",
      "Epoch 36/100\n",
      "13/13 [==============================] - 4s 329ms/step - loss: 0.4723 - acc: 0.8285 - val_loss: 0.7542 - val_acc: 0.7969\n",
      "Epoch 37/100\n",
      "13/13 [==============================] - 5s 399ms/step - loss: 0.4437 - acc: 0.8357 - val_loss: 0.6926 - val_acc: 0.8305\n",
      "Epoch 38/100\n",
      "13/13 [==============================] - 4s 338ms/step - loss: 0.4550 - acc: 0.8309 - val_loss: 0.7708 - val_acc: 0.7881\n",
      "Epoch 39/100\n",
      "13/13 [==============================] - 5s 360ms/step - loss: 0.4901 - acc: 0.8115 - val_loss: 0.4998 - val_acc: 0.8983\n",
      "Epoch 40/100\n",
      "13/13 [==============================] - 5s 369ms/step - loss: 0.4463 - acc: 0.8332 - val_loss: 0.5740 - val_acc: 0.8644\n",
      "Epoch 41/100\n",
      "13/13 [==============================] - 5s 376ms/step - loss: 0.4216 - acc: 0.8551 - val_loss: 0.7042 - val_acc: 0.8984\n",
      "Epoch 42/100\n",
      "13/13 [==============================] - 5s 397ms/step - loss: 0.4318 - acc: 0.8698 - val_loss: 0.5229 - val_acc: 0.8729\n",
      "Epoch 43/100\n",
      "13/13 [==============================] - 4s 325ms/step - loss: 0.4221 - acc: 0.8865 - val_loss: 0.4552 - val_acc: 0.9237\n",
      "Epoch 44/100\n",
      "13/13 [==============================] - 5s 381ms/step - loss: 0.4222 - acc: 0.8910 - val_loss: 0.5779 - val_acc: 0.9322\n",
      "Epoch 45/100\n",
      "13/13 [==============================] - 4s 320ms/step - loss: 0.3635 - acc: 0.9107 - val_loss: 0.6111 - val_acc: 0.9237\n",
      "Epoch 46/100\n",
      "13/13 [==============================] - 5s 360ms/step - loss: 0.3766 - acc: 0.9203 - val_loss: 0.5498 - val_acc: 0.9141\n",
      "Epoch 47/100\n",
      "13/13 [==============================] - 6s 432ms/step - loss: 0.3787 - acc: 0.9205 - val_loss: 0.5522 - val_acc: 0.9237\n",
      "Epoch 48/100\n",
      "13/13 [==============================] - 4s 328ms/step - loss: 0.3754 - acc: 0.9056 - val_loss: 0.5123 - val_acc: 0.9492\n",
      "Epoch 49/100\n",
      "13/13 [==============================] - 4s 343ms/step - loss: 0.3564 - acc: 0.9249 - val_loss: 0.5861 - val_acc: 0.9322\n",
      "Epoch 50/100\n",
      "13/13 [==============================] - 5s 393ms/step - loss: 0.4069 - acc: 0.9014 - val_loss: 0.4683 - val_acc: 0.9322\n",
      "Epoch 51/100\n",
      "13/13 [==============================] - 5s 374ms/step - loss: 0.3517 - acc: 0.9202 - val_loss: 0.5189 - val_acc: 0.9375\n",
      "Epoch 52/100\n",
      "13/13 [==============================] - 6s 440ms/step - loss: 0.3511 - acc: 0.9249 - val_loss: 0.3606 - val_acc: 0.9237\n",
      "Epoch 53/100\n",
      "13/13 [==============================] - 4s 346ms/step - loss: 0.3374 - acc: 0.9252 - val_loss: 0.4646 - val_acc: 0.9661\n",
      "Epoch 54/100\n",
      "13/13 [==============================] - 5s 359ms/step - loss: 0.3397 - acc: 0.9178 - val_loss: 0.7110 - val_acc: 0.9068\n",
      "Epoch 55/100\n",
      "13/13 [==============================] - 6s 425ms/step - loss: 0.3175 - acc: 0.9250 - val_loss: 0.4149 - val_acc: 0.9322\n",
      "Epoch 56/100\n",
      "13/13 [==============================] - 6s 433ms/step - loss: 0.3262 - acc: 0.9252 - val_loss: 0.5190 - val_acc: 0.9375\n",
      "Epoch 57/100\n",
      "13/13 [==============================] - 6s 428ms/step - loss: 0.3471 - acc: 0.9011 - val_loss: 0.5053 - val_acc: 0.9237\n",
      "Epoch 58/100\n",
      "13/13 [==============================] - 5s 404ms/step - loss: 0.3564 - acc: 0.9011 - val_loss: 0.5611 - val_acc: 0.9322\n",
      "Epoch 59/100\n",
      "13/13 [==============================] - 5s 365ms/step - loss: 0.3280 - acc: 0.9106 - val_loss: 0.5280 - val_acc: 0.9576\n",
      "Epoch 60/100\n",
      "13/13 [==============================] - 5s 366ms/step - loss: 0.2957 - acc: 0.9298 - val_loss: 0.6745 - val_acc: 0.9407\n",
      "Epoch 61/100\n",
      "13/13 [==============================] - 5s 406ms/step - loss: 0.3208 - acc: 0.9391 - val_loss: 0.9456 - val_acc: 0.8359\n",
      "Epoch 62/100\n",
      "13/13 [==============================] - 6s 473ms/step - loss: 0.2894 - acc: 0.9231 - val_loss: 0.7014 - val_acc: 0.8983\n",
      "Epoch 63/100\n",
      "13/13 [==============================] - 5s 360ms/step - loss: 0.2636 - acc: 0.9399 - val_loss: 0.5862 - val_acc: 0.9237\n",
      "Epoch 64/100\n",
      "13/13 [==============================] - 5s 347ms/step - loss: 0.2408 - acc: 0.9492 - val_loss: 0.2134 - val_acc: 0.9661\n",
      "Epoch 65/100\n",
      "13/13 [==============================] - 5s 365ms/step - loss: 0.2678 - acc: 0.9277 - val_loss: 0.5456 - val_acc: 0.9322\n",
      "Epoch 66/100\n",
      "13/13 [==============================] - 5s 422ms/step - loss: 0.2463 - acc: 0.9447 - val_loss: 0.4412 - val_acc: 0.9688\n",
      "Epoch 67/100\n",
      "13/13 [==============================] - 6s 460ms/step - loss: 0.2169 - acc: 0.9489 - val_loss: 0.5368 - val_acc: 0.8898\n",
      "Epoch 68/100\n",
      "13/13 [==============================] - 4s 339ms/step - loss: 0.1873 - acc: 0.9591 - val_loss: 0.3777 - val_acc: 0.9492\n",
      "Epoch 69/100\n",
      "13/13 [==============================] - 4s 322ms/step - loss: 0.1686 - acc: 0.9662 - val_loss: 0.5828 - val_acc: 0.9407\n",
      "Epoch 70/100\n",
      "13/13 [==============================] - 4s 329ms/step - loss: 0.1528 - acc: 0.9638 - val_loss: 0.2830 - val_acc: 0.9492\n",
      "Epoch 71/100\n",
      "13/13 [==============================] - 5s 365ms/step - loss: 0.1673 - acc: 0.9543 - val_loss: 0.3299 - val_acc: 0.9062\n",
      "Epoch 72/100\n",
      "13/13 [==============================] - 6s 424ms/step - loss: 0.2059 - acc: 0.9516 - val_loss: 0.6720 - val_acc: 0.8644\n",
      "Epoch 73/100\n",
      "13/13 [==============================] - 5s 397ms/step - loss: 0.2520 - acc: 0.9135 - val_loss: 0.4527 - val_acc: 0.9407\n",
      "Epoch 74/100\n",
      "13/13 [==============================] - 5s 362ms/step - loss: 0.1878 - acc: 0.9662 - val_loss: 0.2704 - val_acc: 0.9576\n",
      "Epoch 75/100\n",
      "13/13 [==============================] - 4s 336ms/step - loss: 0.1708 - acc: 0.9566 - val_loss: 0.5476 - val_acc: 0.8983\n",
      "Epoch 76/100\n",
      "13/13 [==============================] - 5s 395ms/step - loss: 0.1658 - acc: 0.9519 - val_loss: 0.6694 - val_acc: 0.9453\n",
      "Epoch 77/100\n",
      "13/13 [==============================] - 6s 460ms/step - loss: 0.1536 - acc: 0.9494 - val_loss: 0.5978 - val_acc: 0.9407\n",
      "Epoch 78/100\n",
      "13/13 [==============================] - 4s 332ms/step - loss: 0.1353 - acc: 0.9712 - val_loss: 0.3505 - val_acc: 0.9576\n",
      "Epoch 79/100\n",
      "13/13 [==============================] - 5s 382ms/step - loss: 0.1516 - acc: 0.9540 - val_loss: 0.9704 - val_acc: 0.8559\n",
      "Epoch 80/100\n",
      "13/13 [==============================] - 4s 339ms/step - loss: 0.1383 - acc: 0.9711 - val_loss: 0.5370 - val_acc: 0.9576\n",
      "Epoch 81/100\n",
      "13/13 [==============================] - 5s 410ms/step - loss: 0.1439 - acc: 0.9591 - val_loss: 0.4674 - val_acc: 0.9453\n",
      "Epoch 82/100\n",
      "13/13 [==============================] - 6s 462ms/step - loss: 0.1247 - acc: 0.9760 - val_loss: 0.3842 - val_acc: 0.9576\n",
      "Epoch 83/100\n",
      "13/13 [==============================] - 5s 371ms/step - loss: 0.1330 - acc: 0.9564 - val_loss: 0.4736 - val_acc: 0.9576\n",
      "Epoch 84/100\n",
      "13/13 [==============================] - 4s 336ms/step - loss: 0.1378 - acc: 0.9542 - val_loss: 0.9720 - val_acc: 0.8898\n",
      "Epoch 85/100\n",
      "13/13 [==============================] - 4s 344ms/step - loss: 0.1055 - acc: 0.9805 - val_loss: 0.3925 - val_acc: 0.9576\n",
      "Epoch 86/100\n",
      "13/13 [==============================] - 5s 368ms/step - loss: 0.1232 - acc: 0.9587 - val_loss: 0.4557 - val_acc: 0.9453\n",
      "Epoch 87/100\n",
      "13/13 [==============================] - 5s 418ms/step - loss: 0.1102 - acc: 0.9734 - val_loss: 0.5175 - val_acc: 0.9237\n",
      "Epoch 88/100\n",
      "13/13 [==============================] - 5s 382ms/step - loss: 0.0776 - acc: 0.9856 - val_loss: 0.2900 - val_acc: 0.9661\n",
      "Epoch 89/100\n",
      "13/13 [==============================] - 4s 342ms/step - loss: 0.1096 - acc: 0.9760 - val_loss: 0.3815 - val_acc: 0.9576\n",
      "Epoch 90/100\n",
      "13/13 [==============================] - 5s 404ms/step - loss: 0.1202 - acc: 0.9710 - val_loss: 0.3806 - val_acc: 0.9492\n",
      "Epoch 91/100\n",
      "13/13 [==============================] - 6s 441ms/step - loss: 0.1986 - acc: 0.9591 - val_loss: 0.8722 - val_acc: 0.8594\n",
      "Epoch 92/100\n",
      "13/13 [==============================] - 6s 447ms/step - loss: 0.1052 - acc: 0.9758 - val_loss: 0.4453 - val_acc: 0.9661\n",
      "Epoch 93/100\n",
      "13/13 [==============================] - 5s 389ms/step - loss: 0.1253 - acc: 0.9808 - val_loss: 0.8833 - val_acc: 0.9322\n",
      "Epoch 94/100\n",
      "13/13 [==============================] - 5s 379ms/step - loss: 0.1130 - acc: 0.9808 - val_loss: 0.5516 - val_acc: 0.9576\n",
      "Epoch 95/100\n",
      "13/13 [==============================] - 5s 349ms/step - loss: 0.0956 - acc: 0.9781 - val_loss: 0.5428 - val_acc: 0.9576\n",
      "Epoch 96/100\n",
      "13/13 [==============================] - 5s 352ms/step - loss: 0.0963 - acc: 0.9688 - val_loss: 0.7276 - val_acc: 0.9453\n",
      "Epoch 97/100\n",
      "13/13 [==============================] - 6s 446ms/step - loss: 0.1035 - acc: 0.9880 - val_loss: 0.7269 - val_acc: 0.9407\n",
      "Epoch 98/100\n",
      "13/13 [==============================] - 5s 407ms/step - loss: 0.0851 - acc: 0.9760 - val_loss: 0.4375 - val_acc: 0.9407\n",
      "Epoch 99/100\n",
      "13/13 [==============================] - 5s 376ms/step - loss: 0.0769 - acc: 0.9832 - val_loss: 0.6147 - val_acc: 0.9068\n",
      "Epoch 100/100\n",
      "13/13 [==============================] - 5s 382ms/step - loss: 0.0712 - acc: 0.9808 - val_loss: 0.5146 - val_acc: 0.9492\n"
     ]
    }
   ],
   "source": [
    "history = model.fit_generator(\n",
    "            train_generator,\n",
    "            steps_per_epoch=446 // batch_size,\n",
    "            epochs=100,\n",
    "            validation_data=validation_generator,\n",
    "            validation_steps=150 // batch_size)"
   ]
  },
  {
   "cell_type": "code",
   "execution_count": 6,
   "metadata": {},
   "outputs": [
    {
     "name": "stdout",
     "output_type": "stream",
     "text": [
      "\r",
      "32/32 [==============================] - 0s 1ms/step\n"
     ]
    },
    {
     "data": {
      "text/plain": [
       "[1.6857104301452637, 0.84375]"
      ]
     },
     "execution_count": 6,
     "metadata": {},
     "output_type": "execute_result"
    }
   ],
   "source": [
    "imgs, labels = next(test_generator)\n",
    "\n",
    "#ynew = model.predict(imgs)\n",
    "\n",
    "model.evaluate(imgs,labels, batch_size=batch_size)"
   ]
  },
  {
   "cell_type": "code",
   "execution_count": 7,
   "metadata": {},
   "outputs": [
    {
     "data": {
      "image/png": "[encoded data removed]",
      "text/plain": [
       "<Figure size 432x288 with 1 Axes>"
      ]
     },
     "metadata": {
      "needs_background": "light"
     },
     "output_type": "display_data"
    },
    {
     "data": {
      "image/png": "[encoded data removed]",
      "text/plain": [
       "<Figure size 432x288 with 1 Axes>"
      ]
     },
     "metadata": {
      "needs_background": "light"
     },
     "output_type": "display_data"
    }
   ],
   "source": [
    "plot_history(history)"
   ]
  },
  {
   "cell_type": "code",
   "execution_count": null,
   "metadata": {},
   "outputs": [],
   "source": []
  }
 ],
 "metadata": {
  "kernelspec": {
   "display_name": "Python 3",
   "language": "python",
   "name": "python3"
  },
  "language_info": {
   "codemirror_mode": {
    "name": "ipython",
    "version": 3
   },
   "file_extension": ".py",
   "mimetype": "text/x-python",
   "name": "python",
   "nbconvert_exporter": "python",
   "pygments_lexer": "ipython3",
   "version": "3.6.8"
  }
 },
 "nbformat": 4,
 "nbformat_minor": 2
}
