{
 "cells": [
  {
   "cell_type": "markdown",
   "metadata": {},
   "source": [
    "<h1>Purpose of this notebook</h1>\n",
    "The purpose of this notebook is to see the effects of data augmentation.\n",
    "\n",
    "Data augmentation is when the data is augmented to generate multiple versions of the same image.\n",
    "\n",
    "When only a small dataset of images is available it might show to be beneficial to use data augmentation.\n",
    "Since the neural network might be overfitting the training data."
   ]
  },
  {
   "cell_type": "code",
   "execution_count": 1,
   "metadata": {},
   "outputs": [
    {
     "name": "stderr",
     "output_type": "stream",
     "text": [
      "Using TensorFlow backend.\n"
     ]
    }
   ],
   "source": [
    "import numpy as np\n",
    "import tensorflow as tf\n",
    "from keras.preprocessing import image\n",
    "from keras.preprocessing.image import ImageDataGenerator\n",
    "import matplotlib.pyplot as plt\n",
    "from keras.applications import mobilenet\n",
    "from keras.layers import Dense, GlobalAveragePooling2D, Activation, Dropout, Flatten, Dense, Conv2D, MaxPooling2D\n",
    "from keras.models import Model, Sequential\n",
    "from keras import models\n",
    "from keras import layers"
   ]
  },
  {
   "cell_type": "markdown",
   "metadata": {},
   "source": [
    "<b>Resources used to train, validate and test.</b>"
   ]
  },
  {
   "cell_type": "code",
   "execution_count": 2,
   "metadata": {},
   "outputs": [],
   "source": [
    "train_path = '../Retraining/resources/train'\n",
    "valid_path = '../Retraining/resources/valid'\n",
    "test_path = '../Retraining/resources/test'"
   ]
  },
  {
   "cell_type": "markdown",
   "metadata": {},
   "source": [
    "<h1>ImageDataGenerators: Without data augmentation</h1>\n"
   ]
  },
  {
   "cell_type": "code",
   "execution_count": 6,
   "metadata": {},
   "outputs": [
    {
     "name": "stdout",
     "output_type": "stream",
     "text": [
      "Found 299 images belonging to 3 classes.\n",
      "Found 82 images belonging to 3 classes.\n"
     ]
    }
   ],
   "source": [
    "batch_size = 16\n",
    "\n",
    "train_datagen_wo = ImageDataGenerator(\n",
    "        rescale=1./255\n",
    ")\n",
    "\n",
    "valid_datagen_wo = ImageDataGenerator(\n",
    "        rescale=1./255\n",
    ")\n",
    "\n",
    "# Train data generator\n",
    "train_generator_wo = train_datagen_wo.flow_from_directory(\n",
    "        train_path,\n",
    "        target_size=(224, 224),\n",
    "        batch_size=batch_size,\n",
    "        classes=['potato', 'catfood', 'table'])\n",
    "\n",
    "# Validation data generator\n",
    "validation_generator_wo = valid_datagen_wo.flow_from_directory(\n",
    "        valid_path,\n",
    "        target_size=(224, 224),\n",
    "        batch_size=batch_size,\n",
    "        classes=['potato', 'catfood', 'table'])"
   ]
  },
  {
   "cell_type": "markdown",
   "metadata": {},
   "source": [
    "<h1>ImageDataGenerators: With data augmentation</h1>\n",
    "<ul>\n",
    "    <li> <b>Rescale</b> rescales image data from range [0 255] to range [0 1] </li>\n",
    "    <li><b>Shear_range</b> a range with how much the data is augmented with respect to shear</li>\n",
    "    <li><b>Zoom_range</b> range for a random zoom. [1-zoom_range 1+zoom_range]</li>\n",
    "    <li><b>Horizontal_flip:</b> boolean if it should be possible to make a random horizontal flip</li>\n",
    "</ul>\n",
    "\n",
    "\n",
    "Should be tested:\n",
    "<ul>\n",
    "    <li><b>Rotation_range</b></li>\n",
    "    <li><b>brightness_range</b></li>\n",
    "</ul>"
   ]
  },
  {
   "cell_type": "code",
   "execution_count": 9,
   "metadata": {},
   "outputs": [
    {
     "name": "stdout",
     "output_type": "stream",
     "text": [
      "Found 299 images belonging to 3 classes.\n",
      "Found 82 images belonging to 3 classes.\n"
     ]
    }
   ],
   "source": [
    "batch_size = 16\n",
    "\n",
    "train_datagen = ImageDataGenerator(\n",
    "        rescale=1./255,\n",
    "        shear_range=0.2,\n",
    "        zoom_range=0.2,\n",
    "        horizontal_flip=True)\n",
    "\n",
    "valid_datagen = ImageDataGenerator(\n",
    "        rescale=1./255\n",
    ")\n",
    "\n",
    "# Train data generator\n",
    "train_generator = train_datagen.flow_from_directory(\n",
    "        train_path,\n",
    "        target_size=(224, 224),\n",
    "        batch_size=batch_size,\n",
    "        classes=['potato', 'catfood', 'table'])\n",
    "\n",
    "# Validation data generator\n",
    "validation_generator = valid_datagen.flow_from_directory(\n",
    "        valid_path,\n",
    "        target_size=(224, 224),\n",
    "        batch_size=batch_size,\n",
    "        classes=['potato', 'catfood', 'table'])"
   ]
  },
  {
   "cell_type": "markdown",
   "metadata": {},
   "source": [
    "<h1>Neural Network</h1>"
   ]
  },
  {
   "cell_type": "code",
   "execution_count": 4,
   "metadata": {
    "collapsed": true
   },
   "outputs": [
    {
     "name": "stdout",
     "output_type": "stream",
     "text": [
      "_________________________________________________________________\n",
      "Layer (type)                 Output Shape              Param #   \n",
      "=================================================================\n",
      "conv2d_1 (Conv2D)            (None, 222, 222, 32)      896       \n",
      "_________________________________________________________________\n",
      "activation_1 (Activation)    (None, 222, 222, 32)      0         \n",
      "_________________________________________________________________\n",
      "max_pooling2d_1 (MaxPooling2 (None, 111, 111, 32)      0         \n",
      "_________________________________________________________________\n",
      "conv2d_2 (Conv2D)            (None, 109, 109, 64)      18496     \n",
      "_________________________________________________________________\n",
      "activation_2 (Activation)    (None, 109, 109, 64)      0         \n",
      "_________________________________________________________________\n",
      "max_pooling2d_2 (MaxPooling2 (None, 54, 54, 64)        0         \n",
      "_________________________________________________________________\n",
      "flatten_1 (Flatten)          (None, 186624)            0         \n",
      "_________________________________________________________________\n",
      "dense_1 (Dense)              (None, 64)                11944000  \n",
      "_________________________________________________________________\n",
      "activation_3 (Activation)    (None, 64)                0         \n",
      "_________________________________________________________________\n",
      "dropout_1 (Dropout)          (None, 64)                0         \n",
      "_________________________________________________________________\n",
      "dense_2 (Dense)              (None, 3)                 195       \n",
      "_________________________________________________________________\n",
      "activation_4 (Activation)    (None, 3)                 0         \n",
      "=================================================================\n",
      "Total params: 11,963,587\n",
      "Trainable params: 11,963,587\n",
      "Non-trainable params: 0\n",
      "_________________________________________________________________\n"
     ]
    }
   ],
   "source": [
    "model = Sequential()\n",
    "model.add(Conv2D(32, (3, 3), input_shape=(224, 224, 3)))\n",
    "model.add(Activation('relu'))\n",
    "model.add(MaxPooling2D(pool_size=(2, 2)))\n",
    "\n",
    "model.add(Conv2D(64, (3, 3)))\n",
    "model.add(Activation('relu'))\n",
    "model.add(MaxPooling2D(pool_size=(2, 2)))\n",
    "\n",
    "model.add(Flatten())  # this converts our 3D feature maps to 1D feature vectors\n",
    "model.add(Dense(64))\n",
    "model.add(Activation('relu'))\n",
    "model.add(Dropout(0.5))\n",
    "model.add(Dense(3))\n",
    "model.add(Activation('softmax'))\n",
    "\n",
    "model.compile(loss='categorical_crossentropy',\n",
    "              optimizer='rmsprop',\n",
    "              metrics=['accuracy'])\n",
    "\n",
    "model.summary()"
   ]
  },
  {
   "cell_type": "markdown",
   "metadata": {},
   "source": [
    "<h1>Utility functions</h1>"
   ]
  },
  {
   "cell_type": "code",
   "execution_count": 16,
   "metadata": {},
   "outputs": [],
   "source": [
    "def plot_history(history):\n",
    "    #print(history.history.keys())\n",
    "    plt.plot(history.history['acc'])\n",
    "    plt.plot(history.history['val_acc'])\n",
    "    plt.title('model accuracy')\n",
    "    plt.ylabel('accuracy')\n",
    "    plt.xlabel('epoch')\n",
    "    plt.legend(['train', 'val'], loc='upper left')\n",
    "    plt.show()\n",
    "    # summarize history for loss\n",
    "    plt.plot(history.history['loss'])\n",
    "    plt.plot(history.history['val_loss'])\n",
    "    plt.title('model loss')\n",
    "    plt.ylabel('loss')\n",
    "    plt.xlabel('epoch')\n",
    "    plt.legend(['train', 'val'], loc='upper left')\n",
    "    plt.show()"
   ]
  },
  {
   "cell_type": "markdown",
   "metadata": {},
   "source": [
    "<h1>Testing performance with data augmentation</h1>"
   ]
  },
  {
   "cell_type": "code",
   "execution_count": 5,
   "metadata": {
    "collapsed": true
   },
   "outputs": [
    {
     "name": "stdout",
     "output_type": "stream",
     "text": [
      "Epoch 1/50\n",
      "18/18 [==============================] - 3s 188ms/step - loss: 7.5793 - acc: 0.4836 - val_loss: 6.2458 - val_acc: 0.6125\n",
      "Epoch 2/50\n",
      "18/18 [==============================] - 3s 143ms/step - loss: 8.0509 - acc: 0.5005 - val_loss: 6.8380 - val_acc: 0.5758\n",
      "Epoch 3/50\n",
      "18/18 [==============================] - 3s 144ms/step - loss: 7.6185 - acc: 0.5238 - val_loss: 5.7789 - val_acc: 0.6364\n",
      "Epoch 4/50\n",
      "18/18 [==============================] - 3s 144ms/step - loss: 1.4265 - acc: 0.6554 - val_loss: 0.3324 - val_acc: 0.7424\n",
      "Epoch 5/50\n",
      "18/18 [==============================] - 3s 154ms/step - loss: 0.6458 - acc: 0.7222 - val_loss: 0.3766 - val_acc: 0.8030\n",
      "Epoch 6/50\n",
      "18/18 [==============================] - 3s 140ms/step - loss: 0.5235 - acc: 0.7969 - val_loss: 0.4302 - val_acc: 0.8030\n",
      "Epoch 7/50\n",
      "18/18 [==============================] - 3s 140ms/step - loss: 0.5691 - acc: 0.8057 - val_loss: 0.9196 - val_acc: 0.6875\n",
      "Epoch 8/50\n",
      "18/18 [==============================] - 3s 148ms/step - loss: 0.3375 - acc: 0.8681 - val_loss: 0.7187 - val_acc: 0.8788\n",
      "Epoch 9/50\n",
      "18/18 [==============================] - 3s 149ms/step - loss: 0.9031 - acc: 0.7952 - val_loss: 0.8081 - val_acc: 0.8182\n",
      "Epoch 10/50\n",
      "18/18 [==============================] - 3s 153ms/step - loss: 0.6729 - acc: 0.8333 - val_loss: 0.9888 - val_acc: 0.8333\n",
      "Epoch 11/50\n",
      "18/18 [==============================] - 2s 138ms/step - loss: 0.3706 - acc: 0.8788 - val_loss: 0.3723 - val_acc: 0.8485\n",
      "Epoch 12/50\n",
      "18/18 [==============================] - 3s 146ms/step - loss: 0.2754 - acc: 0.8838 - val_loss: 0.9521 - val_acc: 0.8030\n",
      "Epoch 13/50\n",
      "18/18 [==============================] - 3s 157ms/step - loss: 0.3189 - acc: 0.8386 - val_loss: 0.3785 - val_acc: 0.9500\n",
      "Epoch 14/50\n",
      "18/18 [==============================] - 3s 143ms/step - loss: 0.2625 - acc: 0.8997 - val_loss: 1.7746 - val_acc: 0.7121\n",
      "Epoch 15/50\n",
      "18/18 [==============================] - 3s 148ms/step - loss: 0.2948 - acc: 0.8734 - val_loss: 0.9363 - val_acc: 0.8485\n",
      "Epoch 16/50\n",
      "18/18 [==============================] - 3s 143ms/step - loss: 0.2729 - acc: 0.8926 - val_loss: 0.5155 - val_acc: 0.9394\n",
      "Epoch 17/50\n",
      "18/18 [==============================] - 3s 142ms/step - loss: 0.4144 - acc: 0.8823 - val_loss: 0.8295 - val_acc: 0.9091\n",
      "Epoch 18/50\n",
      "18/18 [==============================] - 3s 141ms/step - loss: 0.2392 - acc: 0.9340 - val_loss: 0.6391 - val_acc: 0.9394\n",
      "Epoch 19/50\n",
      "18/18 [==============================] - 3s 143ms/step - loss: 0.3455 - acc: 0.9027 - val_loss: 0.7892 - val_acc: 0.9375\n",
      "Epoch 20/50\n",
      "18/18 [==============================] - 3s 145ms/step - loss: 0.1789 - acc: 0.9340 - val_loss: 0.8276 - val_acc: 0.9242\n",
      "Epoch 21/50\n",
      "18/18 [==============================] - 3s 149ms/step - loss: 0.2402 - acc: 0.9205 - val_loss: 1.5795 - val_acc: 0.8636\n",
      "Epoch 22/50\n",
      "18/18 [==============================] - 3s 147ms/step - loss: 0.2219 - acc: 0.9484 - val_loss: 0.4457 - val_acc: 0.9697\n",
      "Epoch 23/50\n",
      "18/18 [==============================] - 3s 142ms/step - loss: 0.2274 - acc: 0.9310 - val_loss: 0.3666 - val_acc: 0.9545\n",
      "Epoch 24/50\n",
      "18/18 [==============================] - 3s 146ms/step - loss: 0.2589 - acc: 0.9131 - val_loss: 0.1867 - val_acc: 0.9848\n",
      "Epoch 25/50\n",
      "18/18 [==============================] - 3s 151ms/step - loss: 0.5394 - acc: 0.9097 - val_loss: 0.4340 - val_acc: 0.9375\n",
      "Epoch 26/50\n",
      "18/18 [==============================] - 3s 150ms/step - loss: 0.1560 - acc: 0.9394 - val_loss: 0.6587 - val_acc: 0.9242\n",
      "Epoch 27/50\n",
      "18/18 [==============================] - 3s 147ms/step - loss: 0.4286 - acc: 0.8947 - val_loss: 0.6331 - val_acc: 0.9394\n",
      "Epoch 28/50\n",
      "18/18 [==============================] - 3s 150ms/step - loss: 0.1300 - acc: 0.9479 - val_loss: 0.7575 - val_acc: 0.8939\n",
      "Epoch 29/50\n",
      "18/18 [==============================] - 3s 158ms/step - loss: 0.2656 - acc: 0.9410 - val_loss: 0.3097 - val_acc: 0.9697\n",
      "Epoch 30/50\n",
      "18/18 [==============================] - 3s 147ms/step - loss: 0.2769 - acc: 0.9374 - val_loss: 0.9432 - val_acc: 0.9242\n",
      "Epoch 31/50\n",
      "18/18 [==============================] - 3s 152ms/step - loss: 0.0673 - acc: 0.9861 - val_loss: 0.8491 - val_acc: 0.9250\n",
      "Epoch 32/50\n",
      "18/18 [==============================] - 3s 158ms/step - loss: 0.1171 - acc: 0.9478 - val_loss: 0.4944 - val_acc: 0.9242\n",
      "Epoch 33/50\n",
      "18/18 [==============================] - 3s 159ms/step - loss: 0.1410 - acc: 0.9514 - val_loss: 1.5379 - val_acc: 0.8636\n",
      "Epoch 34/50\n",
      "18/18 [==============================] - 3s 155ms/step - loss: 0.0613 - acc: 0.9896 - val_loss: 0.0598 - val_acc: 0.9697\n",
      "Epoch 35/50\n",
      "18/18 [==============================] - 3s 159ms/step - loss: 0.2815 - acc: 0.9374 - val_loss: 1.2685 - val_acc: 0.8636\n",
      "Epoch 36/50\n",
      "18/18 [==============================] - 3s 157ms/step - loss: 0.1037 - acc: 0.9722 - val_loss: 1.0519 - val_acc: 0.8939\n",
      "Epoch 37/50\n",
      "18/18 [==============================] - 3s 190ms/step - loss: 0.1179 - acc: 0.9618 - val_loss: 1.2535 - val_acc: 0.9125\n",
      "Epoch 38/50\n",
      "18/18 [==============================] - 11s 601ms/step - loss: 0.2279 - acc: 0.9533 - val_loss: 1.0620 - val_acc: 0.8939\n",
      "Epoch 39/50\n",
      "18/18 [==============================] - 6s 345ms/step - loss: 0.4069 - acc: 0.9583 - val_loss: 0.7503 - val_acc: 0.8939\n",
      "Epoch 40/50\n",
      "18/18 [==============================] - 5s 282ms/step - loss: 0.0567 - acc: 0.9742 - val_loss: 0.8425 - val_acc: 0.9091\n",
      "Epoch 41/50\n",
      "18/18 [==============================] - 4s 241ms/step - loss: 0.1951 - acc: 0.9618 - val_loss: 0.5704 - val_acc: 0.9394\n",
      "Epoch 42/50\n",
      "18/18 [==============================] - 4s 224ms/step - loss: 0.2460 - acc: 0.9548 - val_loss: 1.5244 - val_acc: 0.8485\n",
      "Epoch 43/50\n",
      "18/18 [==============================] - 4s 245ms/step - loss: 0.0946 - acc: 0.9687 - val_loss: 1.1704 - val_acc: 0.9000\n",
      "Epoch 44/50\n",
      "18/18 [==============================] - 4s 207ms/step - loss: 0.0932 - acc: 0.9861 - val_loss: 3.8238 - val_acc: 0.7273\n",
      "Epoch 45/50\n",
      "18/18 [==============================] - 4s 216ms/step - loss: 0.5172 - acc: 0.9444 - val_loss: 1.4030 - val_acc: 0.8788\n",
      "Epoch 46/50\n",
      "18/18 [==============================] - 4s 198ms/step - loss: 0.2198 - acc: 0.9757 - val_loss: 1.7900 - val_acc: 0.8636\n",
      "Epoch 47/50\n",
      "18/18 [==============================] - 3s 187ms/step - loss: 0.0715 - acc: 0.9722 - val_loss: 0.2661 - val_acc: 0.9848\n",
      "Epoch 48/50\n",
      "18/18 [==============================] - 4s 198ms/step - loss: 0.1660 - acc: 0.9757 - val_loss: 0.7297 - val_acc: 0.9394\n",
      "Epoch 49/50\n",
      "18/18 [==============================] - 3s 183ms/step - loss: 0.2435 - acc: 0.9553 - val_loss: 0.7186 - val_acc: 0.9375\n",
      "Epoch 50/50\n",
      "18/18 [==============================] - 3s 182ms/step - loss: 0.1247 - acc: 0.9687 - val_loss: 0.6563 - val_acc: 0.9394\n"
     ]
    }
   ],
   "source": [
    "history = model.fit_generator(\n",
    "            train_generator,\n",
    "            steps_per_epoch=299 // batch_size,\n",
    "            epochs=50,\n",
    "            validation_data=validation_generator,\n",
    "            validation_steps=82 // batch_size)"
   ]
  },
  {
   "cell_type": "code",
   "execution_count": 10,
   "metadata": {},
   "outputs": [
    {
     "name": "stdout",
     "output_type": "stream",
     "text": [
      "Found 35 images belonging to 3 classes.\n"
     ]
    }
   ],
   "source": [
    "test_datagen = ImageDataGenerator(\n",
    "        rescale=1./255\n",
    ")\n",
    "\n",
    "# this is a similar generator, for validation data\n",
    "test_generator = valid_datagen.flow_from_directory(\n",
    "        test_path,\n",
    "        target_size=(224, 224),\n",
    "        batch_size=batch_size,\n",
    "        classes=['potato', 'catfood', 'table'])"
   ]
  },
  {
   "cell_type": "code",
   "execution_count": 7,
   "metadata": {},
   "outputs": [
    {
     "name": "stdout",
     "output_type": "stream",
     "text": [
      "\r",
      "16/16 [==============================] - 0s 2ms/step\n"
     ]
    },
    {
     "data": {
      "text/plain": [
       "[0.6935157179832458, 0.9375]"
      ]
     },
     "execution_count": 7,
     "metadata": {},
     "output_type": "execute_result"
    }
   ],
   "source": [
    "imgs, labels = next(test_generator)\n",
    "\n",
    "#ynew = model.predict(imgs)\n",
    "\n",
    "model.evaluate(imgs,labels, batch_size=batch_size)"
   ]
  },
  {
   "cell_type": "code",
   "execution_count": null,
   "metadata": {},
   "outputs": [],
   "source": [
    "gul_path = '../Retraining/tfpoet/tf_files/test/gulerod.jpg'\n",
    "img = image.load_img(gul_path, target_size=(224, 224))\n",
    "img = image.img_to_array(img)\n",
    "img = img\n",
    "img = np.expand_dims(img, axis=0)\n",
    "out = model.predict(img)"
   ]
  },
  {
   "cell_type": "code",
   "execution_count": null,
   "metadata": {},
   "outputs": [],
   "source": [
    "labels"
   ]
  },
  {
   "cell_type": "code",
   "execution_count": 9,
   "metadata": {},
   "outputs": [
    {
     "name": "stdout",
     "output_type": "stream",
     "text": [
      "dict_keys(['val_loss', 'val_acc', 'loss', 'acc'])\n"
     ]
    },
    {
     "data": {
      "image/png": "[encoded data removed]",
      "text/plain": [
       "<Figure size 432x288 with 1 Axes>"
      ]
     },
     "metadata": {
      "needs_background": "light"
     },
     "output_type": "display_data"
    },
    {
     "data": {
      "image/png": "[encoded data removed]",
      "text/plain": [
       "<Figure size 432x288 with 1 Axes>"
      ]
     },
     "metadata": {
      "needs_background": "light"
     },
     "output_type": "display_data"
    }
   ],
   "source": [
    "# list all data in history\n",
    "print(history.history.keys())\n",
    "# summarize history for accuracy\n",
    "plt.plot(history.history['acc'])\n",
    "plt.plot(history.history['val_acc'])\n",
    "plt.title('model accuracy')\n",
    "plt.ylabel('accuracy')\n",
    "plt.xlabel('epoch')\n",
    "plt.legend(['train', 'val'], loc='upper left')\n",
    "plt.show()\n",
    "# summarize history for loss\n",
    "plt.plot(history.history['loss'])\n",
    "plt.plot(history.history['val_loss'])\n",
    "plt.title('model loss')\n",
    "plt.ylabel('loss')\n",
    "plt.xlabel('epoch')\n",
    "plt.legend(['train', 'val'], loc='upper left')\n",
    "plt.show()"
   ]
  },
  {
   "cell_type": "code",
   "execution_count": 10,
   "metadata": {
    "collapsed": true
   },
   "outputs": [
    {
     "data": {
      "image/svg+xml": [
       "<svg height=\"921pt\" viewBox=\"0.00 0.00 215.00 921.00\" width=\"215pt\" xmlns=\"http://www.w3.org/2000/svg\" xmlns:xlink=\"http://www.w3.org/1999/xlink\">\n",
       "<g class=\"graph\" id=\"graph0\" transform=\"scale(1 1) rotate(0) translate(4 917)\">\n",
       "<title>G</title>\n",
       "<polygon fill=\"#ffffff\" points=\"-4,4 -4,-917 211,-917 211,4 -4,4\" stroke=\"transparent\"/>\n",
       "<!-- 140467368802008 -->\n",
       "<g class=\"node\" id=\"node1\">\n",
       "<title>140467368802008</title>\n",
       "<polygon fill=\"none\" points=\"42,-803.5 42,-839.5 165,-839.5 165,-803.5 42,-803.5\" stroke=\"#000000\"/>\n",
       "<text fill=\"#000000\" font-family=\"Times,serif\" font-size=\"14.00\" text-anchor=\"middle\" x=\"103.5\" y=\"-817.8\">conv2d_1: Conv2D</text>\n",
       "</g>\n",
       "<!-- 140469393004136 -->\n",
       "<g class=\"node\" id=\"node2\">\n",
       "<title>140469393004136</title>\n",
       "<polygon fill=\"none\" points=\"29.5,-730.5 29.5,-766.5 177.5,-766.5 177.5,-730.5 29.5,-730.5\" stroke=\"#000000\"/>\n",
       "<text fill=\"#000000\" font-family=\"Times,serif\" font-size=\"14.00\" text-anchor=\"middle\" x=\"103.5\" y=\"-744.8\">activation_1: Activation</text>\n",
       "</g>\n",
       "<!-- 140467368802008&#45;&gt;140469393004136 -->\n",
       "<g class=\"edge\" id=\"edge2\">\n",
       "<title>140467368802008-&gt;140469393004136</title>\n",
       "<path d=\"M103.5,-803.4551C103.5,-795.3828 103.5,-785.6764 103.5,-776.6817\" fill=\"none\" stroke=\"#000000\"/>\n",
       "<polygon fill=\"#000000\" points=\"107.0001,-776.5903 103.5,-766.5904 100.0001,-776.5904 107.0001,-776.5903\" stroke=\"#000000\"/>\n",
       "</g>\n",
       "<!-- 140467368803520 -->\n",
       "<g class=\"node\" id=\"node3\">\n",
       "<title>140467368803520</title>\n",
       "<polygon fill=\"none\" points=\"0,-657.5 0,-693.5 207,-693.5 207,-657.5 0,-657.5\" stroke=\"#000000\"/>\n",
       "<text fill=\"#000000\" font-family=\"Times,serif\" font-size=\"14.00\" text-anchor=\"middle\" x=\"103.5\" y=\"-671.8\">max_pooling2d_1: MaxPooling2D</text>\n",
       "</g>\n",
       "<!-- 140469393004136&#45;&gt;140467368803520 -->\n",
       "<g class=\"edge\" id=\"edge3\">\n",
       "<title>140469393004136-&gt;140467368803520</title>\n",
       "<path d=\"M103.5,-730.4551C103.5,-722.3828 103.5,-712.6764 103.5,-703.6817\" fill=\"none\" stroke=\"#000000\"/>\n",
       "<polygon fill=\"#000000\" points=\"107.0001,-703.5903 103.5,-693.5904 100.0001,-703.5904 107.0001,-703.5903\" stroke=\"#000000\"/>\n",
       "</g>\n",
       "<!-- 140467368803632 -->\n",
       "<g class=\"node\" id=\"node4\">\n",
       "<title>140467368803632</title>\n",
       "<polygon fill=\"none\" points=\"42,-584.5 42,-620.5 165,-620.5 165,-584.5 42,-584.5\" stroke=\"#000000\"/>\n",
       "<text fill=\"#000000\" font-family=\"Times,serif\" font-size=\"14.00\" text-anchor=\"middle\" x=\"103.5\" y=\"-598.8\">conv2d_2: Conv2D</text>\n",
       "</g>\n",
       "<!-- 140467368803520&#45;&gt;140467368803632 -->\n",
       "<g class=\"edge\" id=\"edge4\">\n",
       "<title>140467368803520-&gt;140467368803632</title>\n",
       "<path d=\"M103.5,-657.4551C103.5,-649.3828 103.5,-639.6764 103.5,-630.6817\" fill=\"none\" stroke=\"#000000\"/>\n",
       "<polygon fill=\"#000000\" points=\"107.0001,-630.5903 103.5,-620.5904 100.0001,-630.5904 107.0001,-630.5903\" stroke=\"#000000\"/>\n",
       "</g>\n",
       "<!-- 140467368803408 -->\n",
       "<g class=\"node\" id=\"node5\">\n",
       "<title>140467368803408</title>\n",
       "<polygon fill=\"none\" points=\"29.5,-511.5 29.5,-547.5 177.5,-547.5 177.5,-511.5 29.5,-511.5\" stroke=\"#000000\"/>\n",
       "<text fill=\"#000000\" font-family=\"Times,serif\" font-size=\"14.00\" text-anchor=\"middle\" x=\"103.5\" y=\"-525.8\">activation_2: Activation</text>\n",
       "</g>\n",
       "<!-- 140467368803632&#45;&gt;140467368803408 -->\n",
       "<g class=\"edge\" id=\"edge5\">\n",
       "<title>140467368803632-&gt;140467368803408</title>\n",
       "<path d=\"M103.5,-584.4551C103.5,-576.3828 103.5,-566.6764 103.5,-557.6817\" fill=\"none\" stroke=\"#000000\"/>\n",
       "<polygon fill=\"#000000\" points=\"107.0001,-557.5903 103.5,-547.5904 100.0001,-557.5904 107.0001,-557.5903\" stroke=\"#000000\"/>\n",
       "</g>\n",
       "<!-- 140467309473520 -->\n",
       "<g class=\"node\" id=\"node6\">\n",
       "<title>140467309473520</title>\n",
       "<polygon fill=\"none\" points=\"0,-438.5 0,-474.5 207,-474.5 207,-438.5 0,-438.5\" stroke=\"#000000\"/>\n",
       "<text fill=\"#000000\" font-family=\"Times,serif\" font-size=\"14.00\" text-anchor=\"middle\" x=\"103.5\" y=\"-452.8\">max_pooling2d_2: MaxPooling2D</text>\n",
       "</g>\n",
       "<!-- 140467368803408&#45;&gt;140467309473520 -->\n",
       "<g class=\"edge\" id=\"edge6\">\n",
       "<title>140467368803408-&gt;140467309473520</title>\n",
       "<path d=\"M103.5,-511.4551C103.5,-503.3828 103.5,-493.6764 103.5,-484.6817\" fill=\"none\" stroke=\"#000000\"/>\n",
       "<polygon fill=\"#000000\" points=\"107.0001,-484.5903 103.5,-474.5904 100.0001,-484.5904 107.0001,-484.5903\" stroke=\"#000000\"/>\n",
       "</g>\n",
       "<!-- 140467309473016 -->\n",
       "<g class=\"node\" id=\"node7\">\n",
       "<title>140467309473016</title>\n",
       "<polygon fill=\"none\" points=\"48.5,-365.5 48.5,-401.5 158.5,-401.5 158.5,-365.5 48.5,-365.5\" stroke=\"#000000\"/>\n",
       "<text fill=\"#000000\" font-family=\"Times,serif\" font-size=\"14.00\" text-anchor=\"middle\" x=\"103.5\" y=\"-379.8\">flatten_1: Flatten</text>\n",
       "</g>\n",
       "<!-- 140467309473520&#45;&gt;140467309473016 -->\n",
       "<g class=\"edge\" id=\"edge7\">\n",
       "<title>140467309473520-&gt;140467309473016</title>\n",
       "<path d=\"M103.5,-438.4551C103.5,-430.3828 103.5,-420.6764 103.5,-411.6817\" fill=\"none\" stroke=\"#000000\"/>\n",
       "<polygon fill=\"#000000\" points=\"107.0001,-411.5903 103.5,-401.5904 100.0001,-411.5904 107.0001,-411.5903\" stroke=\"#000000\"/>\n",
       "</g>\n",
       "<!-- 140467368060968 -->\n",
       "<g class=\"node\" id=\"node8\">\n",
       "<title>140467368060968</title>\n",
       "<polygon fill=\"none\" points=\"52.5,-292.5 52.5,-328.5 154.5,-328.5 154.5,-292.5 52.5,-292.5\" stroke=\"#000000\"/>\n",
       "<text fill=\"#000000\" font-family=\"Times,serif\" font-size=\"14.00\" text-anchor=\"middle\" x=\"103.5\" y=\"-306.8\">dense_1: Dense</text>\n",
       "</g>\n",
       "<!-- 140467309473016&#45;&gt;140467368060968 -->\n",
       "<g class=\"edge\" id=\"edge8\">\n",
       "<title>140467309473016-&gt;140467368060968</title>\n",
       "<path d=\"M103.5,-365.4551C103.5,-357.3828 103.5,-347.6764 103.5,-338.6817\" fill=\"none\" stroke=\"#000000\"/>\n",
       "<polygon fill=\"#000000\" points=\"107.0001,-338.5903 103.5,-328.5904 100.0001,-338.5904 107.0001,-338.5903\" stroke=\"#000000\"/>\n",
       "</g>\n",
       "<!-- 140467368145920 -->\n",
       "<g class=\"node\" id=\"node9\">\n",
       "<title>140467368145920</title>\n",
       "<polygon fill=\"none\" points=\"29.5,-219.5 29.5,-255.5 177.5,-255.5 177.5,-219.5 29.5,-219.5\" stroke=\"#000000\"/>\n",
       "<text fill=\"#000000\" font-family=\"Times,serif\" font-size=\"14.00\" text-anchor=\"middle\" x=\"103.5\" y=\"-233.8\">activation_3: Activation</text>\n",
       "</g>\n",
       "<!-- 140467368060968&#45;&gt;140467368145920 -->\n",
       "<g class=\"edge\" id=\"edge9\">\n",
       "<title>140467368060968-&gt;140467368145920</title>\n",
       "<path d=\"M103.5,-292.4551C103.5,-284.3828 103.5,-274.6764 103.5,-265.6817\" fill=\"none\" stroke=\"#000000\"/>\n",
       "<polygon fill=\"#000000\" points=\"107.0001,-265.5903 103.5,-255.5904 100.0001,-265.5904 107.0001,-265.5903\" stroke=\"#000000\"/>\n",
       "</g>\n",
       "<!-- 140467368252080 -->\n",
       "<g class=\"node\" id=\"node10\">\n",
       "<title>140467368252080</title>\n",
       "<polygon fill=\"none\" points=\"41,-146.5 41,-182.5 166,-182.5 166,-146.5 41,-146.5\" stroke=\"#000000\"/>\n",
       "<text fill=\"#000000\" font-family=\"Times,serif\" font-size=\"14.00\" text-anchor=\"middle\" x=\"103.5\" y=\"-160.8\">dropout_1: Dropout</text>\n",
       "</g>\n",
       "<!-- 140467368145920&#45;&gt;140467368252080 -->\n",
       "<g class=\"edge\" id=\"edge10\">\n",
       "<title>140467368145920-&gt;140467368252080</title>\n",
       "<path d=\"M103.5,-219.4551C103.5,-211.3828 103.5,-201.6764 103.5,-192.6817\" fill=\"none\" stroke=\"#000000\"/>\n",
       "<polygon fill=\"#000000\" points=\"107.0001,-192.5903 103.5,-182.5904 100.0001,-192.5904 107.0001,-192.5903\" stroke=\"#000000\"/>\n",
       "</g>\n",
       "<!-- 140467368060016 -->\n",
       "<g class=\"node\" id=\"node11\">\n",
       "<title>140467368060016</title>\n",
       "<polygon fill=\"none\" points=\"52.5,-73.5 52.5,-109.5 154.5,-109.5 154.5,-73.5 52.5,-73.5\" stroke=\"#000000\"/>\n",
       "<text fill=\"#000000\" font-family=\"Times,serif\" font-size=\"14.00\" text-anchor=\"middle\" x=\"103.5\" y=\"-87.8\">dense_2: Dense</text>\n",
       "</g>\n",
       "<!-- 140467368252080&#45;&gt;140467368060016 -->\n",
       "<g class=\"edge\" id=\"edge11\">\n",
       "<title>140467368252080-&gt;140467368060016</title>\n",
       "<path d=\"M103.5,-146.4551C103.5,-138.3828 103.5,-128.6764 103.5,-119.6817\" fill=\"none\" stroke=\"#000000\"/>\n",
       "<polygon fill=\"#000000\" points=\"107.0001,-119.5903 103.5,-109.5904 100.0001,-119.5904 107.0001,-119.5903\" stroke=\"#000000\"/>\n",
       "</g>\n",
       "<!-- 140467368254656 -->\n",
       "<g class=\"node\" id=\"node12\">\n",
       "<title>140467368254656</title>\n",
       "<polygon fill=\"none\" points=\"29.5,-.5 29.5,-36.5 177.5,-36.5 177.5,-.5 29.5,-.5\" stroke=\"#000000\"/>\n",
       "<text fill=\"#000000\" font-family=\"Times,serif\" font-size=\"14.00\" text-anchor=\"middle\" x=\"103.5\" y=\"-14.8\">activation_4: Activation</text>\n",
       "</g>\n",
       "<!-- 140467368060016&#45;&gt;140467368254656 -->\n",
       "<g class=\"edge\" id=\"edge12\">\n",
       "<title>140467368060016-&gt;140467368254656</title>\n",
       "<path d=\"M103.5,-73.4551C103.5,-65.3828 103.5,-55.6764 103.5,-46.6817\" fill=\"none\" stroke=\"#000000\"/>\n",
       "<polygon fill=\"#000000\" points=\"107.0001,-46.5903 103.5,-36.5904 100.0001,-46.5904 107.0001,-46.5903\" stroke=\"#000000\"/>\n",
       "</g>\n",
       "<!-- 140467368803464 -->\n",
       "<g class=\"node\" id=\"node13\">\n",
       "<title>140467368803464</title>\n",
       "<polygon fill=\"none\" points=\"44.5,-876.5 44.5,-912.5 162.5,-912.5 162.5,-876.5 44.5,-876.5\" stroke=\"#000000\"/>\n",
       "<text fill=\"#000000\" font-family=\"Times,serif\" font-size=\"14.00\" text-anchor=\"middle\" x=\"103.5\" y=\"-890.8\">140467368803464</text>\n",
       "</g>\n",
       "<!-- 140467368803464&#45;&gt;140467368802008 -->\n",
       "<g class=\"edge\" id=\"edge1\">\n",
       "<title>140467368803464-&gt;140467368802008</title>\n",
       "<path d=\"M103.5,-876.4551C103.5,-868.3828 103.5,-858.6764 103.5,-849.6817\" fill=\"none\" stroke=\"#000000\"/>\n",
       "<polygon fill=\"#000000\" points=\"107.0001,-849.5903 103.5,-839.5904 100.0001,-849.5904 107.0001,-849.5903\" stroke=\"#000000\"/>\n",
       "</g>\n",
       "</g>\n",
       "</svg>"
      ],
      "text/plain": [
       "<IPython.core.display.SVG object>"
      ]
     },
     "execution_count": 10,
     "metadata": {},
     "output_type": "execute_result"
    }
   ],
   "source": [
    "from IPython.display import SVG\n",
    "from keras.utils.vis_utils import model_to_dot\n",
    "\n",
    "SVG(model_to_dot(model).create(prog='dot', format='svg'))"
   ]
  },
  {
   "cell_type": "markdown",
   "metadata": {},
   "source": [
    "<h1>Testing performance without data augmentation</h1>"
   ]
  },
  {
   "cell_type": "code",
   "execution_count": 7,
   "metadata": {
    "collapsed": true
   },
   "outputs": [
    {
     "name": "stdout",
     "output_type": "stream",
     "text": [
      "Epoch 1/50\n",
      "18/18 [==============================] - 6s 351ms/step - loss: 7.8636 - acc: 0.4777 - val_loss: 6.0443 - val_acc: 0.6250\n",
      "Epoch 2/50\n",
      "18/18 [==============================] - 1s 80ms/step - loss: 7.3886 - acc: 0.5372 - val_loss: 6.8380 - val_acc: 0.5758\n",
      "Epoch 3/50\n",
      "18/18 [==============================] - 1s 83ms/step - loss: 3.3209 - acc: 0.5387 - val_loss: 0.5179 - val_acc: 0.6970\n",
      "Epoch 4/50\n",
      "18/18 [==============================] - 1s 83ms/step - loss: 0.6180 - acc: 0.7616 - val_loss: 0.6179 - val_acc: 0.7424\n",
      "Epoch 5/50\n",
      "18/18 [==============================] - 1s 82ms/step - loss: 0.4105 - acc: 0.8356 - val_loss: 0.3589 - val_acc: 0.8485\n",
      "Epoch 6/50\n",
      "18/18 [==============================] - 1s 77ms/step - loss: 0.2990 - acc: 0.8823 - val_loss: 0.5316 - val_acc: 0.8636\n",
      "Epoch 7/50\n",
      "18/18 [==============================] - 1s 79ms/step - loss: 0.2310 - acc: 0.9062 - val_loss: 0.5551 - val_acc: 0.8875\n",
      "Epoch 8/50\n",
      "18/18 [==============================] - 2s 87ms/step - loss: 0.1836 - acc: 0.9498 - val_loss: 6.6288 - val_acc: 0.2424\n",
      "Epoch 9/50\n",
      "18/18 [==============================] - 1s 82ms/step - loss: 0.3183 - acc: 0.9305 - val_loss: 0.7460 - val_acc: 0.8939\n",
      "Epoch 10/50\n",
      "18/18 [==============================] - 1s 82ms/step - loss: 0.2007 - acc: 0.9375 - val_loss: 1.0674 - val_acc: 0.8030\n",
      "Epoch 11/50\n",
      "18/18 [==============================] - 1s 82ms/step - loss: 0.1748 - acc: 0.9533 - val_loss: 0.3596 - val_acc: 0.8333\n",
      "Epoch 12/50\n",
      "18/18 [==============================] - 1s 78ms/step - loss: 0.1685 - acc: 0.9478 - val_loss: 1.0447 - val_acc: 0.8636\n",
      "Epoch 13/50\n",
      "18/18 [==============================] - 1s 79ms/step - loss: 0.1006 - acc: 0.9792 - val_loss: 1.0324 - val_acc: 0.8625\n",
      "Epoch 14/50\n",
      "18/18 [==============================] - 2s 88ms/step - loss: 0.1242 - acc: 0.9742 - val_loss: 2.3381 - val_acc: 0.7273\n",
      "Epoch 15/50\n",
      "18/18 [==============================] - 2s 88ms/step - loss: 0.2797 - acc: 0.9513 - val_loss: 1.0327 - val_acc: 0.8030\n",
      "Epoch 16/50\n",
      "18/18 [==============================] - 1s 81ms/step - loss: 0.3204 - acc: 0.9479 - val_loss: 0.6267 - val_acc: 0.9091\n",
      "Epoch 17/50\n",
      "18/18 [==============================] - 1s 82ms/step - loss: 0.1572 - acc: 0.9513 - val_loss: 1.5854 - val_acc: 0.7879\n",
      "Epoch 18/50\n",
      "18/18 [==============================] - 1s 76ms/step - loss: 0.0743 - acc: 0.9638 - val_loss: 1.2188 - val_acc: 0.8788\n",
      "Epoch 19/50\n",
      "18/18 [==============================] - 1s 78ms/step - loss: 0.0969 - acc: 0.9687 - val_loss: 0.8331 - val_acc: 0.8750\n",
      "Epoch 20/50\n",
      "18/18 [==============================] - 2s 86ms/step - loss: 0.0456 - acc: 0.9826 - val_loss: 1.1401 - val_acc: 0.9091\n",
      "Epoch 21/50\n",
      "18/18 [==============================] - 1s 82ms/step - loss: 0.1678 - acc: 0.9583 - val_loss: 1.1636 - val_acc: 0.8636\n",
      "Epoch 22/50\n",
      "18/18 [==============================] - 1s 82ms/step - loss: 0.3053 - acc: 0.9305 - val_loss: 0.9660 - val_acc: 0.9091\n",
      "Epoch 23/50\n",
      "18/18 [==============================] - 1s 82ms/step - loss: 0.0234 - acc: 0.9930 - val_loss: 1.7252 - val_acc: 0.8485\n",
      "Epoch 24/50\n",
      "18/18 [==============================] - 1s 79ms/step - loss: 0.3848 - acc: 0.9652 - val_loss: 1.4211 - val_acc: 0.8182\n",
      "Epoch 25/50\n",
      "18/18 [==============================] - 1s 81ms/step - loss: 0.0789 - acc: 0.9722 - val_loss: 1.2919 - val_acc: 0.8750\n",
      "Epoch 26/50\n",
      "18/18 [==============================] - 2s 85ms/step - loss: 0.1417 - acc: 0.9826 - val_loss: 1.3945 - val_acc: 0.8788\n",
      "Epoch 27/50\n",
      "18/18 [==============================] - 1s 79ms/step - loss: 0.0575 - acc: 0.9861 - val_loss: 1.7775 - val_acc: 0.8485\n",
      "Epoch 28/50\n",
      "18/18 [==============================] - 2s 86ms/step - loss: 0.2907 - acc: 0.9548 - val_loss: 1.6805 - val_acc: 0.8333\n",
      "Epoch 29/50\n",
      "18/18 [==============================] - 1s 78ms/step - loss: 1.0203 - acc: 0.9201 - val_loss: 1.9850 - val_acc: 0.7879\n",
      "Epoch 30/50\n",
      "18/18 [==============================] - 1s 78ms/step - loss: 0.1494 - acc: 0.9757 - val_loss: 1.0794 - val_acc: 0.8939\n",
      "Epoch 31/50\n",
      "18/18 [==============================] - 1s 79ms/step - loss: 0.1293 - acc: 0.9707 - val_loss: 1.1603 - val_acc: 0.9000\n",
      "Epoch 32/50\n",
      "18/18 [==============================] - 1s 83ms/step - loss: 0.4067 - acc: 0.9687 - val_loss: 1.9791 - val_acc: 0.7727\n",
      "Epoch 33/50\n",
      "18/18 [==============================] - 2s 87ms/step - loss: 0.0632 - acc: 0.9826 - val_loss: 1.2513 - val_acc: 0.8939\n",
      "Epoch 34/50\n",
      "18/18 [==============================] - 1s 82ms/step - loss: 0.1283 - acc: 0.9583 - val_loss: 2.4042 - val_acc: 0.8182\n",
      "Epoch 35/50\n",
      "18/18 [==============================] - 2s 87ms/step - loss: 0.1020 - acc: 0.9896 - val_loss: 1.2807 - val_acc: 0.8636\n",
      "Epoch 36/50\n",
      "18/18 [==============================] - 1s 76ms/step - loss: 0.1084 - acc: 0.9687 - val_loss: 1.8607 - val_acc: 0.8333\n",
      "Epoch 37/50\n",
      "18/18 [==============================] - 2s 86ms/step - loss: 0.0302 - acc: 0.9930 - val_loss: 1.2493 - val_acc: 0.8500\n",
      "Epoch 38/50\n",
      "18/18 [==============================] - 2s 84ms/step - loss: 0.0242 - acc: 0.9965 - val_loss: 1.0488 - val_acc: 0.8788\n",
      "Epoch 39/50\n",
      "18/18 [==============================] - 1s 82ms/step - loss: 0.5290 - acc: 0.9410 - val_loss: 2.3595 - val_acc: 0.8182\n",
      "Epoch 40/50\n",
      "18/18 [==============================] - 1s 82ms/step - loss: 0.0397 - acc: 0.9846 - val_loss: 2.3721 - val_acc: 0.8485\n",
      "Epoch 41/50\n",
      "18/18 [==============================] - 1s 82ms/step - loss: 0.0136 - acc: 0.9965 - val_loss: 1.3713 - val_acc: 0.8939\n",
      "Epoch 42/50\n",
      "18/18 [==============================] - 1s 79ms/step - loss: 0.0126 - acc: 0.9965 - val_loss: 2.6243 - val_acc: 0.8182\n",
      "Epoch 43/50\n",
      "18/18 [==============================] - 1s 80ms/step - loss: 0.0900 - acc: 0.9826 - val_loss: 1.8634 - val_acc: 0.8250\n",
      "Epoch 44/50\n",
      "18/18 [==============================] - 2s 85ms/step - loss: 0.2177 - acc: 0.9757 - val_loss: 1.5846 - val_acc: 0.8485\n",
      "Epoch 45/50\n",
      "18/18 [==============================] - 1s 83ms/step - loss: 0.2124 - acc: 0.9742 - val_loss: 2.1555 - val_acc: 0.8333\n",
      "Epoch 46/50\n",
      "18/18 [==============================] - 2s 90ms/step - loss: 0.3725 - acc: 0.9583 - val_loss: 1.8055 - val_acc: 0.8636\n",
      "Epoch 47/50\n",
      "18/18 [==============================] - 1s 77ms/step - loss: 0.0106 - acc: 1.0000 - val_loss: 2.1388 - val_acc: 0.8485\n",
      "Epoch 48/50\n",
      "18/18 [==============================] - 1s 78ms/step - loss: 0.0187 - acc: 0.9896 - val_loss: 2.1061 - val_acc: 0.8333\n",
      "Epoch 49/50\n",
      "18/18 [==============================] - 1s 76ms/step - loss: 0.1973 - acc: 0.9742 - val_loss: 1.8832 - val_acc: 0.8750\n",
      "Epoch 50/50\n",
      "18/18 [==============================] - 2s 84ms/step - loss: 0.0320 - acc: 0.9896 - val_loss: 1.5387 - val_acc: 0.8939\n"
     ]
    },
    {
     "ename": "NameError",
     "evalue": "name 'test_generator' is not defined",
     "output_type": "error",
     "traceback": [
      "\u001b[0;31m---------------------------------------------------------------------------\u001b[0m",
      "\u001b[0;31mNameError\u001b[0m                                 Traceback (most recent call last)",
      "\u001b[0;32m<ipython-input-7-ef5a44286396>\u001b[0m in \u001b[0;36m<module>\u001b[0;34m\u001b[0m\n\u001b[1;32m      7\u001b[0m \u001b[0;34m\u001b[0m\u001b[0m\n\u001b[1;32m      8\u001b[0m \u001b[0;34m\u001b[0m\u001b[0m\n\u001b[0;32m----> 9\u001b[0;31m \u001b[0mimgs\u001b[0m\u001b[0;34m,\u001b[0m \u001b[0mlabels\u001b[0m \u001b[0;34m=\u001b[0m \u001b[0mnext\u001b[0m\u001b[0;34m(\u001b[0m\u001b[0mtest_generator\u001b[0m\u001b[0;34m)\u001b[0m\u001b[0;34m\u001b[0m\u001b[0;34m\u001b[0m\u001b[0m\n\u001b[0m\u001b[1;32m     10\u001b[0m \u001b[0;34m\u001b[0m\u001b[0m\n\u001b[1;32m     11\u001b[0m \u001b[0;31m#ynew = model.predict(imgs)\u001b[0m\u001b[0;34m\u001b[0m\u001b[0;34m\u001b[0m\u001b[0;34m\u001b[0m\u001b[0m\n",
      "\u001b[0;31mNameError\u001b[0m: name 'test_generator' is not defined"
     ]
    }
   ],
   "source": [
    "history = model.fit_generator(\n",
    "            train_generator_wo,\n",
    "            steps_per_epoch=299 // batch_size,\n",
    "            epochs=50,\n",
    "            validation_data=validation_generator_wo,\n",
    "            validation_steps=82 // batch_size)"
   ]
  },
  {
   "cell_type": "code",
   "execution_count": 11,
   "metadata": {},
   "outputs": [
    {
     "name": "stdout",
     "output_type": "stream",
     "text": [
      "\r",
      "16/16 [==============================] - 0s 2ms/step\n"
     ]
    },
    {
     "data": {
      "text/plain": [
       "[3.9464144706726074, 0.75]"
      ]
     },
     "execution_count": 11,
     "metadata": {},
     "output_type": "execute_result"
    }
   ],
   "source": [
    "imgs, labels = next(test_generator)\n",
    "\n",
    "#ynew = model.predict(imgs)\n",
    "\n",
    "model.evaluate(imgs,labels, batch_size=batch_size)"
   ]
  },
  {
   "cell_type": "code",
   "execution_count": 17,
   "metadata": {},
   "outputs": [
    {
     "data": {
      "image/png": "[encoded data removed]",
      "text/plain": [
       "<Figure size 432x288 with 1 Axes>"
      ]
     },
     "metadata": {
      "needs_background": "light"
     },
     "output_type": "display_data"
    },
    {
     "data": {
      "image/png": "[encoded data removed]",
      "text/plain": [
       "<Figure size 432x288 with 1 Axes>"
      ]
     },
     "metadata": {
      "needs_background": "light"
     },
     "output_type": "display_data"
    }
   ],
   "source": [
    "plot_history(history)"
   ]
  },
  {
   "cell_type": "markdown",
   "metadata": {},
   "source": [
    "<h1>Testing with original image size: 1280x720</h1>"
   ]
  },
  {
   "cell_type": "code",
   "execution_count": null,
   "metadata": {},
   "outputs": [],
   "source": [
    "train_path = '../potato_and_catfood/train'\n",
    "valid_path = '../potato_and_catfood/valid'\n",
    "test_path = '../potato_and_catfood/test'"
   ]
  }
 ],
 "metadata": {
  "kernelspec": {
   "display_name": "Python 3",
   "language": "python",
   "name": "python3"
  },
  "language_info": {
   "codemirror_mode": {
    "name": "ipython",
    "version": 3
   },
   "file_extension": ".py",
   "mimetype": "text/x-python",
   "name": "python",
   "nbconvert_exporter": "python",
   "pygments_lexer": "ipython3",
   "version": "3.6.8"
  }
 },
 "nbformat": 4,
 "nbformat_minor": 2
}
