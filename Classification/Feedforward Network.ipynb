{
 "cells": [
  {
   "cell_type": "code",
   "execution_count": 1,
   "metadata": {},
   "outputs": [
    {
     "name": "stderr",
     "output_type": "stream",
     "text": [
      "Using TensorFlow backend.\n"
     ]
    }
   ],
   "source": [
    "import os\n",
    "from PIL import Image\n",
    "import util.image_import as ii\n",
    "from glob import glob\n",
    "import numpy as np\n",
    "import tensorflow as tf\n",
    "from keras.preprocessing import image\n",
    "from keras.preprocessing.image import ImageDataGenerator\n",
    "from keras import regularizers\n",
    "import matplotlib.pyplot as plt\n",
    "from keras.applications import mobilenet\n",
    "from keras.layers import Dense, GlobalAveragePooling2D, Activation, Dropout, Flatten, Dense, Conv2D, MaxPooling2D\n",
    "from keras.models import Model, Sequential\n",
    "from keras import models\n",
    "from keras import layers\n",
    "from keras.optimizers import Adam, RMSprop, SGD\n",
    "from util.plots import plot_history\n",
    "%matplotlib inline\n",
    "%load_ext autoreload\n",
    "%autoreload 2"
   ]
  },
  {
   "cell_type": "markdown",
   "metadata": {},
   "source": [
    "### Subtracting mean and normalizing to save pictures"
   ]
  },
  {
   "cell_type": "markdown",
   "metadata": {},
   "source": [
    "images_pot        = glob(os.path.join(\"/home/mikkel/Documents/github/BSc-PRO/Classification/res_still/train/potato\", \"*.jpg\"))\n",
    "images_cat        = glob(os.path.join(\"/home/mikkel/Documents/github/BSc-PRO/Classification/res_still/train/catfood\", \"*.jpg\"))\n",
    "images_tab        = glob(os.path.join(\"/home/mikkel/Documents/github/BSc-PRO/Classification/res_still/train/table\", \"*.jpg\"))\n",
    "\n",
    "X_train = ii.images_to_numpy(images_pot, images_cat, images_tab)\n",
    "\n",
    "ii.make_images_mean(X_train, \"res_still\", \"res_still_mean\")\n"
   ]
  },
  {
   "cell_type": "code",
   "execution_count": 2,
   "metadata": {},
   "outputs": [
    {
     "name": "stdout",
     "output_type": "stream",
     "text": [
      "Found 355 images belonging to 3 classes.\n",
      "Found 100 images belonging to 3 classes.\n",
      "Found 50 images belonging to 3 classes.\n"
     ]
    }
   ],
   "source": [
    "train_path = 'res_still/train'\n",
    "valid_path = 'res_still/valid'\n",
    "test_path = 'res_still/test'\n",
    "\n",
    "train_path_mean = 'res_still_mean/train'\n",
    "valid_path_mean = 'res_still_mean/valid'\n",
    "test_path_mean = 'res_still_mean/test'\n",
    "\n",
    "batch_size = 32\n",
    "\n",
    "train_datagen = ImageDataGenerator(\n",
    "        rescale=1./255,)\n",
    "        #rotation_range=10,\n",
    "        #vertical_flip=True,\n",
    "        #horizontal_flip=True,\n",
    "        #brightness_range=(0.65, 1.35))\n",
    "\n",
    "valid_datagen = ImageDataGenerator(\n",
    "        rescale=1./255\n",
    ")\n",
    "\n",
    "# Train data generator\n",
    "train_generator = train_datagen.flow_from_directory(\n",
    "        train_path_mean,\n",
    "        target_size=(224, 224),\n",
    "        batch_size=batch_size,\n",
    "        classes=['potato', 'catfood', 'table'])\n",
    "\n",
    "# Validation data generator\n",
    "validation_generator = valid_datagen.flow_from_directory(\n",
    "        valid_path_mean,\n",
    "        target_size=(224, 224),\n",
    "        batch_size=batch_size,\n",
    "        classes=['potato', 'catfood', 'table'])\n",
    "\n",
    "# this is a similar generator, for validation data\n",
    "test_generator = valid_datagen.flow_from_directory(\n",
    "        test_path_mean,\n",
    "        target_size=(224, 224),\n",
    "        batch_size=batch_size,\n",
    "        classes=['potato', 'catfood', 'table'])"
   ]
  },
  {
   "cell_type": "code",
   "execution_count": 3,
   "metadata": {},
   "outputs": [
    {
     "name": "stdout",
     "output_type": "stream",
     "text": [
      "_________________________________________________________________\n",
      "Layer (type)                 Output Shape              Param #   \n",
      "=================================================================\n",
      "flatten_1 (Flatten)          (None, 150528)            0         \n",
      "_________________________________________________________________\n",
      "dense_1 (Dense)              (None, 512)               77070848  \n",
      "_________________________________________________________________\n",
      "activation_1 (Activation)    (None, 512)               0         \n",
      "_________________________________________________________________\n",
      "dense_2 (Dense)              (None, 3)                 1539      \n",
      "_________________________________________________________________\n",
      "activation_2 (Activation)    (None, 3)                 0         \n",
      "=================================================================\n",
      "Total params: 77,072,387\n",
      "Trainable params: 77,072,387\n",
      "Non-trainable params: 0\n",
      "_________________________________________________________________\n"
     ]
    }
   ],
   "source": [
    "model = Sequential()\n",
    "model.add(Flatten(input_shape=(224,224,3)))\n",
    "# kernel_regularizer: Regularizer function applied to the kernel weights matrix (see regularizer).\n",
    "model.add(Dense(512 ,kernel_regularizer=regularizers.l2(0.2)))\n",
    "model.add(Activation('relu'))\n",
    "model.add(Dense(3, kernel_regularizer=regularizers.l2(0.2)))\n",
    "model.add(Activation('softmax'))\n",
    "\n",
    "model.compile(loss='categorical_crossentropy',\n",
    "              optimizer=Adam(lr=0.0001),\n",
    "              metrics=['accuracy'])\n",
    "\n",
    "model.summary()\n",
    "\n"
   ]
  },
  {
   "cell_type": "code",
   "execution_count": 4,
   "metadata": {
    "scrolled": true
   },
   "outputs": [
    {
     "name": "stdout",
     "output_type": "stream",
     "text": [
      "Epoch 1/10\n",
      "31/31 [==============================] - 12s 400ms/step - loss: 145.6364 - acc: 0.3964 - val_loss: 83.9282 - val_acc: 0.4062\n",
      "Epoch 2/10\n",
      "31/31 [==============================] - 9s 282ms/step - loss: 54.9937 - acc: 0.4195 - val_loss: 34.8476 - val_acc: 0.3971\n",
      "Epoch 3/10\n",
      "31/31 [==============================] - 8s 261ms/step - loss: 26.2703 - acc: 0.3993 - val_loss: 20.9340 - val_acc: 0.3382\n",
      "Epoch 4/10\n",
      "31/31 [==============================] - 8s 258ms/step - loss: 17.0241 - acc: 0.3933 - val_loss: 13.6293 - val_acc: 0.4559\n",
      "Epoch 5/10\n",
      "31/31 [==============================] - 8s 265ms/step - loss: 13.2225 - acc: 0.4001 - val_loss: 12.3839 - val_acc: 0.3958\n",
      "Epoch 6/10\n",
      "31/31 [==============================] - 9s 293ms/step - loss: 13.9374 - acc: 0.3872 - val_loss: 13.4707 - val_acc: 0.3824\n",
      "Epoch 7/10\n",
      "31/31 [==============================] - 9s 296ms/step - loss: 12.1107 - acc: 0.3937 - val_loss: 10.2619 - val_acc: 0.4559\n",
      "Epoch 8/10\n",
      "31/31 [==============================] - 8s 270ms/step - loss: 10.6391 - acc: 0.4122 - val_loss: 11.1234 - val_acc: 0.3676\n",
      "Epoch 9/10\n",
      "31/31 [==============================] - 9s 275ms/step - loss: 10.5263 - acc: 0.3947 - val_loss: 13.8701 - val_acc: 0.1875\n",
      "Epoch 10/10\n",
      "31/31 [==============================] - 9s 288ms/step - loss: 15.0824 - acc: 0.1768 - val_loss: 14.2488 - val_acc: 0.2206\n"
     ]
    }
   ],
   "source": [
    "history = model.fit_generator(\n",
    "            train_generator,\n",
    "            steps_per_epoch=1000 // batch_size,\n",
    "            epochs=10,\n",
    "            validation_data=validation_generator,\n",
    "            validation_steps=100 // batch_size)"
   ]
  },
  {
   "cell_type": "code",
   "execution_count": 5,
   "metadata": {},
   "outputs": [
    {
     "data": {
      "image/png": "[encoded data removed]",
      "text/plain": [
       "<Figure size 432x288 with 1 Axes>"
      ]
     },
     "metadata": {
      "needs_background": "light"
     },
     "output_type": "display_data"
    },
    {
     "data": {
      "image/png": "[encoded data removed]",
      "text/plain": [
       "<Figure size 432x288 with 1 Axes>"
      ]
     },
     "metadata": {
      "needs_background": "light"
     },
     "output_type": "display_data"
    }
   ],
   "source": [
    "plot_history(history)"
   ]
  },
  {
   "cell_type": "code",
   "execution_count": 6,
   "metadata": {},
   "outputs": [
    {
     "name": "stdout",
     "output_type": "stream",
     "text": [
      "\r",
      "32/32 [==============================] - 0s 1ms/step\n"
     ]
    },
    {
     "data": {
      "text/plain": [
       "[15.285834312438965, 0.15625]"
      ]
     },
     "execution_count": 6,
     "metadata": {},
     "output_type": "execute_result"
    }
   ],
   "source": [
    "imgs, labels = next(test_generator)\n",
    "img = Image.fromarray(imgs[1].astype('uint8'), 'RGB')\n",
    "img.show()\n",
    "\n",
    "#ynew = model.predict(imgs)\n",
    "\n",
    "model.evaluate(imgs,labels, batch_size=batch_size)"
   ]
  },
  {
   "cell_type": "code",
   "execution_count": null,
   "metadata": {},
   "outputs": [],
   "source": []
  },
  {
   "cell_type": "code",
   "execution_count": null,
   "metadata": {},
   "outputs": [],
   "source": []
  }
 ],
 "metadata": {
  "kernelspec": {
   "display_name": "Python 3",
   "language": "python",
   "name": "python3"
  },
  "language_info": {
   "codemirror_mode": {
    "name": "ipython",
    "version": 3
   },
   "file_extension": ".py",
   "mimetype": "text/x-python",
   "name": "python",
   "nbconvert_exporter": "python",
   "pygments_lexer": "ipython3",
   "version": "3.6.8"
  }
 },
 "nbformat": 4,
 "nbformat_minor": 2
}
