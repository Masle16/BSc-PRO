{
 "cells": [
  {
   "cell_type": "code",
   "execution_count": 2,
   "metadata": {},
   "outputs": [],
   "source": [
    "import os\n",
    "from PIL import Image\n",
    "import util.image_import as ii\n",
    "from glob import glob\n",
    "import numpy as np\n",
    "import tensorflow as tf\n",
    "from keras.preprocessing import image\n",
    "from keras.preprocessing.image import ImageDataGenerator\n",
    "from keras import regularizers\n",
    "from keras import backend as K\n",
    "import matplotlib.pyplot as plt\n",
    "from keras.applications import mobilenet\n",
    "from keras.layers import Dense, GlobalAveragePooling2D, Activation, Dropout, Flatten, Dense, Conv2D, MaxPooling2D\n",
    "from keras.models import Model, Sequential\n",
    "from keras import models\n",
    "from keras import layers\n",
    "from keras.utils.np_utils import to_categorical\n",
    "from keras.optimizers import Adam, RMSprop, SGD\n",
    "from util.plots import plot_history\n",
    "%matplotlib inline\n",
    "%load_ext autoreload\n",
    "%autoreload 2"
   ]
  },
  {
   "cell_type": "markdown",
   "metadata": {},
   "source": [
    "### Subtracting mean and normalizing to save pictures"
   ]
  },
  {
   "cell_type": "code",
   "execution_count": 3,
   "metadata": {},
   "outputs": [],
   "source": [
    "cfg = K.tf.ConfigProto() # Config to dynamically add memory\n",
    "cfg.gpu_options.allow_growth = True\n",
    "K.set_session(K.tf.Session(config=cfg))# set this TensorFlow session as the default session for Keras."
   ]
  },
  {
   "cell_type": "code",
   "execution_count": 15,
   "metadata": {},
   "outputs": [],
   "source": [
    "# Importing the images\n",
    "train_pot = glob(os.path.join(\"../dataset2/res_still/train/potato\", \"*.jpg\"))\n",
    "train_cat = glob(os.path.join(\"../dataset2/res_still/train/catfood\", \"*.jpg\"))\n",
    "train_tab = glob(os.path.join(\"../dataset2/res_still/train/table\", \"*.jpg\"))\n",
    "val_pot   = glob(os.path.join(\"../dataset2/res_still/valid/potato\", \"*.jpg\"))\n",
    "val_cat   = glob(os.path.join(\"../dataset2/res_still/valid/catfood\", \"*.jpg\"))\n",
    "val_tab   = glob(os.path.join(\"../dataset2/res_still/valid/table\", \"*.jpg\"))\n",
    "test_pot  = glob(os.path.join(\"../dataset2/res_still/test/potato\", \"*.jpg\"))\n",
    "test_cat  = glob(os.path.join(\"../dataset2/res_still/test/catfood\", \"*.jpg\"))\n",
    "test_tab  = glob(os.path.join(\"../dataset2/res_still/test/table\", \"*.jpg\"))\n",
    "\n",
    "X_train, y_train = ii.images_to_numpy(train_pot, train_cat, train_tab)\n",
    "X_val, y_val = ii.images_to_numpy(val_pot, val_cat, val_tab)\n",
    "X_test, y_test = ii.images_to_numpy(test_pot, test_cat, test_tab)\n",
    "\n",
    "batch_size = 32\n",
    "num_classes = 3\n",
    "\n",
    "# Making datagen for training with normilization, center, and dataugmentation\n",
    "train_datagen = ImageDataGenerator(\n",
    "        featurewise_center=True,\n",
    "        #featurewise_std_normalization=True\n",
    "        rescale=1./255,\n",
    "        rotation_range=10,\n",
    "        vertical_flip=True,\n",
    "        horizontal_flip=True,\n",
    "        brightness_range=(0.65, 1.35)\n",
    ")\n",
    "\n",
    "# Making datagen for validation and test with normilization\n",
    "valid_datagen = ImageDataGenerator(\n",
    "        featurewise_center=True, \n",
    "        #featurewise_std_normalization=True\n",
    "        rescale=1./255\n",
    ")\n",
    "\n",
    "\n",
    "X_train = X_train.astype(float)\n",
    "X_val = X_val.astype(float)\n",
    "X_test = X_test.astype(float)\n",
    "\n",
    "y_train = to_categorical(y_train, num_classes)\n",
    "y_val = to_categorical(y_val, num_classes)\n",
    "y_test = to_categorical(y_test, num_classes)\n",
    "\n",
    "# Required for featurewise normalization\n",
    "train_datagen.fit(X_train/255.)\n",
    "valid_datagen.fit(X_train/255.)\n",
    "\n",
    "train_generator = train_datagen.flow(X_train,\n",
    "                                     y_train,\n",
    "                                     batch_size=batch_size, shuffle=True)\n",
    "\n",
    "validation_generator = valid_datagen.flow(X_val,\n",
    "                                     y_val,\n",
    "                                     batch_size=batch_size, shuffle=True)\n",
    "\n",
    "test_generator = valid_datagen.flow(X_test,\n",
    "                                     y_test,\n",
    "                                     batch_size=80, shuffle=True)\n"
   ]
  },
  {
   "cell_type": "markdown",
   "metadata": {},
   "source": [
    "## Optimized model"
   ]
  },
  {
   "cell_type": "code",
   "execution_count": 5,
   "metadata": {},
   "outputs": [
    {
     "name": "stdout",
     "output_type": "stream",
     "text": [
      "_________________________________________________________________\n",
      "Layer (type)                 Output Shape              Param #   \n",
      "=================================================================\n",
      "flatten_1 (Flatten)          (None, 150528)            0         \n",
      "_________________________________________________________________\n",
      "dense_1 (Dense)              (None, 512)               77070848  \n",
      "_________________________________________________________________\n",
      "activation_1 (Activation)    (None, 512)               0         \n",
      "_________________________________________________________________\n",
      "dense_2 (Dense)              (None, 3)                 1539      \n",
      "_________________________________________________________________\n",
      "activation_2 (Activation)    (None, 3)                 0         \n",
      "=================================================================\n",
      "Total params: 77,072,387\n",
      "Trainable params: 77,072,387\n",
      "Non-trainable params: 0\n",
      "_________________________________________________________________\n"
     ]
    }
   ],
   "source": [
    "model = Sequential()\n",
    "model.add(Flatten(input_shape=(224,224,3)))\n",
    "# kernel_regularizer: Regularizer function applied to the kernel weights matrix (see regularizer).\n",
    "model.add(Dense(512))\n",
    "model.add(Activation('relu'))\n",
    "model.add(Dense(3))\n",
    "model.add(Activation('softmax'))\n",
    "\n",
    "model.compile(loss='categorical_crossentropy',\n",
    "              optimizer=Adam(lr=1e-4), # lr=0.0001\n",
    "              metrics=['accuracy'])\n",
    "\n",
    "model.summary()\n",
    "\n"
   ]
  },
  {
   "cell_type": "code",
   "execution_count": 6,
   "metadata": {
    "scrolled": true
   },
   "outputs": [
    {
     "name": "stdout",
     "output_type": "stream",
     "text": [
      "Epoch 1/100\n",
      "17/17 [==============================] - 6s 333ms/step - loss: 4.5704 - acc: 0.4111 - val_loss: 4.6066 - val_acc: 0.4062\n",
      "Epoch 2/100\n",
      "17/17 [==============================] - 5s 303ms/step - loss: 4.5659 - acc: 0.4626 - val_loss: 1.8452 - val_acc: 0.5125\n",
      "Epoch 3/100\n",
      "17/17 [==============================] - 5s 305ms/step - loss: 2.7382 - acc: 0.4926 - val_loss: 1.3987 - val_acc: 0.7063\n",
      "Epoch 4/100\n",
      "17/17 [==============================] - 5s 304ms/step - loss: 2.0770 - acc: 0.5312 - val_loss: 1.3386 - val_acc: 0.4938\n",
      "Epoch 5/100\n",
      "17/17 [==============================] - 5s 305ms/step - loss: 1.8665 - acc: 0.6255 - val_loss: 0.9602 - val_acc: 0.6125\n",
      "Epoch 6/100\n",
      "17/17 [==============================] - 5s 318ms/step - loss: 1.7904 - acc: 0.6342 - val_loss: 0.5311 - val_acc: 0.7812\n",
      "Epoch 7/100\n",
      "17/17 [==============================] - 6s 338ms/step - loss: 1.1082 - acc: 0.6643 - val_loss: 0.4746 - val_acc: 0.7937\n",
      "Epoch 8/100\n",
      "17/17 [==============================] - 6s 341ms/step - loss: 0.8558 - acc: 0.6926 - val_loss: 0.4570 - val_acc: 0.7875\n",
      "Epoch 9/100\n",
      "17/17 [==============================] - 6s 333ms/step - loss: 0.9413 - acc: 0.6917 - val_loss: 0.4060 - val_acc: 0.8313\n",
      "Epoch 10/100\n",
      "17/17 [==============================] - 19s 1s/step - loss: 0.5144 - acc: 0.8134 - val_loss: 0.3696 - val_acc: 0.9062\n",
      "Epoch 11/100\n",
      "17/17 [==============================] - 11s 673ms/step - loss: 0.5839 - acc: 0.8107 - val_loss: 0.3649 - val_acc: 0.9187\n",
      "Epoch 12/100\n",
      "17/17 [==============================] - 9s 519ms/step - loss: 0.6527 - acc: 0.8025 - val_loss: 0.4717 - val_acc: 0.8438\n",
      "Epoch 13/100\n",
      "17/17 [==============================] - 8s 472ms/step - loss: 0.6240 - acc: 0.7856 - val_loss: 0.4961 - val_acc: 0.8000\n",
      "Epoch 14/100\n",
      "17/17 [==============================] - 7s 438ms/step - loss: 0.5821 - acc: 0.7996 - val_loss: 0.3415 - val_acc: 0.8438\n",
      "Epoch 15/100\n",
      "17/17 [==============================] - 7s 406ms/step - loss: 0.4780 - acc: 0.8439 - val_loss: 0.4136 - val_acc: 0.8063\n",
      "Epoch 16/100\n",
      "17/17 [==============================] - 7s 393ms/step - loss: 0.4937 - acc: 0.8290 - val_loss: 0.2948 - val_acc: 0.9375\n",
      "Epoch 17/100\n",
      "17/17 [==============================] - 7s 397ms/step - loss: 0.5089 - acc: 0.8101 - val_loss: 0.3249 - val_acc: 0.9250\n",
      "Epoch 18/100\n",
      "17/17 [==============================] - 6s 373ms/step - loss: 0.5195 - acc: 0.8274 - val_loss: 0.7000 - val_acc: 0.7875\n",
      "Epoch 19/100\n",
      "17/17 [==============================] - 6s 376ms/step - loss: 0.5215 - acc: 0.8246 - val_loss: 0.3905 - val_acc: 0.9062\n",
      "Epoch 20/100\n",
      "17/17 [==============================] - 6s 347ms/step - loss: 0.4441 - acc: 0.8621 - val_loss: 0.2721 - val_acc: 0.8500\n",
      "Epoch 21/100\n",
      "17/17 [==============================] - 6s 356ms/step - loss: 0.3503 - acc: 0.8659 - val_loss: 0.3580 - val_acc: 0.8375\n",
      "Epoch 22/100\n",
      "17/17 [==============================] - 6s 371ms/step - loss: 0.4951 - acc: 0.8511 - val_loss: 1.0660 - val_acc: 0.6875\n",
      "Epoch 23/100\n",
      "17/17 [==============================] - 6s 368ms/step - loss: 0.7101 - acc: 0.8062 - val_loss: 0.5730 - val_acc: 0.8000\n",
      "Epoch 24/100\n",
      "17/17 [==============================] - 6s 355ms/step - loss: 0.9072 - acc: 0.8193 - val_loss: 0.3351 - val_acc: 0.8750\n",
      "Epoch 25/100\n",
      "17/17 [==============================] - 6s 328ms/step - loss: 0.5173 - acc: 0.8358 - val_loss: 0.4638 - val_acc: 0.8812\n",
      "Epoch 26/100\n",
      "17/17 [==============================] - 6s 339ms/step - loss: 0.4305 - acc: 0.8581 - val_loss: 0.4568 - val_acc: 0.8688\n",
      "Epoch 27/100\n",
      "17/17 [==============================] - 6s 344ms/step - loss: 0.5153 - acc: 0.8290 - val_loss: 0.4152 - val_acc: 0.8938\n",
      "Epoch 28/100\n",
      "17/17 [==============================] - 6s 346ms/step - loss: 0.3322 - acc: 0.8904 - val_loss: 0.1739 - val_acc: 0.9500\n",
      "Epoch 29/100\n",
      "17/17 [==============================] - 6s 342ms/step - loss: 0.2056 - acc: 0.9210 - val_loss: 0.3608 - val_acc: 0.8938\n",
      "Epoch 30/100\n",
      "17/17 [==============================] - 6s 335ms/step - loss: 0.2497 - acc: 0.9152 - val_loss: 0.1820 - val_acc: 0.9250\n",
      "Epoch 31/100\n",
      "17/17 [==============================] - 6s 353ms/step - loss: 0.1996 - acc: 0.9298 - val_loss: 0.3372 - val_acc: 0.8875\n",
      "Epoch 32/100\n",
      "17/17 [==============================] - 6s 331ms/step - loss: 0.3349 - acc: 0.9005 - val_loss: 0.1241 - val_acc: 0.9625\n",
      "Epoch 33/100\n",
      "17/17 [==============================] - 6s 348ms/step - loss: 0.2793 - acc: 0.9116 - val_loss: 0.1554 - val_acc: 0.9250\n",
      "Epoch 34/100\n",
      "17/17 [==============================] - 7s 394ms/step - loss: 0.2580 - acc: 0.9090 - val_loss: 0.1058 - val_acc: 0.9688\n",
      "Epoch 35/100\n",
      "17/17 [==============================] - 7s 433ms/step - loss: 0.2485 - acc: 0.9077 - val_loss: 0.1488 - val_acc: 0.9437\n",
      "Epoch 36/100\n",
      "17/17 [==============================] - 6s 343ms/step - loss: 0.3202 - acc: 0.9002 - val_loss: 0.1193 - val_acc: 0.9625\n",
      "Epoch 37/100\n",
      "17/17 [==============================] - 6s 328ms/step - loss: 0.3218 - acc: 0.8732 - val_loss: 0.1248 - val_acc: 0.9812\n",
      "Epoch 38/100\n",
      "17/17 [==============================] - 6s 356ms/step - loss: 0.2491 - acc: 0.9151 - val_loss: 0.1195 - val_acc: 0.9688\n",
      "Epoch 39/100\n",
      "17/17 [==============================] - 6s 332ms/step - loss: 0.2157 - acc: 0.9270 - val_loss: 0.0962 - val_acc: 0.9875\n",
      "Epoch 40/100\n",
      "17/17 [==============================] - 7s 441ms/step - loss: 0.2133 - acc: 0.9171 - val_loss: 0.0816 - val_acc: 0.9750\n",
      "Epoch 41/100\n",
      "17/17 [==============================] - 6s 360ms/step - loss: 0.2000 - acc: 0.9430 - val_loss: 0.0790 - val_acc: 0.9812\n",
      "Epoch 42/100\n",
      "17/17 [==============================] - 6s 340ms/step - loss: 0.1889 - acc: 0.9283 - val_loss: 0.1435 - val_acc: 0.9125\n",
      "Epoch 43/100\n",
      "17/17 [==============================] - 6s 369ms/step - loss: 0.1317 - acc: 0.9665 - val_loss: 0.1816 - val_acc: 0.9625\n",
      "Epoch 44/100\n",
      "17/17 [==============================] - 6s 364ms/step - loss: 0.1444 - acc: 0.9520 - val_loss: 0.0922 - val_acc: 0.9688\n",
      "Epoch 45/100\n",
      "17/17 [==============================] - 6s 339ms/step - loss: 0.1026 - acc: 0.9724 - val_loss: 0.1034 - val_acc: 0.9625\n",
      "Epoch 46/100\n",
      "17/17 [==============================] - 6s 375ms/step - loss: 0.1087 - acc: 0.9743 - val_loss: 0.0893 - val_acc: 0.9688\n",
      "Epoch 47/100\n",
      "17/17 [==============================] - 7s 419ms/step - loss: 0.0942 - acc: 0.9722 - val_loss: 0.1135 - val_acc: 0.9375\n",
      "Epoch 48/100\n",
      "17/17 [==============================] - 6s 357ms/step - loss: 0.1150 - acc: 0.9669 - val_loss: 0.1321 - val_acc: 0.9563\n",
      "Epoch 49/100\n",
      "17/17 [==============================] - 6s 374ms/step - loss: 0.1062 - acc: 0.9647 - val_loss: 0.0983 - val_acc: 0.9688\n",
      "Epoch 50/100\n",
      "17/17 [==============================] - 6s 370ms/step - loss: 0.1451 - acc: 0.9540 - val_loss: 0.0899 - val_acc: 0.9750\n",
      "Epoch 51/100\n",
      "17/17 [==============================] - 7s 383ms/step - loss: 0.1396 - acc: 0.9557 - val_loss: 0.1282 - val_acc: 0.9437\n",
      "Epoch 52/100\n",
      "17/17 [==============================] - 6s 378ms/step - loss: 0.1166 - acc: 0.9630 - val_loss: 0.0798 - val_acc: 0.9750\n",
      "Epoch 53/100\n",
      "17/17 [==============================] - 6s 366ms/step - loss: 0.0932 - acc: 0.9686 - val_loss: 0.0905 - val_acc: 0.9812\n",
      "Epoch 54/100\n",
      "17/17 [==============================] - 6s 363ms/step - loss: 0.1256 - acc: 0.9498 - val_loss: 0.0858 - val_acc: 0.9750\n",
      "Epoch 55/100\n",
      "17/17 [==============================] - 7s 383ms/step - loss: 0.1167 - acc: 0.9612 - val_loss: 0.1368 - val_acc: 0.9500\n",
      "Epoch 56/100\n",
      "17/17 [==============================] - 7s 412ms/step - loss: 0.1463 - acc: 0.9572 - val_loss: 0.0711 - val_acc: 0.9812\n",
      "Epoch 57/100\n",
      "17/17 [==============================] - 8s 468ms/step - loss: 0.1232 - acc: 0.9612 - val_loss: 0.0441 - val_acc: 0.9875\n",
      "Epoch 58/100\n",
      "17/17 [==============================] - 6s 363ms/step - loss: 0.1485 - acc: 0.9449 - val_loss: 0.0602 - val_acc: 0.9750\n",
      "Epoch 59/100\n",
      "17/17 [==============================] - 6s 339ms/step - loss: 0.2089 - acc: 0.9277 - val_loss: 0.0678 - val_acc: 0.9812\n",
      "Epoch 60/100\n",
      "17/17 [==============================] - 6s 337ms/step - loss: 0.3498 - acc: 0.9357 - val_loss: 0.1945 - val_acc: 0.9437\n",
      "Epoch 61/100\n",
      "17/17 [==============================] - 6s 356ms/step - loss: 0.5974 - acc: 0.8676 - val_loss: 0.2204 - val_acc: 0.9437\n",
      "Epoch 62/100\n"
     ]
    },
    {
     "name": "stdout",
     "output_type": "stream",
     "text": [
      "17/17 [==============================] - 8s 447ms/step - loss: 0.5843 - acc: 0.8658 - val_loss: 0.1430 - val_acc: 0.9437\n",
      "Epoch 63/100\n",
      "17/17 [==============================] - 7s 426ms/step - loss: 0.3760 - acc: 0.8829 - val_loss: 0.1276 - val_acc: 0.9500\n",
      "Epoch 64/100\n",
      "17/17 [==============================] - 7s 403ms/step - loss: 0.4592 - acc: 0.8621 - val_loss: 0.1154 - val_acc: 0.9625\n",
      "Epoch 65/100\n",
      "17/17 [==============================] - 7s 392ms/step - loss: 0.2124 - acc: 0.9301 - val_loss: 0.1045 - val_acc: 0.9563\n",
      "Epoch 66/100\n",
      "17/17 [==============================] - 7s 387ms/step - loss: 0.2968 - acc: 0.9073 - val_loss: 0.1029 - val_acc: 0.9625\n",
      "Epoch 67/100\n",
      "17/17 [==============================] - 7s 389ms/step - loss: 0.1378 - acc: 0.9559 - val_loss: 0.1321 - val_acc: 0.9375\n",
      "Epoch 68/100\n",
      "17/17 [==============================] - 7s 383ms/step - loss: 0.1568 - acc: 0.9441 - val_loss: 0.0471 - val_acc: 0.9875\n",
      "Epoch 69/100\n",
      "17/17 [==============================] - 7s 404ms/step - loss: 0.1125 - acc: 0.9651 - val_loss: 0.0799 - val_acc: 0.9875\n",
      "Epoch 70/100\n",
      "17/17 [==============================] - 7s 399ms/step - loss: 0.0784 - acc: 0.9743 - val_loss: 0.0607 - val_acc: 0.9938\n",
      "Epoch 71/100\n",
      "17/17 [==============================] - 7s 394ms/step - loss: 0.1417 - acc: 0.9535 - val_loss: 0.1031 - val_acc: 0.9625\n",
      "Epoch 72/100\n",
      "17/17 [==============================] - 6s 375ms/step - loss: 0.0919 - acc: 0.9779 - val_loss: 0.0653 - val_acc: 0.9750\n",
      "Epoch 73/100\n",
      "17/17 [==============================] - 6s 377ms/step - loss: 0.0717 - acc: 0.9743 - val_loss: 0.0799 - val_acc: 0.9812\n",
      "Epoch 74/100\n",
      "17/17 [==============================] - 7s 410ms/step - loss: 0.0547 - acc: 0.9890 - val_loss: 0.0639 - val_acc: 1.0000\n",
      "Epoch 75/100\n",
      "17/17 [==============================] - 7s 420ms/step - loss: 0.0855 - acc: 0.9761 - val_loss: 0.0429 - val_acc: 0.9812\n",
      "Epoch 76/100\n",
      "17/17 [==============================] - 7s 392ms/step - loss: 0.1242 - acc: 0.9612 - val_loss: 0.1801 - val_acc: 0.9563\n",
      "Epoch 77/100\n",
      "17/17 [==============================] - 7s 406ms/step - loss: 0.1803 - acc: 0.9485 - val_loss: 0.1448 - val_acc: 0.9500\n",
      "Epoch 78/100\n",
      "17/17 [==============================] - 7s 428ms/step - loss: 0.1784 - acc: 0.9388 - val_loss: 0.2623 - val_acc: 0.9250\n",
      "Epoch 79/100\n",
      "17/17 [==============================] - 7s 387ms/step - loss: 0.1763 - acc: 0.9467 - val_loss: 0.0865 - val_acc: 0.9625\n",
      "Epoch 80/100\n",
      "17/17 [==============================] - 7s 386ms/step - loss: 0.2702 - acc: 0.9257 - val_loss: 0.1024 - val_acc: 0.9688\n",
      "Epoch 81/100\n",
      "17/17 [==============================] - 7s 417ms/step - loss: 0.3826 - acc: 0.8910 - val_loss: 0.0615 - val_acc: 0.9875\n",
      "Epoch 82/100\n",
      "17/17 [==============================] - 7s 396ms/step - loss: 0.1498 - acc: 0.9540 - val_loss: 0.0832 - val_acc: 0.9688\n",
      "Epoch 83/100\n",
      "17/17 [==============================] - 8s 448ms/step - loss: 0.1815 - acc: 0.9449 - val_loss: 0.0678 - val_acc: 0.9750\n",
      "Epoch 84/100\n",
      "17/17 [==============================] - 7s 423ms/step - loss: 0.2815 - acc: 0.9145 - val_loss: 0.2384 - val_acc: 0.9313\n",
      "Epoch 85/100\n",
      "17/17 [==============================] - 7s 411ms/step - loss: 0.2821 - acc: 0.9206 - val_loss: 0.0453 - val_acc: 0.9875\n",
      "Epoch 86/100\n",
      "17/17 [==============================] - 7s 396ms/step - loss: 0.0879 - acc: 0.9722 - val_loss: 0.0501 - val_acc: 0.9875\n",
      "Epoch 87/100\n",
      "17/17 [==============================] - 7s 390ms/step - loss: 0.0590 - acc: 0.9829 - val_loss: 0.0320 - val_acc: 0.9875\n",
      "Epoch 88/100\n",
      "17/17 [==============================] - 7s 400ms/step - loss: 0.0849 - acc: 0.9684 - val_loss: 0.0849 - val_acc: 0.9688\n",
      "Epoch 89/100\n",
      "17/17 [==============================] - 7s 414ms/step - loss: 0.0993 - acc: 0.9722 - val_loss: 0.0715 - val_acc: 0.9688\n",
      "Epoch 90/100\n",
      "17/17 [==============================] - 7s 388ms/step - loss: 0.0554 - acc: 0.9835 - val_loss: 0.0764 - val_acc: 0.9688\n",
      "Epoch 91/100\n",
      "17/17 [==============================] - 7s 399ms/step - loss: 0.0675 - acc: 0.9704 - val_loss: 0.0446 - val_acc: 0.9875\n",
      "Epoch 92/100\n",
      "17/17 [==============================] - 7s 415ms/step - loss: 0.0552 - acc: 0.9853 - val_loss: 0.0469 - val_acc: 0.9812\n",
      "Epoch 93/100\n",
      "17/17 [==============================] - 7s 394ms/step - loss: 0.0631 - acc: 0.9853 - val_loss: 0.0303 - val_acc: 0.9938\n",
      "Epoch 94/100\n",
      "17/17 [==============================] - 7s 386ms/step - loss: 0.0416 - acc: 0.9869 - val_loss: 0.0230 - val_acc: 0.9938\n",
      "Epoch 95/100\n",
      "17/17 [==============================] - 7s 410ms/step - loss: 0.0278 - acc: 0.9890 - val_loss: 0.0289 - val_acc: 0.9875\n",
      "Epoch 96/100\n",
      "17/17 [==============================] - 7s 392ms/step - loss: 0.0450 - acc: 0.9835 - val_loss: 0.0248 - val_acc: 0.9938\n",
      "Epoch 97/100\n",
      "17/17 [==============================] - 7s 431ms/step - loss: 0.0344 - acc: 0.9890 - val_loss: 0.0281 - val_acc: 0.9938\n",
      "Epoch 98/100\n",
      "17/17 [==============================] - 8s 447ms/step - loss: 0.0220 - acc: 0.9945 - val_loss: 0.0490 - val_acc: 0.9750\n",
      "Epoch 99/100\n",
      "17/17 [==============================] - 7s 431ms/step - loss: 0.0309 - acc: 0.9961 - val_loss: 0.0474 - val_acc: 0.9750\n",
      "Epoch 100/100\n",
      "17/17 [==============================] - 7s 430ms/step - loss: 0.0392 - acc: 0.9871 - val_loss: 0.0518 - val_acc: 0.9750\n"
     ]
    }
   ],
   "source": [
    "history = model.fit_generator(\n",
    "            train_generator,\n",
    "            steps_per_epoch=573 // batch_size,\n",
    "            epochs=100,\n",
    "            validation_data=validation_generator,\n",
    "            validation_steps=160 // batch_size)\n"
   ]
  },
  {
   "cell_type": "code",
   "execution_count": 19,
   "metadata": {},
   "outputs": [
    {
     "data": {
      "image/png": "[encoded data removed]",
      "text/plain": [
       "<Figure size 432x288 with 1 Axes>"
      ]
     },
     "metadata": {
      "needs_background": "light"
     },
     "output_type": "display_data"
    },
    {
     "data": {
      "image/png": "[encoded data removed]",
      "text/plain": [
       "<Figure size 432x288 with 1 Axes>"
      ]
     },
     "metadata": {
      "needs_background": "light"
     },
     "output_type": "display_data"
    }
   ],
   "source": [
    "plot_history(history, save=True, path='nets/feedforward/', name='plot_full')"
   ]
  },
  {
   "cell_type": "code",
   "execution_count": 16,
   "metadata": {},
   "outputs": [
    {
     "name": "stdout",
     "output_type": "stream",
     "text": [
      "\r",
      "80/80 [==============================] - 0s 635us/step\n"
     ]
    },
    {
     "data": {
      "text/plain": [
       "[0.08938185125589371, 0.9750000238418579]"
      ]
     },
     "execution_count": 16,
     "metadata": {},
     "output_type": "execute_result"
    }
   ],
   "source": [
    "imgs, labels = next(test_generator)\n",
    "\n",
    "#ynew = model.predict(imgs)\n",
    "#results[(lr, lrd, rs, hl)] = (y_train_acc, y_pred_acc)\n",
    "\n",
    "model.evaluate(imgs,labels, batch_size=80)"
   ]
  },
  {
   "cell_type": "code",
   "execution_count": null,
   "metadata": {},
   "outputs": [],
   "source": [
    "imgs, labels = next(validation_generator)\n",
    "model.predict(imgs)\n",
    "#print(imgs)\n"
   ]
  },
  {
   "cell_type": "markdown",
   "metadata": {},
   "source": [
    "## Hyperparameter optimization"
   ]
  },
  {
   "cell_type": "code",
   "execution_count": 17,
   "metadata": {
    "scrolled": true
   },
   "outputs": [
    {
     "name": "stdout",
     "output_type": "stream",
     "text": [
      "Epoch 1/1\n",
      "12/12 [==============================] - 3s 284ms/step - loss: 9.3105 - acc: 0.3587 - val_loss: 8.9185 - val_acc: 0.3438\n",
      "Epoch 1/1\n",
      "12/12 [==============================] - 3s 287ms/step - loss: 8.9762 - acc: 0.3875 - val_loss: 9.4022 - val_acc: 0.4167\n"
     ]
    }
   ],
   "source": [
    "# Only work with tensorflow=1.8 and keras=2.1.6 because of the memory allocation\n",
    "\n",
    "# Hyperparameters\n",
    "learning_rates = [1e-3, 1e-4, 1e-5];\n",
    "hidden_size = [64, 128, 256, 512];\n",
    "history = []\n",
    "result = None\n",
    "results = []\n",
    "\n",
    "for lr in learning_rates:\n",
    "    for hs in hidden_size:\n",
    "        # GPU memory allocation\n",
    "        cfg = K.tf.ConfigProto() # Create setup file for keras tensorflow\n",
    "        cfg.gpu_options.allow_growth = True # Setting setup file with dynamically adding gpu memory\n",
    "        K.set_session(K.tf.Session(config=cfg)) # Setting session to use setup file\n",
    "        sess = tf.Session() \n",
    "        K.set_session(sess)# set this TensorFlow session as the default session for Keras.\n",
    "        \n",
    "        # Defining the model:\n",
    "        model = Sequential()\n",
    "        model.add(Flatten(input_shape=(224,224,3)))\n",
    "        model.add(Dense(hs))\n",
    "        model.add(Activation('relu'))\n",
    "        model.add(Dense(3))\n",
    "        model.add(Activation('softmax'))\n",
    "        model.compile(loss='categorical_crossentropy',\n",
    "                      optimizer=Adam(lr=lr),\n",
    "                      metrics=['accuracy'])\n",
    "        \n",
    "        \n",
    "        # Running the model:\n",
    "        temp = (model.fit_generator(\n",
    "            train_generator,\n",
    "            steps_per_epoch=384 // batch_size,\n",
    "            epochs=100,\n",
    "            validation_data=validation_generator,\n",
    "            validation_steps=100 // batch_size))\n",
    "        \n",
    "        # Saving the results\n",
    "        history.append(temp)\n",
    "        train_acc = temp.history['acc'].pop()\n",
    "        val_acc = temp.history['val_acc'].pop()\n",
    "        result = (lr, hs, train_acc, val_acc)\n",
    "        results.append(result)\n",
    "        K.clear_session() # Clearing the session to clear out gpu memory\n",
    "        "
   ]
  },
  {
   "cell_type": "code",
   "execution_count": 19,
   "metadata": {},
   "outputs": [
    {
     "name": "stdout",
     "output_type": "stream",
     "text": [
      "______________________________________________________________________\n",
      "lr 1.000000e-03 hs 2 train accuracy: 0.360563 val accuracy: 0.343750\n"
     ]
    },
    {
     "data": {
      "image/png": "[encoded data removed]",
      "text/plain": [
       "<Figure size 432x288 with 1 Axes>"
      ]
     },
     "metadata": {
      "needs_background": "light"
     },
     "output_type": "display_data"
    },
    {
     "data": {
      "image/png": "[encoded data removed]",
      "text/plain": [
       "<Figure size 432x288 with 1 Axes>"
      ]
     },
     "metadata": {
      "needs_background": "light"
     },
     "output_type": "display_data"
    },
    {
     "name": "stdout",
     "output_type": "stream",
     "text": [
      "______________________________________________________________________\n",
      "lr 1.000000e-03 hs 3 train accuracy: 0.391549 val accuracy: 0.416667\n"
     ]
    },
    {
     "data": {
      "image/png": "[encoded data removed]",
      "text/plain": [
       "<Figure size 432x288 with 1 Axes>"
      ]
     },
     "metadata": {
      "needs_background": "light"
     },
     "output_type": "display_data"
    },
    {
     "data": {
      "image/png": "[encoded data removed]",
      "text/plain": [
       "<Figure size 432x288 with 1 Axes>"
      ]
     },
     "metadata": {
      "needs_background": "light"
     },
     "output_type": "display_data"
    }
   ],
   "source": [
    "for index, h in enumerate(history):\n",
    "    print(\"______________________________________________________________________\")\n",
    "    print('lr %e hs %i train accuracy: %f val accuracy: %f' % results[index])         \n",
    "    plot_history(h, mean_N=3)\n"
   ]
  },
  {
   "cell_type": "code",
   "execution_count": null,
   "metadata": {},
   "outputs": [],
   "source": [
    "model = test_model()\n",
    "model.fit_generator(\n",
    "            train_generator,\n",
    "            steps_per_epoch=384 // batch_size,\n",
    "            epochs=50,\n",
    "            validation_data=validation_generator,\n",
    "            validation_steps=100 // batch_size)\n",
    "model.save(tmp_model_name)\n",
    "del model\n",
    "K.clear_session()\n",
    "model = load_model(tmp_model_name)"
   ]
  }
 ],
 "metadata": {
  "kernelspec": {
   "display_name": "Python 3",
   "language": "python",
   "name": "python3"
  },
  "language_info": {
   "codemirror_mode": {
    "name": "ipython",
    "version": 3
   },
   "file_extension": ".py",
   "mimetype": "text/x-python",
   "name": "python",
   "nbconvert_exporter": "python",
   "pygments_lexer": "ipython3",
   "version": "3.6.8"
  }
 },
 "nbformat": 4,
 "nbformat_minor": 2
}
