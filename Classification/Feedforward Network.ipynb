{
 "cells": [
  {
   "cell_type": "code",
   "execution_count": 1,
   "metadata": {},
   "outputs": [
    {
     "name": "stderr",
     "output_type": "stream",
     "text": [
      "Using TensorFlow backend.\n"
     ]
    }
   ],
   "source": [
    "import numpy as np\n",
    "import tensorflow as tf\n",
    "from keras.preprocessing import image\n",
    "from keras.preprocessing.image import ImageDataGenerator\n",
    "import matplotlib.pyplot as plt\n",
    "from keras.applications import mobilenet\n",
    "from keras.layers import Dense, GlobalAveragePooling2D, Activation, Dropout, Flatten, Dense, Conv2D, MaxPooling2D\n",
    "from keras.models import Model, Sequential\n",
    "from keras import models\n",
    "from keras import layers\n",
    "from keras.optimizers import Adam, RMSprop, SGD\n",
    "from util.plots import plot_history"
   ]
  },
  {
   "cell_type": "code",
   "execution_count": 2,
   "metadata": {},
   "outputs": [],
   "source": [
    "train_path = '../potato_and_catfood/train'\n",
    "valid_path = '../potato_and_catfood/valid'\n",
    "test_path = '../potato_and_catfood/test'"
   ]
  },
  {
   "cell_type": "code",
   "execution_count": 3,
   "metadata": {},
   "outputs": [
    {
     "name": "stdout",
     "output_type": "stream",
     "text": [
      "Found 446 images belonging to 3 classes.\n",
      "Found 150 images belonging to 3 classes.\n",
      "Found 35 images belonging to 3 classes.\n"
     ]
    }
   ],
   "source": [
    "batch_size = 32\n",
    "\n",
    "train_datagen = ImageDataGenerator(\n",
    "        rescale=1./255,\n",
    "        brightness_range=(0.65,1.35),\n",
    "        vertical_flip=True,\n",
    "        horizontal_flip=True)\n",
    "\n",
    "valid_datagen = ImageDataGenerator(\n",
    "        rescale=1./255\n",
    ")\n",
    "\n",
    "# Train data generator\n",
    "train_generator = train_datagen.flow_from_directory(\n",
    "        train_path,\n",
    "        target_size=(224, 224),\n",
    "        batch_size=batch_size,\n",
    "        classes=['potato', 'catfood', 'table'])\n",
    "\n",
    "# Validation data generator\n",
    "validation_generator = valid_datagen.flow_from_directory(\n",
    "        valid_path,\n",
    "        target_size=(224, 224),\n",
    "        batch_size=batch_size,\n",
    "        classes=['potato', 'catfood', 'table'])\n",
    "\n",
    "# this is a similar generator, for validation data\n",
    "test_generator = valid_datagen.flow_from_directory(\n",
    "        test_path,\n",
    "        target_size=(224, 224),\n",
    "        batch_size=batch_size,\n",
    "        classes=['potato', 'catfood', 'table'])"
   ]
  },
  {
   "cell_type": "code",
   "execution_count": 4,
   "metadata": {},
   "outputs": [
    {
     "name": "stdout",
     "output_type": "stream",
     "text": [
      "_________________________________________________________________\n",
      "Layer (type)                 Output Shape              Param #   \n",
      "=================================================================\n",
      "flatten_1 (Flatten)          (None, 150528)            0         \n",
      "_________________________________________________________________\n",
      "dense_1 (Dense)              (None, 512)               77070848  \n",
      "_________________________________________________________________\n",
      "activation_1 (Activation)    (None, 512)               0         \n",
      "_________________________________________________________________\n",
      "dense_2 (Dense)              (None, 3)                 1539      \n",
      "_________________________________________________________________\n",
      "activation_2 (Activation)    (None, 3)                 0         \n",
      "=================================================================\n",
      "Total params: 77,072,387\n",
      "Trainable params: 77,072,387\n",
      "Non-trainable params: 0\n",
      "_________________________________________________________________\n"
     ]
    }
   ],
   "source": [
    "model = Sequential()\n",
    "model.add(Flatten(input_shape=(224,224,3)))\n",
    "model.add(Dense(512))\n",
    "model.add(Activation('relu'))\n",
    "model.add(Dense(3))\n",
    "model.add(Activation('softmax'))\n",
    "\n",
    "model.compile(loss='categorical_crossentropy',\n",
    "              optimizer=SGD(lr=0.001),\n",
    "              metrics=['accuracy'])\n",
    "\n",
    "model.summary()"
   ]
  },
  {
   "cell_type": "code",
   "execution_count": 5,
   "metadata": {
    "scrolled": true
   },
   "outputs": [
    {
     "name": "stdout",
     "output_type": "stream",
     "text": [
      "Epoch 1/100\n",
      "13/13 [==============================] - 14s 1s/step - loss: 2.9315 - acc: 0.3500 - val_loss: 1.0746 - val_acc: 0.4609\n",
      "Epoch 2/100\n",
      "13/13 [==============================] - 10s 807ms/step - loss: 1.1096 - acc: 0.4008 - val_loss: 1.1357 - val_acc: 0.2966\n",
      "Epoch 3/100\n",
      "13/13 [==============================] - 8s 617ms/step - loss: 1.1023 - acc: 0.3558 - val_loss: 1.0834 - val_acc: 0.5424\n",
      "Epoch 4/100\n",
      "13/13 [==============================] - 7s 532ms/step - loss: 1.1074 - acc: 0.3435 - val_loss: 1.0913 - val_acc: 0.5085\n",
      "Epoch 5/100\n",
      "13/13 [==============================] - 6s 478ms/step - loss: 1.1218 - acc: 0.3320 - val_loss: 1.1330 - val_acc: 0.2119\n",
      "Epoch 6/100\n",
      "13/13 [==============================] - 7s 519ms/step - loss: 1.0958 - acc: 0.3835 - val_loss: 1.0921 - val_acc: 0.4609\n",
      "Epoch 7/100\n",
      "13/13 [==============================] - 7s 558ms/step - loss: 1.0910 - acc: 0.3786 - val_loss: 1.1090 - val_acc: 0.2119\n",
      "Epoch 8/100\n",
      "13/13 [==============================] - 6s 466ms/step - loss: 1.0916 - acc: 0.3966 - val_loss: 1.0678 - val_acc: 0.4576\n",
      "Epoch 9/100\n",
      "13/13 [==============================] - 6s 432ms/step - loss: 1.0914 - acc: 0.3673 - val_loss: 1.1120 - val_acc: 0.3475\n",
      "Epoch 10/100\n",
      "13/13 [==============================] - 5s 420ms/step - loss: 1.0900 - acc: 0.3922 - val_loss: 1.1108 - val_acc: 0.2881\n",
      "Epoch 11/100\n",
      "13/13 [==============================] - 6s 497ms/step - loss: 1.0856 - acc: 0.3983 - val_loss: 1.0761 - val_acc: 0.4297\n",
      "Epoch 12/100\n",
      "13/13 [==============================] - 7s 562ms/step - loss: 1.0952 - acc: 0.3592 - val_loss: 1.1279 - val_acc: 0.2712\n",
      "Epoch 13/100\n",
      "13/13 [==============================] - 6s 462ms/step - loss: 1.0998 - acc: 0.3593 - val_loss: 1.0666 - val_acc: 0.4237\n",
      "Epoch 14/100\n",
      "13/13 [==============================] - 6s 445ms/step - loss: 1.0888 - acc: 0.4014 - val_loss: 1.0776 - val_acc: 0.4068\n",
      "Epoch 15/100\n",
      "13/13 [==============================] - 6s 425ms/step - loss: 1.0852 - acc: 0.4199 - val_loss: 1.0972 - val_acc: 0.3051\n",
      "Epoch 16/100\n",
      "13/13 [==============================] - 6s 487ms/step - loss: 1.0812 - acc: 0.4207 - val_loss: 1.0718 - val_acc: 0.4297\n",
      "Epoch 17/100\n",
      "13/13 [==============================] - 7s 565ms/step - loss: 1.0782 - acc: 0.4033 - val_loss: 1.0686 - val_acc: 0.4661\n",
      "Epoch 18/100\n",
      "13/13 [==============================] - 6s 456ms/step - loss: 1.0750 - acc: 0.4010 - val_loss: 1.0697 - val_acc: 0.4831\n",
      "Epoch 19/100\n",
      "13/13 [==============================] - 5s 416ms/step - loss: 1.0936 - acc: 0.3592 - val_loss: 1.0794 - val_acc: 0.5339\n",
      "Epoch 20/100\n",
      "13/13 [==============================] - 6s 445ms/step - loss: 1.0697 - acc: 0.4856 - val_loss: 1.0374 - val_acc: 0.4746\n",
      "Epoch 21/100\n",
      "13/13 [==============================] - 7s 529ms/step - loss: 1.0673 - acc: 0.4531 - val_loss: 1.0624 - val_acc: 0.4688\n",
      "Epoch 22/100\n",
      "13/13 [==============================] - 8s 578ms/step - loss: 1.0751 - acc: 0.3870 - val_loss: 1.0546 - val_acc: 0.4661\n",
      "Epoch 23/100\n",
      "13/13 [==============================] - 6s 488ms/step - loss: 1.0754 - acc: 0.3951 - val_loss: 1.1235 - val_acc: 0.2627\n",
      "Epoch 24/100\n",
      "13/13 [==============================] - 6s 491ms/step - loss: 1.0689 - acc: 0.4207 - val_loss: 1.0496 - val_acc: 0.4831\n",
      "Epoch 25/100\n",
      "13/13 [==============================] - 6s 438ms/step - loss: 1.0717 - acc: 0.4076 - val_loss: 1.0790 - val_acc: 0.4746\n",
      "Epoch 26/100\n",
      "13/13 [==============================] - 7s 509ms/step - loss: 1.0642 - acc: 0.4587 - val_loss: 1.0890 - val_acc: 0.3750\n",
      "Epoch 27/100\n",
      "13/13 [==============================] - 8s 581ms/step - loss: 1.0630 - acc: 0.3936 - val_loss: 1.0565 - val_acc: 0.4237\n",
      "Epoch 28/100\n",
      "13/13 [==============================] - 6s 494ms/step - loss: 1.0660 - acc: 0.4038 - val_loss: 1.0444 - val_acc: 0.4746\n",
      "Epoch 29/100\n",
      "13/13 [==============================] - 6s 467ms/step - loss: 1.0660 - acc: 0.4103 - val_loss: 1.1126 - val_acc: 0.3051\n",
      "Epoch 30/100\n",
      "13/13 [==============================] - 6s 424ms/step - loss: 1.0642 - acc: 0.3619 - val_loss: 1.1270 - val_acc: 0.3220\n",
      "Epoch 31/100\n",
      "13/13 [==============================] - 6s 474ms/step - loss: 1.0800 - acc: 0.4134 - val_loss: 1.0638 - val_acc: 0.5547\n",
      "Epoch 32/100\n",
      "13/13 [==============================] - 7s 569ms/step - loss: 1.0650 - acc: 0.4203 - val_loss: 1.0879 - val_acc: 0.3898\n",
      "Epoch 33/100\n",
      "13/13 [==============================] - 7s 505ms/step - loss: 1.0803 - acc: 0.4212 - val_loss: 1.0251 - val_acc: 0.4576\n",
      "Epoch 34/100\n",
      "13/13 [==============================] - 6s 458ms/step - loss: 1.0617 - acc: 0.4373 - val_loss: 1.0549 - val_acc: 0.5085\n",
      "Epoch 35/100\n",
      "13/13 [==============================] - 6s 446ms/step - loss: 1.0579 - acc: 0.3897 - val_loss: 1.0283 - val_acc: 0.4746\n",
      "Epoch 36/100\n",
      "13/13 [==============================] - 7s 511ms/step - loss: 1.0426 - acc: 0.4327 - val_loss: 1.0454 - val_acc: 0.4141\n",
      "Epoch 37/100\n",
      "13/13 [==============================] - 7s 548ms/step - loss: 1.0447 - acc: 0.4779 - val_loss: 1.0938 - val_acc: 0.3051\n",
      "Epoch 38/100\n",
      "13/13 [==============================] - 6s 446ms/step - loss: 1.0412 - acc: 0.4558 - val_loss: 1.0906 - val_acc: 0.4576\n",
      "Epoch 39/100\n",
      "13/13 [==============================] - 6s 439ms/step - loss: 1.0439 - acc: 0.4363 - val_loss: 1.0581 - val_acc: 0.5763\n",
      "Epoch 40/100\n",
      "13/13 [==============================] - 6s 428ms/step - loss: 1.0431 - acc: 0.4498 - val_loss: 1.0565 - val_acc: 0.5847\n",
      "Epoch 41/100\n",
      "13/13 [==============================] - 7s 508ms/step - loss: 1.0357 - acc: 0.4684 - val_loss: 1.0353 - val_acc: 0.4531\n",
      "Epoch 42/100\n",
      "13/13 [==============================] - 7s 537ms/step - loss: 1.0284 - acc: 0.5113 - val_loss: 1.1125 - val_acc: 0.4068\n",
      "Epoch 43/100\n",
      "13/13 [==============================] - 6s 470ms/step - loss: 1.0566 - acc: 0.3691 - val_loss: 1.1107 - val_acc: 0.3559\n",
      "Epoch 44/100\n",
      "13/13 [==============================] - 7s 506ms/step - loss: 1.0441 - acc: 0.4497 - val_loss: 1.0048 - val_acc: 0.4322\n",
      "Epoch 45/100\n",
      "13/13 [==============================] - 6s 451ms/step - loss: 1.0221 - acc: 0.4393 - val_loss: 1.0454 - val_acc: 0.5593\n",
      "Epoch 46/100\n",
      "13/13 [==============================] - 6s 480ms/step - loss: 1.0316 - acc: 0.4558 - val_loss: 1.0429 - val_acc: 0.5625\n",
      "Epoch 47/100\n",
      "13/13 [==============================] - 7s 554ms/step - loss: 1.0165 - acc: 0.5192 - val_loss: 1.0333 - val_acc: 0.5508\n",
      "Epoch 48/100\n",
      "13/13 [==============================] - 6s 442ms/step - loss: 1.0315 - acc: 0.4770 - val_loss: 1.0115 - val_acc: 0.4576\n",
      "Epoch 49/100\n",
      "13/13 [==============================] - 6s 453ms/step - loss: 1.0393 - acc: 0.4307 - val_loss: 1.0232 - val_acc: 0.5339\n",
      "Epoch 50/100\n",
      "13/13 [==============================] - 6s 473ms/step - loss: 1.0247 - acc: 0.4118 - val_loss: 1.0838 - val_acc: 0.4492\n",
      "Epoch 51/100\n",
      "13/13 [==============================] - 7s 523ms/step - loss: 1.0269 - acc: 0.4712 - val_loss: 1.0415 - val_acc: 0.5469\n",
      "Epoch 52/100\n",
      "13/13 [==============================] - 8s 605ms/step - loss: 1.0022 - acc: 0.5452 - val_loss: 1.0113 - val_acc: 0.4746\n",
      "Epoch 53/100\n",
      "13/13 [==============================] - 7s 511ms/step - loss: 1.0452 - acc: 0.4031 - val_loss: 1.0166 - val_acc: 0.3814\n",
      "Epoch 54/100\n",
      "13/13 [==============================] - 6s 499ms/step - loss: 1.0244 - acc: 0.4384 - val_loss: 1.0014 - val_acc: 0.4576\n",
      "Epoch 55/100\n",
      "13/13 [==============================] - 6s 486ms/step - loss: 1.0080 - acc: 0.4911 - val_loss: 1.1167 - val_acc: 0.3136\n",
      "Epoch 56/100\n",
      "13/13 [==============================] - 7s 551ms/step - loss: 1.0057 - acc: 0.4758 - val_loss: 1.0502 - val_acc: 0.5703\n",
      "Epoch 57/100\n",
      "13/13 [==============================] - 8s 578ms/step - loss: 1.0648 - acc: 0.4427 - val_loss: 0.9948 - val_acc: 0.4322\n",
      "Epoch 58/100\n",
      "13/13 [==============================] - 7s 545ms/step - loss: 1.0785 - acc: 0.3497 - val_loss: 0.9890 - val_acc: 0.4153\n",
      "Epoch 59/100\n",
      "13/13 [==============================] - 6s 461ms/step - loss: 0.9853 - acc: 0.5559 - val_loss: 1.0176 - val_acc: 0.3898\n",
      "Epoch 60/100\n",
      "13/13 [==============================] - 6s 444ms/step - loss: 1.0395 - acc: 0.4611 - val_loss: 0.9744 - val_acc: 0.4407\n",
      "Epoch 61/100\n",
      "13/13 [==============================] - 7s 515ms/step - loss: 1.0031 - acc: 0.4208 - val_loss: 1.1698 - val_acc: 0.3438\n",
      "Epoch 62/100\n"
     ]
    },
    {
     "name": "stdout",
     "output_type": "stream",
     "text": [
      "13/13 [==============================] - 8s 607ms/step - loss: 1.0090 - acc: 0.4663 - val_loss: 1.2104 - val_acc: 0.2458\n",
      "Epoch 63/100\n",
      "13/13 [==============================] - 6s 480ms/step - loss: 1.0042 - acc: 0.4881 - val_loss: 1.0400 - val_acc: 0.3729\n",
      "Epoch 64/100\n",
      "13/13 [==============================] - 6s 480ms/step - loss: 1.0464 - acc: 0.4971 - val_loss: 1.0031 - val_acc: 0.5593\n",
      "Epoch 65/100\n",
      "13/13 [==============================] - 7s 528ms/step - loss: 0.9898 - acc: 0.5096 - val_loss: 1.0969 - val_acc: 0.3898\n",
      "Epoch 66/100\n",
      "13/13 [==============================] - 8s 591ms/step - loss: 0.9698 - acc: 0.5370 - val_loss: 1.0282 - val_acc: 0.5781\n",
      "Epoch 67/100\n",
      "13/13 [==============================] - 9s 654ms/step - loss: 1.0171 - acc: 0.4982 - val_loss: 1.1043 - val_acc: 0.3898\n",
      "Epoch 68/100\n",
      "13/13 [==============================] - 6s 490ms/step - loss: 1.0181 - acc: 0.4776 - val_loss: 1.0365 - val_acc: 0.5169\n",
      "Epoch 69/100\n",
      "13/13 [==============================] - 7s 549ms/step - loss: 0.9720 - acc: 0.5256 - val_loss: 0.9721 - val_acc: 0.5593\n",
      "Epoch 70/100\n",
      "13/13 [==============================] - 7s 516ms/step - loss: 0.9977 - acc: 0.4653 - val_loss: 1.0397 - val_acc: 0.4492\n",
      "Epoch 71/100\n",
      "13/13 [==============================] - 7s 519ms/step - loss: 0.9682 - acc: 0.4838 - val_loss: 1.0122 - val_acc: 0.4766\n",
      "Epoch 72/100\n",
      "13/13 [==============================] - 7s 564ms/step - loss: 1.0175 - acc: 0.4642 - val_loss: 1.0387 - val_acc: 0.4576\n",
      "Epoch 73/100\n",
      "13/13 [==============================] - 7s 509ms/step - loss: 1.0033 - acc: 0.4620 - val_loss: 1.1377 - val_acc: 0.2966\n",
      "Epoch 74/100\n",
      "13/13 [==============================] - 6s 490ms/step - loss: 0.9882 - acc: 0.4591 - val_loss: 1.0549 - val_acc: 0.4746\n",
      "Epoch 75/100\n",
      "13/13 [==============================] - 6s 450ms/step - loss: 0.9736 - acc: 0.4764 - val_loss: 1.0243 - val_acc: 0.4661\n",
      "Epoch 76/100\n",
      "13/13 [==============================] - 6s 489ms/step - loss: 0.9697 - acc: 0.4760 - val_loss: 1.0574 - val_acc: 0.5312\n",
      "Epoch 77/100\n",
      "13/13 [==============================] - 7s 556ms/step - loss: 0.9533 - acc: 0.5329 - val_loss: 1.0176 - val_acc: 0.5847\n",
      "Epoch 78/100\n",
      "13/13 [==============================] - 6s 448ms/step - loss: 1.0290 - acc: 0.4567 - val_loss: 0.9522 - val_acc: 0.4661\n",
      "Epoch 79/100\n",
      "13/13 [==============================] - 5s 416ms/step - loss: 0.9630 - acc: 0.4714 - val_loss: 1.0731 - val_acc: 0.4915\n",
      "Epoch 80/100\n",
      "13/13 [==============================] - 6s 459ms/step - loss: 0.9780 - acc: 0.4663 - val_loss: 1.2299 - val_acc: 0.2712\n",
      "Epoch 81/100\n",
      "13/13 [==============================] - 6s 459ms/step - loss: 0.9560 - acc: 0.5113 - val_loss: 0.9818 - val_acc: 0.4219\n",
      "Epoch 82/100\n",
      "13/13 [==============================] - 7s 567ms/step - loss: 0.9327 - acc: 0.5380 - val_loss: 0.9695 - val_acc: 0.5169\n",
      "Epoch 83/100\n",
      "13/13 [==============================] - 6s 472ms/step - loss: 0.9424 - acc: 0.5461 - val_loss: 1.1838 - val_acc: 0.3559\n",
      "Epoch 84/100\n",
      "13/13 [==============================] - 7s 518ms/step - loss: 1.0049 - acc: 0.4929 - val_loss: 0.9974 - val_acc: 0.3898\n",
      "Epoch 85/100\n",
      "13/13 [==============================] - 6s 488ms/step - loss: 0.9623 - acc: 0.5000 - val_loss: 0.9815 - val_acc: 0.5508\n",
      "Epoch 86/100\n",
      "13/13 [==============================] - 7s 518ms/step - loss: 0.9831 - acc: 0.4838 - val_loss: 1.0212 - val_acc: 0.4375\n",
      "Epoch 87/100\n",
      "13/13 [==============================] - 7s 559ms/step - loss: 0.9963 - acc: 0.4394 - val_loss: 1.0315 - val_acc: 0.4831\n",
      "Epoch 88/100\n",
      "13/13 [==============================] - 6s 477ms/step - loss: 0.9430 - acc: 0.5283 - val_loss: 1.4398 - val_acc: 0.2288\n",
      "Epoch 89/100\n",
      "13/13 [==============================] - 6s 455ms/step - loss: 0.9724 - acc: 0.4956 - val_loss: 0.9520 - val_acc: 0.4237\n",
      "Epoch 90/100\n",
      "13/13 [==============================] - 6s 431ms/step - loss: 0.9388 - acc: 0.5047 - val_loss: 0.9751 - val_acc: 0.4068\n",
      "Epoch 91/100\n",
      "13/13 [==============================] - 6s 478ms/step - loss: 0.9523 - acc: 0.5092 - val_loss: 1.1474 - val_acc: 0.4062\n",
      "Epoch 92/100\n",
      "13/13 [==============================] - 7s 559ms/step - loss: 1.0002 - acc: 0.4712 - val_loss: 0.9519 - val_acc: 0.4576\n",
      "Epoch 93/100\n",
      "13/13 [==============================] - 6s 440ms/step - loss: 0.8940 - acc: 0.5340 - val_loss: 1.0976 - val_acc: 0.4831\n",
      "Epoch 94/100\n",
      "13/13 [==============================] - 6s 430ms/step - loss: 0.9956 - acc: 0.4847 - val_loss: 0.9860 - val_acc: 0.4322\n",
      "Epoch 95/100\n",
      "13/13 [==============================] - 6s 439ms/step - loss: 0.9936 - acc: 0.4133 - val_loss: 0.9604 - val_acc: 0.4322\n",
      "Epoch 96/100\n",
      "13/13 [==============================] - 6s 487ms/step - loss: 0.9669 - acc: 0.4700 - val_loss: 1.4324 - val_acc: 0.2344\n",
      "Epoch 97/100\n",
      "13/13 [==============================] - 8s 618ms/step - loss: 0.9311 - acc: 0.4904 - val_loss: 0.9551 - val_acc: 0.4746\n",
      "Epoch 98/100\n",
      "13/13 [==============================] - 6s 457ms/step - loss: 0.9206 - acc: 0.5307 - val_loss: 1.2626 - val_acc: 0.2797\n",
      "Epoch 99/100\n",
      "13/13 [==============================] - 6s 455ms/step - loss: 0.9035 - acc: 0.5341 - val_loss: 0.9384 - val_acc: 0.4068\n",
      "Epoch 100/100\n",
      "13/13 [==============================] - 6s 474ms/step - loss: 0.9387 - acc: 0.5302 - val_loss: 0.9637 - val_acc: 0.5424\n"
     ]
    }
   ],
   "source": [
    "history = model.fit_generator(\n",
    "            train_generator,\n",
    "            steps_per_epoch=446 // batch_size,\n",
    "            epochs=100,\n",
    "            validation_data=validation_generator,\n",
    "            validation_steps=150 // batch_size)"
   ]
  },
  {
   "cell_type": "code",
   "execution_count": 7,
   "metadata": {},
   "outputs": [
    {
     "data": {
      "image/png": "[encoded data removed]",
      "text/plain": [
       "<Figure size 432x288 with 1 Axes>"
      ]
     },
     "metadata": {
      "needs_background": "light"
     },
     "output_type": "display_data"
    },
    {
     "data": {
      "image/png": "[encoded data removed]",
      "text/plain": [
       "<Figure size 432x288 with 1 Axes>"
      ]
     },
     "metadata": {
      "needs_background": "light"
     },
     "output_type": "display_data"
    }
   ],
   "source": [
    "plot_history(history, mean_N=10)"
   ]
  },
  {
   "cell_type": "code",
   "execution_count": 12,
   "metadata": {},
   "outputs": [
    {
     "name": "stdout",
     "output_type": "stream",
     "text": [
      "Found 35 images belonging to 3 classes.\n",
      "32/32 [==============================] - 0s 677us/step\n"
     ]
    },
    {
     "data": {
      "text/plain": [
       "[0.919400691986084, 0.59375]"
      ]
     },
     "execution_count": 12,
     "metadata": {},
     "output_type": "execute_result"
    }
   ],
   "source": [
    "test_generator = valid_datagen.flow_from_directory(\n",
    "        test_path,\n",
    "        target_size=(224, 224),\n",
    "        batch_size=batch_size,\n",
    "        classes=['potato', 'catfood', 'table'])\n",
    "\n",
    "imgs, labels = next(test_generator)\n",
    "\n",
    "#ynew = model.predict(imgs)\n",
    "\n",
    "model.evaluate(imgs,labels, batch_size=batch_size)"
   ]
  },
  {
   "cell_type": "code",
   "execution_count": 23,
   "metadata": {},
   "outputs": [
    {
     "data": {
      "text/plain": [
       "array([0.19283403, 0.37963066, 0.42753533], dtype=float32)"
      ]
     },
     "execution_count": 23,
     "metadata": {},
     "output_type": "execute_result"
    }
   ],
   "source": [
    "model.predict(imgs)[7]"
   ]
  },
  {
   "cell_type": "code",
   "execution_count": 24,
   "metadata": {},
   "outputs": [
    {
     "data": {
      "text/plain": [
       "array([0., 1., 0.], dtype=float32)"
      ]
     },
     "execution_count": 24,
     "metadata": {},
     "output_type": "execute_result"
    }
   ],
   "source": [
    "labels[7]"
   ]
  },
  {
   "cell_type": "code",
   "execution_count": null,
   "metadata": {},
   "outputs": [],
   "source": []
  }
 ],
 "metadata": {
  "kernelspec": {
   "display_name": "Python 3",
   "language": "python",
   "name": "python3"
  },
  "language_info": {
   "codemirror_mode": {
    "name": "ipython",
    "version": 3
   },
   "file_extension": ".py",
   "mimetype": "text/x-python",
   "name": "python",
   "nbconvert_exporter": "python",
   "pygments_lexer": "ipython3",
   "version": "3.6.8"
  }
 },
 "nbformat": 4,
 "nbformat_minor": 2
}
