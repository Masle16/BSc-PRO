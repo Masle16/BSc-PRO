{
 "cells": [
  {
   "cell_type": "code",
   "execution_count": 21,
   "metadata": {},
   "outputs": [
    {
     "name": "stdout",
     "output_type": "stream",
     "text": [
      "The autoreload extension is already loaded. To reload it, use:\n",
      "  %reload_ext autoreload\n"
     ]
    }
   ],
   "source": [
    "import os\n",
    "from PIL import Image\n",
    "import util.image_import as ii\n",
    "from glob import glob\n",
    "import numpy as np\n",
    "import tensorflow as tf\n",
    "from keras.preprocessing import image\n",
    "from keras.preprocessing.image import ImageDataGenerator\n",
    "from keras import regularizers\n",
    "import matplotlib.pyplot as plt\n",
    "from keras.applications import mobilenet\n",
    "from keras.layers import Dense, GlobalAveragePooling2D, Activation, Dropout, Flatten, Dense, Conv2D, MaxPooling2D\n",
    "from keras.models import Model, Sequential\n",
    "from keras import models\n",
    "from keras import layers\n",
    "from keras.utils.np_utils import to_categorical\n",
    "from keras.optimizers import Adam, RMSprop, SGD\n",
    "from util.plots import plot_history\n",
    "%matplotlib inline\n",
    "%load_ext autoreload\n",
    "%autoreload 2"
   ]
  },
  {
   "cell_type": "markdown",
   "metadata": {},
   "source": [
    "### Subtracting mean and normalizing to save pictures"
   ]
  },
  {
   "cell_type": "markdown",
   "metadata": {},
   "source": [
    "images_pot        = glob(os.path.join(\"/home/mikkel/Documents/github/BSc-PRO/Classification/res_still/train/potato\", \"*.jpg\"))\n",
    "images_cat        = glob(os.path.join(\"/home/mikkel/Documents/github/BSc-PRO/Classification/res_still/train/catfood\", \"*.jpg\"))\n",
    "images_tab        = glob(os.path.join(\"/home/mikkel/Documents/github/BSc-PRO/Classification/res_still/train/table\", \"*.jpg\"))\n",
    "\n",
    "X_train = ii.images_import(images_pot, images_cat, images_tab)\n",
    "\n",
    "mean_image, train_pot = ii.make_images_mean(X_train, \"res_still\", \"res_still_mean\")\n"
   ]
  },
  {
   "cell_type": "code",
   "execution_count": null,
   "metadata": {},
   "outputs": [],
   "source": []
  },
  {
   "cell_type": "code",
   "execution_count": 40,
   "metadata": {},
   "outputs": [],
   "source": [
    "train_path = 'res_still/train'\n",
    "valid_path = 'res_still/valid'\n",
    "test_path = 'res_still/test'\n",
    "\n",
    "train_path_mean = 'res_still_mean/train'\n",
    "valid_path_mean = 'res_still_mean/valid'\n",
    "test_path_mean = 'res_still_mean/test'\n",
    "\n",
    "batch_size = 32\n",
    "\n",
    "train_datagen = ImageDataGenerator(\n",
    "        featurewise_center=True, \n",
    "        featurewise_std_normalization=True,\n",
    "        rescale=1./255,\n",
    "        rotation_range=10,\n",
    "        vertical_flip=True,\n",
    "        horizontal_flip=True,\n",
    "        brightness_range=(0.65, 1.35))\n",
    "\n",
    "valid_datagen = ImageDataGenerator(\n",
    "        rescale=1./255\n",
    ")\n",
    "num_classes = 3\n",
    "\n",
    "train_pot = glob(os.path.join(\"/home/mikkel/Documents/github/BSc-PRO/Classification/res_still/train/potato\", \"*.jpg\"))\n",
    "train_cat = glob(os.path.join(\"/home/mikkel/Documents/github/BSc-PRO/Classification/res_still/train/catfood\", \"*.jpg\"))\n",
    "train_tab = glob(os.path.join(\"/home/mikkel/Documents/github/BSc-PRO/Classification/res_still/train/table\", \"*.jpg\"))\n",
    "val_pot   = glob(os.path.join(\"/home/mikkel/Documents/github/BSc-PRO/Classification/res_still/valid/potato\", \"*.jpg\"))\n",
    "val_cat   = glob(os.path.join(\"/home/mikkel/Documents/github/BSc-PRO/Classification/res_still/valid/catfood\", \"*.jpg\"))\n",
    "val_tab   = glob(os.path.join(\"/home/mikkel/Documents/github/BSc-PRO/Classification/res_still/valid/table\", \"*.jpg\"))\n",
    "test_pot  = glob(os.path.join(\"/home/mikkel/Documents/github/BSc-PRO/Classification/res_still/test/potato\", \"*.jpg\"))\n",
    "test_cat  = glob(os.path.join(\"/home/mikkel/Documents/github/BSc-PRO/Classification/res_still/test/catfood\", \"*.jpg\"))\n",
    "test_tab  = glob(os.path.join(\"/home/mikkel/Documents/github/BSc-PRO/Classification/res_still/test/table\", \"*.jpg\"))\n",
    "\n",
    "X_train, y_train = ii.images_to_numpy(train_pot, train_cat, train_tab)\n",
    "X_val, y_val = ii.images_to_numpy(val_pot, val_cat, val_tab)\n",
    "X_test, y_test = ii.images_to_numpy(test_pot, test_cat, test_tab)\n",
    "\n",
    "y_train = to_categorical(y_train, num_classes)\n",
    "y_val = to_categorical(y_val, num_classes)\n",
    "y_test = to_categorical(y_test, num_classes)\n",
    "\n",
    "train_datagen.fit(X_train)\n",
    "valid_datagen.fit(X_train)\n",
    "\n",
    "\n",
    "train_generator = train_datagen.flow(X_train,\n",
    "                                     y_train,\n",
    "                                     batch_size=batch_size)\n",
    "\n",
    "train_generator = train_datagen.flow(X_val,\n",
    "                                     y_val,\n",
    "                                     batch_size=batch_size)\n",
    "\n",
    "\n",
    "#\n",
    "## Train data generator\n",
    "#train_generator = train_datagen.flow_from_directory(\n",
    "#        train_path,\n",
    "#        target_size=(224, 224),\n",
    "#        batch_size=batch_size,\n",
    "#        classes=['potato', 'catfood', 'table'])\n",
    "#\n",
    "## Validation data generator\n",
    "#validation_generator = valid_datagen.flow_from_directory(\n",
    "#        valid_path,\n",
    "#        target_size=(224, 224),\n",
    "#        batch_size=batch_size,\n",
    "#        classes=['potato', 'catfood', 'table'])\n",
    "#\n",
    "## this is a similar generator, for validation data\n",
    "#test_generator = valid_datagen.flow_from_directory(\n",
    "#        test_path,\n",
    "#        target_size=(224, 224),\n",
    "#        batch_size=batch_size,\n",
    "#        classes=['potato', 'catfood', 'table'])"
   ]
  },
  {
   "cell_type": "code",
   "execution_count": 41,
   "metadata": {},
   "outputs": [
    {
     "name": "stdout",
     "output_type": "stream",
     "text": [
      "_________________________________________________________________\n",
      "Layer (type)                 Output Shape              Param #   \n",
      "=================================================================\n",
      "flatten_4 (Flatten)          (None, 150528)            0         \n",
      "_________________________________________________________________\n",
      "dense_7 (Dense)              (None, 512)               77070848  \n",
      "_________________________________________________________________\n",
      "activation_7 (Activation)    (None, 512)               0         \n",
      "_________________________________________________________________\n",
      "dense_8 (Dense)              (None, 3)                 1539      \n",
      "_________________________________________________________________\n",
      "activation_8 (Activation)    (None, 3)                 0         \n",
      "=================================================================\n",
      "Total params: 77,072,387\n",
      "Trainable params: 77,072,387\n",
      "Non-trainable params: 0\n",
      "_________________________________________________________________\n"
     ]
    }
   ],
   "source": [
    "model = Sequential()\n",
    "model.add(Flatten(input_shape=(224,224,3)))\n",
    "# kernel_regularizer: Regularizer function applied to the kernel weights matrix (see regularizer).\n",
    "model.add(Dense(512 ,kernel_regularizer=regularizers.l2(0.2)))\n",
    "model.add(Activation('relu'))\n",
    "model.add(Dense(3, kernel_regularizer=regularizers.l2(0.2)))\n",
    "model.add(Activation('softmax'))\n",
    "\n",
    "model.compile(loss='categorical_crossentropy',\n",
    "              optimizer=Adam(lr=0.001, epsilon=10e-8),\n",
    "              metrics=['accuracy'])\n",
    "\n",
    "model.summary()\n",
    "\n"
   ]
  },
  {
   "cell_type": "code",
   "execution_count": null,
   "metadata": {
    "scrolled": true
   },
   "outputs": [
    {
     "name": "stdout",
     "output_type": "stream",
     "text": [
      "Epoch 1/100\n",
      "31/31 [==============================] - 31s 1s/step - loss: 17.7163 - acc: 0.2683 - val_loss: 10.8965 - val_acc: 0.3958\n",
      "Epoch 2/100\n",
      "31/31 [==============================] - 30s 968ms/step - loss: 40.4953 - acc: 0.3375 - val_loss: 70.7644 - val_acc: 0.1912\n",
      "Epoch 3/100\n",
      "31/31 [==============================] - 30s 959ms/step - loss: 36.4699 - acc: 0.3885 - val_loss: 18.2647 - val_acc: 0.2206\n",
      "Epoch 4/100\n",
      "31/31 [==============================] - 30s 955ms/step - loss: 11.3183 - acc: 0.4187 - val_loss: 4.2023 - val_acc: 0.3529\n",
      "Epoch 5/100\n",
      "31/31 [==============================] - 30s 957ms/step - loss: 12.3645 - acc: 0.3708 - val_loss: 35.8795 - val_acc: 0.4167\n",
      "Epoch 6/100\n",
      "31/31 [==============================] - 30s 981ms/step - loss: 35.5201 - acc: 0.3724 - val_loss: 19.7560 - val_acc: 0.3676\n",
      "Epoch 7/100\n",
      "31/31 [==============================] - 31s 1s/step - loss: 19.8522 - acc: 0.1751 - val_loss: 12.1402 - val_acc: 0.4265\n",
      "Epoch 8/100\n",
      "31/31 [==============================] - 32s 1s/step - loss: 47.8640 - acc: 0.3895 - val_loss: 26.1490 - val_acc: 0.1765\n",
      "Epoch 9/100\n",
      "31/31 [==============================] - 31s 1s/step - loss: 14.0986 - acc: 0.3923 - val_loss: 9.8857 - val_acc: 0.4062\n",
      "Epoch 10/100\n",
      "31/31 [==============================] - 30s 969ms/step - loss: 9.7046 - acc: 0.4071 - val_loss: 7.2316 - val_acc: 0.3676\n",
      "Epoch 11/100\n",
      "31/31 [==============================] - 30s 962ms/step - loss: 28.2684 - acc: 0.4080 - val_loss: 42.1772 - val_acc: 0.4412\n",
      "Epoch 12/100\n",
      " 2/31 [>.............................] - ETA: 27s - loss: 41.4202 - acc: 0.4219"
     ]
    }
   ],
   "source": [
    "history = model.fit_generator(\n",
    "            train_generator,\n",
    "            steps_per_epoch=1000 // batch_size,\n",
    "            epochs=100,\n",
    "            validation_data=validation_generator,\n",
    "            validation_steps=100 // batch_size)"
   ]
  },
  {
   "cell_type": "code",
   "execution_count": null,
   "metadata": {},
   "outputs": [],
   "source": [
    "plot_history(history)"
   ]
  },
  {
   "cell_type": "code",
   "execution_count": 6,
   "metadata": {},
   "outputs": [
    {
     "name": "stdout",
     "output_type": "stream",
     "text": [
      "\r",
      "32/32 [==============================] - 0s 6ms/step\n"
     ]
    },
    {
     "data": {
      "text/plain": [
       "[58.3511962890625, 0.4375]"
      ]
     },
     "execution_count": 6,
     "metadata": {},
     "output_type": "execute_result"
    }
   ],
   "source": [
    "imgs, labels = next(test_generator)\n",
    "img = Image.fromarray(imgs[1].astype('uint8'), 'RGB')\n",
    "img.show()\n",
    "\n",
    "#ynew = model.predict(imgs)\n",
    "\n",
    "model.evaluate(imgs,labels, batch_size=batch_size)"
   ]
  },
  {
   "cell_type": "code",
   "execution_count": null,
   "metadata": {},
   "outputs": [],
   "source": []
  },
  {
   "cell_type": "code",
   "execution_count": null,
   "metadata": {},
   "outputs": [],
   "source": []
  }
 ],
 "metadata": {
  "kernelspec": {
   "display_name": "Python 3",
   "language": "python",
   "name": "python3"
  },
  "language_info": {
   "codemirror_mode": {
    "name": "ipython",
    "version": 3
   },
   "file_extension": ".py",
   "mimetype": "text/x-python",
   "name": "python",
   "nbconvert_exporter": "python",
   "pygments_lexer": "ipython3",
   "version": "3.6.8"
  }
 },
 "nbformat": 4,
 "nbformat_minor": 2
}
