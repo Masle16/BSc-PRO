{
 "cells": [
  {
   "cell_type": "code",
   "execution_count": 1,
   "metadata": {},
   "outputs": [
    {
     "name": "stderr",
     "output_type": "stream",
     "text": [
      "Using TensorFlow backend.\n"
     ]
    }
   ],
   "source": [
    "import os\n",
    "from PIL import Image\n",
    "import util.image_import as ii\n",
    "from glob import glob\n",
    "import numpy as np\n",
    "import tensorflow as tf\n",
    "from keras.preprocessing import image\n",
    "from keras.preprocessing.image import ImageDataGenerator\n",
    "from keras import regularizers\n",
    "import matplotlib.pyplot as plt\n",
    "from keras.applications import mobilenet\n",
    "from keras.layers import Dense, GlobalAveragePooling2D, Activation, Dropout, Flatten, Dense, Conv2D, MaxPooling2D\n",
    "from keras.models import Model, Sequential\n",
    "from keras import models\n",
    "from keras import layers\n",
    "from keras.utils.np_utils import to_categorical\n",
    "from keras.optimizers import Adam, RMSprop, SGD\n",
    "from util.plots import plot_history\n",
    "%matplotlib inline\n",
    "%load_ext autoreload\n",
    "%autoreload 2"
   ]
  },
  {
   "cell_type": "markdown",
   "metadata": {},
   "source": [
    "### Subtracting mean and normalizing to save pictures"
   ]
  },
  {
   "cell_type": "markdown",
   "metadata": {},
   "source": [
    "images_pot        = glob(os.path.join(\"/home/mikkel/Documents/github/BSc-PRO/Classification/res_still/train/potato\", \"*.jpg\"))\n",
    "images_cat        = glob(os.path.join(\"/home/mikkel/Documents/github/BSc-PRO/Classification/res_still/train/catfood\", \"*.jpg\"))\n",
    "images_tab        = glob(os.path.join(\"/home/mikkel/Documents/github/BSc-PRO/Classification/res_still/train/table\", \"*.jpg\"))\n",
    "\n",
    "X_train = ii.images_import(images_pot, images_cat, images_tab)\n",
    "\n",
    "mean_image, train_pot = ii.make_images_mean(X_train, \"res_still\", \"res_still_mean\")\n"
   ]
  },
  {
   "cell_type": "code",
   "execution_count": null,
   "metadata": {},
   "outputs": [],
   "source": []
  },
  {
   "cell_type": "code",
   "execution_count": 2,
   "metadata": {},
   "outputs": [
    {
     "name": "stdout",
     "output_type": "stream",
     "text": [
      "[[0. 0. 1.]\n",
      " [1. 0. 0.]\n",
      " [1. 0. 0.]\n",
      " [0. 0. 1.]\n",
      " [0. 0. 1.]\n",
      " [0. 0. 1.]\n",
      " [0. 0. 1.]\n",
      " [0. 0. 1.]\n",
      " [0. 0. 1.]\n",
      " [1. 0. 0.]\n",
      " [0. 1. 0.]\n",
      " [1. 0. 0.]\n",
      " [1. 0. 0.]\n",
      " [1. 0. 0.]\n",
      " [0. 0. 1.]\n",
      " [1. 0. 0.]\n",
      " [1. 0. 0.]\n",
      " [0. 0. 1.]\n",
      " [0. 0. 1.]\n",
      " [0. 1. 0.]\n",
      " [1. 0. 0.]\n",
      " [0. 0. 1.]\n",
      " [0. 1. 0.]\n",
      " [0. 0. 1.]\n",
      " [1. 0. 0.]\n",
      " [0. 0. 1.]\n",
      " [0. 1. 0.]\n",
      " [0. 1. 0.]\n",
      " [0. 0. 1.]\n",
      " [0. 1. 0.]\n",
      " [0. 1. 0.]\n",
      " [1. 0. 0.]]\n"
     ]
    }
   ],
   "source": [
    "train_path = 'res_still/train'\n",
    "valid_path = 'res_still/valid'\n",
    "test_path = 'res_still/test'\n",
    "\n",
    "train_path_mean = 'res_still_mean/train'\n",
    "valid_path_mean = 'res_still_mean/valid'\n",
    "test_path_mean = 'res_still_mean/test'\n",
    "\n",
    "batch_size = 32\n",
    "\n",
    "train_datagen = ImageDataGenerator(\n",
    "        featurewise_center=True,\n",
    "        #featurewise_std_normalization=True\n",
    "        rescale=1./255,\n",
    "        rotation_range=10,\n",
    "        vertical_flip=True,\n",
    "        horizontal_flip=True,\n",
    "        brightness_range=(0.65, 1.35)\n",
    ")\n",
    "\n",
    "valid_datagen = ImageDataGenerator(\n",
    "        featurewise_center=True, \n",
    "        #featurewise_std_normalization=True\n",
    "        rescale=1./255\n",
    ")\n",
    "\n",
    "num_classes = 3\n",
    "\n",
    "train_pot = glob(os.path.join(\"/mnt/sdb1/Robtek/6semester/Bachelorproject/BSc-PRO/Classification/res_still/train/potato\", \"*.jpg\"))\n",
    "train_cat = glob(os.path.join(\"/mnt/sdb1/Robtek/6semester/Bachelorproject/BSc-PRO/Classification/res_still/train/catfood\", \"*.jpg\"))\n",
    "train_tab = glob(os.path.join(\"/mnt/sdb1/Robtek/6semester/Bachelorproject/BSc-PRO/Classification/res_still/train/table\", \"*.jpg\"))\n",
    "val_pot   = glob(os.path.join(\"/mnt/sdb1/Robtek/6semester/Bachelorproject/BSc-PRO/Classification/res_still/valid/potato\", \"*.jpg\"))\n",
    "val_cat   = glob(os.path.join(\"/mnt/sdb1/Robtek/6semester/Bachelorproject/BSc-PRO/Classification/res_still/valid/catfood\", \"*.jpg\"))\n",
    "val_tab   = glob(os.path.join(\"/mnt/sdb1/Robtek/6semester/Bachelorproject/BSc-PRO/Classification/res_still/valid/table\", \"*.jpg\"))\n",
    "test_pot  = glob(os.path.join(\"/mnt/sdb1/Robtek/6semester/Bachelorproject/BSc-PRO/Classification/res_still/test/potato\", \"*.jpg\"))\n",
    "test_cat  = glob(os.path.join(\"/mnt/sdb1/Robtek/6semester/Bachelorproject/BSc-PRO/Classification/res_still/test/catfood\", \"*.jpg\"))\n",
    "test_tab  = glob(os.path.join(\"/mnt/sdb1/Robtek/6semester/Bachelorproject/BSc-PRO/Classification/res_still/test/table\", \"*.jpg\"))\n",
    "\n",
    "X_train, y_train = ii.images_to_numpy(train_pot, train_cat, train_tab)\n",
    "X_val, y_val = ii.images_to_numpy(val_pot, val_cat, val_tab)\n",
    "X_test, y_test = ii.images_to_numpy(test_pot, test_cat, test_tab)\n",
    "\n",
    "X_train = X_train.astype(float)\n",
    "X_val = X_val.astype(float)\n",
    "X_test = X_test.astype(float)\n",
    "\n",
    "#X_train /= 255.\n",
    "#X_val /= 255.\n",
    "#X_test /= 255.\n",
    "\n",
    "y_train = to_categorical(y_train, num_classes)\n",
    "y_val = to_categorical(y_val, num_classes)\n",
    "y_test = to_categorical(y_test, num_classes)\n",
    "\n",
    "train_datagen.fit(X_train/255)\n",
    "valid_datagen.fit(X_train/255)\n",
    "\n",
    "\n",
    "train_generator = train_datagen.flow(X_train,\n",
    "                                     y_train,\n",
    "                                     batch_size=batch_size, shuffle=True)\n",
    "\n",
    "validation_generator = valid_datagen.flow(X_val,\n",
    "                                     y_val,\n",
    "                                     batch_size=batch_size, shuffle=True)\n",
    "img, label = next(train_generator)\n",
    "print(label)\n",
    "\n",
    "#\n",
    "## Train data generator\n",
    "#train_generator = train_datagen.flow_from_directory(\n",
    "#        train_path,\n",
    "#        target_size=(224, 224),\n",
    "#        batch_size=batch_size,\n",
    "#        classes=['potato', 'catfood', 'table'])\n",
    "#\n",
    "## Validation data generator\n",
    "#validation_generator = valid_datagen.flow_from_directory(\n",
    "#        valid_path,\n",
    "#        target_size=(224, 224),\n",
    "#        batch_size=batch_size,\n",
    "#        classes=['potato', 'catfood', 'table'])\n",
    "#\n",
    "## this is a similar generator, for validation data\n",
    "#test_generator = valid_datagen.flow_from_directory(\n",
    "#        test_path,\n",
    "#        target_size=(224, 224),\n",
    "#        batch_size=batch_size,\n",
    "#        classes=['potato', 'catfood', 'table'])"
   ]
  },
  {
   "cell_type": "code",
   "execution_count": 3,
   "metadata": {},
   "outputs": [
    {
     "name": "stdout",
     "output_type": "stream",
     "text": [
      "_________________________________________________________________\n",
      "Layer (type)                 Output Shape              Param #   \n",
      "=================================================================\n",
      "flatten_1 (Flatten)          (None, 150528)            0         \n",
      "_________________________________________________________________\n",
      "dense_1 (Dense)              (None, 128)               19267712  \n",
      "_________________________________________________________________\n",
      "activation_1 (Activation)    (None, 128)               0         \n",
      "_________________________________________________________________\n",
      "dense_2 (Dense)              (None, 3)                 387       \n",
      "_________________________________________________________________\n",
      "activation_2 (Activation)    (None, 3)                 0         \n",
      "=================================================================\n",
      "Total params: 19,268,099\n",
      "Trainable params: 19,268,099\n",
      "Non-trainable params: 0\n",
      "_________________________________________________________________\n"
     ]
    }
   ],
   "source": [
    "model = Sequential()\n",
    "model.add(Flatten(input_shape=(224,224,3)))\n",
    "# kernel_regularizer: Regularizer function applied to the kernel weights matrix (see regularizer).\n",
    "model.add(Dense(128 ,kernel_regularizer=regularizers.l2(0.0002)))\n",
    "#model.add(Dense(512))\n",
    "model.add(Activation('relu'))\n",
    "model.add(Dense(3, kernel_regularizer=regularizers.l2(0.0002)))\n",
    "#model.add(Dense(3))\n",
    "model.add(Activation('softmax'))\n",
    "\n",
    "model.compile(loss='categorical_crossentropy',\n",
    "              optimizer=Adam(lr=0.0001, decay=0.0),\n",
    "              #optimizer=SGD(lr=0.1, decay=0.25),\n",
    "              metrics=['accuracy'])\n",
    "\n",
    "model.summary()\n",
    "\n"
   ]
  },
  {
   "cell_type": "code",
   "execution_count": 4,
   "metadata": {
    "scrolled": false
   },
   "outputs": [
    {
     "name": "stdout",
     "output_type": "stream",
     "text": [
      "Epoch 1/100\n",
      "12/12 [==============================] - 6s 508ms/step - loss: 2.8618 - acc: 0.3740 - val_loss: 1.3779 - val_acc: 0.3854\n",
      "Epoch 2/100\n",
      "12/12 [==============================] - 5s 451ms/step - loss: 1.5462 - acc: 0.4504 - val_loss: 1.2079 - val_acc: 0.3235\n",
      "Epoch 3/100\n",
      "12/12 [==============================] - 5s 448ms/step - loss: 1.3947 - acc: 0.4527 - val_loss: 1.1198 - val_acc: 0.3676\n",
      "Epoch 4/100\n",
      "12/12 [==============================] - 5s 447ms/step - loss: 1.3739 - acc: 0.5077 - val_loss: 1.0869 - val_acc: 0.3676\n",
      "Epoch 5/100\n",
      "12/12 [==============================] - 5s 449ms/step - loss: 1.2633 - acc: 0.5313 - val_loss: 0.9696 - val_acc: 0.4167\n",
      "Epoch 6/100\n",
      "12/12 [==============================] - 5s 450ms/step - loss: 1.1313 - acc: 0.5103 - val_loss: 1.0161 - val_acc: 0.3676\n",
      "Epoch 7/100\n",
      "12/12 [==============================] - 5s 455ms/step - loss: 1.1148 - acc: 0.5028 - val_loss: 0.9343 - val_acc: 0.5294\n",
      "Epoch 8/100\n",
      "12/12 [==============================] - 6s 475ms/step - loss: 0.9952 - acc: 0.6226 - val_loss: 0.8343 - val_acc: 0.6176\n",
      "Epoch 9/100\n",
      "12/12 [==============================] - 7s 544ms/step - loss: 1.3026 - acc: 0.4769 - val_loss: 0.8935 - val_acc: 0.6667\n",
      "Epoch 10/100\n",
      "12/12 [==============================] - 6s 500ms/step - loss: 1.3631 - acc: 0.5208 - val_loss: 0.8093 - val_acc: 0.6324\n",
      "Epoch 11/100\n",
      "12/12 [==============================] - 6s 511ms/step - loss: 0.9850 - acc: 0.5991 - val_loss: 0.7555 - val_acc: 0.6029\n",
      "Epoch 12/100\n",
      "12/12 [==============================] - 6s 493ms/step - loss: 0.8930 - acc: 0.6178 - val_loss: 0.8809 - val_acc: 0.6324\n",
      "Epoch 13/100\n",
      "12/12 [==============================] - 6s 491ms/step - loss: 0.8616 - acc: 0.6567 - val_loss: 0.7472 - val_acc: 0.6354\n",
      "Epoch 14/100\n",
      "12/12 [==============================] - 6s 501ms/step - loss: 0.8602 - acc: 0.6803 - val_loss: 0.6419 - val_acc: 0.7500\n",
      "Epoch 15/100\n",
      "12/12 [==============================] - 6s 506ms/step - loss: 0.8264 - acc: 0.6889 - val_loss: 0.6429 - val_acc: 0.7794\n",
      "Epoch 16/100\n",
      "12/12 [==============================] - 6s 472ms/step - loss: 0.8576 - acc: 0.6679 - val_loss: 0.7121 - val_acc: 0.8235\n",
      "Epoch 17/100\n",
      "12/12 [==============================] - 6s 486ms/step - loss: 0.7449 - acc: 0.7091 - val_loss: 0.6001 - val_acc: 0.8333\n",
      "Epoch 18/100\n",
      "12/12 [==============================] - 6s 465ms/step - loss: 0.8929 - acc: 0.6417 - val_loss: 0.6872 - val_acc: 0.7206\n",
      "Epoch 19/100\n",
      "12/12 [==============================] - 6s 472ms/step - loss: 1.0281 - acc: 0.6567 - val_loss: 0.7830 - val_acc: 0.5882\n",
      "Epoch 20/100\n",
      "12/12 [==============================] - 6s 465ms/step - loss: 0.8694 - acc: 0.7016 - val_loss: 0.6624 - val_acc: 0.8088\n",
      "Epoch 21/100\n",
      "12/12 [==============================] - 6s 469ms/step - loss: 0.8179 - acc: 0.6810 - val_loss: 0.5165 - val_acc: 0.8021\n",
      "Epoch 22/100\n",
      "12/12 [==============================] - 6s 461ms/step - loss: 0.6839 - acc: 0.7308 - val_loss: 0.5532 - val_acc: 0.8235\n",
      "Epoch 23/100\n",
      "12/12 [==============================] - 6s 461ms/step - loss: 0.8142 - acc: 0.7095 - val_loss: 0.5247 - val_acc: 0.8824\n",
      "Epoch 24/100\n",
      "12/12 [==============================] - 6s 463ms/step - loss: 0.8317 - acc: 0.7173 - val_loss: 0.5525 - val_acc: 0.7500\n",
      "Epoch 25/100\n",
      "12/12 [==============================] - 5s 457ms/step - loss: 0.6143 - acc: 0.7566 - val_loss: 0.4183 - val_acc: 0.8854\n",
      "Epoch 26/100\n",
      "12/12 [==============================] - 6s 476ms/step - loss: 0.5706 - acc: 0.8068 - val_loss: 0.3786 - val_acc: 0.8971\n",
      "Epoch 27/100\n",
      "12/12 [==============================] - 5s 456ms/step - loss: 0.6217 - acc: 0.7697 - val_loss: 0.5259 - val_acc: 0.7500\n",
      "Epoch 28/100\n",
      "12/12 [==============================] - 6s 476ms/step - loss: 0.7066 - acc: 0.7727 - val_loss: 0.3616 - val_acc: 0.7941\n",
      "Epoch 29/100\n",
      "12/12 [==============================] - 6s 529ms/step - loss: 0.6206 - acc: 0.7828 - val_loss: 0.3387 - val_acc: 0.8333\n",
      "Epoch 30/100\n",
      "12/12 [==============================] - 6s 468ms/step - loss: 0.6086 - acc: 0.7956 - val_loss: 0.4084 - val_acc: 0.9412\n",
      "Epoch 31/100\n",
      "12/12 [==============================] - 6s 470ms/step - loss: 0.6003 - acc: 0.7544 - val_loss: 0.3805 - val_acc: 0.8529\n",
      "Epoch 32/100\n",
      "12/12 [==============================] - 6s 460ms/step - loss: 0.7039 - acc: 0.7799 - val_loss: 0.3103 - val_acc: 0.9412\n",
      "Epoch 33/100\n",
      "12/12 [==============================] - 6s 485ms/step - loss: 0.4431 - acc: 0.8611 - val_loss: 0.3399 - val_acc: 0.9375\n",
      "Epoch 34/100\n",
      "12/12 [==============================] - 6s 487ms/step - loss: 0.4613 - acc: 0.8401 - val_loss: 0.3675 - val_acc: 0.9118\n",
      "Epoch 35/100\n",
      "12/12 [==============================] - 6s 460ms/step - loss: 0.4215 - acc: 0.8690 - val_loss: 0.2904 - val_acc: 0.8529\n",
      "Epoch 36/100\n",
      "12/12 [==============================] - 6s 464ms/step - loss: 0.4486 - acc: 0.8533 - val_loss: 0.3130 - val_acc: 0.9118\n",
      "Epoch 37/100\n",
      "12/12 [==============================] - 6s 463ms/step - loss: 0.4035 - acc: 0.8952 - val_loss: 0.2700 - val_acc: 0.9583\n",
      "Epoch 38/100\n",
      "12/12 [==============================] - 6s 474ms/step - loss: 0.4127 - acc: 0.8873 - val_loss: 0.2661 - val_acc: 0.9265\n",
      "Epoch 39/100\n",
      "12/12 [==============================] - 6s 480ms/step - loss: 0.3757 - acc: 0.8693 - val_loss: 0.3289 - val_acc: 0.8529\n",
      "Epoch 40/100\n",
      "12/12 [==============================] - 6s 468ms/step - loss: 0.4847 - acc: 0.8611 - val_loss: 0.2662 - val_acc: 0.9265\n",
      "Epoch 41/100\n",
      "12/12 [==============================] - 6s 474ms/step - loss: 0.4534 - acc: 0.8585 - val_loss: 0.3174 - val_acc: 0.9375\n",
      "Epoch 42/100\n",
      "12/12 [==============================] - 6s 480ms/step - loss: 0.3733 - acc: 0.9083 - val_loss: 0.3475 - val_acc: 0.8676\n",
      "Epoch 43/100\n",
      "12/12 [==============================] - 6s 487ms/step - loss: 0.3464 - acc: 0.9109 - val_loss: 0.2801 - val_acc: 0.9412\n",
      "Epoch 44/100\n",
      "12/12 [==============================] - 6s 458ms/step - loss: 0.3359 - acc: 0.9030 - val_loss: 0.2759 - val_acc: 0.8971\n",
      "Epoch 45/100\n",
      "12/12 [==============================] - 5s 456ms/step - loss: 0.3145 - acc: 0.9319 - val_loss: 0.2556 - val_acc: 0.9479\n",
      "Epoch 46/100\n",
      "12/12 [==============================] - 6s 474ms/step - loss: 0.3927 - acc: 0.8693 - val_loss: 0.2638 - val_acc: 0.9853\n",
      "Epoch 47/100\n",
      "12/12 [==============================] - 6s 461ms/step - loss: 0.5278 - acc: 0.8428 - val_loss: 0.3171 - val_acc: 0.9265\n",
      "Epoch 48/100\n",
      "12/12 [==============================] - 6s 480ms/step - loss: 0.4368 - acc: 0.8637 - val_loss: 0.2748 - val_acc: 0.9706\n",
      "Epoch 49/100\n",
      "12/12 [==============================] - 6s 472ms/step - loss: 0.3661 - acc: 0.9030 - val_loss: 0.2598 - val_acc: 0.9479\n",
      "Epoch 50/100\n",
      "12/12 [==============================] - 5s 455ms/step - loss: 0.3261 - acc: 0.9057 - val_loss: 0.2243 - val_acc: 0.9559\n",
      "Epoch 51/100\n",
      "12/12 [==============================] - 5s 455ms/step - loss: 0.2937 - acc: 0.9345 - val_loss: 0.2600 - val_acc: 0.9559\n",
      "Epoch 52/100\n",
      "12/12 [==============================] - 5s 454ms/step - loss: 0.2873 - acc: 0.9266 - val_loss: 0.2376 - val_acc: 0.9706\n",
      "Epoch 53/100\n",
      "12/12 [==============================] - 5s 451ms/step - loss: 0.3255 - acc: 0.9109 - val_loss: 0.2228 - val_acc: 0.9792\n",
      "Epoch 54/100\n",
      "12/12 [==============================] - 6s 482ms/step - loss: 0.2767 - acc: 0.9292 - val_loss: 0.2060 - val_acc: 0.9853\n",
      "Epoch 55/100\n",
      "12/12 [==============================] - 6s 480ms/step - loss: 0.2837 - acc: 0.9423 - val_loss: 0.1943 - val_acc: 0.9559\n",
      "Epoch 56/100\n",
      "12/12 [==============================] - 6s 474ms/step - loss: 0.2589 - acc: 0.9450 - val_loss: 0.2011 - val_acc: 0.9853\n",
      "Epoch 57/100\n",
      "12/12 [==============================] - 6s 480ms/step - loss: 0.2630 - acc: 0.9450 - val_loss: 0.2077 - val_acc: 0.9792\n",
      "Epoch 58/100\n",
      "12/12 [==============================] - 6s 504ms/step - loss: 0.2291 - acc: 0.9450 - val_loss: 0.1642 - val_acc: 1.0000\n",
      "Epoch 59/100\n",
      "12/12 [==============================] - 5s 457ms/step - loss: 0.2340 - acc: 0.9502 - val_loss: 0.2040 - val_acc: 0.9412\n",
      "Epoch 60/100\n",
      "12/12 [==============================] - 6s 459ms/step - loss: 0.2527 - acc: 0.9345 - val_loss: 0.1862 - val_acc: 0.9853\n",
      "Epoch 61/100\n",
      "12/12 [==============================] - 6s 467ms/step - loss: 0.2505 - acc: 0.9502 - val_loss: 0.1811 - val_acc: 0.9479\n",
      "Epoch 62/100\n"
     ]
    },
    {
     "name": "stdout",
     "output_type": "stream",
     "text": [
      "12/12 [==============================] - 6s 477ms/step - loss: 0.4129 - acc: 0.8693 - val_loss: 0.1872 - val_acc: 0.9853\n",
      "Epoch 63/100\n",
      "12/12 [==============================] - 6s 471ms/step - loss: 0.3094 - acc: 0.9135 - val_loss: 0.1477 - val_acc: 1.0000\n",
      "Epoch 64/100\n",
      "12/12 [==============================] - 6s 484ms/step - loss: 0.2577 - acc: 0.9319 - val_loss: 0.1644 - val_acc: 0.9853\n",
      "Epoch 65/100\n",
      "12/12 [==============================] - 5s 454ms/step - loss: 0.2430 - acc: 0.9345 - val_loss: 0.1612 - val_acc: 0.9896\n",
      "Epoch 66/100\n",
      "12/12 [==============================] - 6s 466ms/step - loss: 0.2883 - acc: 0.9266 - val_loss: 0.1533 - val_acc: 0.9853\n",
      "Epoch 67/100\n",
      "12/12 [==============================] - 5s 457ms/step - loss: 0.2494 - acc: 0.9502 - val_loss: 0.1904 - val_acc: 0.9559\n",
      "Epoch 68/100\n",
      "12/12 [==============================] - 5s 456ms/step - loss: 0.2286 - acc: 0.9502 - val_loss: 0.1637 - val_acc: 0.9706\n",
      "Epoch 69/100\n",
      "12/12 [==============================] - 6s 459ms/step - loss: 0.4311 - acc: 0.8644 - val_loss: 0.1745 - val_acc: 0.9896\n",
      "Epoch 70/100\n",
      "12/12 [==============================] - 6s 463ms/step - loss: 0.2970 - acc: 0.9266 - val_loss: 0.1871 - val_acc: 0.9706\n",
      "Epoch 71/100\n",
      "12/12 [==============================] - 6s 464ms/step - loss: 0.2787 - acc: 0.9319 - val_loss: 0.1651 - val_acc: 1.0000\n",
      "Epoch 72/100\n",
      "12/12 [==============================] - 5s 449ms/step - loss: 0.3010 - acc: 0.9161 - val_loss: 0.3144 - val_acc: 0.8088\n",
      "Epoch 73/100\n",
      "12/12 [==============================] - 6s 463ms/step - loss: 0.3564 - acc: 0.8899 - val_loss: 0.1347 - val_acc: 1.0000\n",
      "Epoch 74/100\n",
      "12/12 [==============================] - 6s 467ms/step - loss: 0.3920 - acc: 0.8798 - val_loss: 0.1341 - val_acc: 0.9853\n",
      "Epoch 75/100\n",
      "12/12 [==============================] - 6s 466ms/step - loss: 0.3869 - acc: 0.9030 - val_loss: 0.1247 - val_acc: 0.9853\n",
      "Epoch 76/100\n",
      "12/12 [==============================] - 6s 467ms/step - loss: 0.3729 - acc: 0.8821 - val_loss: 0.1413 - val_acc: 0.9853\n",
      "Epoch 77/100\n",
      "12/12 [==============================] - 6s 460ms/step - loss: 0.2555 - acc: 0.9397 - val_loss: 0.1278 - val_acc: 1.0000\n",
      "Epoch 78/100\n",
      "12/12 [==============================] - 6s 498ms/step - loss: 0.2105 - acc: 0.9450 - val_loss: 0.1564 - val_acc: 1.0000\n",
      "Epoch 79/100\n",
      "12/12 [==============================] - 6s 500ms/step - loss: 0.2110 - acc: 0.9581 - val_loss: 0.1220 - val_acc: 1.0000\n",
      "Epoch 80/100\n",
      "12/12 [==============================] - 5s 456ms/step - loss: 0.3273 - acc: 0.8877 - val_loss: 0.1422 - val_acc: 0.9853\n",
      "Epoch 81/100\n",
      "12/12 [==============================] - 5s 454ms/step - loss: 0.3114 - acc: 0.9214 - val_loss: 0.1435 - val_acc: 0.9896\n",
      "Epoch 82/100\n",
      "12/12 [==============================] - 6s 478ms/step - loss: 0.2599 - acc: 0.9371 - val_loss: 0.1398 - val_acc: 0.9853\n",
      "Epoch 83/100\n",
      "12/12 [==============================] - 5s 452ms/step - loss: 0.4904 - acc: 0.8533 - val_loss: 0.1390 - val_acc: 0.9706\n",
      "Epoch 84/100\n",
      "12/12 [==============================] - 6s 464ms/step - loss: 0.3046 - acc: 0.9214 - val_loss: 0.1444 - val_acc: 1.0000\n",
      "Epoch 85/100\n",
      "12/12 [==============================] - 6s 463ms/step - loss: 0.4865 - acc: 0.8588 - val_loss: 0.2342 - val_acc: 0.9479\n",
      "Epoch 86/100\n",
      "12/12 [==============================] - 6s 461ms/step - loss: 0.3377 - acc: 0.9057 - val_loss: 0.1924 - val_acc: 0.9559\n",
      "Epoch 87/100\n",
      "12/12 [==============================] - 6s 472ms/step - loss: 0.2735 - acc: 0.9240 - val_loss: 0.1490 - val_acc: 0.9706\n",
      "Epoch 88/100\n",
      "12/12 [==============================] - 6s 460ms/step - loss: 0.2154 - acc: 0.9581 - val_loss: 0.1624 - val_acc: 0.9853\n",
      "Epoch 89/100\n",
      "12/12 [==============================] - 5s 451ms/step - loss: 0.2130 - acc: 0.9476 - val_loss: 0.1306 - val_acc: 0.9896\n",
      "Epoch 90/100\n",
      "12/12 [==============================] - 6s 459ms/step - loss: 0.1934 - acc: 0.9633 - val_loss: 0.1028 - val_acc: 1.0000\n",
      "Epoch 91/100\n",
      "12/12 [==============================] - 5s 456ms/step - loss: 0.1957 - acc: 0.9738 - val_loss: 0.1743 - val_acc: 1.0000\n",
      "Epoch 92/100\n",
      "12/12 [==============================] - 5s 456ms/step - loss: 0.1902 - acc: 0.9738 - val_loss: 0.1356 - val_acc: 1.0000\n",
      "Epoch 93/100\n",
      "12/12 [==============================] - 5s 456ms/step - loss: 0.1746 - acc: 0.9633 - val_loss: 0.1416 - val_acc: 0.9792\n",
      "Epoch 94/100\n",
      "12/12 [==============================] - 6s 462ms/step - loss: 0.1950 - acc: 0.9581 - val_loss: 0.1396 - val_acc: 1.0000\n",
      "Epoch 95/100\n",
      "12/12 [==============================] - 6s 463ms/step - loss: 0.1825 - acc: 0.9633 - val_loss: 0.1091 - val_acc: 1.0000\n",
      "Epoch 96/100\n",
      "12/12 [==============================] - 6s 460ms/step - loss: 0.1610 - acc: 0.9738 - val_loss: 0.1449 - val_acc: 0.9853\n",
      "Epoch 97/100\n",
      "12/12 [==============================] - 5s 456ms/step - loss: 0.1526 - acc: 0.9843 - val_loss: 0.1656 - val_acc: 0.9688\n",
      "Epoch 98/100\n",
      "12/12 [==============================] - 6s 470ms/step - loss: 0.3912 - acc: 0.9319 - val_loss: 0.1265 - val_acc: 1.0000\n",
      "Epoch 99/100\n",
      "12/12 [==============================] - 5s 455ms/step - loss: 0.4164 - acc: 0.8562 - val_loss: 0.1906 - val_acc: 0.9412\n",
      "Epoch 100/100\n",
      "12/12 [==============================] - 5s 456ms/step - loss: 0.5188 - acc: 0.8742 - val_loss: 0.1524 - val_acc: 0.9706\n"
     ]
    }
   ],
   "source": [
    "history = model.fit_generator(\n",
    "            train_generator,\n",
    "            steps_per_epoch=384 // batch_size,\n",
    "            epochs=100,\n",
    "            validation_data=validation_generator,\n",
    "            validation_steps=100 // batch_size)"
   ]
  },
  {
   "cell_type": "code",
   "execution_count": 5,
   "metadata": {},
   "outputs": [
    {
     "data": {
      "image/png": "[encoded data removed]",
      "text/plain": [
       "<Figure size 432x288 with 1 Axes>"
      ]
     },
     "metadata": {
      "needs_background": "light"
     },
     "output_type": "display_data"
    },
    {
     "data": {
      "image/png": "[encoded data removed]",
      "text/plain": [
       "<Figure size 432x288 with 1 Axes>"
      ]
     },
     "metadata": {
      "needs_background": "light"
     },
     "output_type": "display_data"
    }
   ],
   "source": [
    "plot_history(history, mean_N=2)"
   ]
  },
  {
   "cell_type": "code",
   "execution_count": 6,
   "metadata": {},
   "outputs": [
    {
     "name": "stdout",
     "output_type": "stream",
     "text": [
      "\r",
      "32/32 [==============================] - 0s 2ms/step\n"
     ]
    },
    {
     "data": {
      "text/plain": [
       "[0.12872758507728577, 1.0]"
      ]
     },
     "execution_count": 6,
     "metadata": {},
     "output_type": "execute_result"
    }
   ],
   "source": [
    "imgs, labels = next(validation_generator)\n",
    "img = Image.fromarray(imgs[1].astype('uint8'), 'RGB')\n",
    "#img.show()\n",
    "\n",
    "#ynew = model.predict(imgs)\n",
    "\n",
    "\n",
    "model.evaluate(imgs,labels, batch_size=batch_size)"
   ]
  },
  {
   "cell_type": "code",
   "execution_count": 7,
   "metadata": {},
   "outputs": [
    {
     "data": {
      "text/plain": [
       "array([[1.3092266e-02, 2.5478655e-02, 9.6142906e-01],\n",
       "       [7.2406144e-03, 1.0651035e-02, 9.8210835e-01],\n",
       "       [9.9922991e-01, 7.6800765e-04, 2.1258959e-06],\n",
       "       [5.3404361e-02, 9.4550073e-01, 1.0949062e-03],\n",
       "       [2.5073400e-01, 7.4918997e-01, 7.6096323e-05],\n",
       "       [1.8035164e-02, 4.1818574e-02, 9.4014621e-01],\n",
       "       [9.8170817e-01, 1.8274760e-02, 1.7028222e-05],\n",
       "       [5.2834939e-02, 9.4342685e-01, 3.7381994e-03],\n",
       "       [9.2331779e-01, 7.6654106e-02, 2.8034785e-05],\n",
       "       [9.1258210e-01, 8.7236576e-02, 1.8131213e-04],\n",
       "       [5.3478248e-02, 9.4560665e-01, 9.1513421e-04],\n",
       "       [1.9276846e-02, 2.9570553e-02, 9.5115262e-01],\n",
       "       [1.5978669e-01, 8.3975768e-01, 4.5564334e-04],\n",
       "       [7.6226717e-01, 2.3772711e-01, 5.7668612e-06],\n",
       "       [9.9237692e-01, 7.5400462e-03, 8.3059116e-05],\n",
       "       [9.9883801e-01, 1.1419827e-03, 2.0037547e-05],\n",
       "       [9.6247590e-01, 3.7463356e-02, 6.0687769e-05],\n",
       "       [1.1247259e-02, 3.4160685e-02, 9.5459211e-01],\n",
       "       [5.8259196e-03, 1.1478828e-02, 9.8269522e-01],\n",
       "       [1.0685797e-02, 8.5904440e-03, 9.8072374e-01],\n",
       "       [9.6002674e-01, 3.9940819e-02, 3.2473145e-05],\n",
       "       [9.2275149e-01, 5.2115016e-02, 2.5133599e-02],\n",
       "       [3.4292884e-02, 9.6536213e-01, 3.4505362e-04],\n",
       "       [1.8845713e-02, 3.0689428e-02, 9.5046484e-01],\n",
       "       [9.9397981e-01, 6.0202200e-03, 3.3256971e-08],\n",
       "       [7.6085948e-03, 1.3767665e-02, 9.7862375e-01],\n",
       "       [7.9721101e-03, 2.0516710e-02, 9.7151124e-01],\n",
       "       [9.0699625e-01, 9.2947677e-02, 5.6113648e-05],\n",
       "       [9.9274468e-01, 7.0821876e-03, 1.7310487e-04],\n",
       "       [9.6106368e-01, 3.8934015e-02, 2.3140335e-06],\n",
       "       [1.5688704e-02, 5.4269232e-02, 9.3004203e-01],\n",
       "       [5.9147138e-02, 9.4015223e-01, 7.0058432e-04]], dtype=float32)"
      ]
     },
     "execution_count": 7,
     "metadata": {},
     "output_type": "execute_result"
    }
   ],
   "source": [
    "imgs, labels = next(validation_generator)\n",
    "model.predict(imgs)\n",
    "#print(imgs)"
   ]
  },
  {
   "cell_type": "code",
   "execution_count": 8,
   "metadata": {},
   "outputs": [
    {
     "ename": "TypeError",
     "evalue": "'Image' object does not support indexing",
     "output_type": "error",
     "traceback": [
      "\u001b[0;31m---------------------------------------------------------------------------\u001b[0m",
      "\u001b[0;31mTypeError\u001b[0m                                 Traceback (most recent call last)",
      "\u001b[0;32m<ipython-input-8-669c7fa738ea>\u001b[0m in \u001b[0;36m<module>\u001b[0;34m\u001b[0m\n\u001b[0;32m----> 1\u001b[0;31m \u001b[0mimg\u001b[0m\u001b[0;34m[\u001b[0m\u001b[0;36m0\u001b[0m\u001b[0;34m]\u001b[0m\u001b[0;34m\u001b[0m\u001b[0;34m\u001b[0m\u001b[0m\n\u001b[0m",
      "\u001b[0;31mTypeError\u001b[0m: 'Image' object does not support indexing"
     ]
    }
   ],
   "source": [
    "img[0]"
   ]
  },
  {
   "cell_type": "code",
   "execution_count": null,
   "metadata": {},
   "outputs": [],
   "source": []
  }
 ],
 "metadata": {
  "kernelspec": {
   "display_name": "Python 3",
   "language": "python",
   "name": "python3"
  },
  "language_info": {
   "codemirror_mode": {
    "name": "ipython",
    "version": 3
   },
   "file_extension": ".py",
   "mimetype": "text/x-python",
   "name": "python",
   "nbconvert_exporter": "python",
   "pygments_lexer": "ipython3",
   "version": "3.6.8"
  }
 },
 "nbformat": 4,
 "nbformat_minor": 2
}
