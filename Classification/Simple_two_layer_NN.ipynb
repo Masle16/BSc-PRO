{
 "cells": [
  {
   "cell_type": "markdown",
   "metadata": {},
   "source": [
    "# Simple two layer neural network"
   ]
  },
  {
   "cell_type": "markdown",
   "metadata": {},
   "source": [
    "### Code implented has inspiration from:\n",
    "<cite>http://cs231n.github.io/assignments2018/assignment1/</cite>"
   ]
  },
  {
   "cell_type": "markdown",
   "metadata": {},
   "source": [
    "### Imports"
   ]
  },
  {
   "cell_type": "code",
   "execution_count": 12,
   "metadata": {
    "collapsed": false
   },
   "outputs": [
    {
     "name": "stdout",
     "output_type": "stream",
     "text": [
      "The autoreload extension is already loaded. To reload it, use:\n",
      "  %reload_ext autoreload\n"
     ]
    }
   ],
   "source": [
    "import os\n",
    "import random\n",
    "import matplotlib.pylab as plt\n",
    "from glob import glob\n",
    "from neural_net import TwoLayerNet\n",
    "from image_import import import_images\n",
    "%matplotlib inline\n",
    "%load_ext autoreload\n",
    "%autoreload 2"
   ]
  },
  {
   "cell_type": "markdown",
   "metadata": {},
   "source": [
    "### Making training, validation and test data "
   ]
  },
  {
   "cell_type": "code",
   "execution_count": 21,
   "metadata": {
    "collapsed": false
   },
   "outputs": [],
   "source": [
    "SOURCE_IMAGES_POT = '/home/mikkel/Documents/github/BSc-PRO/images_1280x720/kartofler/still' # '/home/mikkel/Documents/github/BSc-PRO/imgs_resize/potato'\n",
    "SOURCE_IMAGES_CAT = '/home/mikkel/Documents/github/BSc-PRO/images_1280x720/kat_laks/still' # '/home/mikkel/Documents/github/BSc-PRO/imgs_resize/catfood'\n",
    "SOURCE_IMAGES_TAB = '/home/mikkel/Documents/github/BSc-PRO/images_1280x720/baggrund/bevægelse' # '/home/mikkel/Documents/github/BSc-PRO/imgs_resize/table\n",
    "\n",
    "images_pot = glob(os.path.join(SOURCE_IMAGES_POT, \"*.jpg\"))\n",
    "images_cat = glob(os.path.join(SOURCE_IMAGES_CAT, \"*.jpg\"))\n",
    "images_tab = glob(os.path.join(SOURCE_IMAGES_TAB, \"*.jpg\"))"
   ]
  },
  {
   "cell_type": "code",
   "execution_count": 23,
   "metadata": {
    "collapsed": false
   },
   "outputs": [],
   "source": [
    "X_train, y_train, X_val, y_val, X_test, y_test = import_images(images_pot, images_cat, images_tab)"
   ]
  },
  {
   "cell_type": "code",
   "execution_count": null,
   "metadata": {
    "collapsed": false
   },
   "outputs": [
    {
     "name": "stdout",
     "output_type": "stream",
     "text": [
      "iteration 0 / 1000: loss 1.121198\n",
      "iteration 100 / 1000: loss 0.794402\n",
      "iteration 200 / 1000: loss 0.739378\n",
      "iteration 300 / 1000: loss 0.741608\n",
      "iteration 400 / 1000: loss 0.725260\n",
      "iteration 500 / 1000: loss 0.665628\n",
      "iteration 600 / 1000: loss 0.704235\n",
      "iteration 700 / 1000: loss 0.694253\n",
      "iteration 800 / 1000: loss 0.787168"
     ]
    }
   ],
   "source": [
    "input_size = 224 * 224 * 3\n",
    "hidden_size = 50\n",
    "num_classes = 3\n",
    "net = TwoLayerNet(input_size, hidden_size, num_classes)\n",
    "\n",
    "# Train the network\n",
    "stats = net.train(X_train, y_train, X_val, y_val,\n",
    "            num_iters=1000, batch_size=32,\n",
    "            learning_rate=1e-1, learning_rate_decay=0.95,\n",
    "            reg=0.3, verbose=True)\n",
    "\n",
    "# Predict on the validation set\n",
    "\n",
    "val_acc = (net.predict(X_val) == y_val).mean()\n",
    "print('Validation accuracy: ', val_acc)\n",
    "test_acc = (net.predict(X_test) == y_test).mean()\n",
    "print('Test accuracy: ', test_acc)"
   ]
  },
  {
   "cell_type": "code",
   "execution_count": null,
   "metadata": {
    "collapsed": false
   },
   "outputs": [],
   "source": [
    "# Plot the loss function and train / validation accuracies\n",
    "plt.subplot(2, 1, 1)\n",
    "plt.plot(stats['loss_history'])\n",
    "plt.title('Loss history')\n",
    "plt.xlabel('Iteration')\n",
    "plt.ylabel('Loss')\n",
    "\n",
    "plt.subplot(2, 1, 2)\n",
    "plt.plot(stats['train_acc_history'], label='train')\n",
    "plt.plot(stats['val_acc_history'], label='val')\n",
    "plt.title('Classification accuracy history')\n",
    "plt.xlabel('Epoch')\n",
    "plt.ylabel('Clasification accuracy')\n",
    "plt.show()"
   ]
  },
  {
   "cell_type": "code",
   "execution_count": 28,
   "metadata": {
    "collapsed": false
   },
   "outputs": [
    {
     "name": "stdout",
     "output_type": "stream",
     "text": [
      "('Test accuracy: ', 1.0)\n"
     ]
    }
   ],
   "source": [
    "y_pred, score = net.predict(X_val, show_score=True)\n",
    "print(\"Score: \", score[0:4])\n",
    "print(\"Valdiation: \", y_val[0:4])\n",
    "print(\"Prediction: \", y_pred[0:4])"
   ]
  },
  {
   "cell_type": "code",
   "execution_count": null,
   "metadata": {
    "collapsed": true
   },
   "outputs": [],
   "source": [
    "### Hyperparameter optimization"
   ]
  },
  {
   "cell_type": "code",
   "execution_count": null,
   "metadata": {
    "collapsed": true
   },
   "outputs": [],
   "source": [
    "best_net = None # store the best model into this \n",
    "best_val = -1\n",
    "results = {}\n",
    "\n",
    "learning_rate = [1e-1, 1e-2] \n",
    "learning_rate_decay = [0.91, 0.95]\n",
    "regularization_strengths =  [0.3, 1, 10] hidden_layers = [50, 500] #47\n",
    "\n",
    "for lr in learning_rate:\n",
    "    for lrd in learning_rate_decay:\n",
    "        for rs in regularization_strengths:\n",
    "            for hl in hidden_layers:\n",
    "                net = TwoLayerNet(input_size, hl, num_classes)\n",
    "\n",
    "                # Train the network\n",
    "                net.train(X_train, y_train, X_val, y_val, num_iters=100, batch_size=35, learning_rate=lr, learning_rate_decay=lrd, reg=rs, verbose=True)\n",
    "                y_train_pred = net.predict(X_train)\n",
    "                y_val_pred = net.predict(X_val)\n",
    "                \n",
    "                # Calculates accuraccy\n",
    "                y_train_acc = np.mean(y_train == y_train_pred)\n",
    "                y_pred_acc = np.mean(y_val == y_val_pred)\n",
    "                results[(lr, lrd, rs, hl)] = (y_train_acc, y_pred_acc) # stores results in tuple\n",
    "                # Stores the best results\n",
    "                if y_pred_acc > best_val:\n",
    "                    best_val = y_pred_acc\n",
    "                    best_net = net\n",
    "\n",
    "for lr, lrd, rs, hl in sorted(results):\n",
    "    train_accuracy, val_accuracy = results[(lr, lrd, rs, hl)]\n",
    "    print('lr %e lrd %e rs %e hl %e train accuracy: %f val accuracy: %f' % (\n",
    "                lr, lrd, rs, hl, train_accuracy, val_accuracy))                    "
   ]
  },
  {
   "cell_type": "code",
   "execution_count": null,
   "metadata": {
    "collapsed": true
   },
   "outputs": [],
   "source": []
  }
 ],
 "metadata": {
  "kernelspec": {
   "display_name": "Python 2",
   "language": "python",
   "name": "python2"
  },
  "language_info": {
   "codemirror_mode": {
    "name": "ipython",
    "version": 2
   },
   "file_extension": ".py",
   "mimetype": "text/x-python",
   "name": "python",
   "nbconvert_exporter": "python",
   "pygments_lexer": "ipython2",
   "version": "2.7.15"
  }
 },
 "nbformat": 4,
 "nbformat_minor": 0
}
