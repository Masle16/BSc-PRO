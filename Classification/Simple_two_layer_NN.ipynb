{
 "cells": [
  {
   "cell_type": "markdown",
   "metadata": {},
   "source": [
    "# Simple two layer neural network\n",
    "__Code implented has inspiration from:__\n",
    "- <cite>http://cs231n.github.io/assignments2018/assignment1/</cite>\n",
    "\n",
    "The following is a simple two layer fully connected neural network, implemented to work with our images. The purpose of this notebook is to create and test accuracy of a simple two layer Neural Network."
   ]
  },
  {
   "cell_type": "markdown",
   "metadata": {},
   "source": [
    "### Method\n",
    "1. The images from the following three categories _potato_, _catfood (salmon)_ and _table_ is imported. \n",
    "    1. The images have the following distribution:<br/>\n",
    "    <div class=\"alert alert-block alert-warning\">\n",
    "    <b>Without dataagumentation</b><br/> \n",
    "    __potato:__ $\\qquad$ $\\;$ $\\;$ $\\,$ 205 images<br/>\n",
    "    __catfood(salmon):__ $\\!$ 100 images<br/>\n",
    "    __table:__ $\\qquad$ $\\;$ $\\;$ $\\;$ $\\,$ 200 images<br/>\n",
    "    </div>\n",
    "    <div class=\"alert alert-block alert-warning\">\n",
    "    <b>With dataagumentation (4 rotations, 5 brightness)</b><br/> \n",
    "    __potato:__ $\\qquad$ $\\;$ $\\;$ $\\,$ 4100 images<br/>\n",
    "    __catfood(salmon):__ $\\!$ 2000 images<br/>\n",
    "    __table:__ $\\qquad$ $\\;$ $\\;$ $\\;$ $\\,$ 4000 images<br/>\n",
    "    </div>\n",
    "    2. These images loaded and shuffled into 3 matrices training -, validation - and test - images, with label vectors respective to the matrices, to train and validate the built network. Dataaugmented images is only loaded into the training matrice. The matrices and vectors have the following dimension:\n",
    "    <div class=\"alert alert-block alert-warning\">\n",
    "    <b>Image matrices</b><br/> \n",
    "    $$\\underset{ntr\\times d}{\\boldsymbol{X_{train}}} \\qquad \\underset{ntr\\times 1}{\\boldsymbol{y_{train}}} \\qquad \\qquad \\underset{nv\\times d}{\\boldsymbol{X_{val}}} \\qquad \\underset{nv\\times 1}{\\boldsymbol{y_{val}}} \\qquad \\qquad \\underset{nt\\times d}{\\boldsymbol{X_{test}}} \\qquad \\underset{nt\\times 1}{\\boldsymbol{y_{test}}} \\qquad \\qquad$$ <br/>\n",
    "    \n",
    "    $d$ = image dimensions ($\\small224\\cdot 224\\cdot 3$)<br/>\n",
    "    $ntr$ = number of training images ($\\small50\\%$ of total images + dataaugmented images)  <br/>\n",
    "    $nv$ = number of validation images ($\\small25\\%$ of total images) <br/>\n",
    "    $nt$ = number of test images ($\\small25\\%$ of total images) <br/>\n",
    "    </div>\n",
    "    \n",
    "    The matrices is centrilized by subtracting the mean of the training matrices and normalized by dividing by 255. \n",
    "2. The images matrices is trained on the network with the following structure:\n",
    "<div class=\"alert alert-block alert-warning\">\n",
    "    <b>Two layer neaural network structure</b><br/> \n",
    "    $$ \\small \\text{input} \\rightarrow \\text{fully connected layer} \\rightarrow \\text{ReLU} \\rightarrow \\text{fully connected layer} \\rightarrow \\text{softmax} $$\n",
    "    </div>\n",
    "3. Finding the best hyperparameters for the model\n",
    "    1. Done by checking all combination of _learning rate_, _learning rate decay_, _regularization strengths_, _hidden size_. The test hyperparameters have been chosen by tradeoff size of the neural network, and training time. The following hyperparameters have been testet:<br/>\n",
    "    <div class=\"alert alert-block alert-warning\">\n",
    "    <b>Hyperparameters testing (best value = bold char)</b><br/> \n",
    "    learning rate: $\\qquad \\; \\; \\; \\; \\; \\small[\\boldsymbol{1e-1}, 1e-2]$ <br/>\n",
    "    learning rate decay: $\\; \\; \\; \\; \\; \\small[\\boldsymbol{0.95},1]$  <br/>\n",
    "    regularization strengths: $\\small[\\boldsymbol{0.2}, 0.3]$ <br/>\n",
    "    hidden size: $\\qquad \\; \\; \\; \\; \\small[50, 250, \\boldsymbol{500}]$ <br/>\n",
    "    </div>\n",
    "\n",
    "Dataagumentation have not been tested due to limitations of ram. In addition with the chosen regulization stregnth there are no indication of overfitting the network.  \n",
    "All the above describe execpt dataaugmentation is shown below with testresults. "
   ]
  },
  {
   "cell_type": "markdown",
   "metadata": {},
   "source": [
    "## Imports"
   ]
  },
  {
   "cell_type": "code",
   "execution_count": 1,
   "metadata": {
    "collapsed": false
   },
   "outputs": [],
   "source": [
    "import os\n",
    "import random\n",
    "import numpy as np\n",
    "import matplotlib.pylab as plt\n",
    "from glob import glob\n",
    "from neural_net import TwoLayerNet\n",
    "from image_import import import_images\n",
    "%matplotlib inline\n",
    "%load_ext autoreload\n",
    "%autoreload 2"
   ]
  },
  {
   "cell_type": "markdown",
   "metadata": {},
   "source": [
    "## Importing images"
   ]
  },
  {
   "cell_type": "markdown",
   "metadata": {},
   "source": [
    "### Making training, validation and test data "
   ]
  },
  {
   "cell_type": "code",
   "execution_count": 2,
   "metadata": {
    "collapsed": false
   },
   "outputs": [],
   "source": [
    "SOURCE_IMAGES_POT = '/home/mikkel/Documents/github/BSc-PRO/images_1280x720/kartofler/still' # '/home/mikkel/Documents/github/BSc-PRO/imgs_resize/potato'\n",
    "SOURCE_IMAGES_CAT = '/home/mikkel/Documents/github/BSc-PRO/images_1280x720/kat_laks/still' # '/home/mikkel/Documents/github/BSc-PRO/imgs_resize/catfood'\n",
    "SOURCE_IMAGES_TAB = '/home/mikkel/Documents/github/BSc-PRO/images_1280x720/baggrund/bevægelse' # '/home/mikkel/Documents/github/BSc-PRO/imgs_resize/table\n",
    "\n",
    "AUG_IMAGES_POT    = '/home/mikkel/Documents/github/BSc-PRO/DataAugment/potato'\n",
    "AUG_IMAGES_CAT    = '/home/mikkel/Documents/github/BSc-PRO/DataAugment/catfood'\n",
    "AUG_IMAGES_TAB    = '/home/mikkel/Documents/github/BSc-PRO/DataAugment/table'\n",
    "\n",
    "images_pot        = glob(os.path.join(SOURCE_IMAGES_POT, \"*.jpg\"))\n",
    "images_cat        = glob(os.path.join(SOURCE_IMAGES_CAT, \"*.jpg\"))\n",
    "images_tab        = glob(os.path.join(SOURCE_IMAGES_TAB, \"*.jpg\"))\n",
    "\n",
    "images_aug_pot    = glob(os.path.join(AUG_IMAGES_POT, \"*.jpeg\"))\n",
    "images_aug_cat    = glob(os.path.join(AUG_IMAGES_CAT, \"*.jpeg\"))\n",
    "images_aug_tab    = glob(os.path.join(AUG_IMAGES_TAB, \"*.jpeg\"))"
   ]
  },
  {
   "cell_type": "code",
   "execution_count": 3,
   "metadata": {
    "collapsed": false
   },
   "outputs": [],
   "source": [
    "X_train, y_train, X_val, y_val, X_test, y_test = import_images(images_pot, images_cat, images_tab)"
   ]
  },
  {
   "cell_type": "markdown",
   "metadata": {},
   "source": [
    "## Training"
   ]
  },
  {
   "cell_type": "markdown",
   "metadata": {},
   "source": [
    "### Train without dataaugmentation (with optimal parameters)"
   ]
  },
  {
   "cell_type": "code",
   "execution_count": 4,
   "metadata": {
    "collapsed": false
   },
   "outputs": [
    {
     "name": "stdout",
     "output_type": "stream",
     "text": [
      "iteration 0 / 1000: loss 1.249136\n",
      "iteration 100 / 1000: loss 0.553548\n",
      "iteration 200 / 1000: loss 0.543971\n",
      "iteration 300 / 1000: loss 0.518760\n",
      "iteration 400 / 1000: loss 0.531176\n",
      "iteration 500 / 1000: loss 0.555934\n",
      "iteration 600 / 1000: loss 0.551828\n",
      "iteration 700 / 1000: loss 0.556916\n",
      "iteration 800 / 1000: loss 0.524816\n",
      "iteration 900 / 1000: loss 0.529501\n",
      "('Train accuracy: ', 0.99024390243902438)\n",
      "('Validation accuracy: ', 0.92000000000000004)\n",
      "('Test accuracy: ', 0.93999999999999995)\n"
     ]
    }
   ],
   "source": [
    "input_size = 224 * 224 * 3\n",
    "hidden_size = 500\n",
    "num_classes = 3\n",
    "net = TwoLayerNet(input_size, hidden_size, num_classes)\n",
    "\n",
    "# Train the network\n",
    "stats = net.train(X_train, y_train, X_val, y_val,\n",
    "            num_iters=1000, batch_size=32,\n",
    "            learning_rate=1e-1, learning_rate_decay=0.95,\n",
    "            reg=0.2, verbose=True, val_hist=True)\n",
    "\n",
    "# Predict on the validation set\n",
    "\n",
    "train_acc = (net.predict(X_train) == y_train).mean()\n",
    "print('Train accuracy: ', train_acc)\n",
    "val_acc = (net.predict(X_val) == y_val).mean()\n",
    "print('Validation accuracy: ', val_acc)\n",
    "test_acc = (net.predict(X_test) == y_test).mean()\n",
    "print('Test accuracy: ', test_acc)"
   ]
  },
  {
   "cell_type": "code",
   "execution_count": 5,
   "metadata": {
    "collapsed": false
   },
   "outputs": [
    {
     "data": {
      "image/png": "[encoded data removed]",
      "text/plain": [
       "<matplotlib.figure.Figure at 0x7fc70444af10>"
      ]
     },
     "metadata": {},
     "output_type": "display_data"
    }
   ],
   "source": [
    "# Plot the loss function and train / validation accuracies\n",
    "plt.subplot(2, 1, 1)\n",
    "plt.plot(stats['loss_history'], label='train')\n",
    "plt.plot(stats['val_loss_history'], label='val')\n",
    "plt.title('Loss history')\n",
    "plt.xlabel('Iteration')\n",
    "plt.ylabel('Loss')\n",
    "\n",
    "plt.subplot(2, 1, 2)\n",
    "plt.plot(stats['train_acc_history'], label='train')\n",
    "plt.plot(stats['val_acc_history'], label='val')\n",
    "plt.title('Classification accuracy history')\n",
    "plt.xlabel('Epoch')\n",
    "plt.ylabel('Clasification accuracy')\n",
    "plt.subplots_adjust(hspace=0.5)\n",
    "plt.show()"
   ]
  },
  {
   "cell_type": "code",
   "execution_count": 6,
   "metadata": {
    "collapsed": true
   },
   "outputs": [],
   "source": [
    "# Saves the plot\n",
    "# Plot for loss\n",
    "plt.plot(stats['loss_history'], label='train')\n",
    "plt.plot(stats['val_loss_history'], label='val')\n",
    "plot.title('Classification loss history')\n",
    "plt.xlabel('Iteration')\n",
    "plt.ylabel('Loss')\n",
    "plt.savefig('simple_nn_loss')\n",
    "# Plot for accuracy\n",
    "plt.plot(stats['train_acc_history'], label='train')\n",
    "plt.plot(stats['val_acc_history'], label='val')\n",
    "plot.title('Classification accuracy history')\n",
    "plt.xlabel('Epoch')\n",
    "plt.ylabel('Accuracy)\n",
    "plt.savefig('simple_nn_accuracy')"
   ]
  },
  {
   "cell_type": "code",
   "execution_count": 12,
   "metadata": {
    "collapsed": false
   },
   "outputs": [
    {
     "name": "stdout",
     "output_type": "stream",
     "text": [
      "('Score: ', array([[ 0.04822895,  0.04609564,  0.90567541],\n",
      "       [ 0.08396023,  0.07976809,  0.83627168],\n",
      "       [ 0.02452207,  0.02359829,  0.95187965],\n",
      "       [ 0.08275679,  0.07863621,  0.838607  ]]))\n",
      "('Valdiation: ', array([2, 2, 2, 2]))\n",
      "('Prediction: ', array([2, 2, 2, 2]))\n"
     ]
    }
   ],
   "source": [
    "y_pred, score = net.predict(X_val, show_score=True)\n",
    "print(\"Score: \", score[0:4])\n",
    "print(\"Valdiation: \", y_val[0:4])\n",
    "print(\"Prediction: \", y_pred[0:4])"
   ]
  },
  {
   "cell_type": "code",
   "execution_count": null,
   "metadata": {
    "collapsed": true
   },
   "outputs": [],
   "source": []
  },
  {
   "cell_type": "markdown",
   "metadata": {},
   "source": [
    "### Train with dataaugmentation (Does not work because of to high ram usage)"
   ]
  },
  {
   "cell_type": "code",
   "execution_count": null,
   "metadata": {
    "collapsed": false
   },
   "outputs": [],
   "source": [
    "X_train, y_train, X_val, y_val, X_test, y_test = import_images(images_aug_pot, images_cat, images_tab, \n",
    "                                                               augmented=True, path_aug_potato=images_aug_pot[0:400], \n",
    "                                                               path_aug_catfood=images_aug_cat[0:400], \n",
    "                                                               path_aug_table=images_aug_tab[0:400])"
   ]
  },
  {
   "cell_type": "code",
   "execution_count": null,
   "metadata": {
    "collapsed": false
   },
   "outputs": [],
   "source": [
    "input_size = 224 * 224 * 3\n",
    "hidden_size = 50\n",
    "num_classes = 3\n",
    "net = TwoLayerNet(input_size, hidden_size, num_classes)\n",
    "\n",
    "# Train the network\n",
    "stats = net.train(X_train, y_train, X_val, y_val,\n",
    "            num_iters=1000, batch_size=32,\n",
    "            learning_rate=1e-1, learning_rate_decay=0.95,\n",
    "            reg=0.3, verbose=True)\n",
    "\n",
    "# Predict on the validation set\n",
    "\n",
    "val_acc = (net.predict(X_val) == y_val).mean()\n",
    "print('Validation accuracy: ', val_acc)\n",
    "test_acc = (net.predict(X_test) == y_test).mean()\n",
    "print('Test accuracy: ', test_acc)"
   ]
  },
  {
   "cell_type": "markdown",
   "metadata": {},
   "source": [
    "### Hyperparameter optimization"
   ]
  },
  {
   "cell_type": "code",
   "execution_count": 23,
   "metadata": {
    "collapsed": false,
    "scrolled": false
   },
   "outputs": [
    {
     "name": "stdout",
     "output_type": "stream",
     "text": [
      "iteration 0 / 600: loss 1.113664\n",
      "iteration 100 / 600: loss 0.659702\n",
      "iteration 200 / 600: loss 0.540778\n",
      "iteration 300 / 600: loss 0.545573\n",
      "iteration 400 / 600: loss 0.585173\n",
      "iteration 500 / 600: loss 0.523478\n",
      "iteration 0 / 600: loss 1.173907\n",
      "iteration 100 / 600: loss 0.660236\n",
      "iteration 200 / 600: loss 0.605340\n",
      "iteration 300 / 600: loss 0.572513\n",
      "iteration 400 / 600: loss 0.510596\n",
      "iteration 500 / 600: loss 0.515122\n",
      "iteration 0 / 600: loss 1.249151\n",
      "iteration 100 / 600: loss 0.559746\n",
      "iteration 200 / 600: loss 0.600180\n",
      "iteration 300 / 600: loss 0.501178\n",
      "iteration 400 / 600: loss 0.518295\n",
      "iteration 500 / 600: loss 0.552435\n",
      "iteration 0 / 600: loss 1.121197\n",
      "iteration 100 / 600: loss 0.883369\n",
      "iteration 200 / 600: loss 0.671456\n",
      "iteration 300 / 600: loss 0.784420\n",
      "iteration 400 / 600: loss 0.653811\n",
      "iteration 500 / 600: loss 0.689502\n",
      "iteration 0 / 600: loss 1.211511\n",
      "iteration 100 / 600: loss 0.697406\n",
      "iteration 200 / 600: loss 0.728916\n",
      "iteration 300 / 600: loss 0.639075\n",
      "iteration 400 / 600: loss 0.706227\n",
      "iteration 500 / 600: loss 0.699540\n",
      "iteration 0 / 600: loss 1.324394\n",
      "iteration 100 / 600: loss 0.768351\n",
      "iteration 200 / 600: loss 0.658939\n",
      "iteration 300 / 600: loss 0.712418\n",
      "iteration 400 / 600: loss 0.645135\n",
      "iteration 500 / 600: loss 0.673941\n",
      "iteration 0 / 600: loss 1.113665\n",
      "iteration 100 / 600: loss 0.532165\n",
      "iteration 200 / 600: loss 0.508755\n",
      "iteration 300 / 600: loss 0.521596\n",
      "iteration 400 / 600: loss 0.519393\n",
      "iteration 500 / 600: loss 0.485783\n",
      "iteration 0 / 600: loss 1.173877\n",
      "iteration 100 / 600: loss 0.505857\n",
      "iteration 200 / 600: loss 0.533649\n",
      "iteration 300 / 600: loss 0.481396\n",
      "iteration 400 / 600: loss 0.570306\n",
      "iteration 500 / 600: loss 0.546025\n",
      "iteration 0 / 600: loss 1.249172\n",
      "iteration 100 / 600: loss 0.563032\n",
      "iteration 200 / 600: loss 0.542594\n",
      "iteration 300 / 600: loss 0.506834\n",
      "iteration 400 / 600: loss 0.527766\n",
      "iteration 500 / 600: loss 0.565515\n",
      "iteration 0 / 600: loss 1.121191\n",
      "iteration 100 / 600: loss 0.746090\n",
      "iteration 200 / 600: loss 0.728178\n",
      "iteration 300 / 600: loss 0.670336\n",
      "iteration 400 / 600: loss 0.684890\n",
      "iteration 500 / 600: loss 0.703106\n",
      "iteration 0 / 600: loss 1.211502\n",
      "iteration 100 / 600: loss 0.724005\n",
      "iteration 200 / 600: loss 0.682908\n",
      "iteration 300 / 600: loss 0.691566\n",
      "iteration 400 / 600: loss 0.673064\n",
      "iteration 500 / 600: loss 0.700990\n",
      "iteration 0 / 600: loss 1.324409\n",
      "iteration 100 / 600: loss 0.891735\n",
      "iteration 200 / 600: loss 0.729353\n",
      "iteration 300 / 600: loss 0.673462\n",
      "iteration 400 / 600: loss 0.697625\n",
      "iteration 500 / 600: loss 0.701312\n",
      "iteration 0 / 600: loss 1.113671\n",
      "iteration 100 / 600: loss 1.099421\n",
      "iteration 200 / 600: loss 1.087042\n",
      "iteration 300 / 600: loss 1.096419\n",
      "iteration 400 / 600: loss 1.082254\n",
      "iteration 500 / 600: loss 1.082738\n",
      "iteration 0 / 600: loss 1.173917\n",
      "iteration 100 / 600: loss 1.139271\n",
      "iteration 200 / 600: loss 1.109868\n",
      "iteration 300 / 600: loss 1.110951\n",
      "iteration 400 / 600: loss 1.123330\n",
      "iteration 500 / 600: loss 1.115101\n",
      "iteration 0 / 600: loss 1.249168\n",
      "iteration 100 / 600: loss 1.176052\n",
      "iteration 200 / 600: loss 1.168424\n",
      "iteration 300 / 600: loss 1.165207\n",
      "iteration 400 / 600: loss 1.128379\n",
      "iteration 500 / 600: loss 1.151283\n",
      "iteration 0 / 600: loss 1.121199\n",
      "iteration 100 / 600: loss 1.114052\n",
      "iteration 200 / 600: loss 1.093117\n",
      "iteration 300 / 600: loss 1.087058\n",
      "iteration 400 / 600: loss 1.102882\n",
      "iteration 500 / 600: loss 1.104932\n",
      "iteration 0 / 600: loss 1.211491\n",
      "iteration 100 / 600: loss 1.139039\n",
      "iteration 200 / 600: loss 1.127887\n",
      "iteration 300 / 600: loss 1.109459\n",
      "iteration 400 / 600: loss 1.124877\n",
      "iteration 500 / 600: loss 1.112769\n",
      "iteration 0 / 600: loss 1.324405\n",
      "iteration 100 / 600: loss 1.186165\n",
      "iteration 200 / 600: loss 1.154795\n",
      "iteration 300 / 600: loss 1.147006\n",
      "iteration 400 / 600: loss 1.141440\n",
      "iteration 500 / 600: loss 1.147134\n",
      "iteration 0 / 600: loss 1.113664\n",
      "iteration 100 / 600: loss 1.102535\n",
      "iteration 200 / 600: loss 1.108933\n",
      "iteration 300 / 600: loss 0.973705\n",
      "iteration 400 / 600: loss 0.740536\n",
      "iteration 500 / 600: loss 0.607284\n",
      "iteration 0 / 600: loss 1.173883\n",
      "iteration 100 / 600: loss 1.127950\n",
      "iteration 200 / 600: loss 1.064836\n",
      "iteration 300 / 600: loss 0.768962\n",
      "iteration 400 / 600: loss 0.647430\n",
      "iteration 500 / 600: loss 0.599684\n",
      "iteration 0 / 600: loss 1.249131\n",
      "iteration 100 / 600: loss 1.168513\n",
      "iteration 200 / 600: loss 1.076689\n",
      "iteration 300 / 600: loss 0.727105\n",
      "iteration 400 / 600: loss 0.694216\n",
      "iteration 500 / 600: loss 0.573219\n",
      "iteration 0 / 600: loss 1.121177\n",
      "iteration 100 / 600: loss 1.079926\n",
      "iteration 200 / 600: loss 1.097208\n",
      "iteration 300 / 600: loss 1.017148\n",
      "iteration 400 / 600: loss 0.894829\n",
      "iteration 500 / 600: loss 0.816960\n",
      "iteration 0 / 600: loss 1.211487\n",
      "iteration 100 / 600: loss 1.118773\n",
      "iteration 200 / 600: loss 1.063007\n",
      "iteration 300 / 600: loss 0.971096\n",
      "iteration 400 / 600: loss 0.820518\n",
      "iteration 500 / 600: loss 0.773849\n",
      "iteration 0 / 600: loss 1.324397\n",
      "iteration 100 / 600: loss 1.163416\n",
      "iteration 200 / 600: loss 1.102253\n",
      "iteration 300 / 600: loss 0.907479\n",
      "iteration 400 / 600: loss 0.770284\n",
      "iteration 500 / 600: loss 0.743577\n",
      "lr 1.000000e-02 lrd 9.500000e-01 rs 2.000000e-01 hl 5.000000e+01 train accuracy: 0.404878 val accuracy: 0.490000\n",
      "lr 1.000000e-02 lrd 9.500000e-01 rs 2.000000e-01 hl 2.500000e+02 train accuracy: 0.404878 val accuracy: 0.490000\n",
      "lr 1.000000e-02 lrd 9.500000e-01 rs 2.000000e-01 hl 5.000000e+02 train accuracy: 0.404878 val accuracy: 0.490000\n",
      "lr 1.000000e-02 lrd 9.500000e-01 rs 3.000000e-01 hl 5.000000e+01 train accuracy: 0.404878 val accuracy: 0.490000\n",
      "lr 1.000000e-02 lrd 9.500000e-01 rs 3.000000e-01 hl 2.500000e+02 train accuracy: 0.404878 val accuracy: 0.490000\n",
      "lr 1.000000e-02 lrd 9.500000e-01 rs 3.000000e-01 hl 5.000000e+02 train accuracy: 0.404878 val accuracy: 0.490000\n",
      "lr 1.000000e-02 lrd 1.000000e+00 rs 2.000000e-01 hl 5.000000e+01 train accuracy: 0.775610 val accuracy: 0.760000\n",
      "lr 1.000000e-02 lrd 1.000000e+00 rs 2.000000e-01 hl 2.500000e+02 train accuracy: 0.775610 val accuracy: 0.760000\n",
      "lr 1.000000e-02 lrd 1.000000e+00 rs 2.000000e-01 hl 5.000000e+02 train accuracy: 0.941463 val accuracy: 0.920000\n",
      "lr 1.000000e-02 lrd 1.000000e+00 rs 3.000000e-01 hl 5.000000e+01 train accuracy: 0.770732 val accuracy: 0.760000\n",
      "lr 1.000000e-02 lrd 1.000000e+00 rs 3.000000e-01 hl 2.500000e+02 train accuracy: 0.770732 val accuracy: 0.760000\n",
      "lr 1.000000e-02 lrd 1.000000e+00 rs 3.000000e-01 hl 5.000000e+02 train accuracy: 0.770732 val accuracy: 0.760000\n",
      "lr 1.000000e-01 lrd 9.500000e-01 rs 2.000000e-01 hl 5.000000e+01 train accuracy: 0.990244 val accuracy: 0.920000\n",
      "lr 1.000000e-01 lrd 9.500000e-01 rs 2.000000e-01 hl 2.500000e+02 train accuracy: 1.000000 val accuracy: 0.920000\n",
      "lr 1.000000e-01 lrd 9.500000e-01 rs 2.000000e-01 hl 5.000000e+02 train accuracy: 1.000000 val accuracy: 0.920000\n",
      "lr 1.000000e-01 lrd 9.500000e-01 rs 3.000000e-01 hl 5.000000e+01 train accuracy: 0.941463 val accuracy: 0.920000\n",
      "lr 1.000000e-01 lrd 9.500000e-01 rs 3.000000e-01 hl 2.500000e+02 train accuracy: 0.985366 val accuracy: 0.910000\n",
      "lr 1.000000e-01 lrd 9.500000e-01 rs 3.000000e-01 hl 5.000000e+02 train accuracy: 0.975610 val accuracy: 0.860000\n",
      "lr 1.000000e-01 lrd 1.000000e+00 rs 2.000000e-01 hl 5.000000e+01 train accuracy: 0.990244 val accuracy: 0.920000\n",
      "lr 1.000000e-01 lrd 1.000000e+00 rs 2.000000e-01 hl 2.500000e+02 train accuracy: 1.000000 val accuracy: 0.910000\n",
      "lr 1.000000e-01 lrd 1.000000e+00 rs 2.000000e-01 hl 5.000000e+02 train accuracy: 0.995122 val accuracy: 0.910000\n",
      "lr 1.000000e-01 lrd 1.000000e+00 rs 3.000000e-01 hl 5.000000e+01 train accuracy: 0.980488 val accuracy: 0.890000\n",
      "lr 1.000000e-01 lrd 1.000000e+00 rs 3.000000e-01 hl 2.500000e+02 train accuracy: 0.990244 val accuracy: 0.920000\n",
      "lr 1.000000e-01 lrd 1.000000e+00 rs 3.000000e-01 hl 5.000000e+02 train accuracy: 0.985366 val accuracy: 0.880000\n"
     ]
    }
   ],
   "source": [
    "best_net = None # store the best model into this \n",
    "best_stats = None # store best stats to plot\n",
    "stats_list = []\n",
    "best_val = -1\n",
    "best_train = -1\n",
    "results = {}\n",
    "\n",
    "# Network properties\n",
    "input_size = 224 * 224 * 3\n",
    "num_classes = 3\n",
    "\n",
    "# Hyperparameters\n",
    "learning_rate = [1e-1, 1e-2] \n",
    "learning_rate_decay = [0.95,1]\n",
    "regularization_strengths =  [0.2, 0.3] \n",
    "hidden_size = [50, 250, 500] \n",
    "\n",
    "for lr in learning_rate:\n",
    "    for lrd in learning_rate_decay:\n",
    "        for rs in regularization_strengths:\n",
    "            for hl in hidden_size:\n",
    "                net = TwoLayerNet(input_size, hl, num_classes)\n",
    "\n",
    "                # Train the network\n",
    "                stats = net.train(X_train, y_train, X_val, y_val, num_iters=600, batch_size=32, learning_rate=lr, learning_rate_decay=lrd, reg=rs, verbose=True)\n",
    "                stats_list.append(stats)\n",
    "                y_train_pred = net.predict(X_train)\n",
    "                y_val_pred = net.predict(X_val)\n",
    "                \n",
    "                # Calculates accuraccy\n",
    "                y_train_acc = np.mean(y_train == y_train_pred)\n",
    "                y_pred_acc = np.mean(y_val == y_val_pred)\n",
    "                results[(lr, lrd, rs, hl)] = (y_train_acc, y_pred_acc) # stores results in tuple\n",
    "                # Stores the best results\n",
    "                if y_pred_acc > best_val && :\n",
    "                    best_val = y_pred_acc\n",
    "                    best_net = net\n",
    "                    best_stats = stats\n",
    "\n",
    "for lr, lrd, rs, hl in sorted(results):\n",
    "    train_accuracy, val_accuracy = results[(lr, lrd, rs, hl)]\n",
    "    print('lr %e lrd %e rs %e hl %e train accuracy: %f val accuracy: %f' % (\n",
    "                lr, lrd, rs, hl, train_accuracy, val_accuracy))                    "
   ]
  },
  {
   "cell_type": "markdown",
   "metadata": {},
   "source": [
    "### Plot the best net"
   ]
  },
  {
   "cell_type": "code",
   "execution_count": 26,
   "metadata": {
    "collapsed": false
   },
   "outputs": [
    {
     "data": {
      "image/png": "[encoded data removed]",
      "text/plain": [
       "<matplotlib.figure.Figure at 0x7f6364f57850>"
      ]
     },
     "metadata": {},
     "output_type": "display_data"
    }
   ],
   "source": [
    "# Plot the loss function and train / validation accuracies\n",
    "plt.subplot(2, 1, 1)\n",
    "plt.plot(best_stats['loss_history'])\n",
    "plt.title('Loss history')\n",
    "plt.xlabel('Iteration')\n",
    "plt.ylabel('Loss')\n",
    "\n",
    "plt.subplot(2, 1, 2)\n",
    "plt.plot(best_stats['train_acc_history'], label='train')\n",
    "plt.plot(best_stats['val_acc_history'], label='val')\n",
    "plt.title('Classification accuracy history')\n",
    "plt.xlabel('Epoch')\n",
    "plt.ylabel('Clasification accuracy')\n",
    "plt.show()"
   ]
  },
  {
   "cell_type": "markdown",
   "metadata": {
    "collapsed": true
   },
   "source": [
    "### Plot for all nets"
   ]
  },
  {
   "cell_type": "code",
   "execution_count": null,
   "metadata": {
    "collapsed": false
   },
   "outputs": [],
   "source": [
    "for s in stats_list:\n",
    "    plt.subplot(2, 1, 1)\n",
    "    plt.plot(s['loss_history'], label='train')\n",
    "    #plt.plot(s['val_loss_history'], label='val')\n",
    "    plt.title('Loss history')\n",
    "    plt.xlabel('Iteration')\n",
    "    plt.ylabel('Loss')\n",
    "\n",
    "    plt.subplot(2, 1, 2)\n",
    "    plt.plot(s['train_acc_history'], label='train')\n",
    "    plt.plot(s['val_acc_history'], label='val')\n",
    "    plt.title('Classification accuracy history')\n",
    "    plt.xlabel('Epoch')\n",
    "    plt.ylabel('Clasification accuracy')\n",
    "    plt.show()"
   ]
  },
  {
   "cell_type": "markdown",
   "metadata": {},
   "source": [
    "### Using model with saved parameters"
   ]
  },
  {
   "cell_type": "markdown",
   "metadata": {
    "collapsed": true
   },
   "source": [
    "### Conclusion"
   ]
  },
  {
   "cell_type": "markdown",
   "metadata": {},
   "source": [
    "From the hyperparameter section it can be seen that several different parameter compositions gives same validation accuracy. For example the following parameters gives all the best results of $\\small 92\\%$ validation accuracy:\n",
    "\n",
    " <div class=\"alert alert-block alert-warning\">\n",
    "    1. Learning rate: $\\scriptsize 1e-2$, $\\;$ Learning rate decay: $\\scriptsize 1.00$, $\\;$ Regulization strength: $\\scriptsize0.2$ $\\;$ Hidden size: $\\scriptsize 500$ $\\qquad$ Train accuracy: $\\scriptsize 0.942 $ $\\;$ Val accuracy: $\\scriptsize 0.92 $ <br/>\n",
    "    2. Learning rate: $\\scriptsize 1e-1$, $\\;$ Learning rate decay: $\\scriptsize 0.95$, $\\;$ Regulization strength: $\\scriptsize0.2$ $\\;$ Hidden size: $\\scriptsize 50$ $\\,$ $\\qquad$ Train accuracy: $\\scriptsize 0.990 $ $\\;$ Val accuracy: $\\scriptsize 0.92 $ <br/>\n",
    "    3. Learning rate: $\\scriptsize 1e-1$, $\\;$ Learning rate decay: $\\scriptsize 0.95$, $\\;$ Regulization strength: $\\scriptsize0.2$ $\\;$ Hidden size: $\\scriptsize 250$ $\\qquad$ Train accuracy: $\\scriptsize 1.000 $ $\\;$ Val accuracy: $\\scriptsize 0.92 $ <br/>\n",
    "    4. Learning rate: $\\scriptsize 1e-1$, $\\;$ Learning rate decay: $\\scriptsize 0.95$, $\\;$ Regulization strength: $\\scriptsize0.2$ $\\;$ Hidden size: $\\scriptsize 500$ $\\qquad$ Train accuracy: $\\scriptsize 1.000 $ $\\;$ Val accuracy: $\\scriptsize 0.92 $ <br/>\n",
    "    5. Learning rate: $\\scriptsize 1e-1$, $\\;$ Learning rate decay: $\\scriptsize 0.95$, $\\;$ Regulization strength: $\\scriptsize0.3$ $\\;$ Hidden size: $\\scriptsize 50$ $\\,$ $\\qquad$ Train accuracy: $\\scriptsize 0.941 $ $\\;$ Val accuracy: $\\scriptsize 0.92 $ <br/>\n",
    "    6. Learning rate: $\\scriptsize 1e-1$, $\\;$ Learning rate decay: $\\scriptsize 1.00$, $\\;$ Regulization strength: $\\scriptsize0.2$ $\\;$ Hidden size: $\\scriptsize 50$ $\\,$ $\\qquad$ Train accuracy: $\\scriptsize 0.990 $ $\\;$ Val accuracy: $\\scriptsize 0.92 $ <br/>\n",
    "    7. Learning rate: $\\scriptsize 1e-1$, $\\;$ Learning rate decay: $\\scriptsize 1.00$, $\\;$ Regulization strength: $\\scriptsize0.3$ $\\;$ Hidden size: $\\scriptsize 250$ $\\qquad$ Train accuracy: $\\scriptsize 0.990 $ $\\;$ Val accuracy: $\\scriptsize 0.92 $ <br/>\n",
    "    </div>\n",
    "\n",
    "From the above it can be concluded that the most stable and best hyperparameters to the build neural network are the following:\n",
    "    <div class=\"alert alert-block alert-warning\">\n",
    "    <b>Best Hyperparameters</b><br/> \n",
    "    learning rate: $\\qquad \\; \\; \\; \\; \\; \\small[1e-1]$ <br/>\n",
    "    learning rate decay: $\\; \\; \\; \\; \\; \\small[0.95]$  <br/>\n",
    "    regularization strengths: $\\small[0.2]$ <br/>\n",
    "    hidden size: $\\qquad \\; \\; \\; \\; \\small[500]$ (chosen as it general gives a more stable detection of the network, because of the larger size in parameters. ) <br/> \n",
    "    </div>\n",
    "\n",
    "    "
   ]
  },
  {
   "cell_type": "code",
   "execution_count": null,
   "metadata": {
    "collapsed": true
   },
   "outputs": [],
   "source": []
  }
 ],
 "metadata": {
  "kernelspec": {
   "display_name": "Python 2",
   "language": "python",
   "name": "python2"
  },
  "language_info": {
   "codemirror_mode": {
    "name": "ipython",
    "version": 2
   },
   "file_extension": ".py",
   "mimetype": "text/x-python",
   "name": "python",
   "nbconvert_exporter": "python",
   "pygments_lexer": "ipython2",
   "version": "2.7.15"
  }
 },
 "nbformat": 4,
 "nbformat_minor": 0
}
