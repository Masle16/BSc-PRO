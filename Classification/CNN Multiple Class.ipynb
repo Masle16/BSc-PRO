{
 "cells": [
  {
   "cell_type": "code",
   "execution_count": 1,
   "metadata": {},
   "outputs": [
    {
     "name": "stderr",
     "output_type": "stream",
     "text": [
      "Using TensorFlow backend.\n"
     ]
    }
   ],
   "source": [
    "import numpy as np\n",
    "import tensorflow as tf\n",
    "from keras.preprocessing import image\n",
    "from keras.preprocessing.image import ImageDataGenerator\n",
    "import matplotlib.pyplot as plt\n",
    "from keras.layers import Dense, Activation, Dropout, Flatten, Conv2D, MaxPooling2D\n",
    "from keras.models import Model, Sequential\n",
    "from keras import models\n",
    "from keras import layers\n",
    "from keras import backend as K\n",
    "from keras.optimizers import Adam, RMSprop\n",
    "from util.plots import plot_history\n",
    "from nets.cnn_net.cnn_net import cnn_net\n",
    "from glob import glob\n",
    "import util.image_import as ii\n",
    "import os\n",
    "from keras.utils.np_utils import to_categorical\n",
    "%matplotlib inline\n",
    "%load_ext autoreload\n",
    "%autoreload 2"
   ]
  },
  {
   "cell_type": "markdown",
   "metadata": {},
   "source": [
    "#### Trick to configure gpu memory dynamically"
   ]
  },
  {
   "cell_type": "code",
   "execution_count": 2,
   "metadata": {},
   "outputs": [],
   "source": [
    "cfg = K.tf.ConfigProto() # Config to dynamically add memory\n",
    "cfg.gpu_options.allow_growth = True\n",
    "K.set_session(K.tf.Session(config=cfg))# set this TensorFlow session as the default session for Keras."
   ]
  },
  {
   "cell_type": "markdown",
   "metadata": {},
   "source": [
    "### Subtracting mean and normalizing"
   ]
  },
  {
   "cell_type": "code",
   "execution_count": 3,
   "metadata": {},
   "outputs": [],
   "source": [
    "mean_image_train = ii.calulate_mean(\"../dataset3/res_still/train\")\n",
    "\n",
    "def subtract_mean(img):\n",
    "    return img - mean_image_train"
   ]
  },
  {
   "cell_type": "code",
   "execution_count": 4,
   "metadata": {},
   "outputs": [
    {
     "name": "stdout",
     "output_type": "stream",
     "text": [
      "Found 1875 images belonging to 8 classes.\n",
      "Found 472 images belonging to 8 classes.\n"
     ]
    }
   ],
   "source": [
    "train_path = '../dataset3/res_still/train'\n",
    "test_path = '../dataset3/res_still/test'\n",
    "\n",
    "batch_size = 32\n",
    "\n",
    "train_datagen = ImageDataGenerator(\n",
    "        rescale=1./255,\n",
    "        rotation_range=10,\n",
    "        vertical_flip=True,\n",
    "        horizontal_flip=True,\n",
    "        brightness_range=(0.65, 1.35),\n",
    "        preprocessing_function=subtract_mean)\n",
    "\n",
    "test_datagen = ImageDataGenerator(\n",
    "        rescale=1./255,\n",
    "        preprocessing_function=subtract_mean)\n",
    "\n",
    "# Train data generator\n",
    "train_generator = train_datagen.flow_from_directory(\n",
    "        train_path,\n",
    "        target_size=(224, 224),\n",
    "        batch_size=batch_size)\n",
    "\n",
    "# Validation data generator\n",
    "test_generator = test_datagen.flow_from_directory(\n",
    "        test_path,\n",
    "        target_size=(224, 224),\n",
    "        batch_size=batch_size)"
   ]
  },
  {
   "cell_type": "code",
   "execution_count": 5,
   "metadata": {},
   "outputs": [],
   "source": [
    "model = Sequential()\n",
    "model.add(Conv2D(32, (3, 3), input_shape=(224, 224, 3)))\n",
    "model.add(Activation('relu'))\n",
    "model.add(MaxPooling2D(pool_size=(2, 2)))\n",
    "\n",
    "model.add(Conv2D(64, (3, 3)))\n",
    "model.add(Activation('relu'))\n",
    "model.add(MaxPooling2D(pool_size=(2, 2)))\n",
    "\n",
    "model.add(Flatten())  #  3D activation map -> 1D vector\n",
    "model.add(Dense(32))\n",
    "model.add(Activation('relu'))\n",
    "model.add(Dropout(0.5)) \n",
    "model.add(Dense(8))                                 # Conv2D prøve (5,5) i stedet for (3,3)\n",
    "model.add(Activation('softmax'))                    # MaxPooling2D prøv (4,4) i stedet for (2,2)\n",
    "                                                    # lr = [1e-2, 1e-3, 1e-4]\n",
    "model.compile(loss='categorical_crossentropy',\n",
    "              optimizer=Adam(lr=1e-3, epsilon=10e-8),\n",
    "              metrics=['accuracy'])"
   ]
  },
  {
   "cell_type": "code",
   "execution_count": 6,
   "metadata": {
    "scrolled": true
   },
   "outputs": [
    {
     "name": "stdout",
     "output_type": "stream",
     "text": [
      "Epoch 1/100\n",
      "58/58 [==============================] - 45s 773ms/step - loss: 2.1556 - acc: 0.1489 - val_loss: 1.9847 - val_acc: 0.2031\n",
      "Epoch 2/100\n",
      "58/58 [==============================] - 45s 781ms/step - loss: 1.9240 - acc: 0.2359 - val_loss: 1.6911 - val_acc: 0.4085\n",
      "Epoch 3/100\n",
      "58/58 [==============================] - 49s 848ms/step - loss: 1.6469 - acc: 0.3605 - val_loss: 1.4374 - val_acc: 0.4933\n",
      "Epoch 4/100\n",
      "58/58 [==============================] - 49s 840ms/step - loss: 1.4612 - acc: 0.4351 - val_loss: 1.1590 - val_acc: 0.5223\n",
      "Epoch 5/100\n",
      "58/58 [==============================] - 46s 791ms/step - loss: 1.2886 - acc: 0.4899 - val_loss: 0.9980 - val_acc: 0.6362\n",
      "Epoch 6/100\n",
      "58/58 [==============================] - 42s 717ms/step - loss: 1.1584 - acc: 0.5371 - val_loss: 0.8210 - val_acc: 0.7388\n",
      "Epoch 7/100\n",
      "58/58 [==============================] - 42s 728ms/step - loss: 0.9669 - acc: 0.6215 - val_loss: 0.8461 - val_acc: 0.7299\n",
      "Epoch 8/100\n",
      "58/58 [==============================] - 42s 725ms/step - loss: 0.8964 - acc: 0.6551 - val_loss: 0.6823 - val_acc: 0.7277\n",
      "Epoch 9/100\n",
      "58/58 [==============================] - 43s 749ms/step - loss: 0.8439 - acc: 0.6611 - val_loss: 0.7412 - val_acc: 0.7344\n",
      "Epoch 10/100\n",
      "58/58 [==============================] - 42s 721ms/step - loss: 0.8053 - acc: 0.6838 - val_loss: 0.5795 - val_acc: 0.8080\n",
      "Epoch 11/100\n",
      "58/58 [==============================] - 43s 742ms/step - loss: 0.7587 - acc: 0.7020 - val_loss: 0.5515 - val_acc: 0.8304\n",
      "Epoch 12/100\n",
      "58/58 [==============================] - 43s 735ms/step - loss: 0.7555 - acc: 0.7074 - val_loss: 0.5477 - val_acc: 0.8326\n",
      "Epoch 13/100\n",
      "58/58 [==============================] - 42s 723ms/step - loss: 0.6796 - acc: 0.7294 - val_loss: 0.5020 - val_acc: 0.8415\n",
      "Epoch 14/100\n",
      "58/58 [==============================] - 41s 713ms/step - loss: 0.6646 - acc: 0.7355 - val_loss: 0.4449 - val_acc: 0.8906\n",
      "Epoch 15/100\n",
      "58/58 [==============================] - 43s 741ms/step - loss: 0.6621 - acc: 0.7367 - val_loss: 0.4273 - val_acc: 0.8772\n",
      "Epoch 16/100\n",
      "58/58 [==============================] - 45s 783ms/step - loss: 0.6360 - acc: 0.7492 - val_loss: 0.4575 - val_acc: 0.8750\n",
      "Epoch 17/100\n",
      "58/58 [==============================] - 45s 780ms/step - loss: 0.6512 - acc: 0.7539 - val_loss: 0.4591 - val_acc: 0.8683\n",
      "Epoch 18/100\n",
      "58/58 [==============================] - 44s 761ms/step - loss: 0.5882 - acc: 0.7708 - val_loss: 0.4005 - val_acc: 0.8772\n",
      "Epoch 19/100\n",
      "58/58 [==============================] - 45s 780ms/step - loss: 0.5441 - acc: 0.7943 - val_loss: 0.3756 - val_acc: 0.8839\n",
      "Epoch 20/100\n",
      "58/58 [==============================] - 44s 758ms/step - loss: 0.5299 - acc: 0.7920 - val_loss: 0.3687 - val_acc: 0.8951\n",
      "Epoch 21/100\n",
      "58/58 [==============================] - 43s 734ms/step - loss: 0.5252 - acc: 0.7963 - val_loss: 0.3389 - val_acc: 0.8996\n",
      "Epoch 22/100\n",
      "58/58 [==============================] - 42s 720ms/step - loss: 0.5363 - acc: 0.7939 - val_loss: 0.3518 - val_acc: 0.8973\n",
      "Epoch 23/100\n",
      "58/58 [==============================] - 44s 759ms/step - loss: 0.5127 - acc: 0.7968 - val_loss: 0.3559 - val_acc: 0.9018\n",
      "Epoch 24/100\n",
      "58/58 [==============================] - 43s 748ms/step - loss: 0.5059 - acc: 0.7995 - val_loss: 0.3263 - val_acc: 0.9085\n",
      "Epoch 25/100\n",
      "58/58 [==============================] - 43s 740ms/step - loss: 0.4796 - acc: 0.8062 - val_loss: 0.3725 - val_acc: 0.8973\n",
      "Epoch 26/100\n",
      "58/58 [==============================] - 44s 755ms/step - loss: 0.4786 - acc: 0.8125 - val_loss: 0.2929 - val_acc: 0.9330\n",
      "Epoch 27/100\n",
      "58/58 [==============================] - 44s 759ms/step - loss: 0.5065 - acc: 0.8013 - val_loss: 0.3711 - val_acc: 0.8973\n",
      "Epoch 28/100\n",
      "58/58 [==============================] - 44s 759ms/step - loss: 0.4882 - acc: 0.8096 - val_loss: 0.4033 - val_acc: 0.8772\n",
      "Epoch 29/100\n",
      "58/58 [==============================] - 45s 774ms/step - loss: 0.4465 - acc: 0.8134 - val_loss: 0.3392 - val_acc: 0.9062\n",
      "Epoch 30/100\n",
      "58/58 [==============================] - 44s 756ms/step - loss: 0.4461 - acc: 0.8157 - val_loss: 0.3835 - val_acc: 0.8817\n",
      "Epoch 31/100\n",
      "58/58 [==============================] - 44s 750ms/step - loss: 0.4718 - acc: 0.8062 - val_loss: 0.2973 - val_acc: 0.9085\n",
      "Epoch 32/100\n",
      "58/58 [==============================] - 45s 775ms/step - loss: 0.4237 - acc: 0.8357 - val_loss: 0.3034 - val_acc: 0.9107\n",
      "Epoch 33/100\n",
      "58/58 [==============================] - 42s 717ms/step - loss: 0.4481 - acc: 0.8204 - val_loss: 0.3424 - val_acc: 0.8906\n",
      "Epoch 34/100\n",
      "58/58 [==============================] - 42s 728ms/step - loss: 0.4125 - acc: 0.8381 - val_loss: 0.2602 - val_acc: 0.9308\n",
      "Epoch 35/100\n",
      "58/58 [==============================] - 43s 733ms/step - loss: 0.4119 - acc: 0.8326 - val_loss: 0.2666 - val_acc: 0.9219\n",
      "Epoch 36/100\n",
      "58/58 [==============================] - 42s 728ms/step - loss: 0.4423 - acc: 0.8185 - val_loss: 0.2837 - val_acc: 0.9196\n",
      "Epoch 37/100\n",
      "58/58 [==============================] - 42s 729ms/step - loss: 0.3981 - acc: 0.8481 - val_loss: 0.2749 - val_acc: 0.9129\n",
      "Epoch 38/100\n",
      "58/58 [==============================] - 41s 707ms/step - loss: 0.4333 - acc: 0.8392 - val_loss: 0.2519 - val_acc: 0.9353\n",
      "Epoch 39/100\n",
      "58/58 [==============================] - 42s 719ms/step - loss: 0.4151 - acc: 0.8308 - val_loss: 0.2583 - val_acc: 0.9353\n",
      "Epoch 40/100\n",
      "58/58 [==============================] - 42s 717ms/step - loss: 0.3962 - acc: 0.8331 - val_loss: 0.2465 - val_acc: 0.9241\n",
      "Epoch 41/100\n",
      "58/58 [==============================] - 43s 739ms/step - loss: 0.3914 - acc: 0.8497 - val_loss: 0.2552 - val_acc: 0.9219\n",
      "Epoch 42/100\n",
      "58/58 [==============================] - 40s 698ms/step - loss: 0.3636 - acc: 0.8509 - val_loss: 0.2911 - val_acc: 0.9219\n",
      "Epoch 43/100\n",
      "58/58 [==============================] - 42s 726ms/step - loss: 0.3695 - acc: 0.8568 - val_loss: 0.2764 - val_acc: 0.9152\n",
      "Epoch 44/100\n",
      "58/58 [==============================] - 42s 721ms/step - loss: 0.4472 - acc: 0.8349 - val_loss: 0.3292 - val_acc: 0.9085\n",
      "Epoch 45/100\n",
      "58/58 [==============================] - 40s 696ms/step - loss: 0.4243 - acc: 0.8229 - val_loss: 0.2639 - val_acc: 0.9152\n",
      "Epoch 46/100\n",
      "58/58 [==============================] - 43s 745ms/step - loss: 0.3698 - acc: 0.8497 - val_loss: 0.3003 - val_acc: 0.9263\n",
      "Epoch 47/100\n",
      "58/58 [==============================] - 42s 718ms/step - loss: 0.3600 - acc: 0.8572 - val_loss: 0.2774 - val_acc: 0.9062\n",
      "Epoch 48/100\n",
      "58/58 [==============================] - 40s 693ms/step - loss: 0.3699 - acc: 0.8452 - val_loss: 0.2788 - val_acc: 0.9263\n",
      "Epoch 49/100\n",
      "58/58 [==============================] - 42s 716ms/step - loss: 0.3365 - acc: 0.8567 - val_loss: 0.2390 - val_acc: 0.9375\n",
      "Epoch 50/100\n",
      "58/58 [==============================] - 41s 704ms/step - loss: 0.3857 - acc: 0.8451 - val_loss: 0.2378 - val_acc: 0.9420\n",
      "Epoch 51/100\n",
      "58/58 [==============================] - 41s 701ms/step - loss: 0.3652 - acc: 0.8545 - val_loss: 0.2318 - val_acc: 0.9375\n",
      "Epoch 52/100\n",
      "58/58 [==============================] - 41s 701ms/step - loss: 0.3291 - acc: 0.8741 - val_loss: 0.2167 - val_acc: 0.9397\n",
      "Epoch 53/100\n",
      "58/58 [==============================] - 39s 675ms/step - loss: 0.3507 - acc: 0.8523 - val_loss: 0.2620 - val_acc: 0.9397\n",
      "Epoch 54/100\n",
      "58/58 [==============================] - 40s 698ms/step - loss: 0.3739 - acc: 0.8572 - val_loss: 0.2502 - val_acc: 0.9308\n",
      "Epoch 55/100\n",
      "58/58 [==============================] - 41s 712ms/step - loss: 0.3742 - acc: 0.8493 - val_loss: 0.2462 - val_acc: 0.9353\n",
      "Epoch 56/100\n",
      "58/58 [==============================] - 42s 717ms/step - loss: 0.4406 - acc: 0.8249 - val_loss: 0.3346 - val_acc: 0.8951\n",
      "Epoch 57/100\n",
      "58/58 [==============================] - 40s 685ms/step - loss: 0.3541 - acc: 0.8655 - val_loss: 0.2810 - val_acc: 0.9263\n",
      "Epoch 58/100\n",
      "58/58 [==============================] - 40s 689ms/step - loss: 0.3136 - acc: 0.8789 - val_loss: 0.2483 - val_acc: 0.9308\n",
      "Epoch 59/100\n",
      "58/58 [==============================] - 42s 716ms/step - loss: 0.3398 - acc: 0.8798 - val_loss: 0.2270 - val_acc: 0.9152\n",
      "Epoch 60/100\n",
      "58/58 [==============================] - 39s 678ms/step - loss: 0.3318 - acc: 0.8671 - val_loss: 0.3125 - val_acc: 0.9241\n",
      "Epoch 61/100\n",
      "58/58 [==============================] - 44s 762ms/step - loss: 0.3059 - acc: 0.8694 - val_loss: 0.2785 - val_acc: 0.9308\n"
     ]
    },
    {
     "name": "stdout",
     "output_type": "stream",
     "text": [
      "Epoch 62/100\n",
      "58/58 [==============================] - 43s 748ms/step - loss: 0.3002 - acc: 0.8820 - val_loss: 0.2947 - val_acc: 0.9308\n",
      "Epoch 63/100\n",
      "58/58 [==============================] - 45s 770ms/step - loss: 0.4008 - acc: 0.8572 - val_loss: 0.2572 - val_acc: 0.9129\n",
      "Epoch 64/100\n",
      "58/58 [==============================] - 48s 824ms/step - loss: 0.2823 - acc: 0.8807 - val_loss: 0.2390 - val_acc: 0.9353\n",
      "Epoch 65/100\n",
      "58/58 [==============================] - 47s 806ms/step - loss: 0.3061 - acc: 0.8735 - val_loss: 0.2103 - val_acc: 0.9487\n",
      "Epoch 66/100\n",
      "58/58 [==============================] - 44s 751ms/step - loss: 0.3163 - acc: 0.8762 - val_loss: 0.1864 - val_acc: 0.9420\n",
      "Epoch 67/100\n",
      "58/58 [==============================] - 42s 723ms/step - loss: 0.2890 - acc: 0.8849 - val_loss: 0.2271 - val_acc: 0.9397\n",
      "Epoch 68/100\n",
      "58/58 [==============================] - 42s 729ms/step - loss: 0.2888 - acc: 0.8805 - val_loss: 0.2328 - val_acc: 0.9442\n",
      "Epoch 69/100\n",
      "58/58 [==============================] - 42s 728ms/step - loss: 0.3413 - acc: 0.8665 - val_loss: 0.2133 - val_acc: 0.9375\n",
      "Epoch 70/100\n",
      "58/58 [==============================] - 41s 705ms/step - loss: 0.3001 - acc: 0.8820 - val_loss: 0.2074 - val_acc: 0.9487\n",
      "Epoch 71/100\n",
      "58/58 [==============================] - 40s 686ms/step - loss: 0.2910 - acc: 0.8874 - val_loss: 0.1928 - val_acc: 0.9509\n",
      "Epoch 72/100\n",
      "58/58 [==============================] - 41s 709ms/step - loss: 0.3095 - acc: 0.8804 - val_loss: 0.1866 - val_acc: 0.9531\n",
      "Epoch 73/100\n",
      "58/58 [==============================] - 41s 713ms/step - loss: 0.2749 - acc: 0.8876 - val_loss: 0.1922 - val_acc: 0.9420\n",
      "Epoch 74/100\n",
      "58/58 [==============================] - 43s 739ms/step - loss: 0.2984 - acc: 0.8895 - val_loss: 0.1831 - val_acc: 0.9576\n",
      "Epoch 75/100\n",
      "58/58 [==============================] - 41s 712ms/step - loss: 0.2821 - acc: 0.8949 - val_loss: 0.1939 - val_acc: 0.9464\n",
      "Epoch 76/100\n",
      "58/58 [==============================] - 41s 714ms/step - loss: 0.3244 - acc: 0.8699 - val_loss: 0.3267 - val_acc: 0.8973\n",
      "Epoch 77/100\n",
      "58/58 [==============================] - 41s 710ms/step - loss: 0.3081 - acc: 0.8854 - val_loss: 0.1969 - val_acc: 0.9509\n",
      "Epoch 78/100\n",
      "58/58 [==============================] - 42s 716ms/step - loss: 0.2856 - acc: 0.8933 - val_loss: 0.2393 - val_acc: 0.9464\n",
      "Epoch 79/100\n",
      "58/58 [==============================] - 42s 729ms/step - loss: 0.3068 - acc: 0.8840 - val_loss: 0.1959 - val_acc: 0.9554\n",
      "Epoch 80/100\n",
      "58/58 [==============================] - 42s 718ms/step - loss: 0.2914 - acc: 0.8901 - val_loss: 0.2260 - val_acc: 0.9487\n",
      "Epoch 81/100\n",
      "58/58 [==============================] - 41s 702ms/step - loss: 0.2797 - acc: 0.8845 - val_loss: 0.2325 - val_acc: 0.9397\n",
      "Epoch 82/100\n",
      "58/58 [==============================] - 42s 729ms/step - loss: 0.3073 - acc: 0.8809 - val_loss: 0.2255 - val_acc: 0.9397\n",
      "Epoch 83/100\n",
      "58/58 [==============================] - 40s 690ms/step - loss: 0.2641 - acc: 0.8971 - val_loss: 0.2115 - val_acc: 0.9487\n",
      "Epoch 84/100\n",
      "58/58 [==============================] - 42s 728ms/step - loss: 0.2997 - acc: 0.8804 - val_loss: 0.1819 - val_acc: 0.9621\n",
      "Epoch 85/100\n",
      "58/58 [==============================] - 40s 697ms/step - loss: 0.3046 - acc: 0.8920 - val_loss: 0.2588 - val_acc: 0.9442\n",
      "Epoch 86/100\n",
      "58/58 [==============================] - 44s 760ms/step - loss: 0.2697 - acc: 0.8992 - val_loss: 0.1968 - val_acc: 0.9576\n",
      "Epoch 87/100\n",
      "58/58 [==============================] - 39s 680ms/step - loss: 0.2908 - acc: 0.8935 - val_loss: 0.1873 - val_acc: 0.9509\n",
      "Epoch 88/100\n",
      "58/58 [==============================] - 41s 702ms/step - loss: 0.2738 - acc: 0.8940 - val_loss: 0.2034 - val_acc: 0.9554\n",
      "Epoch 89/100\n",
      "58/58 [==============================] - 39s 681ms/step - loss: 0.2725 - acc: 0.9007 - val_loss: 0.2053 - val_acc: 0.9487\n",
      "Epoch 90/100\n",
      "58/58 [==============================] - 40s 697ms/step - loss: 0.2789 - acc: 0.8933 - val_loss: 0.2608 - val_acc: 0.9241\n",
      "Epoch 91/100\n",
      "58/58 [==============================] - 39s 668ms/step - loss: 0.3112 - acc: 0.8787 - val_loss: 0.1954 - val_acc: 0.9464\n",
      "Epoch 92/100\n",
      "58/58 [==============================] - 41s 699ms/step - loss: 0.2615 - acc: 0.9111 - val_loss: 0.1930 - val_acc: 0.9464\n",
      "Epoch 93/100\n",
      "58/58 [==============================] - 40s 689ms/step - loss: 0.2571 - acc: 0.9014 - val_loss: 0.1686 - val_acc: 0.9554\n",
      "Epoch 94/100\n",
      "58/58 [==============================] - 40s 688ms/step - loss: 0.2590 - acc: 0.8942 - val_loss: 0.2255 - val_acc: 0.9442\n",
      "Epoch 95/100\n",
      "58/58 [==============================] - 41s 707ms/step - loss: 0.3151 - acc: 0.8807 - val_loss: 0.1908 - val_acc: 0.9487\n",
      "Epoch 96/100\n",
      "58/58 [==============================] - 40s 684ms/step - loss: 0.2694 - acc: 0.9059 - val_loss: 0.1915 - val_acc: 0.9464\n",
      "Epoch 97/100\n",
      "58/58 [==============================] - 41s 712ms/step - loss: 0.2717 - acc: 0.8912 - val_loss: 0.2135 - val_acc: 0.9464\n",
      "Epoch 98/100\n",
      "58/58 [==============================] - 44s 753ms/step - loss: 0.2505 - acc: 0.8949 - val_loss: 0.1770 - val_acc: 0.9531\n",
      "Epoch 99/100\n",
      "58/58 [==============================] - 38s 658ms/step - loss: 0.2822 - acc: 0.8987 - val_loss: 0.1645 - val_acc: 0.9554\n",
      "Epoch 100/100\n",
      "58/58 [==============================] - 40s 696ms/step - loss: 0.2499 - acc: 0.9003 - val_loss: 0.1929 - val_acc: 0.9554\n"
     ]
    }
   ],
   "source": [
    "history = model.fit_generator(\n",
    "            train_generator,\n",
    "            steps_per_epoch=1875 // batch_size,\n",
    "            epochs=100,\n",
    "            validation_data=test_generator,\n",
    "            validation_steps=472 // batch_size)"
   ]
  },
  {
   "cell_type": "code",
   "execution_count": 12,
   "metadata": {},
   "outputs": [
    {
     "data": {
      "image/png": "[encoded data removed]",
      "text/plain": [
       "<Figure size 432x288 with 1 Axes>"
      ]
     },
     "metadata": {
      "needs_background": "light"
     },
     "output_type": "display_data"
    },
    {
     "data": {
      "image/png": "[encoded data removed]",
      "text/plain": [
       "<Figure size 432x288 with 1 Axes>"
      ]
     },
     "metadata": {
      "needs_background": "light"
     },
     "output_type": "display_data"
    }
   ],
   "source": [
    "plot_history(history, save=False, path='nets/cnn_net/', name='cnn_multiclass')"
   ]
  },
  {
   "cell_type": "code",
   "execution_count": 9,
   "metadata": {},
   "outputs": [
    {
     "name": "stdout",
     "output_type": "stream",
     "text": [
      "\r",
      "32/32 [==============================] - 0s 1ms/step\n"
     ]
    },
    {
     "data": {
      "text/plain": [
       "[0.11993158608675003, 0.96875]"
      ]
     },
     "execution_count": 9,
     "metadata": {},
     "output_type": "execute_result"
    }
   ],
   "source": [
    "imgs, labels = next(test_generator)\n",
    "\n",
    "model.evaluate(imgs,labels, batch_size=472)"
   ]
  },
  {
   "cell_type": "code",
   "execution_count": 10,
   "metadata": {},
   "outputs": [],
   "source": [
    "model.save('CCN_multi_class.h5') "
   ]
  },
  {
   "cell_type": "code",
   "execution_count": null,
   "metadata": {},
   "outputs": [],
   "source": []
  }
 ],
 "metadata": {
  "kernelspec": {
   "display_name": "Python 3",
   "language": "python",
   "name": "python3"
  },
  "language_info": {
   "codemirror_mode": {
    "name": "ipython",
    "version": 3
   },
   "file_extension": ".py",
   "mimetype": "text/x-python",
   "name": "python",
   "nbconvert_exporter": "python",
   "pygments_lexer": "ipython3",
   "version": "3.6.8"
  }
 },
 "nbformat": 4,
 "nbformat_minor": 2
}
