{
 "cells": [
  {
   "cell_type": "code",
   "execution_count": 1,
   "metadata": {},
   "outputs": [
    {
     "name": "stderr",
     "output_type": "stream",
     "text": [
      "Using TensorFlow backend.\n"
     ]
    }
   ],
   "source": [
    "import numpy as np\n",
    "import tensorflow as tf\n",
    "from keras.preprocessing import image\n",
    "from keras.preprocessing.image import ImageDataGenerator\n",
    "from keras.models import Model\n",
    "from keras import models\n",
    "from keras import layers\n",
    "from ActivationHeatmap.net import cnn_net\n",
    "import matplotlib.pyplot as plt\n",
    "import util.image_import as ii\n",
    "import json, os\n",
    "from keras import backend as K\n",
    "import cv2"
   ]
  },
  {
   "cell_type": "code",
   "execution_count": 2,
   "metadata": {},
   "outputs": [],
   "source": [
    "model = cnn_net()\n",
    "model.load_weights('ActivationHeatmap/cnn_weights.hdf5')"
   ]
  },
  {
   "cell_type": "code",
   "execution_count": 3,
   "metadata": {},
   "outputs": [],
   "source": [
    "def combine_labels_images():\n",
    "    with open('ActivationHeatmap/label_data_copy.json') as json_file:\n",
    "        data = json.load(json_file)\n",
    "\n",
    "    orig_str = '/home/emil/Documents/github/BSc-PRO/dataset3/res_still'\n",
    "    combined = []\n",
    "    maps = os.listdir(orig_str)\n",
    "    for m in maps:\n",
    "        map_str =orig_str+'/'+m\n",
    "        classes = os.listdir(map_str)\n",
    "        for k in range(len(classes)):\n",
    "            path_str = map_str+'/'+classes[k]\n",
    "            names = os.listdir(path_str)\n",
    "            count = 0\n",
    "            for i in range(len(names)):\n",
    "                for j in range(len(data)):\n",
    "                    if names[i] == data[j]['External ID'] and (classes[k] != 'background'):\n",
    "                        combined.append((m ,path_str+'/'+names[i], data[j] ))\n",
    "    return combined"
   ]
  },
  {
   "cell_type": "code",
   "execution_count": 4,
   "metadata": {},
   "outputs": [],
   "source": [
    "labels = ['bun','carrots','ketchup','background','catfood_beef','arm','catfood_salmon','potato']\n",
    "train_path = '../dataset3/res_still/train'\n",
    "ignore = []\n",
    "mean_image_train = ii.calulate_mean(train_path, ignore) # Calculates mean for each channel for every pixel\n",
    "def subtract_mean(img):\n",
    "    return img - mean_image_train"
   ]
  },
  {
   "cell_type": "code",
   "execution_count": 5,
   "metadata": {},
   "outputs": [],
   "source": [
    "combined = combine_labels_images()"
   ]
  },
  {
   "cell_type": "code",
   "execution_count": 14,
   "metadata": {},
   "outputs": [],
   "source": [
    "y_pred = []\n",
    "y = []\n",
    "for indx in range(len(combined)):\n",
    "    if combined[indx][0] == 'test':\n",
    "        current = combined[indx]\n",
    "        map_str = '/home/emil/Documents/github/BSc-PRO/dataset3/res_still/test'\n",
    "        classes = os.listdir(map_str)\n",
    "        for c in classes:\n",
    "            label = current[2]['Label']\n",
    "            if c in label:\n",
    "                cor_c = c\n",
    "        y.append(labels.index(cor_c))\n",
    "        img_path = combined[indx][1]\n",
    "        # load image and resize to 224x224\n",
    "        img = image.load_img(img_path, target_size=(224,224))\n",
    "        x = image.img_to_array(img) # subtract mean\n",
    "        x = np.expand_dims(x, axis=0)\n",
    "\n",
    "        # Apply preprocessing\n",
    "        x = subtract_mean(x)*1./255\n",
    "        pred = np.argmax(model.predict(x))\n",
    "        labels[pred]\n",
    "        y_pred.append(pred)"
   ]
  },
  {
   "cell_type": "code",
   "execution_count": 17,
   "metadata": {},
   "outputs": [],
   "source": [
    "from sklearn import metrics"
   ]
  },
  {
   "cell_type": "code",
   "execution_count": 20,
   "metadata": {},
   "outputs": [],
   "source": [
    "confMatrix = metrics.confusion_matrix(y, y_pred)\n",
    "confMatrix = confMatrix.astype('float') / confMatrix.sum(axis=1)[:, np.newaxis]"
   ]
  },
  {
   "cell_type": "code",
   "execution_count": 45,
   "metadata": {},
   "outputs": [
    {
     "data": {
      "image/png": "[encoded data removed]",
      "text/plain": [
       "<Figure size 432x288 with 2 Axes>"
      ]
     },
     "metadata": {
      "needs_background": "light"
     },
     "output_type": "display_data"
    }
   ],
   "source": [
    "title='Confusion Matrix'\n",
    "cmap=plt.cm.GnBu\n",
    "fig, ax = plt.subplots()\n",
    "im = ax.imshow(confMatrix, interpolation='nearest', cmap=cmap)\n",
    "ax.figure.colorbar(im, ax=ax)\n",
    "# We want to show all ticks...\n",
    "ax.set(xticks=np.arange(confMatrix.shape[1]),\n",
    "       yticks=np.arange(confMatrix.shape[0]),\n",
    "       # ... and label them with the respective list entries\n",
    "       xticklabels=classes, yticklabels=classes,\n",
    "       title=title,\n",
    "       ylabel='Ground truth',\n",
    "       xlabel='Predicted label')\n",
    "\n",
    "# Rotate the tick labels and set their alignment.\n",
    "plt.setp(ax.get_xticklabels(), rotation=45, ha=\"right\",\n",
    "         rotation_mode=\"anchor\")\n",
    "\n",
    "# Loop over data dimensions and create text annotations.\n",
    "fmt = '.2f'\n",
    "thresh = confMatrix.max() / 2.\n",
    "for i in range(confMatrix.shape[0]):\n",
    "    for j in range(confMatrix.shape[1]):\n",
    "        ax.text(j, i, format(confMatrix[i, j], fmt),\n",
    "                ha=\"center\", va=\"center\",\n",
    "                color=\"white\" if confMatrix[i, j] > thresh else \"black\")\n",
    "fig.tight_layout()"
   ]
  },
  {
   "cell_type": "code",
   "execution_count": 47,
   "metadata": {},
   "outputs": [],
   "source": [
    "fig.savefig('CNN_confusionMatrix.png', bbox_inches='tight')"
   ]
  },
  {
   "cell_type": "code",
   "execution_count": null,
   "metadata": {},
   "outputs": [],
   "source": []
  }
 ],
 "metadata": {
  "kernelspec": {
   "display_name": "Python 3",
   "language": "python",
   "name": "python3"
  },
  "language_info": {
   "codemirror_mode": {
    "name": "ipython",
    "version": 3
   },
   "file_extension": ".py",
   "mimetype": "text/x-python",
   "name": "python",
   "nbconvert_exporter": "python",
   "pygments_lexer": "ipython3",
   "version": "3.6.8"
  }
 },
 "nbformat": 4,
 "nbformat_minor": 2
}
